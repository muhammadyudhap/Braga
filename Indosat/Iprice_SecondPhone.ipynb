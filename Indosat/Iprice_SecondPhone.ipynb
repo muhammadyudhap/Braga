{
 "cells": [
  {
   "cell_type": "code",
   "execution_count": 1,
   "id": "88c6ad5e",
   "metadata": {},
   "outputs": [],
   "source": [
    "from datetime import datetime\n",
    "import pandas as pd\n",
    "from tqdm import tqdm\n",
    "\n",
    "from selenium import webdriver\n",
    "from selenium.webdriver.chrome.service import Service\n",
    "from selenium.webdriver.chrome.options import Options\n",
    "\n",
    "import os\n",
    "from time import sleep\n",
    "\n",
    "from selenium.webdriver.support.ui import Select\n",
    "from selenium.webdriver.common.by import By\n",
    "\n",
    "import requests\n",
    "from bs4 import BeautifulSoup"
   ]
  },
  {
   "cell_type": "code",
   "execution_count": 2,
   "id": "54acb210",
   "metadata": {},
   "outputs": [],
   "source": [
    "from selenium.common.exceptions import TimeoutException\n",
    "from selenium.webdriver.support.ui import WebDriverWait\n",
    "from selenium.webdriver.support import expected_conditions as EC"
   ]
  },
  {
   "cell_type": "code",
   "execution_count": 3,
   "id": "1b12b08a",
   "metadata": {},
   "outputs": [],
   "source": [
    "# get the chromedriver path\n",
    "path = os.getcwd()+'/chromedriver'\n",
    "options = Options()\n",
    "# options.add_argument('--headless')\n",
    "# options.add_argument('--no-sandbox')\n",
    "# options.add_argument('--single-process')\n",
    "# options.add_argument('--disable-dev-shm-usage')\n",
    "# options.add_argument(\"window-size=1920,1080\")\n",
    "# options.add_argument(\"user-agent=User-Agent: Mozilla/5.0 (Windows NT 10.0; Win64; x64) AppleWebKit/537.36 (KHTML, like Gecko) Chrome/107.0.0.0 Safari/537.36\")\n",
    "# options.add_argument(\"referer=Referer: https://iprice.co.id/\")\n",
    "driver = webdriver.Chrome(options=options)"
   ]
  },
  {
   "cell_type": "code",
   "execution_count": 4,
   "id": "016fbe5a",
   "metadata": {},
   "outputs": [],
   "source": [
    "header = {\n",
    "    'user-agent':'Mozilla/5.0 (Windows NT 10.0; Win64; x64) AppleWebKit/537.36 (KHTML, like Gecko) Chrome/107.0.0.0 Safari/537.36',\n",
    "    'referer':'https://iprice.co.id/'\n",
    "}"
   ]
  },
  {
   "cell_type": "code",
   "execution_count": 5,
   "id": "e90e3dfa",
   "metadata": {},
   "outputs": [],
   "source": [
    "url = 'https://iprice.co.id/ponsel-tablet/smartphone/?page='"
   ]
  },
  {
   "cell_type": "raw",
   "id": "135ff642",
   "metadata": {},
   "source": [
    "def get_table(url):\n",
    "    test = requests.get(url = url, headers = header)\n",
    "    bsobj = BeautifulSoup(test.content,'html.parser')\n",
    "    \n",
    "    # Smartphone Name\n",
    "    Nama_Smartphone = []\n",
    "    for item in bsobj.findAll('h3', {'class':'uo hc ei ae rp a dH ad af hd'}):\n",
    "        Nama_Smartphone.append(item.text)\n",
    "    \n",
    "    # Ukuran Layar\n",
    "    Ukuran_Layar = []\n",
    "    for item in bsobj.findAll('div', {'class':'v t un ha eh'}):\n",
    "        Ukuran_Layar.append(item.span.text)\n",
    "        \n",
    "    # Website\n",
    "    Website = []\n",
    "    for item in bsobj.findAll('a', {'data-vars-cgt':'click_comparable_product'}):\n",
    "        Website.append(item['href'])\n",
    "    if len(Website)>59:\n",
    "        Website = Website[:59]\n",
    "    \n",
    "    \n",
    "    #for item in bsobj.findAll('a', {'class':'kq rg dF l7 bM bF p3 b8 oY up dF nE pu bF rg qo rs rt kF kG kH'}):\n",
    "     #   Website.append(item['href'])\n",
    "        \n",
    "    df = pd.DataFrame(Nama_Smartphone, columns = ['Smartphone Title'])\n",
    "    \n",
    "    if len(Ukuran_Layar)<59:\n",
    "        Ukuran_Layar.extend(['']*(59-len(Ukuran_Layar)))\n",
    "    \n",
    "    df[\"Screen Size\"] = Ukuran_Layar\n",
    "    df[\"Website\"] = Website\n",
    "    \n",
    "    return df"
   ]
  },
  {
   "cell_type": "code",
   "execution_count": 6,
   "id": "bd374bbc",
   "metadata": {},
   "outputs": [],
   "source": [
    "def get_link_name(url):\n",
    "    test = requests.get(url = url, headers = header)\n",
    "    bsobj = BeautifulSoup(test.content,'html.parser')\n",
    "    Website = []\n",
    "    Nama_Smartphone = []\n",
    "    for item in bsobj.findAll('div', {'data-vars-cgt':'click_comparable_product'}):\n",
    "        Website.append(item.a['href'])\n",
    "        data_vars = item['data-vars-lb'].split('|')[0]\n",
    "        Nama_Smartphone.append(data_vars)\n",
    "    for item in bsobj.findAll('a', {'data-vars-cgt':'click_comparable_product'}):\n",
    "        Website.append(item['href'])\n",
    "        try:\n",
    "          data_vars = item['data-vars-lb'].split('|')[0]\n",
    "          Nama_Smartphone.append(data_vars)\n",
    "        except:\n",
    "          continue\n",
    "    if len(Website)>59:\n",
    "        Website = Website[:59]\n",
    "    if len(Nama_Smartphone)>59:\n",
    "        Nama_Smartphone = Nama_Smartphone[:59]\n",
    "\n",
    "    df = pd.DataFrame(Nama_Smartphone, columns = ['Smartphone Title'])\n",
    "    df[\"Website\"] = Website\n",
    "\n",
    "    return df"
   ]
  },
  {
   "cell_type": "code",
   "execution_count": 7,
   "id": "81cb0c79",
   "metadata": {},
   "outputs": [],
   "source": [
    "def click_link(url):\n",
    "    detail = requests.get(url = url, headers = header)\n",
    "    bsobj = BeautifulSoup(detail.content,'html.parser')\n",
    "    \n",
    "    variant_list = []\n",
    "    for item in bsobj.findAll('a', {'data-vars-cgt':'click_product_characteristic'}):\n",
    "        variant_list.append(item['href'])\n",
    "        \n",
    "    #for item in bsobj.findAll('a', {'class':'lq rg p1 ek aZ a- mD tN lY w4 fk su mc'}):\n",
    "     #   variant_list.append(item['href'])\n",
    "    \n",
    "    return variant_list"
   ]
  },
  {
   "cell_type": "code",
   "execution_count": 8,
   "id": "5221dec1",
   "metadata": {},
   "outputs": [],
   "source": [
    "def get_detail(url):\n",
    "    #Run the webdriver\n",
    "    driver.get(url)\n",
    "    #driver.maximize_window()\n",
    "    driver.execute_script(\"window.scrollTo(0, 600)\")\n",
    "    sleep(2)\n",
    "\n",
    "    WebDriverWait(driver, 10).until(EC.element_to_be_clickable((By.XPATH, '//div[@id=\"excellent-offers-tab\"]'))).click()\n",
    "\n",
    "    sleep(2)\n",
    "    soup = driver.page_source\n",
    "    bsobj_detail = BeautifulSoup(soup,'html.parser')\n",
    "    \n",
    "    # Get the offername\n",
    "    Offername = []\n",
    "    for item in bsobj_detail.findAll('div', {'class':'zE dn a en'}):\n",
    "        Offername.append(item.text.strip())\n",
    "    if len(Offername)>20:\n",
    "        Offername = Offername[:20]\n",
    "\n",
    "    Offername = list(filter(None, Offername))\n",
    "       \n",
    "    # Scrape the Price\n",
    "    Price = []\n",
    "    for item in bsobj_detail.findAll('div', {'class':'a_ aw f24-l gW'}):\n",
    "        Price.append(item.text.strip())\n",
    "\n",
    "    if len(Price)>20:\n",
    "        Price = Price[:20]\n",
    "\n",
    "    Price = list(filter(None, Price))\n",
    "        \n",
    "    \n",
    "    # Get the platform\n",
    "    Platform = []\n",
    "    SellerRating = []\n",
    "    SellerName = []\n",
    "\n",
    "    for item in bsobj_detail.findAll('div', {'data-vars-action':'pc-2ndhand'}):\n",
    "        line = item[\"data-vars-merchant\"]\n",
    "        Platform.append(line.split('|')[0])\n",
    "        SellerName.append(line.split('|')[2].replace('sellerName:',''))\n",
    "        SellerRating.append(line.split('|')[3].replace('sellerRating:',''))\n",
    "\n",
    "    Platform = Platform[1:21]\n",
    "    SellerRating = SellerRating[1:21]\n",
    "    SellerName = SellerName[1:21]\n",
    "\n",
    "    Platform = list(filter(None, Platform))\n",
    "\n",
    "    Platform = [ x for x in Platform if '{{merchant.url}}' not in x ]\n",
    "\n",
    "    SellerName = [ x for x in SellerName if '{{seller.name}}' not in x ]\n",
    "\n",
    "    SellerRating = [ x for x in SellerRating if '{{seller.rating}}' not in x ]\n",
    "    \n",
    "    # Processing to match the same length\n",
    "    la,lb,lc,ld,le = len(Offername),len(Price),len(Platform),len(SellerRating),len(SellerName)\n",
    "    min_len = min(la,lb,lc,ld,le)\n",
    "    \n",
    "    if len(Offername)>min_len:\n",
    "        Offername = Offername[:min_len - len(Offername)]\n",
    "    \n",
    "    if len(Price)>min_len:\n",
    "        Price = Price[:min_len - len(Price)]\n",
    "\n",
    "    if len(Platform)>min_len:\n",
    "        Platform = Platform[:min_len - len(Platform)]\n",
    "\n",
    "    if len(SellerRating)>min_len:\n",
    "        SellerRating = SellerRating[:min_len - len(SellerRating)]\n",
    "\n",
    "    if len(SellerName)>min_len:\n",
    "        SellerName = SellerName[:min_len - len(SellerName)]\n",
    "    \n",
    "    # Other Specs\n",
    "    try:\n",
    "        Warna = bsobj_detail.find_all(lambda tag: tag.name == \"tr\" and \"Warna\" in tag.text)[1].text.replace(\"Warna\",'').strip()\n",
    "    except:\n",
    "        Warna = bsobj_detail.find_all(lambda tag: tag.name == \"tr\" and \"Warna\" in tag.text)[0].text.replace(\"Warna\",'').strip()\n",
    "    try:\n",
    "      ROM = bsobj_detail.find_all(lambda tag: tag.name == \"tr\" and \"Penyimpanan\" in tag.text)[0].text.replace(\"Penyimpanan\", '').strip()\n",
    "    except:\n",
    "      ROM = None\n",
    "    try:\n",
    "      RAM = bsobj_detail.find_all(lambda tag: tag.name == \"tr\" and \"RAM\" in tag.text)[0].text.replace(\"RAM\", '').strip()\n",
    "    except:\n",
    "      RAM = None\n",
    "    try:\n",
    "        Harga_resmi = bsobj_detail.find_all(lambda tag: tag.name == \"tr\" and \"Harga Resmi\" in tag.text)[0].text.replace(\"Harga Resmi\", '').strip()\n",
    "    except:\n",
    "        Harga_resmi = None\n",
    "    Kamera = bsobj_detail.find_all(lambda tag: tag.name == \"tr\" and \"Kamera Utama\" in tag.text)[0].text.replace(\"Kamera Utama\", '').strip()\n",
    "    \n",
    "    try:\n",
    "      Layar = bsobj_detail.find_all(lambda tag: tag.name == \"tr\" and \"Layar\" in tag.text)[0].text.replace(\"Layar\",'').strip()\n",
    "    except:\n",
    "      Layar = None\n",
    "    \n",
    "    \n",
    "    # Make the table\n",
    "    data = {\n",
    "        'Offername':Offername,\n",
    "        'Price_Seller':Price,\n",
    "        'Platform':Platform,\n",
    "        'SellerRating':SellerRating,\n",
    "        'SellerName':SellerName,\n",
    "    }\n",
    "    \n",
    "    df = pd.DataFrame(data)\n",
    "    df[\"Colour\"] = Warna\n",
    "    df[\"ROM\"] = ROM\n",
    "    df[\"RAM\"] = RAM\n",
    "    df[\"Price Official\"] = Harga_resmi\n",
    "    df[\"Camera\"] = Kamera\n",
    "    df[\"Screen Size\"]=Layar\n",
    "    \n",
    "    return df"
   ]
  },
  {
   "cell_type": "code",
   "execution_count": 9,
   "id": "1c3cdcc2",
   "metadata": {},
   "outputs": [],
   "source": [
    "def get_detail2(url):\n",
    "    #Run the webdriver\n",
    "    driver.get(url)\n",
    "    #driver.maximize_window()\n",
    "    driver.execute_script(\"window.scrollTo(0, 600)\")\n",
    "    sleep(2)\n",
    "    \n",
    "    WebDriverWait(driver, 10).until(EC.element_to_be_clickable((By.XPATH, '//div[@id=\"unknown-offers-tab-in-default\"]'))).click()\n",
    "        \n",
    "    sleep(2)\n",
    "    soup = driver.page_source\n",
    "    bsobj_detail = BeautifulSoup(soup,'html.parser')\n",
    "    \n",
    "    # Get the offername\n",
    "    Offername = []\n",
    "    for item in bsobj_detail.findAll('div', {'class':'b8 l4 rL F mD ve aZ ph A a0 eC l7'}):\n",
    "        now = item.findAll('p',{'class':'qA b a dG rM'})\n",
    "        for each in now:\n",
    "            Offername.append(each.text.strip())\n",
    "\n",
    "    if len(Offername)>20:\n",
    "        Offername = Offername[:20]\n",
    "\n",
    "    Offername = list(filter(None, Offername))\n",
    "    \n",
    "    # Scrape the Price\n",
    "    Price = []\n",
    "    for item in bsobj_detail.findAll('div', {'class':'b8 l4 rL F mD ve aZ ph A a0 eC l7'}):\n",
    "        now = item.findAll('div',{'class':'e7 a1 b gW tr bT dn bR'})\n",
    "        for each in now:\n",
    "            Price.append(each.text.strip())\n",
    "\n",
    "    if len(Price)>20:\n",
    "        Price = Price[:20]\n",
    "\n",
    "    Price = list(filter(None, Price))       \n",
    "    \n",
    "    # Get the platform\n",
    "    Platform = []\n",
    "    SellerRating = []\n",
    "    SellerName = []\n",
    "\n",
    "    for item in bsobj_detail.findAll('span', {'data-vars-action':'pc-2ndhand'}):\n",
    "        line = item[\"data-vars-merchant\"]\n",
    "        Platform.append(line.split('|')[0])\n",
    "        SellerName.append(line.split('|')[2].replace('sellerName:',''))\n",
    "        SellerRating.append(line.split('|')[3].replace('sellerRating:',''))\n",
    "\n",
    "    Platform = Platform[:21]\n",
    "    SellerRating = SellerRating[:21]\n",
    "    SellerName = SellerName[:21]\n",
    "\n",
    "    Platform = list(filter(None, Platform))\n",
    "\n",
    "    Platform = [ x for x in Platform if '{{merchant.url}}' not in x ]\n",
    "\n",
    "    SellerName = [ x for x in SellerName if '{{seller.name}}' not in x ]\n",
    "\n",
    "    SellerRating = [ x for x in SellerRating if '{{seller.rating}}' not in x ]\n",
    "      \n",
    "    # Processing to match the same length\n",
    "    la,lb,lc,ld,le = len(Offername),len(Price),len(Platform),len(SellerRating),len(SellerName)\n",
    "    min_len = min(la,lb,lc,ld,le)\n",
    "    \n",
    "    if len(Offername)>min_len:\n",
    "        Offername = Offername[:min_len - len(Offername)]\n",
    "    \n",
    "    if len(Price)>min_len:\n",
    "        Price = Price[:min_len - len(Price)]\n",
    "\n",
    "    if len(Platform)>min_len:\n",
    "        Platform = Platform[:min_len - len(Platform)]\n",
    "\n",
    "    if len(SellerRating)>min_len:\n",
    "        SellerRating = SellerRating[:min_len - len(SellerRating)]\n",
    "\n",
    "    if len(SellerName)>min_len:\n",
    "        SellerName = SellerName[:min_len - len(SellerName)]\n",
    "    \n",
    "    # Other Specs\n",
    "    try:\n",
    "        Warna = bsobj_detail.find_all(lambda tag: tag.name == \"tr\" and \"Warna\" in tag.text)[1].text.replace(\"Warna\",'').strip()\n",
    "    except:\n",
    "        Warna = bsobj_detail.find_all(lambda tag: tag.name == \"tr\" and \"Warna\" in tag.text)[0].text.replace(\"Warna\",'').strip()\n",
    "    try:\n",
    "      ROM = bsobj_detail.find_all(lambda tag: tag.name == \"tr\" and \"Penyimpanan\" in tag.text)[0].text.replace(\"Penyimpanan\", '').strip()\n",
    "    except:\n",
    "      ROM = None\n",
    "    try:\n",
    "      RAM = bsobj_detail.find_all(lambda tag: tag.name == \"tr\" and \"RAM\" in tag.text)[0].text.replace(\"RAM\", '').strip()\n",
    "    except:\n",
    "      RAM = None\n",
    "    \n",
    "    try:\n",
    "        Harga_resmi = bsobj_detail.find_all(lambda tag: tag.name == \"tr\" and \"Harga Resmi\" in tag.text)[0].text.replace(\"Harga Resmi\", '').strip()\n",
    "    except:\n",
    "        Harga_resmi = None\n",
    "    Kamera = bsobj_detail.find_all(lambda tag: tag.name == \"tr\" and \"Kamera Utama\" in tag.text)[0].text.replace(\"Kamera Utama\", '').strip()\n",
    "    try:\n",
    "      Layar = bsobj_detail.find_all(lambda tag: tag.name == \"tr\" and \"Layar\" in tag.text)[0].text.replace(\"Layar\",'').strip()\n",
    "    except:\n",
    "      Layar = None\n",
    "    \n",
    "    \n",
    "    # Make the table\n",
    "    data = {\n",
    "        'Offername':Offername,\n",
    "        'Price_Seller':Price,\n",
    "        'Platform':Platform,\n",
    "        'SellerRating':SellerRating,\n",
    "        'SellerName':SellerName,\n",
    "    }\n",
    "    \n",
    "    df = pd.DataFrame(data)\n",
    "    df[\"Colour\"] = Warna\n",
    "    df[\"ROM\"] = ROM\n",
    "    df[\"RAM\"] = RAM\n",
    "    df[\"Price Official\"] = Harga_resmi\n",
    "    df[\"Camera\"] = Kamera\n",
    "    df[\"Screen Size\"]=Layar\n",
    "    \n",
    "    return df"
   ]
  },
  {
   "cell_type": "code",
   "execution_count": 10,
   "id": "e41cc502",
   "metadata": {},
   "outputs": [],
   "source": [
    "df_detail = pd.DataFrame()"
   ]
  },
  {
   "cell_type": "code",
   "execution_count": 22,
   "id": "b3813a7c",
   "metadata": {},
   "outputs": [],
   "source": [
    "df_general = pd.DataFrame()"
   ]
  },
  {
   "cell_type": "code",
   "execution_count": 23,
   "id": "7d867f92",
   "metadata": {},
   "outputs": [
    {
     "name": "stdout",
     "output_type": "stream",
     "text": [
      "21\n",
      "22\n",
      "23\n",
      "24\n",
      "25\n",
      "26\n",
      "27\n",
      "28\n",
      "29\n",
      "30\n",
      "31\n",
      "32\n",
      "33\n",
      "34\n",
      "35\n",
      "36\n",
      "37\n",
      "38\n",
      "39\n",
      "40\n",
      "41\n",
      "42\n",
      "43\n",
      "44\n",
      "45\n",
      "46\n",
      "47\n",
      "48\n",
      "49\n",
      "50\n",
      "51\n",
      "52\n",
      "53\n",
      "54\n",
      "55\n",
      "56\n",
      "57\n",
      "58\n",
      "59\n",
      "60\n"
     ]
    }
   ],
   "source": [
    "for i in range(21,61):\n",
    "    url = 'https://iprice.co.id/ponsel-tablet/smartphone/?page='+str(i)\n",
    "    df_gen = get_link_name(url)\n",
    "    df_general = pd.concat([df_general, df_gen], ignore_index=True)\n",
    "    print(i)"
   ]
  },
  {
   "cell_type": "code",
   "execution_count": 24,
   "id": "da8914de",
   "metadata": {},
   "outputs": [
    {
     "data": {
      "text/html": [
       "<div>\n",
       "<style scoped>\n",
       "    .dataframe tbody tr th:only-of-type {\n",
       "        vertical-align: middle;\n",
       "    }\n",
       "\n",
       "    .dataframe tbody tr th {\n",
       "        vertical-align: top;\n",
       "    }\n",
       "\n",
       "    .dataframe thead th {\n",
       "        text-align: right;\n",
       "    }\n",
       "</style>\n",
       "<table border=\"1\" class=\"dataframe\">\n",
       "  <thead>\n",
       "    <tr style=\"text-align: right;\">\n",
       "      <th></th>\n",
       "      <th>Smartphone Title</th>\n",
       "      <th>Website</th>\n",
       "    </tr>\n",
       "  </thead>\n",
       "  <tbody>\n",
       "    <tr>\n",
       "      <th>0</th>\n",
       "      <td>Huawei P10 Plus</td>\n",
       "      <td>https://iprice.co.id/harga/huawei-p10-plus/</td>\n",
       "    </tr>\n",
       "    <tr>\n",
       "      <th>1</th>\n",
       "      <td>Oppo R9s Plus</td>\n",
       "      <td>https://iprice.co.id/harga/oppo-r9s-plus/</td>\n",
       "    </tr>\n",
       "    <tr>\n",
       "      <th>2</th>\n",
       "      <td>ASUS ZenFone C</td>\n",
       "      <td>https://iprice.co.id/harga/asus-zenfone-c/</td>\n",
       "    </tr>\n",
       "    <tr>\n",
       "      <th>3</th>\n",
       "      <td>Huawei Mate Xs</td>\n",
       "      <td>https://iprice.co.id/harga/huawei-mate-xs/</td>\n",
       "    </tr>\n",
       "    <tr>\n",
       "      <th>4</th>\n",
       "      <td>Google Pixel</td>\n",
       "      <td>https://iprice.co.id/harga/google-pixel/</td>\n",
       "    </tr>\n",
       "    <tr>\n",
       "      <th>...</th>\n",
       "      <td>...</td>\n",
       "      <td>...</td>\n",
       "    </tr>\n",
       "    <tr>\n",
       "      <th>466</th>\n",
       "      <td>Realme C11 32GB 3GB Pepper Grey</td>\n",
       "      <td>https://iprice.co.id/harga/realme-c11-32gb-3gb...</td>\n",
       "    </tr>\n",
       "    <tr>\n",
       "      <th>467</th>\n",
       "      <td>Apple iPhone 15 Pro Max 1TB Natural Titanium</td>\n",
       "      <td>https://iprice.co.id/harga/apple-iphone-15-pro...</td>\n",
       "    </tr>\n",
       "    <tr>\n",
       "      <th>468</th>\n",
       "      <td>Samsung Galaxy Z Fold4 512GB Burgundy</td>\n",
       "      <td>https://iprice.co.id/harga/samsung-galaxy-z-fo...</td>\n",
       "    </tr>\n",
       "    <tr>\n",
       "      <th>469</th>\n",
       "      <td>Xiaomi Mi Max 2 64GB Hitam</td>\n",
       "      <td>https://iprice.co.id/harga/xiaomi-mi-max-2-64g...</td>\n",
       "    </tr>\n",
       "    <tr>\n",
       "      <th>470</th>\n",
       "      <td>Xiaomi Mi Max 2 64GB Hitam</td>\n",
       "      <td>https://iprice.co.id/harga/xiaomi-mi-max-2-64g...</td>\n",
       "    </tr>\n",
       "  </tbody>\n",
       "</table>\n",
       "<p>471 rows × 2 columns</p>\n",
       "</div>"
      ],
      "text/plain": [
       "                                 Smartphone Title  \\\n",
       "0                                 Huawei P10 Plus   \n",
       "1                                   Oppo R9s Plus   \n",
       "2                                  ASUS ZenFone C   \n",
       "3                                  Huawei Mate Xs   \n",
       "4                                    Google Pixel   \n",
       "..                                            ...   \n",
       "466               Realme C11 32GB 3GB Pepper Grey   \n",
       "467  Apple iPhone 15 Pro Max 1TB Natural Titanium   \n",
       "468         Samsung Galaxy Z Fold4 512GB Burgundy   \n",
       "469                    Xiaomi Mi Max 2 64GB Hitam   \n",
       "470                    Xiaomi Mi Max 2 64GB Hitam   \n",
       "\n",
       "                                               Website  \n",
       "0          https://iprice.co.id/harga/huawei-p10-plus/  \n",
       "1            https://iprice.co.id/harga/oppo-r9s-plus/  \n",
       "2           https://iprice.co.id/harga/asus-zenfone-c/  \n",
       "3           https://iprice.co.id/harga/huawei-mate-xs/  \n",
       "4             https://iprice.co.id/harga/google-pixel/  \n",
       "..                                                 ...  \n",
       "466  https://iprice.co.id/harga/realme-c11-32gb-3gb...  \n",
       "467  https://iprice.co.id/harga/apple-iphone-15-pro...  \n",
       "468  https://iprice.co.id/harga/samsung-galaxy-z-fo...  \n",
       "469  https://iprice.co.id/harga/xiaomi-mi-max-2-64g...  \n",
       "470  https://iprice.co.id/harga/xiaomi-mi-max-2-64g...  \n",
       "\n",
       "[471 rows x 2 columns]"
      ]
     },
     "execution_count": 24,
     "metadata": {},
     "output_type": "execute_result"
    }
   ],
   "source": [
    "df_general"
   ]
  },
  {
   "cell_type": "code",
   "execution_count": 25,
   "id": "b4bf13b4",
   "metadata": {},
   "outputs": [
    {
     "name": "stderr",
     "output_type": "stream",
     "text": [
      "  0%|▏                                                                               | 1/471 [00:16<2:10:48, 16.70s/it]"
     ]
    },
    {
     "name": "stdout",
     "output_type": "stream",
     "text": [
      "Failedhttps://iprice.co.id/harga/huawei-p10-plus/\n"
     ]
    },
    {
     "name": "stderr",
     "output_type": "stream",
     "text": [
      "\r",
      "  0%|▎                                                                               | 2/471 [00:41<2:49:01, 21.62s/it]"
     ]
    },
    {
     "name": "stdout",
     "output_type": "stream",
     "text": [
      "Failedhttps://iprice.co.id/harga/oppo-r9s-plus/\n"
     ]
    },
    {
     "name": "stderr",
     "output_type": "stream",
     "text": [
      "\r",
      "  1%|▌                                                                               | 3/471 [01:07<3:02:48, 23.44s/it]"
     ]
    },
    {
     "name": "stdout",
     "output_type": "stream",
     "text": [
      "Failedhttps://iprice.co.id/harga/asus-zenfone-c/\n"
     ]
    },
    {
     "name": "stderr",
     "output_type": "stream",
     "text": [
      "\r",
      "  1%|▋                                                                               | 4/471 [01:23<2:40:38, 20.64s/it]"
     ]
    },
    {
     "name": "stdout",
     "output_type": "stream",
     "text": [
      "Failedhttps://iprice.co.id/harga/huawei-mate-xs/\n"
     ]
    },
    {
     "name": "stderr",
     "output_type": "stream",
     "text": [
      "\r",
      "  1%|▊                                                                               | 5/471 [01:40<2:28:19, 19.10s/it]"
     ]
    },
    {
     "name": "stdout",
     "output_type": "stream",
     "text": [
      "Failedhttps://iprice.co.id/harga/google-pixel/\n"
     ]
    },
    {
     "name": "stderr",
     "output_type": "stream",
     "text": [
      "\r",
      "  1%|█                                                                               | 6/471 [02:23<3:32:38, 27.44s/it]"
     ]
    },
    {
     "name": "stdout",
     "output_type": "stream",
     "text": [
      "https://iprice.co.id/harga/sony-xperia-c5-ultra-dual/\n"
     ]
    },
    {
     "name": "stderr",
     "output_type": "stream",
     "text": [
      "\r",
      "  1%|█▏                                                                              | 7/471 [02:48<3:26:26, 26.69s/it]"
     ]
    },
    {
     "name": "stdout",
     "output_type": "stream",
     "text": [
      "Failedhttps://iprice.co.id/harga/lenovo-a6000-plus/\n"
     ]
    },
    {
     "name": "stderr",
     "output_type": "stream",
     "text": [
      "\r",
      "  2%|█▎                                                                              | 8/471 [03:06<3:03:20, 23.76s/it]"
     ]
    },
    {
     "name": "stdout",
     "output_type": "stream",
     "text": [
      "Failedhttps://iprice.co.id/harga/samsung-galaxy-j5-duos/\n"
     ]
    },
    {
     "name": "stderr",
     "output_type": "stream",
     "text": [
      "\r",
      "  2%|█▌                                                                              | 9/471 [03:22<2:44:38, 21.38s/it]"
     ]
    },
    {
     "name": "stdout",
     "output_type": "stream",
     "text": [
      "Failedhttps://iprice.co.id/harga/huawei-p10-plus/\n"
     ]
    },
    {
     "name": "stderr",
     "output_type": "stream",
     "text": [
      "\r",
      "  2%|█▋                                                                             | 10/471 [03:38<2:31:34, 19.73s/it]"
     ]
    },
    {
     "name": "stdout",
     "output_type": "stream",
     "text": [
      "Failedhttps://iprice.co.id/harga/huawei-p10-plus/\n"
     ]
    },
    {
     "name": "stderr",
     "output_type": "stream",
     "text": [
      "\r",
      "  2%|█▊                                                                             | 11/471 [05:12<5:25:22, 42.44s/it]"
     ]
    },
    {
     "name": "stdout",
     "output_type": "stream",
     "text": [
      "https://iprice.co.id/harga/nokia-lumia-1020/\n"
     ]
    },
    {
     "name": "stderr",
     "output_type": "stream",
     "text": [
      "\r",
      "  3%|██                                                                             | 12/471 [05:37<4:44:23, 37.18s/it]"
     ]
    },
    {
     "name": "stdout",
     "output_type": "stream",
     "text": [
      "Failedhttps://iprice.co.id/harga/sony-xperia-t2-ultra/\n"
     ]
    },
    {
     "name": "stderr",
     "output_type": "stream",
     "text": [
      "\r",
      "  3%|██▏                                                                            | 13/471 [06:02<4:15:52, 33.52s/it]"
     ]
    },
    {
     "name": "stdout",
     "output_type": "stream",
     "text": [
      "Failedhttps://iprice.co.id/harga/motorola-moto-g/\n"
     ]
    },
    {
     "name": "stderr",
     "output_type": "stream",
     "text": [
      "\r",
      "  3%|██▎                                                                            | 14/471 [06:27<3:56:08, 31.00s/it]"
     ]
    },
    {
     "name": "stdout",
     "output_type": "stream",
     "text": [
      "Failedhttps://iprice.co.id/harga/oppo-joy-3/\n"
     ]
    },
    {
     "name": "stderr",
     "output_type": "stream",
     "text": [
      "\r",
      "  3%|██▌                                                                            | 15/471 [06:52<3:41:53, 29.20s/it]"
     ]
    },
    {
     "name": "stdout",
     "output_type": "stream",
     "text": [
      "Failedhttps://iprice.co.id/harga/smartfren-andromax-e2/\n"
     ]
    },
    {
     "name": "stderr",
     "output_type": "stream",
     "text": [
      "\r",
      "  3%|██▋                                                                            | 16/471 [07:18<3:32:24, 28.01s/it]"
     ]
    },
    {
     "name": "stdout",
     "output_type": "stream",
     "text": [
      "Failedhttps://iprice.co.id/harga/xiaomi-redmi-note-11-5g/\n"
     ]
    },
    {
     "name": "stderr",
     "output_type": "stream",
     "text": [
      "\r",
      "  4%|██▊                                                                            | 17/471 [07:43<3:25:16, 27.13s/it]"
     ]
    },
    {
     "name": "stdout",
     "output_type": "stream",
     "text": [
      "Failedhttps://iprice.co.id/harga/sony-xperia-xa2/\n"
     ]
    },
    {
     "name": "stderr",
     "output_type": "stream",
     "text": [
      "\r",
      "  4%|███                                                                            | 18/471 [07:59<3:00:24, 23.90s/it]"
     ]
    },
    {
     "name": "stdout",
     "output_type": "stream",
     "text": [
      "Failedhttps://iprice.co.id/harga/motorola-edge-x30/\n"
     ]
    },
    {
     "name": "stderr",
     "output_type": "stream",
     "text": [
      "\r",
      "  4%|███▏                                                                           | 19/471 [08:25<3:03:51, 24.41s/it]"
     ]
    },
    {
     "name": "stdout",
     "output_type": "stream",
     "text": [
      "Failedhttps://iprice.co.id/harga/sharp-r1/\n"
     ]
    },
    {
     "name": "stderr",
     "output_type": "stream",
     "text": [
      "\r",
      "  4%|███▎                                                                           | 20/471 [08:50<3:06:01, 24.75s/it]"
     ]
    },
    {
     "name": "stdout",
     "output_type": "stream",
     "text": [
      "Failedhttps://iprice.co.id/harga/lg-x-power-k220/\n"
     ]
    },
    {
     "name": "stderr",
     "output_type": "stream",
     "text": [
      "\r",
      "  4%|███▌                                                                           | 21/471 [10:24<5:40:39, 45.42s/it]"
     ]
    },
    {
     "name": "stdout",
     "output_type": "stream",
     "text": [
      "https://iprice.co.id/harga/nokia-lumia-1020/\n"
     ]
    },
    {
     "name": "stderr",
     "output_type": "stream",
     "text": [
      "\r",
      "  5%|███▋                                                                           | 22/471 [11:57<7:27:36, 59.81s/it]"
     ]
    },
    {
     "name": "stdout",
     "output_type": "stream",
     "text": [
      "https://iprice.co.id/harga/nokia-lumia-1020/\n"
     ]
    },
    {
     "name": "stderr",
     "output_type": "stream",
     "text": [
      "\r",
      "  5%|███▊                                                                           | 23/471 [12:23<6:09:28, 49.48s/it]"
     ]
    },
    {
     "name": "stdout",
     "output_type": "stream",
     "text": [
      "Failedhttps://iprice.co.id/harga/huawei-y3-2017/\n"
     ]
    },
    {
     "name": "stderr",
     "output_type": "stream",
     "text": [
      "\r",
      "  5%|████                                                                           | 24/471 [12:48<5:14:27, 42.21s/it]"
     ]
    },
    {
     "name": "stdout",
     "output_type": "stream",
     "text": [
      "Failedhttps://iprice.co.id/harga/nubia-z40s-pro/\n"
     ]
    },
    {
     "name": "stderr",
     "output_type": "stream",
     "text": [
      "\r",
      "  5%|████▏                                                                          | 25/471 [13:13<4:35:48, 37.10s/it]"
     ]
    },
    {
     "name": "stdout",
     "output_type": "stream",
     "text": [
      "Failedhttps://iprice.co.id/harga/nokia-8-sirocco/\n"
     ]
    },
    {
     "name": "stderr",
     "output_type": "stream",
     "text": [
      "\r",
      "  6%|████▎                                                                          | 26/471 [13:38<4:08:20, 33.48s/it]"
     ]
    },
    {
     "name": "stdout",
     "output_type": "stream",
     "text": [
      "Failedhttps://iprice.co.id/harga/samsung-galaxy-core-prime/\n"
     ]
    },
    {
     "name": "stderr",
     "output_type": "stream",
     "text": [
      "\r",
      "  6%|████▌                                                                          | 27/471 [14:03<3:49:37, 31.03s/it]"
     ]
    },
    {
     "name": "stdout",
     "output_type": "stream",
     "text": [
      "Failedhttps://iprice.co.id/harga/mito-a82/\n"
     ]
    },
    {
     "name": "stderr",
     "output_type": "stream",
     "text": [
      "\r",
      "  6%|████▋                                                                          | 28/471 [15:13<5:15:36, 42.75s/it]"
     ]
    },
    {
     "name": "stdout",
     "output_type": "stream",
     "text": [
      "https://iprice.co.id/harga/huawei-p40-pro-plus/\n"
     ]
    },
    {
     "name": "stderr",
     "output_type": "stream",
     "text": [
      "\r",
      "  6%|████▊                                                                          | 29/471 [15:30<4:16:23, 34.80s/it]"
     ]
    },
    {
     "name": "stdout",
     "output_type": "stream",
     "text": [
      "Failedhttps://iprice.co.id/harga/huawei-honor-6x-2016/\n"
     ]
    },
    {
     "name": "stderr",
     "output_type": "stream",
     "text": [
      "\r",
      "  6%|█████                                                                          | 30/471 [15:55<3:55:09, 32.00s/it]"
     ]
    },
    {
     "name": "stdout",
     "output_type": "stream",
     "text": [
      "Failedhttps://iprice.co.id/harga/infinix-zero-4-plus/\n"
     ]
    },
    {
     "name": "stderr",
     "output_type": "stream",
     "text": [
      "\r",
      "  7%|█████▏                                                                         | 31/471 [17:29<6:11:05, 50.60s/it]"
     ]
    },
    {
     "name": "stdout",
     "output_type": "stream",
     "text": [
      "https://iprice.co.id/harga/xiaomi-redmi-3s-prime/\n"
     ]
    },
    {
     "name": "stderr",
     "output_type": "stream",
     "text": [
      "\r",
      "  7%|█████▎                                                                         | 32/471 [17:54<5:14:20, 42.96s/it]"
     ]
    },
    {
     "name": "stdout",
     "output_type": "stream",
     "text": [
      "Failedhttps://iprice.co.id/harga/xiaomi-redmi-k60/\n"
     ]
    },
    {
     "name": "stderr",
     "output_type": "stream",
     "text": [
      "\r",
      "  7%|█████▌                                                                         | 33/471 [18:20<4:35:33, 37.75s/it]"
     ]
    },
    {
     "name": "stdout",
     "output_type": "stream",
     "text": [
      "Failedhttps://iprice.co.id/harga/huawei-y3-2017/\n"
     ]
    },
    {
     "name": "stderr",
     "output_type": "stream",
     "text": [
      "\r",
      "  7%|█████▋                                                                         | 34/471 [18:45<4:07:44, 34.02s/it]"
     ]
    },
    {
     "name": "stdout",
     "output_type": "stream",
     "text": [
      "Failedhttps://iprice.co.id/harga/huawei-y3-2017/\n"
     ]
    },
    {
     "name": "stderr",
     "output_type": "stream",
     "text": [
      "\r",
      "  7%|█████▊                                                                         | 35/471 [19:11<3:48:20, 31.42s/it]"
     ]
    },
    {
     "name": "stdout",
     "output_type": "stream",
     "text": [
      "Failedhttps://iprice.co.id/harga/htc-one-m7/\n"
     ]
    },
    {
     "name": "stderr",
     "output_type": "stream",
     "text": [
      "\r",
      "  8%|██████                                                                         | 36/471 [19:36<3:35:11, 29.68s/it]"
     ]
    },
    {
     "name": "stdout",
     "output_type": "stream",
     "text": [
      "Failedhttps://iprice.co.id/harga/advan-i5a/\n"
     ]
    },
    {
     "name": "stderr",
     "output_type": "stream",
     "text": [
      "\r",
      "  8%|██████▏                                                                        | 37/471 [20:01<3:24:48, 28.32s/it]"
     ]
    },
    {
     "name": "stdout",
     "output_type": "stream",
     "text": [
      "Failedhttps://iprice.co.id/harga/samsung-galaxy-grand/\n"
     ]
    },
    {
     "name": "stderr",
     "output_type": "stream",
     "text": [
      "\r",
      "  8%|██████▎                                                                        | 38/471 [20:26<3:17:22, 27.35s/it]"
     ]
    },
    {
     "name": "stdout",
     "output_type": "stream",
     "text": [
      "Failedhttps://iprice.co.id/harga/nubia-red-magic-8s-pro-plus/\n"
     ]
    },
    {
     "name": "stderr",
     "output_type": "stream",
     "text": [
      "\r",
      "  8%|██████▌                                                                        | 39/471 [20:52<3:12:34, 26.75s/it]"
     ]
    },
    {
     "name": "stdout",
     "output_type": "stream",
     "text": [
      "Failedhttps://iprice.co.id/harga/lenovo-s930/\n"
     ]
    },
    {
     "name": "stderr",
     "output_type": "stream",
     "text": [
      "\r",
      "  8%|██████▋                                                                        | 40/471 [21:17<3:08:39, 26.26s/it]"
     ]
    },
    {
     "name": "stdout",
     "output_type": "stream",
     "text": [
      "Failedhttps://iprice.co.id/harga/huawei-y5ii/\n"
     ]
    },
    {
     "name": "stderr",
     "output_type": "stream",
     "text": [
      "\r",
      "  9%|██████▉                                                                        | 41/471 [21:43<3:06:49, 26.07s/it]"
     ]
    },
    {
     "name": "stdout",
     "output_type": "stream",
     "text": [
      "Failedhttps://iprice.co.id/harga/lg-g-flex/\n"
     ]
    },
    {
     "name": "stderr",
     "output_type": "stream",
     "text": [
      "\r",
      "  9%|███████                                                                        | 42/471 [22:00<2:48:22, 23.55s/it]"
     ]
    },
    {
     "name": "stdout",
     "output_type": "stream",
     "text": [
      "Failedhttps://iprice.co.id/harga/oppo-n1-mini/\n"
     ]
    },
    {
     "name": "stderr",
     "output_type": "stream",
     "text": [
      "\r",
      "  9%|███████▏                                                                       | 43/471 [22:25<2:51:33, 24.05s/it]"
     ]
    },
    {
     "name": "stdout",
     "output_type": "stream",
     "text": [
      "Failedhttps://iprice.co.id/harga/huawei-honor-note-10/\n"
     ]
    },
    {
     "name": "stderr",
     "output_type": "stream",
     "text": [
      "\r",
      "  9%|███████▍                                                                       | 44/471 [22:51<2:55:05, 24.60s/it]"
     ]
    },
    {
     "name": "stdout",
     "output_type": "stream",
     "text": [
      "Failedhttps://iprice.co.id/harga/htc-one-m7/\n"
     ]
    },
    {
     "name": "stderr",
     "output_type": "stream",
     "text": [
      "\r",
      " 10%|███████▌                                                                       | 45/471 [23:17<2:56:24, 24.85s/it]"
     ]
    },
    {
     "name": "stdout",
     "output_type": "stream",
     "text": [
      "Failedhttps://iprice.co.id/harga/htc-one-m7/\n"
     ]
    },
    {
     "name": "stderr",
     "output_type": "stream",
     "text": [
      "\r",
      " 10%|███████▋                                                                       | 46/471 [23:42<2:56:32, 24.92s/it]"
     ]
    },
    {
     "name": "stdout",
     "output_type": "stream",
     "text": [
      "Failedhttps://iprice.co.id/harga/nokia-lumia-930/\n"
     ]
    },
    {
     "name": "stderr",
     "output_type": "stream",
     "text": [
      "\r",
      " 10%|███████▉                                                                       | 47/471 [24:07<2:56:45, 25.01s/it]"
     ]
    },
    {
     "name": "stdout",
     "output_type": "stream",
     "text": [
      "Failedhttps://iprice.co.id/harga/lenovo-p90/\n"
     ]
    },
    {
     "name": "stderr",
     "output_type": "stream",
     "text": [
      "\r",
      " 10%|████████                                                                       | 48/471 [24:33<2:57:44, 25.21s/it]"
     ]
    },
    {
     "name": "stdout",
     "output_type": "stream",
     "text": [
      "Failedhttps://iprice.co.id/harga/lg-k4/\n"
     ]
    },
    {
     "name": "stderr",
     "output_type": "stream",
     "text": [
      "\r",
      " 10%|████████▏                                                                      | 49/471 [24:58<2:57:29, 25.23s/it]"
     ]
    },
    {
     "name": "stdout",
     "output_type": "stream",
     "text": [
      "Failedhttps://iprice.co.id/harga/vivo-y35-5g/\n"
     ]
    },
    {
     "name": "stderr",
     "output_type": "stream",
     "text": [
      "\r",
      " 11%|████████▍                                                                      | 50/471 [25:23<2:56:34, 25.17s/it]"
     ]
    },
    {
     "name": "stdout",
     "output_type": "stream",
     "text": [
      "Failedhttps://iprice.co.id/harga/htc-desire-826/\n"
     ]
    },
    {
     "name": "stderr",
     "output_type": "stream",
     "text": [
      "\r",
      " 11%|████████▌                                                                      | 51/471 [25:48<2:56:19, 25.19s/it]"
     ]
    },
    {
     "name": "stdout",
     "output_type": "stream",
     "text": [
      "Failedhttps://iprice.co.id/harga/acer-liquid-z320/\n"
     ]
    },
    {
     "name": "stderr",
     "output_type": "stream",
     "text": [
      "\r",
      " 11%|████████▋                                                                      | 52/471 [26:13<2:55:21, 25.11s/it]"
     ]
    },
    {
     "name": "stdout",
     "output_type": "stream",
     "text": [
      "Failedhttps://iprice.co.id/harga/nokia-lumia-930/\n"
     ]
    },
    {
     "name": "stderr",
     "output_type": "stream",
     "text": [
      "\r",
      " 11%|████████▉                                                                      | 53/471 [26:38<2:54:58, 25.11s/it]"
     ]
    },
    {
     "name": "stdout",
     "output_type": "stream",
     "text": [
      "Failedhttps://iprice.co.id/harga/nokia-lumia-930/\n"
     ]
    },
    {
     "name": "stderr",
     "output_type": "stream",
     "text": [
      "\r",
      " 11%|█████████                                                                      | 54/471 [27:04<2:55:18, 25.22s/it]"
     ]
    },
    {
     "name": "stdout",
     "output_type": "stream",
     "text": [
      "Failedhttps://iprice.co.id/harga/sony-xperia-ion/\n"
     ]
    },
    {
     "name": "stderr",
     "output_type": "stream",
     "text": [
      "\r",
      " 12%|█████████▏                                                                     | 55/471 [27:46<3:30:33, 30.37s/it]"
     ]
    },
    {
     "name": "stdout",
     "output_type": "stream",
     "text": [
      "https://iprice.co.id/harga/apple-iphone-11-128gb-hitam/\n"
     ]
    },
    {
     "name": "stderr",
     "output_type": "stream",
     "text": [
      "\r",
      " 12%|█████████▍                                                                     | 56/471 [28:29<3:55:17, 34.02s/it]"
     ]
    },
    {
     "name": "stdout",
     "output_type": "stream",
     "text": [
      "https://iprice.co.id/harga/apple-iphone-11-64gb-hitam/\n"
     ]
    },
    {
     "name": "stderr",
     "output_type": "stream",
     "text": [
      "\r",
      " 12%|█████████▌                                                                     | 57/471 [29:58<5:48:56, 50.57s/it]"
     ]
    },
    {
     "name": "stdout",
     "output_type": "stream",
     "text": [
      "https://iprice.co.id/harga/apple-iphone-14-pro-max-128gb-gold/\n"
     ]
    },
    {
     "name": "stderr",
     "output_type": "stream",
     "text": [
      "\r",
      " 12%|█████████▋                                                                     | 58/471 [31:27<7:07:19, 62.08s/it]"
     ]
    },
    {
     "name": "stdout",
     "output_type": "stream",
     "text": [
      "https://iprice.co.id/harga/apple-iphone-14-pro-max-512gb-deep-purple/\n"
     ]
    },
    {
     "name": "stderr",
     "output_type": "stream",
     "text": [
      "\r",
      " 13%|█████████▉                                                                     | 59/471 [32:09<6:25:00, 56.07s/it]"
     ]
    },
    {
     "name": "stdout",
     "output_type": "stream",
     "text": [
      "https://iprice.co.id/harga/apple-iphone-11-128gb-putih/\n"
     ]
    },
    {
     "name": "stderr",
     "output_type": "stream",
     "text": [
      "\r",
      " 13%|██████████                                                                     | 60/471 [33:45<7:45:44, 67.99s/it]"
     ]
    },
    {
     "name": "stdout",
     "output_type": "stream",
     "text": [
      "https://iprice.co.id/harga/apple-iphone-14-pro-max-256gb-space-black/\n"
     ]
    },
    {
     "name": "stderr",
     "output_type": "stream",
     "text": [
      "\r",
      " 13%|██████████▏                                                                    | 61/471 [35:47<9:35:21, 84.20s/it]"
     ]
    },
    {
     "name": "stdout",
     "output_type": "stream",
     "text": [
      "https://iprice.co.id/harga/samsung-galaxy-a13-128gb-6gb-peach/\n"
     ]
    },
    {
     "name": "stderr",
     "output_type": "stream",
     "text": [
      "\r",
      " 13%|██████████▍                                                                    | 62/471 [36:28<8:06:50, 71.42s/it]"
     ]
    },
    {
     "name": "stdout",
     "output_type": "stream",
     "text": [
      "https://iprice.co.id/harga/apple-iphone-11-64gb-putih/\n"
     ]
    },
    {
     "name": "stderr",
     "output_type": "stream",
     "text": [
      "\r",
      " 13%|██████████▌                                                                    | 63/471 [36:54<6:32:00, 57.65s/it]"
     ]
    },
    {
     "name": "stdout",
     "output_type": "stream",
     "text": [
      "Failedhttps://iprice.co.id/harga/sony-xperia-ion/\n"
     ]
    },
    {
     "name": "stderr",
     "output_type": "stream",
     "text": [
      "\r",
      " 14%|██████████▋                                                                    | 64/471 [37:19<5:25:07, 47.93s/it]"
     ]
    },
    {
     "name": "stdout",
     "output_type": "stream",
     "text": [
      "Failedhttps://iprice.co.id/harga/sony-xperia-ion/\n"
     ]
    },
    {
     "name": "stderr",
     "output_type": "stream",
     "text": [
      "\r",
      " 14%|██████████▉                                                                    | 65/471 [38:01<5:12:08, 46.13s/it]"
     ]
    },
    {
     "name": "stdout",
     "output_type": "stream",
     "text": [
      "https://iprice.co.id/harga/apple-iphone-13-256gb-starlight/\n"
     ]
    },
    {
     "name": "stderr",
     "output_type": "stream",
     "text": [
      "\r",
      " 14%|███████████                                                                    | 66/471 [38:43<5:02:42, 44.85s/it]"
     ]
    },
    {
     "name": "stdout",
     "output_type": "stream",
     "text": [
      "https://iprice.co.id/harga/apple-iphone-13-128gb-pink/\n"
     ]
    },
    {
     "name": "stderr",
     "output_type": "stream",
     "text": [
      "\r",
      " 14%|███████████▏                                                                   | 67/471 [39:09<4:23:55, 39.20s/it]"
     ]
    },
    {
     "name": "stdout",
     "output_type": "stream",
     "text": [
      "Failedhttps://iprice.co.id/harga/apple-iphone-13-pro-256gb-biru-sierra/\n"
     ]
    },
    {
     "name": "stderr",
     "output_type": "stream",
     "text": [
      "\r",
      " 14%|███████████▍                                                                   | 68/471 [41:12<7:12:30, 64.39s/it]"
     ]
    },
    {
     "name": "stdout",
     "output_type": "stream",
     "text": [
      "https://iprice.co.id/harga/xiaomi-redmi-note-11-pro-5g-128gb-8gb-graphite-gray/\n"
     ]
    },
    {
     "name": "stderr",
     "output_type": "stream",
     "text": [
      "\r",
      " 15%|███████████▌                                                                   | 69/471 [42:42<8:03:17, 72.13s/it]"
     ]
    },
    {
     "name": "stdout",
     "output_type": "stream",
     "text": [
      "https://iprice.co.id/harga/samsung-galaxy-a54-5g-256gb-8gb-awesome-white/\n"
     ]
    },
    {
     "name": "stderr",
     "output_type": "stream",
     "text": [
      "\r",
      " 15%|███████████▋                                                                   | 70/471 [42:58<6:08:40, 55.16s/it]"
     ]
    },
    {
     "name": "stdout",
     "output_type": "stream",
     "text": [
      "https://iprice.co.id/harga/apple-iphone-x-256gb-silver/\n"
     ]
    },
    {
     "name": "stderr",
     "output_type": "stream",
     "text": [
      "\r",
      " 15%|███████████▉                                                                   | 71/471 [44:30<7:21:30, 66.23s/it]"
     ]
    },
    {
     "name": "stdout",
     "output_type": "stream",
     "text": [
      "https://iprice.co.id/harga/apple-iphone-xs-max-256gb-gold/\n"
     ]
    },
    {
     "name": "stderr",
     "output_type": "stream",
     "text": [
      "\r",
      " 15%|████████████                                                                   | 72/471 [45:27<7:02:38, 63.56s/it]"
     ]
    },
    {
     "name": "stdout",
     "output_type": "stream",
     "text": [
      "https://iprice.co.id/harga/apple-iphone-13-pro-max-1tb-emas/\n"
     ]
    },
    {
     "name": "stderr",
     "output_type": "stream",
     "text": [
      "\r",
      " 15%|███████████▉                                                                 | 73/471 [48:42<11:22:29, 102.89s/it]"
     ]
    },
    {
     "name": "stdout",
     "output_type": "stream",
     "text": [
      "https://iprice.co.id/harga/samsung-galaxy-s22-ultra-256gb-12gb-burgundy/\n"
     ]
    },
    {
     "name": "stderr",
     "output_type": "stream",
     "text": [
      "\r",
      " 16%|████████████▍                                                                  | 74/471 [49:26<9:24:53, 85.37s/it]"
     ]
    },
    {
     "name": "stdout",
     "output_type": "stream",
     "text": [
      "https://iprice.co.id/harga/apple-iphone-13-pro-max-256gb-emas/\n"
     ]
    },
    {
     "name": "stderr",
     "output_type": "stream",
     "text": [
      "\r",
      " 16%|████████████▌                                                                  | 75/471 [50:08<7:57:21, 72.33s/it]"
     ]
    },
    {
     "name": "stdout",
     "output_type": "stream",
     "text": [
      "https://iprice.co.id/harga/apple-iphone-13-256gb-starlight/\n"
     ]
    },
    {
     "name": "stderr",
     "output_type": "stream",
     "text": [
      "\r",
      " 16%|████████████▋                                                                  | 76/471 [50:50<6:55:07, 63.06s/it]"
     ]
    },
    {
     "name": "stdout",
     "output_type": "stream",
     "text": [
      "https://iprice.co.id/harga/apple-iphone-13-256gb-starlight/\n"
     ]
    },
    {
     "name": "stderr",
     "output_type": "stream",
     "text": [
      "\r",
      " 16%|████████████▉                                                                  | 77/471 [51:46<6:40:30, 60.99s/it]"
     ]
    },
    {
     "name": "stdout",
     "output_type": "stream",
     "text": [
      "https://iprice.co.id/harga/samsung-galaxy-a24-128gb-8gb-black/\n"
     ]
    },
    {
     "name": "stderr",
     "output_type": "stream",
     "text": [
      "\r",
      " 17%|█████████████                                                                  | 78/471 [52:29<6:05:06, 55.74s/it]"
     ]
    },
    {
     "name": "stdout",
     "output_type": "stream",
     "text": [
      "https://iprice.co.id/harga/apple-iphone-13-512gb-biru/\n"
     ]
    },
    {
     "name": "stderr",
     "output_type": "stream",
     "text": [
      "\r",
      " 17%|█████████████▎                                                                 | 79/471 [53:24<6:02:30, 55.48s/it]"
     ]
    },
    {
     "name": "stdout",
     "output_type": "stream",
     "text": [
      "https://iprice.co.id/harga/apple-iphone-13-pro-max-1tb-perak/\n"
     ]
    },
    {
     "name": "stderr",
     "output_type": "stream",
     "text": [
      "\r",
      " 17%|█████████████▍                                                                 | 80/471 [54:55<7:11:29, 66.21s/it]"
     ]
    },
    {
     "name": "stdout",
     "output_type": "stream",
     "text": [
      "https://iprice.co.id/harga/xiaomi-poco-f4-gt-256gb-12gb-stealth-black/\n"
     ]
    },
    {
     "name": "stderr",
     "output_type": "stream",
     "text": [
      "\r",
      " 17%|█████████████▌                                                                 | 81/471 [57:00<9:04:54, 83.83s/it]"
     ]
    },
    {
     "name": "stdout",
     "output_type": "stream",
     "text": [
      "https://iprice.co.id/harga/samsung-galaxy-a04e-32gb-3gb-light-blue/\n"
     ]
    },
    {
     "name": "stderr",
     "output_type": "stream",
     "text": [
      "\r",
      " 17%|█████████████▊                                                                 | 82/471 [57:57<8:10:01, 75.58s/it]"
     ]
    },
    {
     "name": "stdout",
     "output_type": "stream",
     "text": [
      "https://iprice.co.id/harga/xiaomi-12-lite-256gb-8gb-lite-pink/\n"
     ]
    },
    {
     "name": "stderr",
     "output_type": "stream",
     "text": [
      "\r",
      " 18%|█████████████▌                                                               | 83/471 [1:00:03<9:46:29, 90.70s/it]"
     ]
    },
    {
     "name": "stdout",
     "output_type": "stream",
     "text": [
      "https://iprice.co.id/harga/xiaomi-redmi-note-11-pro-5g-128gb-8gb-atlantic-blue/\n"
     ]
    },
    {
     "name": "stderr",
     "output_type": "stream",
     "text": [
      "\r",
      " 18%|█████████████▌                                                              | 84/471 [1:01:42<10:02:10, 93.36s/it]"
     ]
    },
    {
     "name": "stdout",
     "output_type": "stream",
     "text": [
      "https://iprice.co.id/harga/xiaomi-redmi-note-11-128gb-4gb-graphite-gray/\n"
     ]
    },
    {
     "name": "stderr",
     "output_type": "stream",
     "text": [
      "\r",
      " 18%|█████████████▉                                                               | 85/471 [1:03:00<9:31:08, 88.78s/it]"
     ]
    },
    {
     "name": "stdout",
     "output_type": "stream",
     "text": [
      "https://iprice.co.id/harga/apple-iphone-13-pro-128gb-abu-abu-grafit/\n"
     ]
    },
    {
     "name": "stderr",
     "output_type": "stream",
     "text": [
      "\r",
      " 18%|█████████████▋                                                             | 86/471 [1:06:11<12:46:36, 119.47s/it]"
     ]
    },
    {
     "name": "stdout",
     "output_type": "stream",
     "text": [
      "https://iprice.co.id/harga/samsung-galaxy-s22-ultra-512gb-12gb-hijau/\n"
     ]
    },
    {
     "name": "stderr",
     "output_type": "stream",
     "text": [
      "\r",
      " 18%|█████████████▊                                                             | 87/471 [1:07:06<10:40:04, 100.01s/it]"
     ]
    },
    {
     "name": "stdout",
     "output_type": "stream",
     "text": [
      "https://iprice.co.id/harga/samsung-galaxy-a24-128gb-8gb-black/\n"
     ]
    },
    {
     "name": "stderr",
     "output_type": "stream",
     "text": [
      "\r",
      " 19%|██████████████▍                                                              | 88/471 [1:08:01<9:12:26, 86.54s/it]"
     ]
    },
    {
     "name": "stdout",
     "output_type": "stream",
     "text": [
      "https://iprice.co.id/harga/samsung-galaxy-a24-128gb-8gb-black/\n"
     ]
    },
    {
     "name": "stderr",
     "output_type": "stream",
     "text": [
      "\r",
      " 19%|██████████████▌                                                              | 89/471 [1:09:15<8:45:48, 82.59s/it]"
     ]
    },
    {
     "name": "stdout",
     "output_type": "stream",
     "text": [
      "https://iprice.co.id/harga/poco-f5-256gb-12gb-putih/\n"
     ]
    },
    {
     "name": "stderr",
     "output_type": "stream",
     "text": [
      "\r",
      " 19%|██████████████▋                                                              | 90/471 [1:09:56<7:26:34, 70.33s/it]"
     ]
    },
    {
     "name": "stdout",
     "output_type": "stream",
     "text": [
      "https://iprice.co.id/harga/apple-iphone-13-pro-max-256gb-perak/\n"
     ]
    },
    {
     "name": "stderr",
     "output_type": "stream",
     "text": [
      "\r",
      " 19%|██████████████▉                                                              | 91/471 [1:11:58<9:03:50, 85.87s/it]"
     ]
    },
    {
     "name": "stdout",
     "output_type": "stream",
     "text": [
      "https://iprice.co.id/harga/apple-iphone-14-128gb-purple/\n"
     ]
    },
    {
     "name": "stderr",
     "output_type": "stream",
     "text": [
      "\r",
      " 20%|███████████████                                                              | 92/471 [1:13:29<9:11:50, 87.36s/it]"
     ]
    },
    {
     "name": "stdout",
     "output_type": "stream",
     "text": [
      "https://iprice.co.id/harga/apple-iphone-xs-max-256gb-silver/\n"
     ]
    },
    {
     "name": "stderr",
     "output_type": "stream",
     "text": [
      "\r",
      " 20%|██████████████▊                                                            | 93/471 [1:15:39<10:31:11, 100.19s/it]"
     ]
    },
    {
     "name": "stdout",
     "output_type": "stream",
     "text": [
      "https://iprice.co.id/harga/apple-iphone-14-pro-512gb-deep-purple/\n"
     ]
    },
    {
     "name": "stderr",
     "output_type": "stream",
     "text": [
      "\r",
      " 20%|███████████████▎                                                             | 94/471 [1:15:56<7:52:19, 75.17s/it]"
     ]
    },
    {
     "name": "stdout",
     "output_type": "stream",
     "text": [
      "Failedhttps://iprice.co.id/harga/oppo-a57-4g-glowing-green/\n"
     ]
    },
    {
     "name": "stderr",
     "output_type": "stream",
     "text": [
      "\r",
      " 20%|███████████████▌                                                             | 95/471 [1:17:29<8:25:04, 80.60s/it]"
     ]
    },
    {
     "name": "stdout",
     "output_type": "stream",
     "text": [
      "https://iprice.co.id/harga/samsung-galaxy-a04-64gb-4gb-orange-copper/\n"
     ]
    },
    {
     "name": "stderr",
     "output_type": "stream",
     "text": [
      "\r",
      " 20%|███████████████▋                                                             | 96/471 [1:19:20<9:19:22, 89.50s/it]"
     ]
    },
    {
     "name": "stdout",
     "output_type": "stream",
     "text": [
      "https://iprice.co.id/harga/apple-iphone-11-pro-max-256gb-space-grey/\n"
     ]
    },
    {
     "name": "stderr",
     "output_type": "stream",
     "text": [
      "\r",
      " 21%|███████████████▍                                                           | 97/471 [1:21:47<11:06:21, 106.90s/it]"
     ]
    },
    {
     "name": "stdout",
     "output_type": "stream",
     "text": [
      "https://iprice.co.id/harga/xiaomi-redmi-9c-64gb-4gb-twilight-blue/\n"
     ]
    },
    {
     "name": "stderr",
     "output_type": "stream",
     "text": [
      "\r",
      " 21%|███████████████▌                                                           | 98/471 [1:23:19<10:36:19, 102.36s/it]"
     ]
    },
    {
     "name": "stdout",
     "output_type": "stream",
     "text": [
      "https://iprice.co.id/harga/realme-c55-128gb-6gb-sunshower/\n"
     ]
    },
    {
     "name": "stderr",
     "output_type": "stream",
     "text": [
      "\r",
      " 21%|████████████████▏                                                            | 99/471 [1:24:32<9:39:44, 93.51s/it]"
     ]
    },
    {
     "name": "stdout",
     "output_type": "stream",
     "text": [
      "https://iprice.co.id/harga/poco-f5-256gb-12gb-putih/\n"
     ]
    },
    {
     "name": "stderr",
     "output_type": "stream",
     "text": [
      "\r",
      " 21%|████████████████▏                                                           | 100/471 [1:25:44<8:59:02, 87.18s/it]"
     ]
    },
    {
     "name": "stdout",
     "output_type": "stream",
     "text": [
      "https://iprice.co.id/harga/poco-f5-256gb-12gb-putih/\n"
     ]
    },
    {
     "name": "stderr",
     "output_type": "stream",
     "text": [
      "\r",
      " 21%|████████████████▎                                                           | 101/471 [1:27:41<9:52:57, 96.16s/it]"
     ]
    },
    {
     "name": "stdout",
     "output_type": "stream",
     "text": [
      "https://iprice.co.id/harga/apple-iphone-8-plus-64gb-space-grey/\n"
     ]
    },
    {
     "name": "stderr",
     "output_type": "stream",
     "text": [
      "\r",
      " 22%|████████████████                                                          | 102/471 [1:30:59<12:57:56, 126.50s/it]"
     ]
    },
    {
     "name": "stdout",
     "output_type": "stream",
     "text": [
      "https://iprice.co.id/harga/samsung-galaxy-s23-ultra-1tb-graphite/\n"
     ]
    },
    {
     "name": "stderr",
     "output_type": "stream",
     "text": [
      "\r",
      " 22%|████████████████▏                                                         | 103/471 [1:31:54<10:44:24, 105.07s/it]"
     ]
    },
    {
     "name": "stdout",
     "output_type": "stream",
     "text": [
      "https://iprice.co.id/harga/samsung-galaxy-a04s-64gb-4gb-black/\n"
     ]
    },
    {
     "name": "stderr",
     "output_type": "stream",
     "text": [
      "\r",
      " 22%|████████████████▊                                                           | 104/471 [1:32:56<9:25:00, 92.37s/it]"
     ]
    },
    {
     "name": "stdout",
     "output_type": "stream",
     "text": [
      "https://iprice.co.id/harga/oppo-a17-lake-blue/\n"
     ]
    },
    {
     "name": "stderr",
     "output_type": "stream",
     "text": [
      "\r",
      " 22%|████████████████▉                                                           | 105/471 [1:33:38<7:51:21, 77.27s/it]"
     ]
    },
    {
     "name": "stdout",
     "output_type": "stream",
     "text": [
      "https://iprice.co.id/harga/apple-iphone-xr-128gb-merah/\n"
     ]
    },
    {
     "name": "stderr",
     "output_type": "stream",
     "text": [
      "\r",
      " 23%|█████████████████                                                           | 106/471 [1:34:53<7:44:42, 76.39s/it]"
     ]
    },
    {
     "name": "stdout",
     "output_type": "stream",
     "text": [
      "https://iprice.co.id/harga/oppo-a54-64gb-4gb-starry-blue/\n"
     ]
    },
    {
     "name": "stderr",
     "output_type": "stream",
     "text": [
      "\r",
      " 23%|█████████████████▎                                                          | 107/471 [1:35:35<6:40:16, 65.98s/it]"
     ]
    },
    {
     "name": "stdout",
     "output_type": "stream",
     "text": [
      "https://iprice.co.id/harga/apple-iphone-13-128gb-merah/\n"
     ]
    },
    {
     "name": "stderr",
     "output_type": "stream",
     "text": [
      "\r",
      " 23%|████████████████▉                                                         | 108/471 [1:39:33<11:52:45, 117.81s/it]"
     ]
    },
    {
     "name": "stdout",
     "output_type": "stream",
     "text": [
      "https://iprice.co.id/harga/xiaomi-redmi-9a-32gb-2gb-sky-blue/\n"
     ]
    },
    {
     "name": "stderr",
     "output_type": "stream",
     "text": [
      "\r",
      " 23%|█████████████████▏                                                        | 109/471 [1:41:31<11:50:46, 117.81s/it]"
     ]
    },
    {
     "name": "stdout",
     "output_type": "stream",
     "text": [
      "https://iprice.co.id/harga/samsung-galaxy-a13-128gb-6gb-biru/\n"
     ]
    },
    {
     "name": "stderr",
     "output_type": "stream",
     "text": [
      "\r",
      " 23%|█████████████████▋                                                          | 110/471 [1:42:12<9:30:23, 94.80s/it]"
     ]
    },
    {
     "name": "stdout",
     "output_type": "stream",
     "text": [
      "https://iprice.co.id/harga/apple-iphone-13-512gb-midnight/\n"
     ]
    },
    {
     "name": "stderr",
     "output_type": "stream",
     "text": [
      "\r",
      " 24%|█████████████████▍                                                        | 111/471 [1:44:08<10:06:12, 101.03s/it]"
     ]
    },
    {
     "name": "stdout",
     "output_type": "stream",
     "text": [
      "https://iprice.co.id/harga/apple-iphone-8-plus-64gb-space-grey/\n"
     ]
    },
    {
     "name": "stderr",
     "output_type": "stream",
     "text": [
      "\r",
      " 24%|█████████████████▌                                                        | 112/471 [1:46:03<10:30:34, 105.39s/it]"
     ]
    },
    {
     "name": "stdout",
     "output_type": "stream",
     "text": [
      "https://iprice.co.id/harga/apple-iphone-8-plus-64gb-space-grey/\n"
     ]
    },
    {
     "name": "stderr",
     "output_type": "stream",
     "text": [
      "\r",
      " 24%|██████████████████▏                                                         | 113/471 [1:46:46<8:35:53, 86.46s/it]"
     ]
    },
    {
     "name": "stdout",
     "output_type": "stream",
     "text": [
      "https://iprice.co.id/harga/apple-iphone-11-128gb-hijau/\n"
     ]
    },
    {
     "name": "stderr",
     "output_type": "stream",
     "text": [
      "\r",
      " 24%|██████████████████▍                                                         | 114/471 [1:48:25<8:58:02, 90.43s/it]"
     ]
    },
    {
     "name": "stdout",
     "output_type": "stream",
     "text": [
      "https://iprice.co.id/harga/samsung-galaxy-a34-5g-256gb-8gb-silver/\n"
     ]
    },
    {
     "name": "stderr",
     "output_type": "stream",
     "text": [
      "\r",
      " 24%|██████████████████                                                        | 115/471 [1:51:36<11:55:09, 120.53s/it]"
     ]
    },
    {
     "name": "stdout",
     "output_type": "stream",
     "text": [
      "https://iprice.co.id/harga/samsung-galaxy-s23-ultra-512gb-green/\n"
     ]
    },
    {
     "name": "stderr",
     "output_type": "stream",
     "text": [
      "\r",
      " 25%|██████████████████▍                                                        | 116/471 [1:52:31<9:55:58, 100.73s/it]"
     ]
    },
    {
     "name": "stdout",
     "output_type": "stream",
     "text": [
      "https://iprice.co.id/harga/apple-iphone-xr-256gb-hitam/\n"
     ]
    },
    {
     "name": "stderr",
     "output_type": "stream",
     "text": [
      "\r",
      " 25%|██████████████████▉                                                         | 117/471 [1:53:26<8:33:51, 87.09s/it]"
     ]
    },
    {
     "name": "stdout",
     "output_type": "stream",
     "text": [
      "https://iprice.co.id/harga/oppo-a96-256gb-starry-black/\n"
     ]
    },
    {
     "name": "stderr",
     "output_type": "stream",
     "text": [
      "\r",
      " 25%|███████████████████                                                         | 118/471 [1:54:07<7:11:57, 73.42s/it]"
     ]
    },
    {
     "name": "stdout",
     "output_type": "stream",
     "text": [
      "https://iprice.co.id/harga/apple-iphone-13-512gb-merah/\n"
     ]
    },
    {
     "name": "stderr",
     "output_type": "stream",
     "text": [
      "\r",
      " 25%|███████████████████▏                                                        | 119/471 [1:55:19<7:08:16, 73.00s/it]"
     ]
    },
    {
     "name": "stdout",
     "output_type": "stream",
     "text": [
      "https://iprice.co.id/harga/asus-rog-phone-6-256gb-12gb-phantom-black/\n"
     ]
    },
    {
     "name": "stderr",
     "output_type": "stream",
     "text": [
      "\r",
      " 25%|███████████████████▎                                                        | 120/471 [1:56:52<7:41:08, 78.83s/it]"
     ]
    },
    {
     "name": "stdout",
     "output_type": "stream",
     "text": [
      "https://iprice.co.id/harga/samsung-galaxy-a52-128gb-awesome-black/\n"
     ]
    },
    {
     "name": "stderr",
     "output_type": "stream",
     "text": [
      "\r",
      " 26%|███████████████████▌                                                        | 121/471 [1:58:23<8:00:53, 82.44s/it]"
     ]
    },
    {
     "name": "stdout",
     "output_type": "stream",
     "text": [
      "https://iprice.co.id/harga/apple-iphone-xs-256gb-silver/\n"
     ]
    },
    {
     "name": "stderr",
     "output_type": "stream",
     "text": [
      "\r",
      " 26%|███████████████████▋                                                        | 122/471 [1:59:32<7:36:33, 78.49s/it]"
     ]
    },
    {
     "name": "stdout",
     "output_type": "stream",
     "text": [
      "https://iprice.co.id/harga/apple-iphone-13-pro-512gb-alpine-green/\n"
     ]
    },
    {
     "name": "stderr",
     "output_type": "stream",
     "text": [
      "\r",
      " 26%|███████████████████▊                                                        | 123/471 [2:00:14<6:32:11, 67.62s/it]"
     ]
    },
    {
     "name": "stdout",
     "output_type": "stream",
     "text": [
      "https://iprice.co.id/harga/apple-iphone-11-128gb-hijau/\n"
     ]
    },
    {
     "name": "stderr",
     "output_type": "stream",
     "text": [
      "\r",
      " 26%|████████████████████                                                        | 124/471 [2:00:56<5:46:17, 59.88s/it]"
     ]
    },
    {
     "name": "stdout",
     "output_type": "stream",
     "text": [
      "https://iprice.co.id/harga/apple-iphone-11-128gb-hijau/\n"
     ]
    },
    {
     "name": "stderr",
     "output_type": "stream",
     "text": [
      "\r",
      " 27%|████████████████████▏                                                       | 125/471 [2:02:09<6:07:49, 63.78s/it]"
     ]
    },
    {
     "name": "stdout",
     "output_type": "stream",
     "text": [
      "https://iprice.co.id/harga/poco-f5-256gb-8gb-putih/\n"
     ]
    },
    {
     "name": "stderr",
     "output_type": "stream",
     "text": [
      "\r",
      " 27%|████████████████████▎                                                       | 126/471 [2:04:34<8:27:37, 88.28s/it]"
     ]
    },
    {
     "name": "stdout",
     "output_type": "stream",
     "text": [
      "https://iprice.co.id/harga/apple-iphone-7-plus-128gb-matte-black/\n"
     ]
    },
    {
     "name": "stderr",
     "output_type": "stream",
     "text": [
      "\r",
      " 27%|████████████████████▍                                                       | 127/471 [2:06:06<8:31:35, 89.23s/it]"
     ]
    },
    {
     "name": "stdout",
     "output_type": "stream",
     "text": [
      "https://iprice.co.id/harga/apple-iphone-xs-max-512gb-space-grey/\n"
     ]
    },
    {
     "name": "stderr",
     "output_type": "stream",
     "text": [
      "\r",
      " 27%|████████████████████▋                                                       | 128/471 [2:07:22<8:07:26, 85.27s/it]"
     ]
    },
    {
     "name": "stdout",
     "output_type": "stream",
     "text": [
      "https://iprice.co.id/harga/samsung-galaxy-z-fold3-5g-256gb-phantom-black/\n"
     ]
    },
    {
     "name": "stderr",
     "output_type": "stream",
     "text": [
      "\r",
      " 27%|████████████████████▊                                                       | 129/471 [2:08:04<6:51:44, 72.24s/it]"
     ]
    },
    {
     "name": "stdout",
     "output_type": "stream",
     "text": [
      "https://iprice.co.id/harga/apple-iphone-xr-128gb-kuning/\n"
     ]
    },
    {
     "name": "stderr",
     "output_type": "stream",
     "text": [
      "\r",
      " 28%|████████████████████▉                                                       | 130/471 [2:09:53<7:54:16, 83.45s/it]"
     ]
    },
    {
     "name": "stdout",
     "output_type": "stream",
     "text": [
      "https://iprice.co.id/harga/apple-iphone-11-pro-64gb-midnight-green/\n"
     ]
    },
    {
     "name": "stderr",
     "output_type": "stream",
     "text": [
      "\r",
      " 28%|█████████████████████▏                                                      | 131/471 [2:11:33<8:20:12, 88.27s/it]"
     ]
    },
    {
     "name": "stdout",
     "output_type": "stream",
     "text": [
      "https://iprice.co.id/harga/oppo-a31-2020-128gb-6gb-fantasy-white/\n"
     ]
    },
    {
     "name": "stderr",
     "output_type": "stream",
     "text": [
      "\r",
      " 28%|█████████████████████                                                      | 132/471 [2:13:56<9:51:19, 104.66s/it]"
     ]
    },
    {
     "name": "stdout",
     "output_type": "stream",
     "text": [
      "https://iprice.co.id/harga/asus-zenfone-9-256gb-8gb-midnight-black/\n"
     ]
    },
    {
     "name": "stderr",
     "output_type": "stream",
     "text": [
      "\r",
      " 28%|████████████████████▉                                                     | 133/471 [2:17:03<12:09:33, 129.51s/it]"
     ]
    },
    {
     "name": "stdout",
     "output_type": "stream",
     "text": [
      "https://iprice.co.id/harga/samsung-galaxy-s21-ultra-5g-128gb-12gb-phantom-silver/\n"
     ]
    },
    {
     "name": "stderr",
     "output_type": "stream",
     "text": [
      "\r",
      " 28%|█████████████████████▎                                                     | 134/471 [2:17:45<9:39:25, 103.16s/it]"
     ]
    },
    {
     "name": "stdout",
     "output_type": "stream",
     "text": [
      "https://iprice.co.id/harga/apple-iphone-13-512gb-hijau/\n"
     ]
    },
    {
     "name": "stderr",
     "output_type": "stream",
     "text": [
      "\r",
      " 29%|█████████████████████▊                                                      | 135/471 [2:18:57<8:46:13, 93.97s/it]"
     ]
    },
    {
     "name": "stdout",
     "output_type": "stream",
     "text": [
      "https://iprice.co.id/harga/poco-f5-256gb-8gb-putih/\n"
     ]
    },
    {
     "name": "stderr",
     "output_type": "stream",
     "text": [
      "\r",
      " 29%|█████████████████████▉                                                      | 136/471 [2:20:09<8:07:52, 87.38s/it]"
     ]
    },
    {
     "name": "stdout",
     "output_type": "stream",
     "text": [
      "https://iprice.co.id/harga/poco-f5-256gb-8gb-putih/\n"
     ]
    },
    {
     "name": "stderr",
     "output_type": "stream",
     "text": [
      "\r",
      " 29%|█████████████████████▌                                                    | 137/471 [2:23:19<10:57:23, 118.09s/it]"
     ]
    },
    {
     "name": "stdout",
     "output_type": "stream",
     "text": [
      "https://iprice.co.id/harga/samsung-galaxy-s22-ultra-256gb-12gb-phantom-white/\n"
     ]
    },
    {
     "name": "stderr",
     "output_type": "stream",
     "text": [
      "\r",
      " 29%|█████████████████████▋                                                    | 138/471 [2:24:59<10:25:37, 112.72s/it]"
     ]
    },
    {
     "name": "stdout",
     "output_type": "stream",
     "text": [
      "https://iprice.co.id/harga/oppo-f5-64gb-hitam/\n"
     ]
    },
    {
     "name": "stderr",
     "output_type": "stream",
     "text": [
      "\r",
      " 30%|██████████████████████▏                                                    | 139/471 [2:26:31<9:49:09, 106.47s/it]"
     ]
    },
    {
     "name": "stdout",
     "output_type": "stream",
     "text": [
      "https://iprice.co.id/harga/samsung-galaxy-s21-fe-5g-128gb-olive/\n"
     ]
    },
    {
     "name": "stderr",
     "output_type": "stream",
     "text": [
      "\r",
      " 30%|██████████████████████▌                                                     | 140/471 [2:27:44<8:52:22, 96.50s/it]"
     ]
    },
    {
     "name": "stdout",
     "output_type": "stream",
     "text": [
      "https://iprice.co.id/harga/realme-8i-128gb-6gb-space-black/\n"
     ]
    },
    {
     "name": "stderr",
     "output_type": "stream",
     "text": [
      "\r",
      " 30%|██████████████████████▍                                                    | 141/471 [2:29:35<9:13:33, 100.65s/it]"
     ]
    },
    {
     "name": "stdout",
     "output_type": "stream",
     "text": [
      "https://iprice.co.id/harga/apple-iphone-12-pro-128gb-graphite/\n"
     ]
    },
    {
     "name": "stderr",
     "output_type": "stream",
     "text": [
      "\r",
      " 30%|██████████████████████▉                                                     | 142/471 [2:30:17<7:34:57, 82.97s/it]"
     ]
    },
    {
     "name": "stdout",
     "output_type": "stream",
     "text": [
      "https://iprice.co.id/harga/apple-iphone-11-256gb-hijau/\n"
     ]
    },
    {
     "name": "stderr",
     "output_type": "stream",
     "text": [
      "\r",
      " 30%|██████████████████████▊                                                    | 143/471 [2:32:43<9:17:56, 102.06s/it]"
     ]
    },
    {
     "name": "stdout",
     "output_type": "stream",
     "text": [
      "https://iprice.co.id/harga/apple-iphone-13-mini-128gb-pink/\n"
     ]
    },
    {
     "name": "stderr",
     "output_type": "stream",
     "text": [
      "\r",
      " 31%|███████████████████████▏                                                    | 144/471 [2:34:15<9:00:11, 99.12s/it]"
     ]
    },
    {
     "name": "stdout",
     "output_type": "stream",
     "text": [
      "https://iprice.co.id/harga/samsung-galaxy-z-flip3-5g-256gb-phantom-black/\n"
     ]
    },
    {
     "name": "stderr",
     "output_type": "stream",
     "text": [
      "\r",
      " 31%|███████████████████████▍                                                    | 145/471 [2:34:41<6:59:15, 77.17s/it]"
     ]
    },
    {
     "name": "stdout",
     "output_type": "stream",
     "text": [
      "Failedhttps://iprice.co.id/harga/vivo-y15s-2021-32gb-wave-green/\n"
     ]
    },
    {
     "name": "stderr",
     "output_type": "stream",
     "text": [
      "\r",
      " 31%|███████████████████████▌                                                    | 146/471 [2:36:30<7:48:30, 86.50s/it]"
     ]
    },
    {
     "name": "stdout",
     "output_type": "stream",
     "text": [
      "https://iprice.co.id/harga/apple-iphone-11-pro-max-64gb-perak/\n"
     ]
    },
    {
     "name": "stderr",
     "output_type": "stream",
     "text": [
      "\r",
      " 31%|███████████████████████                                                   | 147/471 [2:39:39<10:33:13, 117.26s/it]"
     ]
    },
    {
     "name": "stdout",
     "output_type": "stream",
     "text": [
      "https://iprice.co.id/harga/samsung-galaxy-s22-ultra-256gb-12gb-phantom-white/\n"
     ]
    },
    {
     "name": "stderr",
     "output_type": "stream",
     "text": [
      "\r",
      " 31%|███████████████████████▎                                                  | 148/471 [2:42:48<12:27:46, 138.91s/it]"
     ]
    },
    {
     "name": "stdout",
     "output_type": "stream",
     "text": [
      "https://iprice.co.id/harga/samsung-galaxy-s22-ultra-256gb-12gb-phantom-white/\n"
     ]
    },
    {
     "name": "stderr",
     "output_type": "stream",
     "text": [
      "\r",
      " 32%|███████████████████████▍                                                  | 149/471 [2:43:43<10:10:16, 113.71s/it]"
     ]
    },
    {
     "name": "stdout",
     "output_type": "stream",
     "text": [
      "https://iprice.co.id/harga/apple-iphone-13-pro-512gb-emas/\n"
     ]
    },
    {
     "name": "stderr",
     "output_type": "stream",
     "text": [
      "\r",
      " 32%|███████████████████████▌                                                  | 150/471 [2:45:44<10:20:32, 115.99s/it]"
     ]
    },
    {
     "name": "stdout",
     "output_type": "stream",
     "text": [
      "https://iprice.co.id/harga/apple-iphone-14-256gb-starlight/\n"
     ]
    },
    {
     "name": "stderr",
     "output_type": "stream",
     "text": [
      "\r",
      " 32%|████████████████████████                                                   | 151/471 [2:46:58<9:10:28, 103.21s/it]"
     ]
    },
    {
     "name": "stdout",
     "output_type": "stream",
     "text": [
      "https://iprice.co.id/harga/realme-c31-64gb-4gb-dark-green/\n"
     ]
    },
    {
     "name": "stderr",
     "output_type": "stream",
     "text": [
      "\r",
      " 32%|████████████████████████▏                                                  | 152/471 [2:48:49<9:22:10, 105.74s/it]"
     ]
    },
    {
     "name": "stdout",
     "output_type": "stream",
     "text": [
      "https://iprice.co.id/harga/samsung-galaxy-z-flip4-512gb-graphite/\n"
     ]
    },
    {
     "name": "stderr",
     "output_type": "stream",
     "text": [
      "\r",
      " 32%|████████████████████████▋                                                   | 153/471 [2:49:26<7:31:22, 85.17s/it]"
     ]
    },
    {
     "name": "stdout",
     "output_type": "stream",
     "text": [
      "https://iprice.co.id/harga/oppo-reno8-pro-glazed-green/\n"
     ]
    },
    {
     "name": "stderr",
     "output_type": "stream",
     "text": [
      "\r",
      " 33%|████████████████████████▊                                                   | 154/471 [2:49:53<5:56:31, 67.48s/it]"
     ]
    },
    {
     "name": "stdout",
     "output_type": "stream",
     "text": [
      "Failedhttps://iprice.co.id/harga/oppo-a9-2020-128gb-8gb-vanilla-mint/\n"
     ]
    },
    {
     "name": "stderr",
     "output_type": "stream",
     "text": [
      "\r",
      " 33%|█████████████████████████                                                   | 155/471 [2:51:21<6:28:37, 73.79s/it]"
     ]
    },
    {
     "name": "stdout",
     "output_type": "stream",
     "text": [
      "https://iprice.co.id/harga/oppo-a9-2020-128gb-8gb-space-purple/\n"
     ]
    },
    {
     "name": "stderr",
     "output_type": "stream",
     "text": [
      "\r",
      " 33%|█████████████████████████▏                                                  | 156/471 [2:53:00<7:06:46, 81.29s/it]"
     ]
    },
    {
     "name": "stdout",
     "output_type": "stream",
     "text": [
      "https://iprice.co.id/harga/xiaomi-redmi-10-5g-128gb-6gb-graphite-gray/\n"
     ]
    },
    {
     "name": "stderr",
     "output_type": "stream",
     "text": [
      "\r",
      " 33%|█████████████████████████▎                                                  | 157/471 [2:53:32<5:47:30, 66.40s/it]"
     ]
    },
    {
     "name": "stdout",
     "output_type": "stream",
     "text": [
      "https://iprice.co.id/harga/apple-iphone-12-pro-max-128gb-graphite/\n"
     ]
    },
    {
     "name": "stderr",
     "output_type": "stream",
     "text": [
      "\r",
      " 34%|█████████████████████████▍                                                  | 158/471 [2:55:03<6:25:32, 73.90s/it]"
     ]
    },
    {
     "name": "stdout",
     "output_type": "stream",
     "text": [
      "https://iprice.co.id/harga/vivo-y16-32gb-3gb-drizzling-gold/\n"
     ]
    },
    {
     "name": "stderr",
     "output_type": "stream",
     "text": [
      "\r",
      " 34%|█████████████████████████▋                                                  | 159/471 [2:55:58<5:54:08, 68.10s/it]"
     ]
    },
    {
     "name": "stdout",
     "output_type": "stream",
     "text": [
      "https://iprice.co.id/harga/apple-iphone-13-pro-512gb-emas/\n"
     ]
    },
    {
     "name": "stderr",
     "output_type": "stream",
     "text": [
      "\r",
      " 34%|█████████████████████████▊                                                  | 160/471 [2:56:53<5:32:50, 64.21s/it]"
     ]
    },
    {
     "name": "stdout",
     "output_type": "stream",
     "text": [
      "https://iprice.co.id/harga/apple-iphone-13-pro-512gb-emas/\n"
     ]
    },
    {
     "name": "stderr",
     "output_type": "stream",
     "text": [
      "\r",
      " 34%|█████████████████████████▉                                                  | 161/471 [2:58:43<6:43:20, 78.06s/it]"
     ]
    },
    {
     "name": "stdout",
     "output_type": "stream",
     "text": [
      "https://iprice.co.id/harga/samsung-galaxy-a03-64gb-4gb-hitam/\n"
     ]
    },
    {
     "name": "stderr",
     "output_type": "stream",
     "text": [
      "\r",
      " 34%|██████████████████████████▏                                                 | 162/471 [2:59:01<5:09:18, 60.06s/it]"
     ]
    },
    {
     "name": "stdout",
     "output_type": "stream",
     "text": [
      "Failedhttps://iprice.co.id/harga/infinix-hot-12i-haze-green/\n"
     ]
    },
    {
     "name": "stderr",
     "output_type": "stream",
     "text": [
      "\r",
      " 35%|██████████████████████████▎                                                 | 163/471 [2:59:38<4:32:59, 53.18s/it]"
     ]
    },
    {
     "name": "stdout",
     "output_type": "stream",
     "text": [
      "https://iprice.co.id/harga/oppo-reno8-t-sunset-orange/\n"
     ]
    },
    {
     "name": "stderr",
     "output_type": "stream",
     "text": [
      "\r",
      " 35%|██████████████████████████▍                                                 | 164/471 [3:02:49<8:03:03, 94.41s/it]"
     ]
    },
    {
     "name": "stdout",
     "output_type": "stream",
     "text": [
      "https://iprice.co.id/harga/samsung-galaxy-s22-ultra-128gb-8gb-hijau/\n"
     ]
    },
    {
     "name": "stderr",
     "output_type": "stream",
     "text": [
      "\r",
      " 35%|██████████████████████████▌                                                 | 165/471 [3:04:21<7:58:28, 93.82s/it]"
     ]
    },
    {
     "name": "stdout",
     "output_type": "stream",
     "text": [
      "https://iprice.co.id/harga/samsung-galaxy-note10-plus-256gb-aura-black/\n"
     ]
    },
    {
     "name": "stderr",
     "output_type": "stream",
     "text": [
      "\r",
      " 35%|██████████████████████████▊                                                 | 166/471 [3:04:47<6:13:24, 73.46s/it]"
     ]
    },
    {
     "name": "stdout",
     "output_type": "stream",
     "text": [
      "Failedhttps://iprice.co.id/harga/itel-s23-128gb-8gb-mystery-white/\n"
     ]
    },
    {
     "name": "stderr",
     "output_type": "stream",
     "text": [
      "\r",
      " 35%|██████████████████████████▉                                                 | 167/471 [3:06:20<6:40:52, 79.12s/it]"
     ]
    },
    {
     "name": "stdout",
     "output_type": "stream",
     "text": [
      "https://iprice.co.id/harga/apple-iphone-se-2020-128gb-merah/\n"
     ]
    },
    {
     "name": "stderr",
     "output_type": "stream",
     "text": [
      "\r",
      " 36%|███████████████████████████                                                 | 168/471 [3:07:59<7:10:01, 85.15s/it]"
     ]
    },
    {
     "name": "stdout",
     "output_type": "stream",
     "text": [
      "https://iprice.co.id/harga/samsung-galaxy-a10s-2gb-hitam/\n"
     ]
    },
    {
     "name": "stderr",
     "output_type": "stream",
     "text": [
      "\r",
      " 36%|███████████████████████████▎                                                | 169/471 [3:09:29<7:16:16, 86.68s/it]"
     ]
    },
    {
     "name": "stdout",
     "output_type": "stream",
     "text": [
      "https://iprice.co.id/harga/infinix-smart-7-64gb-3gb-coastal-green/\n"
     ]
    },
    {
     "name": "stderr",
     "output_type": "stream",
     "text": [
      "\r",
      " 36%|███████████████████████████▍                                                | 170/471 [3:10:42<6:53:57, 82.52s/it]"
     ]
    },
    {
     "name": "stdout",
     "output_type": "stream",
     "text": [
      "https://iprice.co.id/harga/realme-narzo-50i-prime-64gb-4gb-dark-blue/\n"
     ]
    },
    {
     "name": "stderr",
     "output_type": "stream",
     "text": [
      "\r",
      " 36%|███████████████████████████▌                                                | 171/471 [3:12:31<7:33:02, 90.61s/it]"
     ]
    },
    {
     "name": "stdout",
     "output_type": "stream",
     "text": [
      "https://iprice.co.id/harga/samsung-galaxy-a03-64gb-4gb-hitam/\n"
     ]
    },
    {
     "name": "stderr",
     "output_type": "stream",
     "text": [
      "\r",
      " 37%|███████████████████████████▊                                                | 172/471 [3:14:21<7:59:33, 96.23s/it]"
     ]
    },
    {
     "name": "stdout",
     "output_type": "stream",
     "text": [
      "https://iprice.co.id/harga/samsung-galaxy-a03-64gb-4gb-hitam/\n"
     ]
    },
    {
     "name": "stderr",
     "output_type": "stream",
     "text": [
      "\r",
      " 37%|███████████████████████████▏                                              | 173/471 [3:17:30<10:16:56, 124.22s/it]"
     ]
    },
    {
     "name": "stdout",
     "output_type": "stream",
     "text": [
      "https://iprice.co.id/harga/samsung-galaxy-s22-ultra-128gb-8gb-burgundy/\n"
     ]
    },
    {
     "name": "stderr",
     "output_type": "stream",
     "text": [
      "\r",
      " 37%|████████████████████████████                                                | 174/471 [3:18:07<8:04:36, 97.90s/it]"
     ]
    },
    {
     "name": "stdout",
     "output_type": "stream",
     "text": [
      "https://iprice.co.id/harga/infinix-smart-6-plus-3gb-miracle-black/\n"
     ]
    },
    {
     "name": "stderr",
     "output_type": "stream",
     "text": [
      "\r",
      " 37%|████████████████████████████▏                                               | 175/471 [3:18:33<6:16:47, 76.38s/it]"
     ]
    },
    {
     "name": "stdout",
     "output_type": "stream",
     "text": [
      "Failedhttps://iprice.co.id/harga/samsung-galaxy-s23-256gb-green/\n"
     ]
    },
    {
     "name": "stderr",
     "output_type": "stream",
     "text": [
      "\r",
      " 37%|████████████████████████████▍                                               | 176/471 [3:19:46<6:10:29, 75.36s/it]"
     ]
    },
    {
     "name": "stdout",
     "output_type": "stream",
     "text": [
      "https://iprice.co.id/harga/samsung-galaxy-m33-5g-8gb-coklat/\n"
     ]
    },
    {
     "name": "stderr",
     "output_type": "stream",
     "text": [
      "\r",
      " 38%|████████████████████████████▌                                               | 177/471 [3:21:25<6:44:05, 82.47s/it]"
     ]
    },
    {
     "name": "stdout",
     "output_type": "stream",
     "text": [
      "https://iprice.co.id/harga/vivo-y22-2022-128gb-6gb-summer-cyan/\n"
     ]
    },
    {
     "name": "stderr",
     "output_type": "stream",
     "text": [
      "\r",
      " 38%|████████████████████████████▋                                               | 178/471 [3:22:08<5:44:50, 70.62s/it]"
     ]
    },
    {
     "name": "stdout",
     "output_type": "stream",
     "text": [
      "https://iprice.co.id/harga/apple-iphone-12-256gb-putih/\n"
     ]
    },
    {
     "name": "stderr",
     "output_type": "stream",
     "text": [
      "\r",
      " 38%|████████████████████████████▉                                               | 179/471 [3:23:29<5:58:21, 73.63s/it]"
     ]
    },
    {
     "name": "stdout",
     "output_type": "stream",
     "text": [
      "https://iprice.co.id/harga/tecno-pova-4-128gb-lava-orange/\n"
     ]
    },
    {
     "name": "stderr",
     "output_type": "stream",
     "text": [
      "\r",
      " 38%|█████████████████████████████                                               | 180/471 [3:25:00<6:22:21, 78.84s/it]"
     ]
    },
    {
     "name": "stdout",
     "output_type": "stream",
     "text": [
      "https://iprice.co.id/harga/poco-x5-5g-256gb-8gb-hijau/\n"
     ]
    },
    {
     "name": "stderr",
     "output_type": "stream",
     "text": [
      "\r",
      " 38%|█████████████████████████████▏                                              | 181/471 [3:26:39<6:50:56, 85.02s/it]"
     ]
    },
    {
     "name": "stdout",
     "output_type": "stream",
     "text": [
      "https://iprice.co.id/harga/oppo-a31-2020-128gb-4gb-lake-green/\n"
     ]
    },
    {
     "name": "stderr",
     "output_type": "stream",
     "text": [
      "\r",
      " 39%|████████████████████████████▉                                              | 182/471 [3:29:07<8:19:59, 103.80s/it]"
     ]
    },
    {
     "name": "stdout",
     "output_type": "stream",
     "text": [
      "https://iprice.co.id/harga/apple-iphone-14-plus-128gb-purple/\n"
     ]
    },
    {
     "name": "stderr",
     "output_type": "stream",
     "text": [
      "\r",
      " 39%|████████████████████████████▊                                             | 183/471 [3:32:16<10:21:34, 129.49s/it]"
     ]
    },
    {
     "name": "stdout",
     "output_type": "stream",
     "text": [
      "https://iprice.co.id/harga/samsung-galaxy-s22-ultra-128gb-8gb-burgundy/\n"
     ]
    },
    {
     "name": "stderr",
     "output_type": "stream",
     "text": [
      "\r",
      " 39%|████████████████████████████▉                                             | 184/471 [3:35:26<11:45:24, 147.47s/it]"
     ]
    },
    {
     "name": "stdout",
     "output_type": "stream",
     "text": [
      "https://iprice.co.id/harga/samsung-galaxy-s22-ultra-128gb-8gb-burgundy/\n"
     ]
    },
    {
     "name": "stderr",
     "output_type": "stream",
     "text": [
      "\r",
      " 39%|█████████████████████████████                                             | 185/471 [3:36:56<10:20:49, 130.24s/it]"
     ]
    },
    {
     "name": "stdout",
     "output_type": "stream",
     "text": [
      "https://iprice.co.id/harga/infinix-smart-7-64gb-3gb-polar-black/\n"
     ]
    },
    {
     "name": "stderr",
     "output_type": "stream",
     "text": [
      "\r",
      " 39%|█████████████████████████████▌                                             | 186/471 [3:38:46<9:49:58, 124.21s/it]"
     ]
    },
    {
     "name": "stdout",
     "output_type": "stream",
     "text": [
      "https://iprice.co.id/harga/samsung-galaxy-a33-5g-128gb-8gb-awesome-blue/\n"
     ]
    },
    {
     "name": "stderr",
     "output_type": "stream",
     "text": [
      "\r",
      " 40%|█████████████████████████████▊                                             | 187/471 [3:40:07<8:46:27, 111.22s/it]"
     ]
    },
    {
     "name": "stdout",
     "output_type": "stream",
     "text": [
      "https://iprice.co.id/harga/nothing-phone-1-256gb-8gb-hitam/\n"
     ]
    },
    {
     "name": "stderr",
     "output_type": "stream",
     "text": [
      "\r",
      " 40%|█████████████████████████████▉                                             | 188/471 [3:41:56<8:42:12, 110.72s/it]"
     ]
    },
    {
     "name": "stdout",
     "output_type": "stream",
     "text": [
      "https://iprice.co.id/harga/samsung-galaxy-a33-5g-256gb-8gb-awesome-white/\n"
     ]
    },
    {
     "name": "stderr",
     "output_type": "stream",
     "text": [
      "\r",
      " 40%|█████████████████████████████▋                                            | 189/471 [3:44:50<10:09:41, 129.72s/it]"
     ]
    },
    {
     "name": "stdout",
     "output_type": "stream",
     "text": [
      "https://iprice.co.id/harga/samsung-galaxy-s23-256gb-lavender/\n"
     ]
    },
    {
     "name": "stderr",
     "output_type": "stream",
     "text": [
      "\r",
      " 40%|██████████████████████████████▎                                            | 190/471 [3:46:22<9:14:32, 118.41s/it]"
     ]
    },
    {
     "name": "stdout",
     "output_type": "stream",
     "text": [
      "https://iprice.co.id/harga/samsung-galaxy-a53-5g-128gb-awesome-peach/\n"
     ]
    },
    {
     "name": "stderr",
     "output_type": "stream",
     "text": [
      "\r",
      " 41%|██████████████████████████████▍                                            | 191/471 [3:48:35<9:33:03, 122.80s/it]"
     ]
    },
    {
     "name": "stdout",
     "output_type": "stream",
     "text": [
      "https://iprice.co.id/harga/samsung-galaxy-a30-64gb-4gb-hitam/\n"
     ]
    },
    {
     "name": "stderr",
     "output_type": "stream",
     "text": [
      "\r",
      " 41%|██████████████████████████████▌                                            | 192/471 [3:50:06<8:46:31, 113.23s/it]"
     ]
    },
    {
     "name": "stdout",
     "output_type": "stream",
     "text": [
      "https://iprice.co.id/harga/xiaomi-redmi-note-12-128gb-6gb-mint-green/\n"
     ]
    },
    {
     "name": "stderr",
     "output_type": "stream",
     "text": [
      "\r",
      " 41%|██████████████████████████████▋                                            | 193/471 [3:52:03<8:49:10, 114.21s/it]"
     ]
    },
    {
     "name": "stdout",
     "output_type": "stream",
     "text": [
      "https://iprice.co.id/harga/realme-c30-32gb-2gb-lake-blue/\n"
     ]
    },
    {
     "name": "stderr",
     "output_type": "stream",
     "text": [
      "\r",
      " 41%|██████████████████████████████▉                                            | 194/471 [3:54:30<9:33:20, 124.19s/it]"
     ]
    },
    {
     "name": "stdout",
     "output_type": "stream",
     "text": [
      "https://iprice.co.id/harga/apple-iphone-13-mini-256gb-midnight/\n"
     ]
    },
    {
     "name": "stderr",
     "output_type": "stream",
     "text": [
      "\r",
      " 41%|███████████████████████████████                                            | 195/471 [3:56:00<8:43:26, 113.79s/it]"
     ]
    },
    {
     "name": "stdout",
     "output_type": "stream",
     "text": [
      "https://iprice.co.id/harga/infinix-smart-7-64gb-3gb-polar-black/\n"
     ]
    },
    {
     "name": "stderr",
     "output_type": "stream",
     "text": [
      "\r",
      " 42%|███████████████████████████████▏                                           | 196/471 [3:57:31<8:10:40, 107.06s/it]"
     ]
    },
    {
     "name": "stdout",
     "output_type": "stream",
     "text": [
      "https://iprice.co.id/harga/infinix-smart-7-64gb-3gb-polar-black/\n"
     ]
    },
    {
     "name": "stderr",
     "output_type": "stream",
     "text": [
      "\r",
      " 42%|███████████████████████████████▎                                           | 197/471 [3:59:57<9:02:07, 118.71s/it]"
     ]
    },
    {
     "name": "stdout",
     "output_type": "stream",
     "text": [
      "https://iprice.co.id/harga/apple-iphone-7-plus-32gb-matte-black/\n"
     ]
    },
    {
     "name": "stderr",
     "output_type": "stream",
     "text": [
      "\r",
      " 42%|███████████████████████████████▌                                           | 198/471 [4:02:23<9:38:02, 127.04s/it]"
     ]
    },
    {
     "name": "stdout",
     "output_type": "stream",
     "text": [
      "https://iprice.co.id/harga/apple-iphone-14-plus-512gb-midnight/\n"
     ]
    },
    {
     "name": "stderr",
     "output_type": "stream",
     "text": [
      "\r",
      " 42%|███████████████████████████████▋                                           | 199/471 [4:04:10<9:07:40, 120.81s/it]"
     ]
    },
    {
     "name": "stdout",
     "output_type": "stream",
     "text": [
      "https://iprice.co.id/harga/realme-10-pro-128gb-8gb-dark-matter/\n"
     ]
    },
    {
     "name": "stderr",
     "output_type": "stream",
     "text": [
      "\r",
      " 42%|███████████████████████████████▊                                           | 200/471 [4:05:41<8:25:18, 111.88s/it]"
     ]
    },
    {
     "name": "stdout",
     "output_type": "stream",
     "text": [
      "https://iprice.co.id/harga/samsung-galaxy-a04-32gb-3gb-deep-green/\n"
     ]
    },
    {
     "name": "stderr",
     "output_type": "stream",
     "text": [
      "\r",
      " 43%|████████████████████████████████                                           | 201/471 [4:07:12<7:55:08, 105.59s/it]"
     ]
    },
    {
     "name": "stdout",
     "output_type": "stream",
     "text": [
      "https://iprice.co.id/harga/vivo-y22-2022-128gb-6gb-metaverse-green/\n"
     ]
    },
    {
     "name": "stderr",
     "output_type": "stream",
     "text": [
      "\r",
      " 43%|████████████████████████████████▌                                           | 202/471 [4:08:36<7:24:12, 99.08s/it]"
     ]
    },
    {
     "name": "stdout",
     "output_type": "stream",
     "text": [
      "https://iprice.co.id/harga/oppo-a53-128gb-6gb-electric-black/\n"
     ]
    },
    {
     "name": "stderr",
     "output_type": "stream",
     "text": [
      "\r",
      " 43%|████████████████████████████████▊                                           | 203/471 [4:10:07<7:12:43, 96.88s/it]"
     ]
    },
    {
     "name": "stdout",
     "output_type": "stream",
     "text": [
      "https://iprice.co.id/harga/xiaomi-poco-x3-pro-128gb-6gb-metal-bronze/\n"
     ]
    },
    {
     "name": "stderr",
     "output_type": "stream",
     "text": [
      "\r",
      " 43%|████████████████████████████████▉                                           | 204/471 [4:10:33<5:36:31, 75.63s/it]"
     ]
    },
    {
     "name": "stdout",
     "output_type": "stream",
     "text": [
      "Failedhttps://iprice.co.id/harga/infinix-hot-20-5g-128gb-4gb-racing-black/\n"
     ]
    },
    {
     "name": "stderr",
     "output_type": "stream",
     "text": [
      "\r",
      " 44%|█████████████████████████████████                                           | 205/471 [4:12:26<6:24:43, 86.78s/it]"
     ]
    },
    {
     "name": "stdout",
     "output_type": "stream",
     "text": [
      "https://iprice.co.id/harga/asus-rog-phone-3-256gb-12gb/\n"
     ]
    },
    {
     "name": "stderr",
     "output_type": "stream",
     "text": [
      "\r",
      " 44%|█████████████████████████████████▏                                          | 206/471 [4:13:32<5:55:36, 80.51s/it]"
     ]
    },
    {
     "name": "stdout",
     "output_type": "stream",
     "text": [
      "https://iprice.co.id/harga/xiaomi-poco-f3-256gb-8gb-night-black/\n"
     ]
    },
    {
     "name": "stderr",
     "output_type": "stream",
     "text": [
      "\r",
      " 44%|█████████████████████████████████▍                                          | 207/471 [4:15:57<7:18:53, 99.75s/it]"
     ]
    },
    {
     "name": "stdout",
     "output_type": "stream",
     "text": [
      "https://iprice.co.id/harga/apple-iphone-7-plus-32gb-matte-black/\n"
     ]
    },
    {
     "name": "stderr",
     "output_type": "stream",
     "text": [
      "\r",
      " 44%|█████████████████████████████████                                          | 208/471 [4:18:20<8:14:55, 112.91s/it]"
     ]
    },
    {
     "name": "stdout",
     "output_type": "stream",
     "text": [
      "https://iprice.co.id/harga/apple-iphone-7-plus-32gb-matte-black/\n"
     ]
    },
    {
     "name": "stderr",
     "output_type": "stream",
     "text": [
      "\r",
      " 44%|█████████████████████████████████▎                                         | 209/471 [4:19:50<7:42:52, 106.00s/it]"
     ]
    },
    {
     "name": "stdout",
     "output_type": "stream",
     "text": [
      "https://iprice.co.id/harga/vivo-v25-5g-256gb-8gb-diamond-black/\n"
     ]
    },
    {
     "name": "stderr",
     "output_type": "stream",
     "text": [
      "\r",
      " 45%|█████████████████████████████████▉                                          | 210/471 [4:20:16<5:55:53, 81.81s/it]"
     ]
    },
    {
     "name": "stdout",
     "output_type": "stream",
     "text": [
      "Failedhttps://iprice.co.id/harga/iqoo-11-pro/\n"
     ]
    },
    {
     "name": "stderr",
     "output_type": "stream",
     "text": [
      "\r",
      " 45%|██████████████████████████████████                                          | 211/471 [4:21:09<5:18:16, 73.45s/it]"
     ]
    },
    {
     "name": "stdout",
     "output_type": "stream",
     "text": [
      "https://iprice.co.id/harga/apple-iphone-xr-256gb-kuning/\n"
     ]
    },
    {
     "name": "stderr",
     "output_type": "stream",
     "text": [
      "\r",
      " 45%|██████████████████████████████████▏                                         | 212/471 [4:22:47<5:47:58, 80.61s/it]"
     ]
    },
    {
     "name": "stdout",
     "output_type": "stream",
     "text": [
      "https://iprice.co.id/harga/oppo-a53-128gb-4gb-mint-cream/\n"
     ]
    },
    {
     "name": "stderr",
     "output_type": "stream",
     "text": [
      "\r",
      " 45%|██████████████████████████████████▎                                         | 213/471 [4:25:12<7:09:50, 99.96s/it]"
     ]
    },
    {
     "name": "stdout",
     "output_type": "stream",
     "text": [
      "https://iprice.co.id/harga/apple-iphone-14-plus-512gb-purple/\n"
     ]
    },
    {
     "name": "stderr",
     "output_type": "stream",
     "text": [
      "\r",
      " 45%|██████████████████████████████████▌                                         | 214/471 [4:25:49<5:47:32, 81.14s/it]"
     ]
    },
    {
     "name": "stdout",
     "output_type": "stream",
     "text": [
      "https://iprice.co.id/harga/vivo-y21a-64gb-4gb-diamond-glow/\n"
     ]
    },
    {
     "name": "stderr",
     "output_type": "stream",
     "text": [
      "\r",
      " 46%|██████████████████████████████████▋                                         | 215/471 [4:26:26<4:49:50, 67.93s/it]"
     ]
    },
    {
     "name": "stdout",
     "output_type": "stream",
     "text": [
      "https://iprice.co.id/harga/oppo-reno6-aurora/\n"
     ]
    },
    {
     "name": "stderr",
     "output_type": "stream",
     "text": [
      "\r",
      " 46%|██████████████████████████████████▊                                         | 216/471 [4:27:47<5:05:12, 71.81s/it]"
     ]
    },
    {
     "name": "stdout",
     "output_type": "stream",
     "text": [
      "https://iprice.co.id/harga/poco-m5s-64gb-4gb-biru/\n"
     ]
    },
    {
     "name": "stderr",
     "output_type": "stream",
     "text": [
      "\r",
      " 46%|███████████████████████████████████                                         | 217/471 [4:28:39<4:38:59, 65.90s/it]"
     ]
    },
    {
     "name": "stdout",
     "output_type": "stream",
     "text": [
      "https://iprice.co.id/harga/apple-iphone-12-pro-max-128gb-perak/\n"
     ]
    },
    {
     "name": "stderr",
     "output_type": "stream",
     "text": [
      "\r",
      " 46%|███████████████████████████████████▏                                        | 218/471 [4:29:53<4:48:13, 68.35s/it]"
     ]
    },
    {
     "name": "stdout",
     "output_type": "stream",
     "text": [
      "https://iprice.co.id/harga/oppo-a15-3gb-mystery-blue/\n"
     ]
    },
    {
     "name": "stderr",
     "output_type": "stream",
     "text": [
      "\r",
      " 46%|███████████████████████████████████▎                                        | 219/471 [4:31:21<5:11:01, 74.05s/it]"
     ]
    },
    {
     "name": "stdout",
     "output_type": "stream",
     "text": [
      "https://iprice.co.id/harga/vivo-v25-5g-256gb-8gb-diamond-black/\n"
     ]
    },
    {
     "name": "stderr",
     "output_type": "stream",
     "text": [
      "\r",
      " 47%|███████████████████████████████████▍                                        | 220/471 [4:32:49<5:27:14, 78.22s/it]"
     ]
    },
    {
     "name": "stdout",
     "output_type": "stream",
     "text": [
      "https://iprice.co.id/harga/vivo-v25-5g-256gb-8gb-diamond-black/\n"
     ]
    },
    {
     "name": "stderr",
     "output_type": "stream",
     "text": [
      "\r",
      " 47%|███████████████████████████████████▏                                       | 221/471 [4:35:55<7:41:39, 110.80s/it]"
     ]
    },
    {
     "name": "stdout",
     "output_type": "stream",
     "text": [
      "https://iprice.co.id/harga/samsung-galaxy-s21-ultra-5g-512gb-16gb-phantom-black/\n"
     ]
    },
    {
     "name": "stderr",
     "output_type": "stream",
     "text": [
      "\r",
      " 47%|███████████████████████████████████▊                                        | 222/471 [4:37:08<6:52:07, 99.31s/it]"
     ]
    },
    {
     "name": "stdout",
     "output_type": "stream",
     "text": [
      "https://iprice.co.id/harga/samsung-galaxy-a03-core-copper/\n"
     ]
    },
    {
     "name": "stderr",
     "output_type": "stream",
     "text": [
      "\r",
      " 47%|███████████████████████████████████▉                                        | 223/471 [4:37:26<5:09:44, 74.94s/it]"
     ]
    },
    {
     "name": "stdout",
     "output_type": "stream",
     "text": [
      "Failedhttps://iprice.co.id/harga/vivo-v23-5g-stardust-black/\n"
     ]
    },
    {
     "name": "stderr",
     "output_type": "stream",
     "text": [
      "\r",
      " 48%|████████████████████████████████████▏                                       | 224/471 [4:39:51<6:35:33, 96.09s/it]"
     ]
    },
    {
     "name": "stdout",
     "output_type": "stream",
     "text": [
      "https://iprice.co.id/harga/apple-iphone-7-128gb-red/\n"
     ]
    },
    {
     "name": "stderr",
     "output_type": "stream",
     "text": [
      "\r",
      " 48%|███████████████████████████████████▊                                       | 225/471 [4:42:08<7:23:44, 108.23s/it]"
     ]
    },
    {
     "name": "stdout",
     "output_type": "stream",
     "text": [
      "https://iprice.co.id/harga/xiaomi-redmi-6a-16gb-2gb-hitam/\n"
     ]
    },
    {
     "name": "stderr",
     "output_type": "stream",
     "text": [
      "\r",
      " 48%|███████████████████████████████████▉                                       | 226/471 [4:44:22<7:53:12, 115.89s/it]"
     ]
    },
    {
     "name": "stdout",
     "output_type": "stream",
     "text": [
      "https://iprice.co.id/harga/apple-iphone-14-512gb-red/\n"
     ]
    },
    {
     "name": "stderr",
     "output_type": "stream",
     "text": [
      "\r",
      " 48%|████████████████████████████████████▏                                      | 227/471 [4:46:01<7:30:49, 110.86s/it]"
     ]
    },
    {
     "name": "stdout",
     "output_type": "stream",
     "text": [
      "https://iprice.co.id/harga/samsung-galaxy-a73-5g-256gb-8gb-awesome-white/\n"
     ]
    },
    {
     "name": "stderr",
     "output_type": "stream",
     "text": [
      "\r",
      " 48%|████████████████████████████████████▎                                      | 228/471 [4:47:34<7:07:34, 105.58s/it]"
     ]
    },
    {
     "name": "stdout",
     "output_type": "stream",
     "text": [
      "https://iprice.co.id/harga/samsung-galaxy-a12-4gb-putih/\n"
     ]
    },
    {
     "name": "stderr",
     "output_type": "stream",
     "text": [
      "\r",
      " 49%|████████████████████████████████████▍                                      | 229/471 [4:49:05<6:48:26, 101.27s/it]"
     ]
    },
    {
     "name": "stdout",
     "output_type": "stream",
     "text": [
      "https://iprice.co.id/harga/apple-iphone-se-2020-64gb-hitam/\n"
     ]
    },
    {
     "name": "stderr",
     "output_type": "stream",
     "text": [
      "\r",
      " 49%|████████████████████████████████████▌                                      | 230/471 [4:51:30<7:39:10, 114.32s/it]"
     ]
    },
    {
     "name": "stdout",
     "output_type": "stream",
     "text": [
      "https://iprice.co.id/harga/apple-iphone-7-32gb-matte-black/\n"
     ]
    },
    {
     "name": "stderr",
     "output_type": "stream",
     "text": [
      "\r",
      " 49%|████████████████████████████████████▊                                      | 231/471 [4:54:35<9:02:27, 135.61s/it]"
     ]
    },
    {
     "name": "stdout",
     "output_type": "stream",
     "text": [
      "https://iprice.co.id/harga/samsung-galaxy-s21-ultra-5g-512gb-16gb-phantom-black/\n"
     ]
    },
    {
     "name": "stderr",
     "output_type": "stream",
     "text": [
      "\r",
      " 49%|████████████████████████████████████▍                                     | 232/471 [4:57:41<10:00:25, 150.73s/it]"
     ]
    },
    {
     "name": "stdout",
     "output_type": "stream",
     "text": [
      "https://iprice.co.id/harga/samsung-galaxy-s21-ultra-5g-512gb-16gb-phantom-black/\n"
     ]
    },
    {
     "name": "stderr",
     "output_type": "stream",
     "text": [
      "\r",
      " 49%|█████████████████████████████████████                                      | 233/471 [4:58:44<8:12:39, 124.20s/it]"
     ]
    },
    {
     "name": "stdout",
     "output_type": "stream",
     "text": [
      "https://iprice.co.id/harga/oppo-reno8-z-5g-256gb-starlight-black/\n"
     ]
    },
    {
     "name": "stderr",
     "output_type": "stream",
     "text": [
      "\r",
      " 50%|█████████████████████████████████████▎                                     | 234/471 [4:59:57<7:10:22, 108.96s/it]"
     ]
    },
    {
     "name": "stdout",
     "output_type": "stream",
     "text": [
      "https://iprice.co.id/harga/xiaomi-redmi-10c-64gb-graphite-gray/\n"
     ]
    },
    {
     "name": "stderr",
     "output_type": "stream",
     "text": [
      "\r",
      " 50%|█████████████████████████████████████▍                                     | 235/471 [5:02:39<8:10:44, 124.77s/it]"
     ]
    },
    {
     "name": "stdout",
     "output_type": "stream",
     "text": [
      "https://iprice.co.id/harga/samsung-galaxy-s20-fe-256gb-8gb-cloud-lavender/\n"
     ]
    },
    {
     "name": "stderr",
     "output_type": "stream",
     "text": [
      "\r",
      " 50%|█████████████████████████████████████▌                                     | 236/471 [5:04:12<7:31:30, 115.28s/it]"
     ]
    },
    {
     "name": "stdout",
     "output_type": "stream",
     "text": [
      "https://iprice.co.id/harga/vivo-y30-128gb-4gb-emerald-black/\n"
     ]
    },
    {
     "name": "stderr",
     "output_type": "stream",
     "text": [
      "\r",
      " 50%|█████████████████████████████████████▋                                     | 237/471 [5:05:52<7:11:44, 110.70s/it]"
     ]
    },
    {
     "name": "stdout",
     "output_type": "stream",
     "text": [
      "https://iprice.co.id/harga/realme-c15-64gb-4gb-marine-blue/\n"
     ]
    },
    {
     "name": "stderr",
     "output_type": "stream",
     "text": [
      "\r",
      " 51%|██████████████████████████████████████▍                                     | 238/471 [5:07:06<6:27:07, 99.69s/it]"
     ]
    },
    {
     "name": "stdout",
     "output_type": "stream",
     "text": [
      "https://iprice.co.id/harga/xiaomi-poco-m3-128gb-power-black/\n"
     ]
    },
    {
     "name": "stderr",
     "output_type": "stream",
     "text": [
      "\r",
      " 51%|██████████████████████████████████████▌                                     | 239/471 [5:08:01<5:34:03, 86.39s/it]"
     ]
    },
    {
     "name": "stdout",
     "output_type": "stream",
     "text": [
      "https://iprice.co.id/harga/xiaomi-12-lite-256gb-8gb-lite-green/\n"
     ]
    },
    {
     "name": "stderr",
     "output_type": "stream",
     "text": [
      "\r",
      " 51%|██████████████████████████████████████▋                                     | 240/471 [5:09:40<5:47:05, 90.15s/it]"
     ]
    },
    {
     "name": "stdout",
     "output_type": "stream",
     "text": [
      "https://iprice.co.id/harga/samsung-galaxy-s21-plus-5g-256gb-phantom-violet/\n"
     ]
    },
    {
     "name": "stderr",
     "output_type": "stream",
     "text": [
      "\r",
      " 51%|██████████████████████████████████████▉                                     | 241/471 [5:11:35<6:14:03, 97.58s/it]"
     ]
    },
    {
     "name": "stdout",
     "output_type": "stream",
     "text": [
      "https://iprice.co.id/harga/realme-c17-256gb-6gb-navy-blue/\n"
     ]
    },
    {
     "name": "stderr",
     "output_type": "stream",
     "text": [
      "\r",
      " 51%|███████████████████████████████████████                                     | 242/471 [5:13:05<6:04:03, 95.39s/it]"
     ]
    },
    {
     "name": "stdout",
     "output_type": "stream",
     "text": [
      "https://iprice.co.id/harga/xiaomi-redmi-note-12-128gb-4gb-onyx-gray/\n"
     ]
    },
    {
     "name": "stderr",
     "output_type": "stream",
     "text": [
      "\r",
      " 52%|███████████████████████████████████████▏                                    | 243/471 [5:14:07<5:24:15, 85.33s/it]"
     ]
    },
    {
     "name": "stdout",
     "output_type": "stream",
     "text": [
      "https://iprice.co.id/harga/oppo-reno8-z-5g-256gb-starlight-black/\n"
     ]
    },
    {
     "name": "stderr",
     "output_type": "stream",
     "text": [
      "\r",
      " 52%|███████████████████████████████████████▎                                    | 244/471 [5:15:09<4:56:04, 78.26s/it]"
     ]
    },
    {
     "name": "stdout",
     "output_type": "stream",
     "text": [
      "https://iprice.co.id/harga/oppo-reno8-z-5g-256gb-starlight-black/\n"
     ]
    },
    {
     "name": "stderr",
     "output_type": "stream",
     "text": [
      "\r",
      " 52%|███████████████████████████████████████▌                                    | 245/471 [5:17:36<6:12:26, 98.88s/it]"
     ]
    },
    {
     "name": "stdout",
     "output_type": "stream",
     "text": [
      "https://iprice.co.id/harga/apple-iphone-12-mini-128gb-biru/\n"
     ]
    },
    {
     "name": "stderr",
     "output_type": "stream",
     "text": [
      "\r",
      " 52%|███████████████████████████████████████▏                                   | 246/471 [5:20:12<7:15:27, 116.12s/it]"
     ]
    },
    {
     "name": "stdout",
     "output_type": "stream",
     "text": [
      "https://iprice.co.id/harga/asus-zenfone-9-256gb-8gb-moonlight-white/\n"
     ]
    },
    {
     "name": "stderr",
     "output_type": "stream",
     "text": [
      "\r",
      " 52%|███████████████████████████████████████▎                                   | 247/471 [5:22:21<7:27:25, 119.85s/it]"
     ]
    },
    {
     "name": "stdout",
     "output_type": "stream",
     "text": [
      "https://iprice.co.id/harga/apple-iphone-6s-plus-64gb-space-grey/\n"
     ]
    },
    {
     "name": "stderr",
     "output_type": "stream",
     "text": [
      "\r",
      " 53%|███████████████████████████████████████▍                                   | 248/471 [5:24:11<7:14:16, 116.85s/it]"
     ]
    },
    {
     "name": "stdout",
     "output_type": "stream",
     "text": [
      "https://iprice.co.id/harga/samsung-galaxy-a03-32gb-3gb-biru/\n"
     ]
    },
    {
     "name": "stderr",
     "output_type": "stream",
     "text": [
      "\r",
      " 53%|███████████████████████████████████████▋                                   | 249/471 [5:27:00<8:10:37, 132.60s/it]"
     ]
    },
    {
     "name": "stdout",
     "output_type": "stream",
     "text": [
      "https://iprice.co.id/harga/xiaomi-redmi-note-10-5g-128gb-4gb-chrome-silver/\n"
     ]
    },
    {
     "name": "stderr",
     "output_type": "stream",
     "text": [
      "\r",
      " 53%|███████████████████████████████████████▊                                   | 250/471 [5:27:26<6:10:25, 100.57s/it]"
     ]
    },
    {
     "name": "stdout",
     "output_type": "stream",
     "text": [
      "Failedhttps://iprice.co.id/harga/samsung-galaxy-s23-ultra-512gb-sky-blue/\n"
     ]
    },
    {
     "name": "stderr",
     "output_type": "stream",
     "text": [
      "\r",
      " 53%|███████████████████████████████████████▉                                   | 251/471 [5:29:19<6:23:02, 104.46s/it]"
     ]
    },
    {
     "name": "stdout",
     "output_type": "stream",
     "text": [
      "https://iprice.co.id/harga/xiaomi-redmi-note-12-pro-256gb-8gb-midnight-black/\n"
     ]
    },
    {
     "name": "stderr",
     "output_type": "stream",
     "text": [
      "\r",
      " 54%|████████████████████████████████████████▏                                  | 252/471 [5:32:01<7:24:22, 121.75s/it]"
     ]
    },
    {
     "name": "stdout",
     "output_type": "stream",
     "text": [
      "https://iprice.co.id/harga/samsung-galaxy-s20-fe-128gb-8gb-cloud-red/\n"
     ]
    },
    {
     "name": "stderr",
     "output_type": "stream",
     "text": [
      "\r",
      " 54%|████████████████████████████████████████▎                                  | 253/471 [5:34:28<7:49:28, 129.21s/it]"
     ]
    },
    {
     "name": "stdout",
     "output_type": "stream",
     "text": [
      "https://iprice.co.id/harga/apple-iphone-14-plus-512gb-starlight/\n"
     ]
    },
    {
     "name": "stderr",
     "output_type": "stream",
     "text": [
      "\r",
      " 54%|████████████████████████████████████████▍                                  | 254/471 [5:35:42<6:46:53, 112.50s/it]"
     ]
    },
    {
     "name": "stdout",
     "output_type": "stream",
     "text": [
      "https://iprice.co.id/harga/xiaomi-redmi-note-11-pro-6gb-graphite-gray/\n"
     ]
    },
    {
     "name": "stderr",
     "output_type": "stream",
     "text": [
      "\r",
      " 54%|████████████████████████████████████████▌                                  | 255/471 [5:38:06<7:19:49, 122.18s/it]"
     ]
    },
    {
     "name": "stdout",
     "output_type": "stream",
     "text": [
      "https://iprice.co.id/harga/apple-iphone-12-mini-128gb-biru/\n"
     ]
    },
    {
     "name": "stderr",
     "output_type": "stream",
     "text": [
      "\r",
      " 54%|████████████████████████████████████████▊                                  | 256/471 [5:40:31<7:42:01, 128.94s/it]"
     ]
    },
    {
     "name": "stdout",
     "output_type": "stream",
     "text": [
      "https://iprice.co.id/harga/apple-iphone-12-mini-128gb-biru/\n"
     ]
    },
    {
     "name": "stderr",
     "output_type": "stream",
     "text": [
      "\r",
      " 55%|█████████████████████████████████████████▍                                  | 257/471 [5:40:57<5:49:43, 98.05s/it]"
     ]
    },
    {
     "name": "stdout",
     "output_type": "stream",
     "text": [
      "Failedhttps://iprice.co.id/harga/xiaomi-redmi-note-4x-64gb-hitam/\n"
     ]
    },
    {
     "name": "stderr",
     "output_type": "stream",
     "text": [
      "\r",
      " 55%|█████████████████████████████████████████                                  | 258/471 [5:42:47<6:00:45, 101.62s/it]"
     ]
    },
    {
     "name": "stdout",
     "output_type": "stream",
     "text": [
      "https://iprice.co.id/harga/oppo-f9-128gb-6gb-jade-green/\n"
     ]
    },
    {
     "name": "stderr",
     "output_type": "stream",
     "text": [
      "\r",
      " 55%|█████████████████████████████████████████▊                                  | 259/471 [5:44:20<5:49:52, 99.02s/it]"
     ]
    },
    {
     "name": "stdout",
     "output_type": "stream",
     "text": [
      "https://iprice.co.id/harga/xiaomi-redmi-note-10-pro-64gb-6gb-gradient-bronze/\n"
     ]
    },
    {
     "name": "stderr",
     "output_type": "stream",
     "text": [
      "\r",
      " 55%|█████████████████████████████████████████▉                                  | 260/471 [5:44:46<4:31:30, 77.21s/it]"
     ]
    },
    {
     "name": "stdout",
     "output_type": "stream",
     "text": [
      "Failedhttps://iprice.co.id/harga/apple-iphone-12-pro-max-256gb-perak/\n"
     ]
    },
    {
     "name": "stderr",
     "output_type": "stream",
     "text": [
      "\r",
      " 55%|██████████████████████████████████████████                                  | 261/471 [5:45:59<4:25:18, 75.80s/it]"
     ]
    },
    {
     "name": "stdout",
     "output_type": "stream",
     "text": [
      "https://iprice.co.id/harga/infinix-note-12-2023-256gb-tuscany-blue/\n"
     ]
    },
    {
     "name": "stderr",
     "output_type": "stream",
     "text": [
      "\r",
      " 56%|██████████████████████████████████████████▎                                 | 262/471 [5:48:10<5:21:43, 92.36s/it]"
     ]
    },
    {
     "name": "stdout",
     "output_type": "stream",
     "text": [
      "https://iprice.co.id/harga/samsung-galaxy-a04e-64gb-3gb-copper/\n"
     ]
    },
    {
     "name": "stderr",
     "output_type": "stream",
     "text": [
      "\r",
      " 56%|██████████████████████████████████████████▍                                 | 263/471 [5:50:07<5:45:50, 99.76s/it]"
     ]
    },
    {
     "name": "stdout",
     "output_type": "stream",
     "text": [
      "https://iprice.co.id/harga/iqoo-z7x/\n"
     ]
    },
    {
     "name": "stderr",
     "output_type": "stream",
     "text": [
      "\r",
      " 56%|██████████████████████████████████████████                                 | 264/471 [5:51:53<5:51:11, 101.79s/it]"
     ]
    },
    {
     "name": "stdout",
     "output_type": "stream",
     "text": [
      "https://iprice.co.id/harga/samsung-galaxy-s20-ultra-128gb-12gb-cosmic-grey/\n"
     ]
    },
    {
     "name": "stderr",
     "output_type": "stream",
     "text": [
      "\r",
      " 56%|██████████████████████████████████████████▏                                | 265/471 [5:53:44<5:58:12, 104.33s/it]"
     ]
    },
    {
     "name": "stdout",
     "output_type": "stream",
     "text": [
      "https://iprice.co.id/harga/xiaomi-redmi-9-64gb-4gb-carbon-gray/\n"
     ]
    },
    {
     "name": "stderr",
     "output_type": "stream",
     "text": [
      "\r",
      " 56%|██████████████████████████████████████████▎                                | 266/471 [5:55:58<6:27:38, 113.46s/it]"
     ]
    },
    {
     "name": "stdout",
     "output_type": "stream",
     "text": [
      "https://iprice.co.id/harga/xiaomi-redmi-7-32gb-eclipse-black-3gb/\n"
     ]
    },
    {
     "name": "stderr",
     "output_type": "stream",
     "text": [
      "\r",
      " 57%|███████████████████████████████████████████                                 | 267/471 [5:56:24<4:56:28, 87.20s/it]"
     ]
    },
    {
     "name": "stdout",
     "output_type": "stream",
     "text": [
      "Failedhttps://iprice.co.id/harga/xiaomi-redmi-note-4x-64gb-hitam/\n"
     ]
    },
    {
     "name": "stderr",
     "output_type": "stream",
     "text": [
      "\r",
      " 57%|███████████████████████████████████████████▏                                | 268/471 [5:56:50<3:52:34, 68.74s/it]"
     ]
    },
    {
     "name": "stdout",
     "output_type": "stream",
     "text": [
      "Failedhttps://iprice.co.id/harga/xiaomi-redmi-note-4x-64gb-hitam/\n"
     ]
    },
    {
     "name": "stderr",
     "output_type": "stream",
     "text": [
      "\r",
      " 57%|███████████████████████████████████████████▍                                | 269/471 [5:59:32<5:25:33, 96.70s/it]"
     ]
    },
    {
     "name": "stdout",
     "output_type": "stream",
     "text": [
      "https://iprice.co.id/harga/xiaomi-redmi-10a-32gb-3gb-sky-blue/\n"
     ]
    },
    {
     "name": "stderr",
     "output_type": "stream",
     "text": [
      "\r",
      " 57%|██████████████████████████████████████████▉                                | 270/471 [6:02:02<6:17:56, 112.82s/it]"
     ]
    },
    {
     "name": "stdout",
     "output_type": "stream",
     "text": [
      "https://iprice.co.id/harga/samsung-galaxy-s23-plus-512gb-cream/\n"
     ]
    },
    {
     "name": "stderr",
     "output_type": "stream",
     "text": [
      "\r",
      " 58%|███████████████████████████████████████████▏                               | 271/471 [6:03:23<5:44:05, 103.23s/it]"
     ]
    },
    {
     "name": "stdout",
     "output_type": "stream",
     "text": [
      "https://iprice.co.id/harga/samsung-galaxy-a71-prism-crush-black/\n"
     ]
    },
    {
     "name": "stderr",
     "output_type": "stream",
     "text": [
      "\r",
      " 58%|███████████████████████████████████████████▉                                | 272/471 [6:04:00<4:36:05, 83.25s/it]"
     ]
    },
    {
     "name": "stdout",
     "output_type": "stream",
     "text": [
      "https://iprice.co.id/harga/vivo-v25-pro-starlight-black/\n"
     ]
    },
    {
     "name": "stderr",
     "output_type": "stream",
     "text": [
      "\r",
      " 58%|████████████████████████████████████████████                                | 273/471 [6:05:31<4:42:27, 85.59s/it]"
     ]
    },
    {
     "name": "stdout",
     "output_type": "stream",
     "text": [
      "https://iprice.co.id/harga/samsung-galaxy-m12-32gb-3gb-biru/\n"
     ]
    },
    {
     "name": "stderr",
     "output_type": "stream",
     "text": [
      "\r",
      " 58%|████████████████████████████████████████████▏                               | 274/471 [6:06:39<4:23:46, 80.34s/it]"
     ]
    },
    {
     "name": "stdout",
     "output_type": "stream",
     "text": [
      "https://iprice.co.id/harga/vivo-y19-256gb-8gb-magnetic-black/\n"
     ]
    },
    {
     "name": "stderr",
     "output_type": "stream",
     "text": [
      "\r",
      " 58%|████████████████████████████████████████████▎                               | 275/471 [6:08:11<4:34:06, 83.91s/it]"
     ]
    },
    {
     "name": "stdout",
     "output_type": "stream",
     "text": [
      "https://iprice.co.id/harga/xiaomi-redmi-note-10s-128gb-8gb-pebble-white/\n"
     ]
    },
    {
     "name": "stderr",
     "output_type": "stream",
     "text": [
      "\r",
      " 59%|████████████████████████████████████████████▌                               | 276/471 [6:09:57<4:53:47, 90.40s/it]"
     ]
    },
    {
     "name": "stdout",
     "output_type": "stream",
     "text": [
      "https://iprice.co.id/harga/realme-11-pro-plus-512gb-12gb-oasis-green/\n"
     ]
    },
    {
     "name": "stderr",
     "output_type": "stream",
     "text": [
      "\r",
      " 59%|████████████████████████████████████████████▋                               | 277/471 [6:10:33<3:59:34, 74.10s/it]"
     ]
    },
    {
     "name": "stdout",
     "output_type": "stream",
     "text": [
      "https://iprice.co.id/harga/vivo-y36-5g-256gb-8gb-mystic-black/\n"
     ]
    },
    {
     "name": "stderr",
     "output_type": "stream",
     "text": [
      "\r",
      " 59%|████████████████████████████████████████████▊                               | 278/471 [6:11:36<3:47:29, 70.73s/it]"
     ]
    },
    {
     "name": "stdout",
     "output_type": "stream",
     "text": [
      "https://iprice.co.id/harga/vivo-y50-starry-black/\n"
     ]
    },
    {
     "name": "stderr",
     "output_type": "stream",
     "text": [
      "\r",
      " 59%|█████████████████████████████████████████████                               | 279/471 [6:14:15<5:11:46, 97.43s/it]"
     ]
    },
    {
     "name": "stdout",
     "output_type": "stream",
     "text": [
      "https://iprice.co.id/harga/xiaomi-redmi-10a-32gb-3gb-sky-blue/\n"
     ]
    },
    {
     "name": "stderr",
     "output_type": "stream",
     "text": [
      "\r",
      " 59%|████████████████████████████████████████████▌                              | 280/471 [6:16:55<6:09:46, 116.16s/it]"
     ]
    },
    {
     "name": "stdout",
     "output_type": "stream",
     "text": [
      "https://iprice.co.id/harga/xiaomi-redmi-10a-32gb-3gb-sky-blue/\n"
     ]
    },
    {
     "name": "stderr",
     "output_type": "stream",
     "text": [
      "\r",
      " 60%|████████████████████████████████████████████▋                              | 281/471 [6:19:36<6:50:32, 129.64s/it]"
     ]
    },
    {
     "name": "stdout",
     "output_type": "stream",
     "text": [
      "https://iprice.co.id/harga/xiaomi-redmi-10a-64gb-4gb-chrome-silver/\n"
     ]
    },
    {
     "name": "stderr",
     "output_type": "stream",
     "text": [
      "\r",
      " 60%|████████████████████████████████████████████▉                              | 282/471 [6:21:23<6:26:30, 122.70s/it]"
     ]
    },
    {
     "name": "stdout",
     "output_type": "stream",
     "text": [
      "https://iprice.co.id/harga/realme-10-pro-128gb-8gb-nebula-blue/\n"
     ]
    },
    {
     "name": "stderr",
     "output_type": "stream",
     "text": [
      "\r",
      " 60%|█████████████████████████████████████████████▋                              | 283/471 [6:21:49<4:53:29, 93.67s/it]"
     ]
    },
    {
     "name": "stdout",
     "output_type": "stream",
     "text": [
      "Failedhttps://iprice.co.id/harga/huawei-mate-20-pro-128gb-6gb-twilight/\n"
     ]
    },
    {
     "name": "stderr",
     "output_type": "stream",
     "text": [
      "\r",
      " 60%|█████████████████████████████████████████████▏                             | 284/471 [6:24:27<5:52:28, 113.09s/it]"
     ]
    },
    {
     "name": "stdout",
     "output_type": "stream",
     "text": [
      "https://iprice.co.id/harga/samsung-galaxy-a31-128gb-6gb-prism-crush-blue/\n"
     ]
    },
    {
     "name": "stderr",
     "output_type": "stream",
     "text": [
      "\r",
      " 61%|█████████████████████████████████████████████▍                             | 285/471 [6:25:48<5:20:23, 103.35s/it]"
     ]
    },
    {
     "name": "stdout",
     "output_type": "stream",
     "text": [
      "https://iprice.co.id/harga/infinix-hot-20s-tempo-blue/\n"
     ]
    },
    {
     "name": "stderr",
     "output_type": "stream",
     "text": [
      "\r",
      " 61%|██████████████████████████████████████████████▏                             | 286/471 [6:27:19<5:06:55, 99.54s/it]"
     ]
    },
    {
     "name": "stdout",
     "output_type": "stream",
     "text": [
      "https://iprice.co.id/harga/xiaomi-redmi-note-12-128gb-4gb-mint-green/\n"
     ]
    },
    {
     "name": "stderr",
     "output_type": "stream",
     "text": [
      "\r",
      " 61%|██████████████████████████████████████████████▎                             | 287/471 [6:28:14<4:24:53, 86.38s/it]"
     ]
    },
    {
     "name": "stdout",
     "output_type": "stream",
     "text": [
      "https://iprice.co.id/harga/samsung-galaxy-z-flip-mirror-purple/\n"
     ]
    },
    {
     "name": "stderr",
     "output_type": "stream",
     "text": [
      "\r",
      " 61%|██████████████████████████████████████████████▍                             | 288/471 [6:29:17<4:01:49, 79.29s/it]"
     ]
    },
    {
     "name": "stdout",
     "output_type": "stream",
     "text": [
      "https://iprice.co.id/harga/vivo-y21t-128gb-6gb-midnight-blue/\n"
     ]
    },
    {
     "name": "stderr",
     "output_type": "stream",
     "text": [
      "\r",
      " 61%|██████████████████████████████████████████████▋                             | 289/471 [6:30:31<3:55:19, 77.58s/it]"
     ]
    },
    {
     "name": "stdout",
     "output_type": "stream",
     "text": [
      "https://iprice.co.id/harga/oppo-a15-2gb-mystery-blue/\n"
     ]
    },
    {
     "name": "stderr",
     "output_type": "stream",
     "text": [
      "\r",
      " 62%|██████████████████████████████████████████████▊                             | 290/471 [6:32:02<4:06:55, 81.85s/it]"
     ]
    },
    {
     "name": "stdout",
     "output_type": "stream",
     "text": [
      "https://iprice.co.id/harga/xiaomi-redmi-note-9-pro-128gb-tropical-green/\n"
     ]
    },
    {
     "name": "stderr",
     "output_type": "stream",
     "text": [
      "\r",
      " 62%|██████████████████████████████████████████████▎                            | 291/471 [6:34:43<5:16:22, 105.46s/it]"
     ]
    },
    {
     "name": "stdout",
     "output_type": "stream",
     "text": [
      "https://iprice.co.id/harga/xiaomi-redmi-10a-64gb-4gb-chrome-silver/\n"
     ]
    },
    {
     "name": "stderr",
     "output_type": "stream",
     "text": [
      "\r",
      " 62%|██████████████████████████████████████████████▍                            | 292/471 [6:37:23<6:03:28, 121.84s/it]"
     ]
    },
    {
     "name": "stdout",
     "output_type": "stream",
     "text": [
      "https://iprice.co.id/harga/xiaomi-redmi-10a-64gb-4gb-chrome-silver/\n"
     ]
    },
    {
     "name": "stderr",
     "output_type": "stream",
     "text": [
      "\r",
      " 62%|██████████████████████████████████████████████▋                            | 293/471 [6:38:18<5:02:19, 101.91s/it]"
     ]
    },
    {
     "name": "stdout",
     "output_type": "stream",
     "text": [
      "https://iprice.co.id/harga/realme-c11-32gb-2gb-pepper-grey/\n"
     ]
    },
    {
     "name": "stderr",
     "output_type": "stream",
     "text": [
      "\r",
      " 62%|███████████████████████████████████████████████▍                            | 294/471 [6:39:50<4:51:13, 98.72s/it]"
     ]
    },
    {
     "name": "stdout",
     "output_type": "stream",
     "text": [
      "https://iprice.co.id/harga/samsung-galaxy-m12-64gb-4gb-hijau/\n"
     ]
    },
    {
     "name": "stderr",
     "output_type": "stream",
     "text": [
      "\r",
      " 63%|██████████████████████████████████████████████▉                            | 295/471 [6:41:41<5:00:42, 102.52s/it]"
     ]
    },
    {
     "name": "stdout",
     "output_type": "stream",
     "text": [
      "https://iprice.co.id/harga/samsung-galaxy-a33-5g-128gb-8gb-awesome-white/\n"
     ]
    },
    {
     "name": "stderr",
     "output_type": "stream",
     "text": [
      "\r",
      " 63%|███████████████████████████████████████████████▏                           | 296/471 [6:44:28<5:55:52, 122.02s/it]"
     ]
    },
    {
     "name": "stdout",
     "output_type": "stream",
     "text": [
      "https://iprice.co.id/harga/xiaomi-redmi-10a-64gb-3gb-sky-blue/\n"
     ]
    },
    {
     "name": "stderr",
     "output_type": "stream",
     "text": [
      "\r",
      " 63%|███████████████████████████████████████████████▉                            | 297/471 [6:44:54<4:30:01, 93.11s/it]"
     ]
    },
    {
     "name": "stdout",
     "output_type": "stream",
     "text": [
      "Failedhttps://iprice.co.id/harga/infinix-hot-20-5g-128gb-4gb-blaster-green/\n"
     ]
    },
    {
     "name": "stderr",
     "output_type": "stream",
     "text": [
      "\r",
      " 63%|████████████████████████████████████████████████                            | 298/471 [6:46:42<4:41:33, 97.65s/it]"
     ]
    },
    {
     "name": "stdout",
     "output_type": "stream",
     "text": [
      "https://iprice.co.id/harga/xiaomi-redmi-9-64gb-4gb-ocean-green/\n"
     ]
    },
    {
     "name": "stderr",
     "output_type": "stream",
     "text": [
      "\r",
      " 63%|████████████████████████████████████████████████▏                           | 299/471 [6:47:19<3:47:04, 79.21s/it]"
     ]
    },
    {
     "name": "stdout",
     "output_type": "stream",
     "text": [
      "https://iprice.co.id/harga/vivo-v25-pro-surfing-blue/\n"
     ]
    },
    {
     "name": "stderr",
     "output_type": "stream",
     "text": [
      "\r",
      " 64%|████████████████████████████████████████████████▍                           | 300/471 [6:48:39<3:46:49, 79.59s/it]"
     ]
    },
    {
     "name": "stdout",
     "output_type": "stream",
     "text": [
      "https://iprice.co.id/harga/blackberry-aurora/\n"
     ]
    },
    {
     "name": "stderr",
     "output_type": "stream",
     "text": [
      "\r",
      " 64%|████████████████████████████████████████████████▌                           | 301/471 [6:49:53<3:40:48, 77.93s/it]"
     ]
    },
    {
     "name": "stdout",
     "output_type": "stream",
     "text": [
      "https://iprice.co.id/harga/xiaomi-poco-m3-64gb-cool-blue/\n"
     ]
    },
    {
     "name": "stderr",
     "output_type": "stream",
     "text": [
      "\r",
      " 64%|████████████████████████████████████████████████                           | 302/471 [6:52:46<4:59:50, 106.45s/it]"
     ]
    },
    {
     "name": "stdout",
     "output_type": "stream",
     "text": [
      "https://iprice.co.id/harga/meizu-m6/\n"
     ]
    },
    {
     "name": "stderr",
     "output_type": "stream",
     "text": [
      "\r",
      " 64%|████████████████████████████████████████████████▉                           | 303/471 [6:53:41<4:15:03, 91.09s/it]"
     ]
    },
    {
     "name": "stdout",
     "output_type": "stream",
     "text": [
      "https://iprice.co.id/harga/realme-c11-32gb-2gb-pepper-grey/\n"
     ]
    },
    {
     "name": "stderr",
     "output_type": "stream",
     "text": [
      "\r",
      " 65%|█████████████████████████████████████████████████                           | 304/471 [6:54:36<3:43:05, 80.15s/it]"
     ]
    },
    {
     "name": "stdout",
     "output_type": "stream",
     "text": [
      "https://iprice.co.id/harga/realme-c11-32gb-2gb-pepper-grey/\n"
     ]
    },
    {
     "name": "stderr",
     "output_type": "stream",
     "text": [
      "\r",
      " 65%|█████████████████████████████████████████████████▏                          | 305/471 [6:56:22<4:03:28, 88.00s/it]"
     ]
    },
    {
     "name": "stdout",
     "output_type": "stream",
     "text": [
      "https://iprice.co.id/harga/xiaomi-pocophone-f1-128gb-graphite-black/\n"
     ]
    },
    {
     "name": "stderr",
     "output_type": "stream",
     "text": [
      "\r",
      " 65%|█████████████████████████████████████████████████▍                          | 306/471 [6:57:54<4:05:16, 89.19s/it]"
     ]
    },
    {
     "name": "stdout",
     "output_type": "stream",
     "text": [
      "https://iprice.co.id/harga/samsung-galaxy-a72-128gb-awesome-black/\n"
     ]
    },
    {
     "name": "stderr",
     "output_type": "stream",
     "text": [
      "\r",
      " 65%|█████████████████████████████████████████████████▌                          | 307/471 [6:59:52<4:27:00, 97.69s/it]"
     ]
    },
    {
     "name": "stdout",
     "output_type": "stream",
     "text": [
      "https://iprice.co.id/harga/xiaomi-redmi-6-64gb-emas/\n"
     ]
    },
    {
     "name": "stderr",
     "output_type": "stream",
     "text": [
      "\r",
      " 65%|█████████████████████████████████████████████████                          | 308/471 [7:02:21<5:07:31, 113.20s/it]"
     ]
    },
    {
     "name": "stdout",
     "output_type": "stream",
     "text": [
      "https://iprice.co.id/harga/samsung-galaxy-s10-128gb-prism-black/\n"
     ]
    },
    {
     "name": "stderr",
     "output_type": "stream",
     "text": [
      "\r",
      " 66%|█████████████████████████████████████████████████▊                          | 309/471 [7:03:16<4:17:57, 95.54s/it]"
     ]
    },
    {
     "name": "stdout",
     "output_type": "stream",
     "text": [
      "https://iprice.co.id/harga/nokia-53-charcoal/\n"
     ]
    },
    {
     "name": "stderr",
     "output_type": "stream",
     "text": [
      "\r",
      " 66%|██████████████████████████████████████████████████                          | 310/471 [7:04:46<4:12:17, 94.02s/it]"
     ]
    },
    {
     "name": "stdout",
     "output_type": "stream",
     "text": [
      "https://iprice.co.id/harga/vivo-y16-64gb-3gb-stellar-black/\n"
     ]
    },
    {
     "name": "stderr",
     "output_type": "stream",
     "text": [
      "\r",
      " 66%|██████████████████████████████████████████████████▏                         | 311/471 [7:06:07<4:00:14, 90.09s/it]"
     ]
    },
    {
     "name": "stdout",
     "output_type": "stream",
     "text": [
      "https://iprice.co.id/harga/infinix-smart-6-hd-32gb-origin-blue/\n"
     ]
    },
    {
     "name": "stderr",
     "output_type": "stream",
     "text": [
      "\r",
      " 66%|██████████████████████████████████████████████████▎                         | 312/471 [7:07:09<3:36:44, 81.79s/it]"
     ]
    },
    {
     "name": "stdout",
     "output_type": "stream",
     "text": [
      "https://iprice.co.id/harga/oppo-reno4-space-black/\n"
     ]
    },
    {
     "name": "stderr",
     "output_type": "stream",
     "text": [
      "\r",
      " 66%|██████████████████████████████████████████████████▌                         | 313/471 [7:07:35<2:51:05, 64.97s/it]"
     ]
    },
    {
     "name": "stdout",
     "output_type": "stream",
     "text": [
      "Failedhttps://iprice.co.id/harga/xiaomi-redmi-8-64gb-onyx-black/\n"
     ]
    },
    {
     "name": "stderr",
     "output_type": "stream",
     "text": [
      "\r",
      " 67%|██████████████████████████████████████████████████▋                         | 314/471 [7:08:30<2:42:20, 62.04s/it]"
     ]
    },
    {
     "name": "stdout",
     "output_type": "stream",
     "text": [
      "https://iprice.co.id/harga/oppo-reno7-4g-256gb-cosmic-black/\n"
     ]
    },
    {
     "name": "stderr",
     "output_type": "stream",
     "text": [
      "\r",
      " 67%|██████████████████████████████████████████████████▊                         | 315/471 [7:10:16<3:15:22, 75.14s/it]"
     ]
    },
    {
     "name": "stdout",
     "output_type": "stream",
     "text": [
      "https://iprice.co.id/harga/xiaomi-pocophone-f1-128gb-graphite-black/\n"
     ]
    },
    {
     "name": "stderr",
     "output_type": "stream",
     "text": [
      "\r",
      " 67%|██████████████████████████████████████████████████▉                         | 316/471 [7:12:01<3:37:31, 84.21s/it]"
     ]
    },
    {
     "name": "stdout",
     "output_type": "stream",
     "text": [
      "https://iprice.co.id/harga/xiaomi-pocophone-f1-128gb-graphite-black/\n"
     ]
    },
    {
     "name": "stderr",
     "output_type": "stream",
     "text": [
      "\r",
      " 67%|███████████████████████████████████████████████████▏                        | 317/471 [7:13:34<3:42:20, 86.62s/it]"
     ]
    },
    {
     "name": "stdout",
     "output_type": "stream",
     "text": [
      "https://iprice.co.id/harga/xiaomi-redmi-note-8-pro-128gb-putih/\n"
     ]
    },
    {
     "name": "stderr",
     "output_type": "stream",
     "text": [
      "\r",
      " 68%|███████████████████████████████████████████████████▎                        | 318/471 [7:15:12<3:50:06, 90.24s/it]"
     ]
    },
    {
     "name": "stdout",
     "output_type": "stream",
     "text": [
      "https://iprice.co.id/harga/samsung-galaxy-s21-plus-5g-256gb-phantom-silver/\n"
     ]
    },
    {
     "name": "stderr",
     "output_type": "stream",
     "text": [
      "\r",
      " 68%|███████████████████████████████████████████████████▍                        | 319/471 [7:16:26<3:36:17, 85.38s/it]"
     ]
    },
    {
     "name": "stdout",
     "output_type": "stream",
     "text": [
      "https://iprice.co.id/harga/realme-9i-128gb-6gb-prism-blue/\n"
     ]
    },
    {
     "name": "stderr",
     "output_type": "stream",
     "text": [
      "\r",
      " 68%|███████████████████████████████████████████████████▋                        | 320/471 [7:18:35<4:07:45, 98.45s/it]"
     ]
    },
    {
     "name": "stdout",
     "output_type": "stream",
     "text": [
      "https://iprice.co.id/harga/infinix-hot-10-play-64gb-4gb-aegean-blue/\n"
     ]
    },
    {
     "name": "stderr",
     "output_type": "stream",
     "text": [
      "\r",
      " 68%|███████████████████████████████████████████████████                        | 321/471 [7:20:59<4:40:06, 112.04s/it]"
     ]
    },
    {
     "name": "stdout",
     "output_type": "stream",
     "text": [
      "https://iprice.co.id/harga/apple-iphone-7-32gb-silver/\n"
     ]
    },
    {
     "name": "stderr",
     "output_type": "stream",
     "text": [
      "\r",
      " 68%|███████████████████████████████████████████████████▉                        | 322/471 [7:21:36<3:42:21, 89.54s/it]"
     ]
    },
    {
     "name": "stdout",
     "output_type": "stream",
     "text": [
      "https://iprice.co.id/harga/oppo-a74-midnight-blue/\n"
     ]
    },
    {
     "name": "stderr",
     "output_type": "stream",
     "text": [
      "\r",
      " 69%|████████████████████████████████████████████████████                        | 323/471 [7:22:57<3:34:42, 87.04s/it]"
     ]
    },
    {
     "name": "stdout",
     "output_type": "stream",
     "text": [
      "https://iprice.co.id/harga/oppo-a7-64gb-4gb-glazing-blue/\n"
     ]
    },
    {
     "name": "stderr",
     "output_type": "stream",
     "text": [
      "\r",
      " 69%|████████████████████████████████████████████████████▎                       | 324/471 [7:24:29<3:36:40, 88.44s/it]"
     ]
    },
    {
     "name": "stdout",
     "output_type": "stream",
     "text": [
      "https://iprice.co.id/harga/oppo-a12-32gb-biru-tua/\n"
     ]
    },
    {
     "name": "stderr",
     "output_type": "stream",
     "text": [
      "\r",
      " 69%|████████████████████████████████████████████████████▍                       | 325/471 [7:24:55<2:49:43, 69.75s/it]"
     ]
    },
    {
     "name": "stdout",
     "output_type": "stream",
     "text": [
      "Failedhttps://iprice.co.id/harga/samsung-galaxy-a6-plus-2018-hitam/\n"
     ]
    },
    {
     "name": "stderr",
     "output_type": "stream",
     "text": [
      "\r",
      " 69%|████████████████████████████████████████████████████▌                       | 326/471 [7:26:45<3:17:42, 81.81s/it]"
     ]
    },
    {
     "name": "stdout",
     "output_type": "stream",
     "text": [
      "https://iprice.co.id/harga/samsung-galaxy-s9-plus-256gb-midnight-black/\n"
     ]
    },
    {
     "name": "stderr",
     "output_type": "stream",
     "text": [
      "\r",
      " 69%|████████████████████████████████████████████████████▊                       | 327/471 [7:28:16<3:22:57, 84.56s/it]"
     ]
    },
    {
     "name": "stdout",
     "output_type": "stream",
     "text": [
      "https://iprice.co.id/harga/xiaomi-redmi-note-8-pro-128gb-putih/\n"
     ]
    },
    {
     "name": "stderr",
     "output_type": "stream",
     "text": [
      "\r",
      " 70%|████████████████████████████████████████████████████▉                       | 328/471 [7:29:47<3:26:08, 86.49s/it]"
     ]
    },
    {
     "name": "stdout",
     "output_type": "stream",
     "text": [
      "https://iprice.co.id/harga/xiaomi-redmi-note-8-pro-128gb-putih/\n"
     ]
    },
    {
     "name": "stderr",
     "output_type": "stream",
     "text": [
      "\r",
      " 70%|████████████████████████████████████████████████████▍                      | 329/471 [7:32:10<4:04:56, 103.49s/it]"
     ]
    },
    {
     "name": "stdout",
     "output_type": "stream",
     "text": [
      "https://iprice.co.id/harga/infinix-hot-11-play-64gb-4gb-exploratory-blue/\n"
     ]
    },
    {
     "name": "stderr",
     "output_type": "stream",
     "text": [
      "\r",
      " 70%|█████████████████████████████████████████████████████▏                      | 330/471 [7:32:36<3:08:23, 80.17s/it]"
     ]
    },
    {
     "name": "stdout",
     "output_type": "stream",
     "text": [
      "Failedhttps://iprice.co.id/harga/samsung-galaxy-m51-putih/\n"
     ]
    },
    {
     "name": "stderr",
     "output_type": "stream",
     "text": [
      "\r",
      " 70%|█████████████████████████████████████████████████████▍                      | 331/471 [7:33:18<2:40:09, 68.64s/it]"
     ]
    },
    {
     "name": "stdout",
     "output_type": "stream",
     "text": [
      "https://iprice.co.id/harga/apple-iphone-12-256gb-hijau/\n"
     ]
    },
    {
     "name": "stderr",
     "output_type": "stream",
     "text": [
      "\r",
      " 70%|█████████████████████████████████████████████████████▌                      | 332/471 [7:34:49<2:54:41, 75.41s/it]"
     ]
    },
    {
     "name": "stdout",
     "output_type": "stream",
     "text": [
      "https://iprice.co.id/harga/realme-c55-256gb-8gb-rainforest/\n"
     ]
    },
    {
     "name": "stderr",
     "output_type": "stream",
     "text": [
      "\r",
      " 71%|█████████████████████████████████████████████████████▋                      | 333/471 [7:36:28<3:09:47, 82.52s/it]"
     ]
    },
    {
     "name": "stdout",
     "output_type": "stream",
     "text": [
      "https://iprice.co.id/harga/samsung-galaxy-a50s-64gb-prism-crush-black/\n"
     ]
    },
    {
     "name": "stderr",
     "output_type": "stream",
     "text": [
      "\r",
      " 71%|█████████████████████████████████████████████████████▉                      | 334/471 [7:38:33<3:37:38, 95.32s/it]"
     ]
    },
    {
     "name": "stdout",
     "output_type": "stream",
     "text": [
      "https://iprice.co.id/harga/oppo-f9-pro-128gb-6gb-twilight-blue/\n"
     ]
    },
    {
     "name": "stderr",
     "output_type": "stream",
     "text": [
      "\r",
      " 71%|██████████████████████████████████████████████████████                      | 335/471 [7:38:59<2:48:54, 74.52s/it]"
     ]
    },
    {
     "name": "stdout",
     "output_type": "stream",
     "text": [
      "Failedhttps://iprice.co.id/harga/apple-iphone-6-16gb-gold/\n"
     ]
    },
    {
     "name": "stderr",
     "output_type": "stream",
     "text": [
      "\r",
      " 71%|██████████████████████████████████████████████████████▏                     | 336/471 [7:40:39<3:04:35, 82.04s/it]"
     ]
    },
    {
     "name": "stdout",
     "output_type": "stream",
     "text": [
      "https://iprice.co.id/harga/oppo-f11-128gb-6gb-marble-green/\n"
     ]
    },
    {
     "name": "stderr",
     "output_type": "stream",
     "text": [
      "\r",
      " 72%|██████████████████████████████████████████████████████▍                     | 337/471 [7:41:05<2:25:53, 65.33s/it]"
     ]
    },
    {
     "name": "stdout",
     "output_type": "stream",
     "text": [
      "Failedhttps://iprice.co.id/harga/nokia-c31-charcoal/\n"
     ]
    },
    {
     "name": "stderr",
     "output_type": "stream",
     "text": [
      "\r",
      " 72%|██████████████████████████████████████████████████████▌                     | 338/471 [7:41:31<1:58:28, 53.45s/it]"
     ]
    },
    {
     "name": "stdout",
     "output_type": "stream",
     "text": [
      "Failedhttps://iprice.co.id/harga/samsung-galaxy-s22-128gb-hijau/\n"
     ]
    },
    {
     "name": "stderr",
     "output_type": "stream",
     "text": [
      "\r",
      " 72%|██████████████████████████████████████████████████████▋                     | 339/471 [7:43:53<2:56:10, 80.08s/it]"
     ]
    },
    {
     "name": "stdout",
     "output_type": "stream",
     "text": [
      "https://iprice.co.id/harga/infinix-hot-11-play-64gb-4gb-exploratory-blue/\n"
     ]
    },
    {
     "name": "stderr",
     "output_type": "stream",
     "text": [
      "\r",
      " 72%|██████████████████████████████████████████████████████▊                     | 340/471 [7:46:15<3:35:34, 98.73s/it]"
     ]
    },
    {
     "name": "stdout",
     "output_type": "stream",
     "text": [
      "https://iprice.co.id/harga/infinix-hot-11-play-64gb-4gb-exploratory-blue/\n"
     ]
    },
    {
     "name": "stderr",
     "output_type": "stream",
     "text": [
      "\r",
      " 72%|███████████████████████████████████████████████████████                     | 341/471 [7:47:47<3:29:09, 96.54s/it]"
     ]
    },
    {
     "name": "stdout",
     "output_type": "stream",
     "text": [
      "https://iprice.co.id/harga/xiaomi-redmi-note-8-pro-64gb-putih/\n"
     ]
    },
    {
     "name": "stderr",
     "output_type": "stream",
     "text": [
      "\r",
      " 73%|███████████████████████████████████████████████████████▏                    | 342/471 [7:48:49<3:05:33, 86.31s/it]"
     ]
    },
    {
     "name": "stdout",
     "output_type": "stream",
     "text": [
      "https://iprice.co.id/harga/realme-c12-biru/\n"
     ]
    },
    {
     "name": "stderr",
     "output_type": "stream",
     "text": [
      "\r",
      " 73%|███████████████████████████████████████████████████████▎                    | 343/471 [7:49:26<2:32:32, 71.50s/it]"
     ]
    },
    {
     "name": "stdout",
     "output_type": "stream",
     "text": [
      "https://iprice.co.id/harga/oppo-a58-4g-128gb-6gb-dazzling-green/\n"
     ]
    },
    {
     "name": "stderr",
     "output_type": "stream",
     "text": [
      "\r",
      " 73%|███████████████████████████████████████████████████████▌                    | 344/471 [7:50:41<2:33:14, 72.40s/it]"
     ]
    },
    {
     "name": "stdout",
     "output_type": "stream",
     "text": [
      "https://iprice.co.id/harga/samsung-galaxy-a50-128gb-putih/\n"
     ]
    },
    {
     "name": "stderr",
     "output_type": "stream",
     "text": [
      "\r",
      " 73%|███████████████████████████████████████████████████████▋                    | 345/471 [7:51:07<2:02:52, 58.51s/it]"
     ]
    },
    {
     "name": "stdout",
     "output_type": "stream",
     "text": [
      "Failedhttps://iprice.co.id/harga/nokia-g10-32gb-3gb-blue/\n"
     ]
    },
    {
     "name": "stderr",
     "output_type": "stream",
     "text": [
      "\r",
      " 73%|███████████████████████████████████████████████████████▊                    | 346/471 [7:52:38<2:22:39, 68.47s/it]"
     ]
    },
    {
     "name": "stdout",
     "output_type": "stream",
     "text": [
      "https://iprice.co.id/harga/samsung-galaxy-note10-plus-512gb-aura-blue/\n"
     ]
    },
    {
     "name": "stderr",
     "output_type": "stream",
     "text": [
      "\r",
      " 74%|███████████████████████████████████████████████████████▉                    | 347/471 [7:53:04<1:54:59, 55.64s/it]"
     ]
    },
    {
     "name": "stdout",
     "output_type": "stream",
     "text": [
      "Failedhttps://iprice.co.id/harga/oppo-find-x5-pro-256gb-12gb-ceramic-white/\n"
     ]
    },
    {
     "name": "stderr",
     "output_type": "stream",
     "text": [
      "\r",
      " 74%|████████████████████████████████████████████████████████▏                   | 348/471 [7:53:30<1:35:49, 46.75s/it]"
     ]
    },
    {
     "name": "stdout",
     "output_type": "stream",
     "text": [
      "Failedhttps://iprice.co.id/harga/samsung-galaxy-j4-plus-32gb-emas/\n"
     ]
    },
    {
     "name": "stderr",
     "output_type": "stream",
     "text": [
      "\r",
      " 74%|████████████████████████████████████████████████████████▎                   | 349/471 [7:53:56<1:22:09, 40.40s/it]"
     ]
    },
    {
     "name": "stdout",
     "output_type": "stream",
     "text": [
      "Failedhttps://iprice.co.id/harga/hotwav-m5-plus/\n"
     ]
    },
    {
     "name": "stderr",
     "output_type": "stream",
     "text": [
      "\r",
      " 74%|████████████████████████████████████████████████████████▍                   | 350/471 [7:54:14<1:07:50, 33.64s/it]"
     ]
    },
    {
     "name": "stdout",
     "output_type": "stream",
     "text": [
      "Failedhttps://iprice.co.id/harga/xiaomi-12-pro-256gb-12gb-ungu/\n"
     ]
    },
    {
     "name": "stderr",
     "output_type": "stream",
     "text": [
      "\r",
      " 75%|████████████████████████████████████████████████████████▋                   | 351/471 [7:55:45<1:42:12, 51.10s/it]"
     ]
    },
    {
     "name": "stdout",
     "output_type": "stream",
     "text": [
      "https://iprice.co.id/harga/xiaomi-redmi-note-8-pro-64gb-putih/\n"
     ]
    },
    {
     "name": "stderr",
     "output_type": "stream",
     "text": [
      "\r",
      " 75%|████████████████████████████████████████████████████████▊                   | 352/471 [7:57:16<2:04:55, 62.99s/it]"
     ]
    },
    {
     "name": "stdout",
     "output_type": "stream",
     "text": [
      "https://iprice.co.id/harga/xiaomi-redmi-note-8-pro-64gb-putih/\n"
     ]
    },
    {
     "name": "stderr",
     "output_type": "stream",
     "text": [
      "\r",
      " 75%|████████████████████████████████████████████████████████▉                   | 353/471 [7:59:38<2:50:38, 86.77s/it]"
     ]
    },
    {
     "name": "stdout",
     "output_type": "stream",
     "text": [
      "https://iprice.co.id/harga/apple-iphone-6s-16gb-gold/\n"
     ]
    },
    {
     "name": "stderr",
     "output_type": "stream",
     "text": [
      "\r",
      " 75%|█████████████████████████████████████████████████████████                   | 354/471 [7:59:55<2:08:09, 65.72s/it]"
     ]
    },
    {
     "name": "stdout",
     "output_type": "stream",
     "text": [
      "Failedhttps://iprice.co.id/harga/luna-v55c/\n"
     ]
    },
    {
     "name": "stderr",
     "output_type": "stream",
     "text": [
      "\r",
      " 75%|█████████████████████████████████████████████████████████▎                  | 355/471 [8:02:41<3:05:09, 95.77s/it]"
     ]
    },
    {
     "name": "stdout",
     "output_type": "stream",
     "text": [
      "https://iprice.co.id/harga/realme-gt-neo3-256gb-8gb-le-mans-blue/\n"
     ]
    },
    {
     "name": "stderr",
     "output_type": "stream",
     "text": [
      "\r",
      " 76%|████████████████████████████████████████████████████████▋                  | 356/471 [8:04:31<3:11:52, 100.11s/it]"
     ]
    },
    {
     "name": "stdout",
     "output_type": "stream",
     "text": [
      "https://iprice.co.id/harga/samsung-galaxy-a21s-128gb-biru/\n"
     ]
    },
    {
     "name": "stderr",
     "output_type": "stream",
     "text": [
      "\r",
      " 76%|████████████████████████████████████████████████████████▊                  | 357/471 [8:07:20<3:49:26, 120.76s/it]"
     ]
    },
    {
     "name": "stdout",
     "output_type": "stream",
     "text": [
      "https://iprice.co.id/harga/xiaomi-redmi-note-10-5g-128gb-4gb-aurora-green/\n"
     ]
    },
    {
     "name": "stderr",
     "output_type": "stream",
     "text": [
      "\r",
      " 76%|█████████████████████████████████████████████████████████                  | 358/471 [8:08:33<3:20:35, 106.51s/it]"
     ]
    },
    {
     "name": "stdout",
     "output_type": "stream",
     "text": [
      "https://iprice.co.id/harga/samsung-galaxy-a50-128gb-biru/\n"
     ]
    },
    {
     "name": "stderr",
     "output_type": "stream",
     "text": [
      "\r",
      " 76%|█████████████████████████████████████████████████████████▏                 | 359/471 [8:10:24<3:20:56, 107.64s/it]"
     ]
    },
    {
     "name": "stdout",
     "output_type": "stream",
     "text": [
      "https://iprice.co.id/harga/samsung-galaxy-s9-plus-64gb-coral-blue/\n"
     ]
    },
    {
     "name": "stderr",
     "output_type": "stream",
     "text": [
      "\r",
      " 76%|█████████████████████████████████████████████████████████▎                 | 360/471 [8:12:11<3:18:46, 107.44s/it]"
     ]
    },
    {
     "name": "stdout",
     "output_type": "stream",
     "text": [
      "https://iprice.co.id/harga/xiaomi-redmi-4a-16gb-2gb-dark-grey/\n"
     ]
    },
    {
     "name": "stderr",
     "output_type": "stream",
     "text": [
      "\r",
      " 77%|██████████████████████████████████████████████████████████▎                 | 361/471 [8:12:47<2:37:52, 86.11s/it]"
     ]
    },
    {
     "name": "stdout",
     "output_type": "stream",
     "text": [
      "https://iprice.co.id/harga/vivo-y53s-deep-sea-blue/\n"
     ]
    },
    {
     "name": "stderr",
     "output_type": "stream",
     "text": [
      "\r",
      " 77%|██████████████████████████████████████████████████████████▍                 | 362/471 [8:14:35<2:48:10, 92.57s/it]"
     ]
    },
    {
     "name": "stdout",
     "output_type": "stream",
     "text": [
      "https://iprice.co.id/harga/realme-3-pro-128gb-nitro-blue-6gb/\n"
     ]
    },
    {
     "name": "stderr",
     "output_type": "stream",
     "text": [
      "\r",
      " 77%|█████████████████████████████████████████████████████████▊                 | 363/471 [8:16:57<3:13:19, 107.40s/it]"
     ]
    },
    {
     "name": "stdout",
     "output_type": "stream",
     "text": [
      "https://iprice.co.id/harga/apple-iphone-6s-16gb-gold/\n"
     ]
    },
    {
     "name": "stderr",
     "output_type": "stream",
     "text": [
      "\r",
      " 77%|█████████████████████████████████████████████████████████▉                 | 364/471 [8:19:19<3:30:09, 117.85s/it]"
     ]
    },
    {
     "name": "stdout",
     "output_type": "stream",
     "text": [
      "https://iprice.co.id/harga/apple-iphone-6s-16gb-gold/\n"
     ]
    },
    {
     "name": "stderr",
     "output_type": "stream",
     "text": [
      "\r",
      " 77%|██████████████████████████████████████████████████████████▉                 | 365/471 [8:19:44<2:39:17, 90.17s/it]"
     ]
    },
    {
     "name": "stdout",
     "output_type": "stream",
     "text": [
      "Failedhttps://iprice.co.id/harga/nokia-c31-mint/\n"
     ]
    },
    {
     "name": "stderr",
     "output_type": "stream",
     "text": [
      "\r",
      " 78%|███████████████████████████████████████████████████████████                 | 366/471 [8:21:17<2:39:06, 90.91s/it]"
     ]
    },
    {
     "name": "stdout",
     "output_type": "stream",
     "text": [
      "https://iprice.co.id/harga/samsung-galaxy-a20s-32gb-hijau/\n"
     ]
    },
    {
     "name": "stderr",
     "output_type": "stream",
     "text": [
      " 82%|████████████████████████████████████████████████████████████████              | 387/471 [8:23:02<13:54,  9.94s/it]"
     ]
    },
    {
     "name": "stdout",
     "output_type": "stream",
     "text": [
      "https://iprice.co.id/harga/xiaomi-redmi-note-9-64gb-sunset-red/\n",
      "Failedhttps://iprice.co.id/harga/apple-iphone-12-mini-256gb-hijau/\n",
      "Failedhttps://iprice.co.id/harga/xiaomi-poco-x3-gt-256gb-stargaze-black/\n",
      "Failedhttps://iprice.co.id/harga/apple-iphone-7-256gb-red/\n",
      "Failedhttps://iprice.co.id/harga/samsung-galaxy-a04e-64gb-4gb-light-blue/\n",
      "Failedhttps://iprice.co.id/harga/infinix-note-11-nfc-128gb-celestial-snow/\n",
      "Failedhttps://iprice.co.id/harga/xiaomi-redmi-note-7-128gb-4gb-biru/\n",
      "Failedhttps://iprice.co.id/harga/samsung-galaxy-s21-5g-256gb-phantom-pink/\n",
      "Failedhttps://iprice.co.id/harga/nokia-c31-mint/\n",
      "Failedhttps://iprice.co.id/harga/nokia-c31-mint/\n",
      "Failedhttps://iprice.co.id/harga/realme-gt-master-edition-256gb-voyager-grey/\n",
      "Failedhttps://iprice.co.id/harga/tecno-pova-neo-2-128gb-4gb-magma-orange/\n",
      "Failedhttps://iprice.co.id/harga/samsung-galaxy-a80-emas/\n",
      "Failedhttps://iprice.co.id/harga/infinix-hot-12-play-64gb-4gb-origin-blue/\n",
      "Failedhttps://iprice.co.id/harga/oneplus-8t/\n",
      "Failedhttps://iprice.co.id/harga/xiaomi-redmi-note-10-5g-128gb-4gb-nighttime-blue/\n",
      "Failedhttps://iprice.co.id/harga/oppo-a52-stream-white/\n",
      "Failedhttps://iprice.co.id/harga/samsung-galaxy-s21-5g-128gb-phantom-violet/\n",
      "Failedhttps://iprice.co.id/harga/xiaomi-redmi-9t-128gb-6gb-ocean-green/\n",
      "Failedhttps://iprice.co.id/harga/realme-gt-master-edition-256gb-voyager-grey/\n",
      "Failedhttps://iprice.co.id/harga/realme-gt-master-edition-256gb-voyager-grey/\n",
      "Failedhttps://iprice.co.id/harga/oppo-a54s-128gb-6gb-crystal-black/\n",
      "Failedhttps://iprice.co.id/harga/samsung-galaxy-note-9-128gb-ocean-blue/\n",
      "Failedhttps://iprice.co.id/harga/oppo-f3-emas/\n",
      "Failedhttps://iprice.co.id/harga/realme-3-pro-64gb-nitro-blue-4gb/\n",
      "Failedhttps://iprice.co.id/harga/samsung-galaxy-a32-6gb-awesome-blue/\n",
      "Failedhttps://iprice.co.id/harga/meizu-m5-note/\n",
      "Failedhttps://iprice.co.id/harga/xiaomi-redmi-note-9-128gb-midnight-grey/\n",
      "Failedhttps://iprice.co.id/harga/oppo-a74-5g-space-silver/\n",
      "Failedhttps://iprice.co.id/harga/apple-iphone-7-256gb-rose-gold/\n",
      "Failedhttps://iprice.co.id/harga/xiaomi-11t-meteorite-gray/\n",
      "Failedhttps://iprice.co.id/harga/oppo-a54s-128gb-6gb-crystal-black/\n",
      "Failedhttps://iprice.co.id/harga/oppo-a54s-128gb-6gb-crystal-black/\n",
      "Failedhttps://iprice.co.id/harga/apple-iphone-7-plus-128gb-jet-black/\n",
      "Failedhttps://iprice.co.id/harga/oppo-reno4-pro-silky-white/\n",
      "Failedhttps://iprice.co.id/harga/xiaomi-redmi-note-12-pro-4g-128gb-6gb-glacier-blue/\n",
      "Failedhttps://iprice.co.id/harga/nokia-42-black/\n",
      "Failedhttps://iprice.co.id/harga/lava-r1/\n",
      "Failedhttps://iprice.co.id/harga/apple-iphone-13-mini-256gb-starlight/\n",
      "Failedhttps://iprice.co.id/harga/xiaomi-mi-8-lite-64gb-midnight-black-4gb/\n",
      "Failedhttps://iprice.co.id/harga/realme-c15-64gb-4gb-seagull-silver/\n",
      "Failedhttps://iprice.co.id/harga/xiaomi-redmi-note-5-pro-6gb-champagne-gold/\n",
      "Failedhttps://iprice.co.id/harga/apple-iphone-6s-16gb-rose-gold/\n",
      "Failedhttps://iprice.co.id/harga/apple-iphone-7-plus-128gb-jet-black/\n",
      "Failedhttps://iprice.co.id/harga/apple-iphone-7-plus-128gb-jet-black/\n",
      "Failedhttps://iprice.co.id/harga/realme-c30s-64gb-4gb-stripe-black/\n",
      "Failedhttps://iprice.co.id/harga/apple-iphone-6s-128gb-gold/\n",
      "Failedhttps://iprice.co.id/harga/samsung-galaxy-m14-64gb-4gb-blue/\n",
      "Failedhttps://iprice.co.id/harga/oneplus-ace/\n",
      "Failedhttps://iprice.co.id/harga/realme-8-pro-infinite-blue/\n",
      "Failedhttps://iprice.co.id/harga/realme-7-pro-horizon-orange/\n",
      "Failedhttps://iprice.co.id/harga/vivo-v19-256gb-arctic-blue/\n",
      "Failedhttps://iprice.co.id/harga/meizu-m6t/\n"
     ]
    },
    {
     "name": "stderr",
     "output_type": "stream",
     "text": [
      "100%|██████████████████████████████████████████████████████████████████████████████| 471/471 [8:23:02<00:00, 64.08s/it]"
     ]
    },
    {
     "name": "stdout",
     "output_type": "stream",
     "text": [
      "Failedhttps://iprice.co.id/harga/xiaomi-redmi-note-5a-prime-64gb-emas/\n",
      "Failedhttps://iprice.co.id/harga/tecno-pova-4-pro-128gb-uranolith-grey/\n",
      "Failedhttps://iprice.co.id/harga/realme-c30s-64gb-4gb-stripe-black/\n",
      "Failedhttps://iprice.co.id/harga/realme-c30s-64gb-4gb-stripe-black/\n",
      "Failedhttps://iprice.co.id/harga/oppo-f11-128gb-4gb-marble-green/\n",
      "Failedhttps://iprice.co.id/harga/tecno-pova-4-pro-128gb-flourite-blue/\n",
      "Failedhttps://iprice.co.id/harga/vivo-y20s-128gb-6gb-obsidian-black/\n",
      "Failedhttps://iprice.co.id/harga/vivo-v15-pro-topaz-blue/\n",
      "Failedhttps://iprice.co.id/harga/alcatel-flash-plus-2/\n",
      "Failedhttps://iprice.co.id/harga/samsung-galaxy-a22-5g-abu-abu/\n",
      "Failedhttps://iprice.co.id/harga/oppo-a16e-32gb-3gb-putih/\n",
      "Failedhttps://iprice.co.id/harga/huawei-honor-10-lite-64gb-4gb-sky-blue/\n",
      "Failedhttps://iprice.co.id/harga/samsung-galaxy-a7-2018-64gb-hitam/\n",
      "Failedhttps://iprice.co.id/harga/wiko-harry/\n",
      "Failedhttps://iprice.co.id/harga/oppo-f11-128gb-4gb-marble-green/\n",
      "Failedhttps://iprice.co.id/harga/oppo-f11-128gb-4gb-marble-green/\n",
      "Failedhttps://iprice.co.id/harga/realme-5i-32gb-ocean-blue/\n",
      "Failedhttps://iprice.co.id/harga/samsung-galaxy-a10s-2gb-hijau/\n",
      "Failedhttps://iprice.co.id/harga/spc-l53/\n",
      "Failedhttps://iprice.co.id/harga/realme-c21-32gb-cross-black/\n",
      "Failedhttps://iprice.co.id/harga/realme-c25-128gb-water-gray/\n",
      "Failedhttps://iprice.co.id/harga/vivo-t1-pro-8gb-turbo-cyan/\n",
      "Failedhttps://iprice.co.id/harga/samsung-galaxy-a21s-64gb-putih/\n",
      "Failedhttps://iprice.co.id/harga/samsung-galaxy-a32-8gb-awesome-blue/\n",
      "Failedhttps://iprice.co.id/harga/realme-c21-64gb-cross-blue/\n",
      "Failedhttps://iprice.co.id/harga/samsung-galaxy-a11-putih/\n",
      "Failedhttps://iprice.co.id/harga/realme-5i-32gb-ocean-blue/\n",
      "Failedhttps://iprice.co.id/harga/realme-5i-32gb-ocean-blue/\n",
      "Failedhttps://iprice.co.id/harga/samsung-galaxy-a04e-64gb-4gb-copper/\n",
      "Failedhttps://iprice.co.id/harga/samsung-galaxy-m31-128gb-6gb-merah/\n",
      "Failedhttps://iprice.co.id/harga/infinix-zero-ultra-coslight-silver/\n",
      "Failedhttps://iprice.co.id/harga/apple-iphone-5s-16gb-gold/\n",
      "Failedhttps://iprice.co.id/harga/oppo-a57-64gb-4gb-rose-gold/\n",
      "Failedhttps://iprice.co.id/harga/samsung-galaxy-s21-5g-128gb-phantom-white/\n",
      "Failedhttps://iprice.co.id/harga/xiaomi-redmi-5-plus-32gb-hitam/\n",
      "Failedhttps://iprice.co.id/harga/oppo-reno6-5g-128gb-purple/\n",
      "Failedhttps://iprice.co.id/harga/xiaomi-redmi-note-10s-64gb-6gb-ocean-blue/\n",
      "Failedhttps://iprice.co.id/harga/oppo-a7-64gb-3gb-glazing-blue/\n",
      "Failedhttps://iprice.co.id/harga/samsung-galaxy-a04e-64gb-4gb-copper/\n",
      "Failedhttps://iprice.co.id/harga/samsung-galaxy-a04e-64gb-4gb-copper/\n",
      "Failedhttps://iprice.co.id/harga/xiaomi-mi-max-2-64gb-hitam/\n",
      "Failedhttps://iprice.co.id/harga/ulefone-armor/\n",
      "Failedhttps://iprice.co.id/harga/honor-50/\n",
      "Failedhttps://iprice.co.id/harga/vivo-t1-5g-256gb-8gb-rainbow-fantasy/\n",
      "Failedhttps://iprice.co.id/harga/xiaomi-redmi-note-10-5g-128gb-8gb-nighttime-blue/\n",
      "Failedhttps://iprice.co.id/harga/samsung-galaxy-s20-cloud-pink/\n",
      "Failedhttps://iprice.co.id/harga/asus-rog-phone-5-128gb-12gb-phantom-black/\n",
      "Failedhttps://iprice.co.id/harga/realme-c11-32gb-3gb-pepper-grey/\n",
      "Failedhttps://iprice.co.id/harga/apple-iphone-15-pro-max-1tb-natural-titanium/\n",
      "Failedhttps://iprice.co.id/harga/samsung-galaxy-z-fold4-512gb-burgundy/\n",
      "Failedhttps://iprice.co.id/harga/xiaomi-mi-max-2-64gb-hitam/\n",
      "Failedhttps://iprice.co.id/harga/xiaomi-mi-max-2-64gb-hitam/\n"
     ]
    },
    {
     "name": "stderr",
     "output_type": "stream",
     "text": [
      "\n"
     ]
    }
   ],
   "source": [
    "for i in tqdm(range(len(df_general))):\n",
    "    link = df_general.iloc[i,1]\n",
    "    try:\n",
    "        try:\n",
    "            get_detail(link)\n",
    "        except:\n",
    "            get_detail2(link)\n",
    "    except:\n",
    "        print(\"Failed\"+link)\n",
    "        continue\n",
    "\n",
    "    variant = click_link(link)\n",
    "    for detail_link in variant:\n",
    "        try:\n",
    "            try:\n",
    "                dfs = get_detail(detail_link)\n",
    "                dfs[\"Smartphone Title\"] = df_general.iloc[i,0]\n",
    "                dfs[\"Link\"] = detail_link\n",
    "                df_detail = pd.concat([df_detail, dfs], ignore_index=True)\n",
    "            except:\n",
    "                dfs = get_detail2(detail_link)\n",
    "                dfs[\"Smartphone Title\"] = df_general.iloc[i,0]\n",
    "                dfs[\"Link\"] = detail_link\n",
    "                df_detail = pd.concat([df_detail, dfs], ignore_index=True)\n",
    "        except:\n",
    "            continue\n",
    "\n",
    "    print(link)"
   ]
  },
  {
   "cell_type": "code",
   "execution_count": 28,
   "id": "5273ff54",
   "metadata": {},
   "outputs": [
    {
     "data": {
      "text/html": [
       "<div>\n",
       "<style scoped>\n",
       "    .dataframe tbody tr th:only-of-type {\n",
       "        vertical-align: middle;\n",
       "    }\n",
       "\n",
       "    .dataframe tbody tr th {\n",
       "        vertical-align: top;\n",
       "    }\n",
       "\n",
       "    .dataframe thead th {\n",
       "        text-align: right;\n",
       "    }\n",
       "</style>\n",
       "<table border=\"1\" class=\"dataframe\">\n",
       "  <thead>\n",
       "    <tr style=\"text-align: right;\">\n",
       "      <th></th>\n",
       "      <th>Offername</th>\n",
       "      <th>Price_Seller</th>\n",
       "      <th>Platform</th>\n",
       "      <th>SellerRating</th>\n",
       "      <th>SellerName</th>\n",
       "      <th>Colour</th>\n",
       "      <th>ROM</th>\n",
       "      <th>RAM</th>\n",
       "      <th>Price Official</th>\n",
       "      <th>Camera</th>\n",
       "      <th>Screen Size</th>\n",
       "      <th>Smartphone Title</th>\n",
       "      <th>Link</th>\n",
       "    </tr>\n",
       "  </thead>\n",
       "  <tbody>\n",
       "    <tr>\n",
       "      <th>0</th>\n",
       "      <td>Infinix Second Hot 30I Ram 8/128Gb (Blue) Fullset</td>\n",
       "      <td>Rp 1.140.000   Stok Habis</td>\n",
       "      <td>shopee</td>\n",
       "      <td>4.83</td>\n",
       "      <td>ANITA BATURAJA</td>\n",
       "      <td>Biru</td>\n",
       "      <td>None</td>\n",
       "      <td>None</td>\n",
       "      <td>None</td>\n",
       "      <td>50 + AIMP</td>\n",
       "      <td>6.6\"</td>\n",
       "      <td>Infinix Hot 30i</td>\n",
       "      <td>https://iprice.co.id/harga/infinix-hot-30i-128...</td>\n",
       "    </tr>\n",
       "    <tr>\n",
       "      <th>1</th>\n",
       "      <td>Infinix Hot 30I Ram 8/128Gb Garansi Resmi</td>\n",
       "      <td>Rp 1.196.000</td>\n",
       "      <td>shopee</td>\n",
       "      <td>4.96</td>\n",
       "      <td>ASTON CELLULER 48</td>\n",
       "      <td>Biru</td>\n",
       "      <td>None</td>\n",
       "      <td>None</td>\n",
       "      <td>None</td>\n",
       "      <td>50 + AIMP</td>\n",
       "      <td>6.6\"</td>\n",
       "      <td>Infinix Hot 30i</td>\n",
       "      <td>https://iprice.co.id/harga/infinix-hot-30i-128...</td>\n",
       "    </tr>\n",
       "    <tr>\n",
       "      <th>2</th>\n",
       "      <td>Infinix Hot 30I 8/128Gb Hp Second Seken Bekas ...</td>\n",
       "      <td>Rp 1.349.000   Stok Habis</td>\n",
       "      <td>shopee</td>\n",
       "      <td>4.88</td>\n",
       "      <td>Juraganhandphone_</td>\n",
       "      <td>Biru</td>\n",
       "      <td>None</td>\n",
       "      <td>None</td>\n",
       "      <td>None</td>\n",
       "      <td>50 + AIMP</td>\n",
       "      <td>6.6\"</td>\n",
       "      <td>Infinix Hot 30i</td>\n",
       "      <td>https://iprice.co.id/harga/infinix-hot-30i-128...</td>\n",
       "    </tr>\n",
       "    <tr>\n",
       "      <th>3</th>\n",
       "      <td>Infinix Hot 30I Ram 8Gb Internal 128Gb Handpho...</td>\n",
       "      <td>Rp 1.349.000   Stok Habis</td>\n",
       "      <td>shopee</td>\n",
       "      <td>4.84</td>\n",
       "      <td>mayphonecell</td>\n",
       "      <td>Biru</td>\n",
       "      <td>None</td>\n",
       "      <td>None</td>\n",
       "      <td>None</td>\n",
       "      <td>50 + AIMP</td>\n",
       "      <td>6.6\"</td>\n",
       "      <td>Infinix Hot 30i</td>\n",
       "      <td>https://iprice.co.id/harga/infinix-hot-30i-128...</td>\n",
       "    </tr>\n",
       "    <tr>\n",
       "      <th>4</th>\n",
       "      <td>Infinix Hot 30I 8/128Gb Second</td>\n",
       "      <td>Rp 1.350.000</td>\n",
       "      <td>shopee</td>\n",
       "      <td>4.84</td>\n",
       "      <td>ekostarcell</td>\n",
       "      <td>Biru</td>\n",
       "      <td>None</td>\n",
       "      <td>None</td>\n",
       "      <td>None</td>\n",
       "      <td>50 + AIMP</td>\n",
       "      <td>6.6\"</td>\n",
       "      <td>Infinix Hot 30i</td>\n",
       "      <td>https://iprice.co.id/harga/infinix-hot-30i-128...</td>\n",
       "    </tr>\n",
       "    <tr>\n",
       "      <th>...</th>\n",
       "      <td>...</td>\n",
       "      <td>...</td>\n",
       "      <td>...</td>\n",
       "      <td>...</td>\n",
       "      <td>...</td>\n",
       "      <td>...</td>\n",
       "      <td>...</td>\n",
       "      <td>...</td>\n",
       "      <td>...</td>\n",
       "      <td>...</td>\n",
       "      <td>...</td>\n",
       "      <td>...</td>\n",
       "      <td>...</td>\n",
       "    </tr>\n",
       "    <tr>\n",
       "      <th>17057</th>\n",
       "      <td>Xiaomi Redmi Note 9 Ram 4/64 Warna Hitam</td>\n",
       "      <td>Rp 1.700.000   Stok Habis</td>\n",
       "      <td>shopee</td>\n",
       "      <td>4.55</td>\n",
       "      <td>perdian69</td>\n",
       "      <td>Hitam</td>\n",
       "      <td>64GB</td>\n",
       "      <td>4GB</td>\n",
       "      <td>1.999.000</td>\n",
       "      <td>48 + 8 + 2 + 2MP</td>\n",
       "      <td>6.53\"</td>\n",
       "      <td>Xiaomi Redmi Note 9 64GB Sunset Red</td>\n",
       "      <td>https://iprice.co.id/harga/xiaomi-redmi-note-9...</td>\n",
       "    </tr>\n",
       "    <tr>\n",
       "      <th>17058</th>\n",
       "      <td>Xiaomi Redmi Note 9 6/128Gb &amp; 4/64 Gb Bekas Se...</td>\n",
       "      <td>Rp 1.739.997   Stok Habis</td>\n",
       "      <td>shopee</td>\n",
       "      <td>4.81</td>\n",
       "      <td>Niephonecell</td>\n",
       "      <td>Hitam</td>\n",
       "      <td>64GB</td>\n",
       "      <td>4GB</td>\n",
       "      <td>1.999.000</td>\n",
       "      <td>48 + 8 + 2 + 2MP</td>\n",
       "      <td>6.53\"</td>\n",
       "      <td>Xiaomi Redmi Note 9 64GB Sunset Red</td>\n",
       "      <td>https://iprice.co.id/harga/xiaomi-redmi-note-9...</td>\n",
       "    </tr>\n",
       "    <tr>\n",
       "      <th>17059</th>\n",
       "      <td>Xiaomi Redmi Note 9 6/128, 4/64 Lengkap</td>\n",
       "      <td>Rp 1.800.000</td>\n",
       "      <td>shopee</td>\n",
       "      <td>4.72</td>\n",
       "      <td>Dzikry Phone</td>\n",
       "      <td>Hitam</td>\n",
       "      <td>64GB</td>\n",
       "      <td>4GB</td>\n",
       "      <td>1.999.000</td>\n",
       "      <td>48 + 8 + 2 + 2MP</td>\n",
       "      <td>6.53\"</td>\n",
       "      <td>Xiaomi Redmi Note 9 64GB Sunset Red</td>\n",
       "      <td>https://iprice.co.id/harga/xiaomi-redmi-note-9...</td>\n",
       "    </tr>\n",
       "    <tr>\n",
       "      <th>17060</th>\n",
       "      <td>Xiaomi Note 9 Second</td>\n",
       "      <td>Rp 1.850.000</td>\n",
       "      <td>shopee</td>\n",
       "      <td>4.97</td>\n",
       "      <td>Amin_mart</td>\n",
       "      <td>Hitam</td>\n",
       "      <td>64GB</td>\n",
       "      <td>4GB</td>\n",
       "      <td>1.999.000</td>\n",
       "      <td>48 + 8 + 2 + 2MP</td>\n",
       "      <td>6.53\"</td>\n",
       "      <td>Xiaomi Redmi Note 9 64GB Sunset Red</td>\n",
       "      <td>https://iprice.co.id/harga/xiaomi-redmi-note-9...</td>\n",
       "    </tr>\n",
       "    <tr>\n",
       "      <th>17061</th>\n",
       "      <td>Xiaomi Sale  Redmi Note 9 Ram 4/64 Gb 6/128 Gb...</td>\n",
       "      <td>Rp 1.890.000</td>\n",
       "      <td>lazada</td>\n",
       "      <td>0</td>\n",
       "      <td></td>\n",
       "      <td>Hitam</td>\n",
       "      <td>64GB</td>\n",
       "      <td>4GB</td>\n",
       "      <td>1.999.000</td>\n",
       "      <td>48 + 8 + 2 + 2MP</td>\n",
       "      <td>6.53\"</td>\n",
       "      <td>Xiaomi Redmi Note 9 64GB Sunset Red</td>\n",
       "      <td>https://iprice.co.id/harga/xiaomi-redmi-note-9...</td>\n",
       "    </tr>\n",
       "  </tbody>\n",
       "</table>\n",
       "<p>17062 rows × 13 columns</p>\n",
       "</div>"
      ],
      "text/plain": [
       "                                               Offername  \\\n",
       "0      Infinix Second Hot 30I Ram 8/128Gb (Blue) Fullset   \n",
       "1              Infinix Hot 30I Ram 8/128Gb Garansi Resmi   \n",
       "2      Infinix Hot 30I 8/128Gb Hp Second Seken Bekas ...   \n",
       "3      Infinix Hot 30I Ram 8Gb Internal 128Gb Handpho...   \n",
       "4                         Infinix Hot 30I 8/128Gb Second   \n",
       "...                                                  ...   \n",
       "17057           Xiaomi Redmi Note 9 Ram 4/64 Warna Hitam   \n",
       "17058  Xiaomi Redmi Note 9 6/128Gb & 4/64 Gb Bekas Se...   \n",
       "17059            Xiaomi Redmi Note 9 6/128, 4/64 Lengkap   \n",
       "17060                               Xiaomi Note 9 Second   \n",
       "17061  Xiaomi Sale  Redmi Note 9 Ram 4/64 Gb 6/128 Gb...   \n",
       "\n",
       "                    Price_Seller Platform SellerRating         SellerName  \\\n",
       "0      Rp 1.140.000   Stok Habis   shopee         4.83     ANITA BATURAJA   \n",
       "1                   Rp 1.196.000   shopee         4.96  ASTON CELLULER 48   \n",
       "2      Rp 1.349.000   Stok Habis   shopee         4.88  Juraganhandphone_   \n",
       "3      Rp 1.349.000   Stok Habis   shopee         4.84       mayphonecell   \n",
       "4                   Rp 1.350.000   shopee         4.84        ekostarcell   \n",
       "...                          ...      ...          ...                ...   \n",
       "17057  Rp 1.700.000   Stok Habis   shopee         4.55          perdian69   \n",
       "17058  Rp 1.739.997   Stok Habis   shopee         4.81       Niephonecell   \n",
       "17059               Rp 1.800.000   shopee         4.72       Dzikry Phone   \n",
       "17060               Rp 1.850.000   shopee         4.97          Amin_mart   \n",
       "17061               Rp 1.890.000   lazada            0                      \n",
       "\n",
       "      Colour   ROM   RAM Price Official            Camera Screen Size  \\\n",
       "0       Biru  None  None           None         50 + AIMP        6.6\"   \n",
       "1       Biru  None  None           None         50 + AIMP        6.6\"   \n",
       "2       Biru  None  None           None         50 + AIMP        6.6\"   \n",
       "3       Biru  None  None           None         50 + AIMP        6.6\"   \n",
       "4       Biru  None  None           None         50 + AIMP        6.6\"   \n",
       "...      ...   ...   ...            ...               ...         ...   \n",
       "17057  Hitam  64GB   4GB      1.999.000  48 + 8 + 2 + 2MP       6.53\"   \n",
       "17058  Hitam  64GB   4GB      1.999.000  48 + 8 + 2 + 2MP       6.53\"   \n",
       "17059  Hitam  64GB   4GB      1.999.000  48 + 8 + 2 + 2MP       6.53\"   \n",
       "17060  Hitam  64GB   4GB      1.999.000  48 + 8 + 2 + 2MP       6.53\"   \n",
       "17061  Hitam  64GB   4GB      1.999.000  48 + 8 + 2 + 2MP       6.53\"   \n",
       "\n",
       "                          Smartphone Title  \\\n",
       "0                          Infinix Hot 30i   \n",
       "1                          Infinix Hot 30i   \n",
       "2                          Infinix Hot 30i   \n",
       "3                          Infinix Hot 30i   \n",
       "4                          Infinix Hot 30i   \n",
       "...                                    ...   \n",
       "17057  Xiaomi Redmi Note 9 64GB Sunset Red   \n",
       "17058  Xiaomi Redmi Note 9 64GB Sunset Red   \n",
       "17059  Xiaomi Redmi Note 9 64GB Sunset Red   \n",
       "17060  Xiaomi Redmi Note 9 64GB Sunset Red   \n",
       "17061  Xiaomi Redmi Note 9 64GB Sunset Red   \n",
       "\n",
       "                                                    Link  \n",
       "0      https://iprice.co.id/harga/infinix-hot-30i-128...  \n",
       "1      https://iprice.co.id/harga/infinix-hot-30i-128...  \n",
       "2      https://iprice.co.id/harga/infinix-hot-30i-128...  \n",
       "3      https://iprice.co.id/harga/infinix-hot-30i-128...  \n",
       "4      https://iprice.co.id/harga/infinix-hot-30i-128...  \n",
       "...                                                  ...  \n",
       "17057  https://iprice.co.id/harga/xiaomi-redmi-note-9...  \n",
       "17058  https://iprice.co.id/harga/xiaomi-redmi-note-9...  \n",
       "17059  https://iprice.co.id/harga/xiaomi-redmi-note-9...  \n",
       "17060  https://iprice.co.id/harga/xiaomi-redmi-note-9...  \n",
       "17061  https://iprice.co.id/harga/xiaomi-redmi-note-9...  \n",
       "\n",
       "[17062 rows x 13 columns]"
      ]
     },
     "execution_count": 28,
     "metadata": {},
     "output_type": "execute_result"
    }
   ],
   "source": [
    "df_detail"
   ]
  },
  {
   "cell_type": "code",
   "execution_count": 29,
   "id": "9b173160",
   "metadata": {},
   "outputs": [],
   "source": [
    "df_detail.to_csv(\"Iprice_SecondhandPhone_27September2023_2.csv\")"
   ]
  },
  {
   "cell_type": "code",
   "execution_count": 68,
   "id": "2970f1a8",
   "metadata": {},
   "outputs": [
    {
     "data": {
      "text/html": [
       "<div>\n",
       "<style scoped>\n",
       "    .dataframe tbody tr th:only-of-type {\n",
       "        vertical-align: middle;\n",
       "    }\n",
       "\n",
       "    .dataframe tbody tr th {\n",
       "        vertical-align: top;\n",
       "    }\n",
       "\n",
       "    .dataframe thead th {\n",
       "        text-align: right;\n",
       "    }\n",
       "</style>\n",
       "<table border=\"1\" class=\"dataframe\">\n",
       "  <thead>\n",
       "    <tr style=\"text-align: right;\">\n",
       "      <th></th>\n",
       "      <th>Offername</th>\n",
       "      <th>Price_Seller</th>\n",
       "      <th>Platform</th>\n",
       "      <th>SellerRating</th>\n",
       "      <th>SellerName</th>\n",
       "      <th>Colour</th>\n",
       "      <th>ROM</th>\n",
       "      <th>RAM</th>\n",
       "      <th>Price Official</th>\n",
       "      <th>Camera</th>\n",
       "    </tr>\n",
       "  </thead>\n",
       "  <tbody>\n",
       "  </tbody>\n",
       "</table>\n",
       "</div>"
      ],
      "text/plain": [
       "Empty DataFrame\n",
       "Columns: [Offername, Price_Seller, Platform, SellerRating, SellerName, Colour, ROM, RAM, Price Official, Camera]\n",
       "Index: []"
      ]
     },
     "execution_count": 68,
     "metadata": {},
     "output_type": "execute_result"
    }
   ],
   "source": [
    "get_detail()"
   ]
  },
  {
   "cell_type": "code",
   "execution_count": 99,
   "id": "491e703c",
   "metadata": {},
   "outputs": [],
   "source": [
    "driver.quit()"
   ]
  },
  {
   "cell_type": "code",
   "execution_count": 12,
   "id": "51f345eb",
   "metadata": {},
   "outputs": [
    {
     "data": {
      "text/plain": [
       "['https://iprice.co.id/harga/apple-iphone-13-pro-max-128gb-biru-sierra/',\n",
       " 'https://iprice.co.id/harga/apple-iphone-13-pro-max-256gb-abu-abu-grafit/',\n",
       " 'https://iprice.co.id/harga/apple-iphone-13-pro-max-512gb-abu-abu-grafit/',\n",
       " 'https://iprice.co.id/harga/apple-iphone-13-pro-max-1tb-perak/',\n",
       " 'https://iprice.co.id/harga/apple-iphone-13-pro-max-128gb-abu-abu-grafit/',\n",
       " 'https://iprice.co.id/harga/apple-iphone-13-pro-max-128gb-alpine-green/',\n",
       " 'https://iprice.co.id/harga/apple-iphone-13-pro-max-128gb-biru-sierra/',\n",
       " 'https://iprice.co.id/harga/apple-iphone-13-pro-max-128gb-emas/',\n",
       " 'https://iprice.co.id/harga/apple-iphone-13-pro-max-128gb-perak/']"
      ]
     },
     "execution_count": 12,
     "metadata": {},
     "output_type": "execute_result"
    }
   ],
   "source": [
    "click_link(df_general[\"Website\"][1])"
   ]
  },
  {
   "cell_type": "markdown",
   "id": "c332e13e",
   "metadata": {},
   "source": [
    "## Testing Driver"
   ]
  },
  {
   "cell_type": "code",
   "execution_count": 35,
   "id": "b29ced47",
   "metadata": {},
   "outputs": [],
   "source": [
    "driver.get(\"https://iprice.co.id/harga/apple-iphone-12-pro-128gb-perak/\")\n",
    "#driver.maximize_window()\n",
    "driver.execute_script(\"window.scrollTo(0, 600)\")\n",
    "sleep(2)\n",
    "\n",
    "WebDriverWait(driver, 10).until(EC.element_to_be_clickable((By.XPATH, '//div[@id=\"excellent-offers-tab\"]'))).click()\n",
    "\n",
    "sleep(2)\n",
    "soup = driver.page_source\n",
    "bsobj_detail = BeautifulSoup(soup,'html.parser')"
   ]
  },
  {
   "cell_type": "code",
   "execution_count": 36,
   "id": "bdf6058c",
   "metadata": {},
   "outputs": [],
   "source": [
    "# Get the offername\n",
    "Offername = []\n",
    "for item in bsobj_detail.findAll('div', {'class':'zE dn a en'}):\n",
    "    Offername.append(item.text.strip())\n",
    "if len(Offername)>20:\n",
    "    Offername = Offername[:20]\n",
    "\n",
    "Offername = list(filter(None, Offername))\n",
    "\n",
    "# Scrape the Price\n",
    "Price = []\n",
    "for item in bsobj_detail.findAll('div', {'class':'a_ aw f24-l gW'}):\n",
    "    Price.append(item.text.strip())\n",
    "\n",
    "if len(Price)>20:\n",
    "    Price = Price[:20]\n",
    "\n",
    "Price = list(filter(None, Price))"
   ]
  },
  {
   "cell_type": "code",
   "execution_count": 37,
   "id": "877093b2",
   "metadata": {},
   "outputs": [],
   "source": [
    "Platform = []\n",
    "SellerRating = []\n",
    "SellerName = []\n",
    "\n",
    "for item in bsobj_detail.findAll('div', {'data-vars-action':'pc-2ndhand'}):\n",
    "    line = item[\"data-vars-merchant\"]\n",
    "    Platform.append(line.split('|')[0])\n",
    "    SellerName.append(line.split('|')[2].replace('sellerName:',''))\n",
    "    SellerRating.append(line.split('|')[3].replace('sellerRating:',''))"
   ]
  },
  {
   "cell_type": "code",
   "execution_count": 38,
   "id": "2f5b5a64",
   "metadata": {},
   "outputs": [
    {
     "data": {
      "text/plain": [
       "['shopee',\n",
       " 'shopee',\n",
       " 'shopee',\n",
       " 'shopee',\n",
       " 'shopee',\n",
       " 'shopee',\n",
       " 'shopee',\n",
       " 'shopee',\n",
       " 'shopee',\n",
       " 'shopee',\n",
       " 'shopee',\n",
       " 'shopee',\n",
       " 'shopee',\n",
       " 'shopee',\n",
       " 'shopee',\n",
       " 'shopee',\n",
       " 'shopee',\n",
       " 'shopee',\n",
       " 'shopee',\n",
       " 'shopee',\n",
       " 'shopee',\n",
       " 'shopee',\n",
       " '{{merchant.url}}']"
      ]
     },
     "execution_count": 38,
     "metadata": {},
     "output_type": "execute_result"
    }
   ],
   "source": [
    "Platform"
   ]
  },
  {
   "cell_type": "code",
   "execution_count": 39,
   "id": "1e83f063",
   "metadata": {},
   "outputs": [
    {
     "data": {
      "text/plain": [
       "['4.8',\n",
       " '4.9',\n",
       " '4.84',\n",
       " '4.84',\n",
       " '4.84',\n",
       " '4.77',\n",
       " '4.97',\n",
       " '4.97',\n",
       " '4.86',\n",
       " '4.86',\n",
       " '4.97',\n",
       " '4.91',\n",
       " '5',\n",
       " '4.9',\n",
       " '4.91',\n",
       " '4.95',\n",
       " '4.97',\n",
       " '4.97',\n",
       " '5',\n",
       " '4.86',\n",
       " '5',\n",
       " '4.95',\n",
       " '{{seller.rating}}']"
      ]
     },
     "execution_count": 39,
     "metadata": {},
     "output_type": "execute_result"
    }
   ],
   "source": [
    "SellerRating"
   ]
  },
  {
   "cell_type": "code",
   "execution_count": 40,
   "id": "b1934e58",
   "metadata": {},
   "outputs": [
    {
     "data": {
      "text/plain": [
       "[\"{offer['seller']['name']}\",\n",
       " \"{offer['seller']['name']}\",\n",
       " 'Apple Neon Store',\n",
       " 'Wish Phonestore',\n",
       " 'Facai.iphone',\n",
       " 'Cellular Shop 9k',\n",
       " 'Padang Gadget Bukittinggi',\n",
       " 'Padang Gadget Bukittinggi',\n",
       " 'FEDOFONE SMARTPHONE',\n",
       " 'FEDOFONE SMARTPHONE',\n",
       " 'Mobile Phone Shop BEC',\n",
       " 'Digicell\\xa0Official',\n",
       " 'iPro.Apple_Pati',\n",
       " 'Newstore Bandung',\n",
       " 'ekkystore_focus',\n",
       " 'iphonecentergresik',\n",
       " 'Padang Gadget ID',\n",
       " 'Padang Gadget ID',\n",
       " 'favorite_cellular',\n",
       " 'Negri ponsel_',\n",
       " 'HCSHOP*',\n",
       " 'iphonecentergresik',\n",
       " '{{seller.name}}']"
      ]
     },
     "execution_count": 40,
     "metadata": {},
     "output_type": "execute_result"
    }
   ],
   "source": [
    "SellerName"
   ]
  },
  {
   "cell_type": "code",
   "execution_count": 112,
   "id": "976f6482",
   "metadata": {},
   "outputs": [],
   "source": [
    "url = click_link('https://iprice.co.id/harga/samsung-galaxy-s22-ultra/#amp-x-autoplay=1')[1]"
   ]
  },
  {
   "cell_type": "code",
   "execution_count": 113,
   "id": "2af64ae6",
   "metadata": {},
   "outputs": [
    {
     "data": {
      "text/plain": [
       "'https://iprice.co.id/harga/samsung-galaxy-s22-ultra-256gb-12gb-phantom-black/'"
      ]
     },
     "execution_count": 113,
     "metadata": {},
     "output_type": "execute_result"
    }
   ],
   "source": [
    "url"
   ]
  },
  {
   "cell_type": "code",
   "execution_count": 115,
   "id": "ef178470",
   "metadata": {},
   "outputs": [
    {
     "data": {
      "text/html": [
       "<div>\n",
       "<style scoped>\n",
       "    .dataframe tbody tr th:only-of-type {\n",
       "        vertical-align: middle;\n",
       "    }\n",
       "\n",
       "    .dataframe tbody tr th {\n",
       "        vertical-align: top;\n",
       "    }\n",
       "\n",
       "    .dataframe thead th {\n",
       "        text-align: right;\n",
       "    }\n",
       "</style>\n",
       "<table border=\"1\" class=\"dataframe\">\n",
       "  <thead>\n",
       "    <tr style=\"text-align: right;\">\n",
       "      <th></th>\n",
       "      <th>Offername</th>\n",
       "      <th>Price_Seller</th>\n",
       "      <th>Platform</th>\n",
       "      <th>SellerRating</th>\n",
       "      <th>SellerName</th>\n",
       "      <th>Colour</th>\n",
       "      <th>ROM</th>\n",
       "      <th>RAM</th>\n",
       "      <th>Price Official</th>\n",
       "      <th>Camera</th>\n",
       "    </tr>\n",
       "  </thead>\n",
       "  <tbody>\n",
       "    <tr>\n",
       "      <th>0</th>\n",
       "      <td>Xiaomi Redmi Note 11 Ram 6/128 + 4/128Gb Handp...</td>\n",
       "      <td>Rp 1.799.000</td>\n",
       "      <td>shopee</td>\n",
       "      <td>4.89</td>\n",
       "      <td>Android Zone_</td>\n",
       "      <td>Abu-abu</td>\n",
       "      <td>128GB</td>\n",
       "      <td>4GB</td>\n",
       "      <td>2.499.000</td>\n",
       "      <td>50 + 8MP</td>\n",
       "    </tr>\n",
       "    <tr>\n",
       "      <th>1</th>\n",
       "      <td>Xiaomi Redmi Note 11 Ram 6/128 + 4/128Gb Handp...</td>\n",
       "      <td>Rp 1.949.000</td>\n",
       "      <td>shopee</td>\n",
       "      <td>4.89</td>\n",
       "      <td>Android Zone_</td>\n",
       "      <td>Abu-abu</td>\n",
       "      <td>128GB</td>\n",
       "      <td>4GB</td>\n",
       "      <td>2.499.000</td>\n",
       "      <td>50 + 8MP</td>\n",
       "    </tr>\n",
       "    <tr>\n",
       "      <th>2</th>\n",
       "      <td>Xiaomi Ex Display/ Ex Demo Redmi Note 11 (4+12...</td>\n",
       "      <td>Rp 1.989.000</td>\n",
       "      <td>shopee</td>\n",
       "      <td>4.89</td>\n",
       "      <td>One world Mi Home</td>\n",
       "      <td>Abu-abu</td>\n",
       "      <td>128GB</td>\n",
       "      <td>4GB</td>\n",
       "      <td>2.499.000</td>\n",
       "      <td>50 + 8MP</td>\n",
       "    </tr>\n",
       "    <tr>\n",
       "      <th>3</th>\n",
       "      <td>Xiaomi Redmi Note 11 6/128 Baru Garansi Resmi</td>\n",
       "      <td>Rp 1.999.000</td>\n",
       "      <td>shopee</td>\n",
       "      <td>4.88</td>\n",
       "      <td>jimurape_store</td>\n",
       "      <td>Abu-abu</td>\n",
       "      <td>128GB</td>\n",
       "      <td>4GB</td>\n",
       "      <td>2.499.000</td>\n",
       "      <td>50 + 8MP</td>\n",
       "    </tr>\n",
       "    <tr>\n",
       "      <th>4</th>\n",
       "      <td>Xiaomi Redmi Note 11 4/128Gb &amp; 6/128Gb Second ...</td>\n",
       "      <td>Rp 2.049.000</td>\n",
       "      <td>shopee</td>\n",
       "      <td>4.85</td>\n",
       "      <td>WE_STORE GADGET</td>\n",
       "      <td>Abu-abu</td>\n",
       "      <td>128GB</td>\n",
       "      <td>4GB</td>\n",
       "      <td>2.499.000</td>\n",
       "      <td>50 + 8MP</td>\n",
       "    </tr>\n",
       "    <tr>\n",
       "      <th>5</th>\n",
       "      <td>Xiaomi Redmi Note 11 - Second Original</td>\n",
       "      <td>Rp 2.200.000</td>\n",
       "      <td>shopee</td>\n",
       "      <td>4.84</td>\n",
       "      <td>hapemart gsk official partner</td>\n",
       "      <td>Abu-abu</td>\n",
       "      <td>128GB</td>\n",
       "      <td>4GB</td>\n",
       "      <td>2.499.000</td>\n",
       "      <td>50 + 8MP</td>\n",
       "    </tr>\n",
       "    <tr>\n",
       "      <th>6</th>\n",
       "      <td>Xiaomi Redmi Note 11 4/128 Dan 6/128</td>\n",
       "      <td>Rp 2.399.000</td>\n",
       "      <td>shopee</td>\n",
       "      <td>4.82</td>\n",
       "      <td>Boutiquee.official</td>\n",
       "      <td>Abu-abu</td>\n",
       "      <td>128GB</td>\n",
       "      <td>4GB</td>\n",
       "      <td>2.499.000</td>\n",
       "      <td>50 + 8MP</td>\n",
       "    </tr>\n",
       "  </tbody>\n",
       "</table>\n",
       "</div>"
      ],
      "text/plain": [
       "                                           Offername  Price_Seller Platform  \\\n",
       "0  Xiaomi Redmi Note 11 Ram 6/128 + 4/128Gb Handp...  Rp 1.799.000   shopee   \n",
       "1  Xiaomi Redmi Note 11 Ram 6/128 + 4/128Gb Handp...  Rp 1.949.000   shopee   \n",
       "2  Xiaomi Ex Display/ Ex Demo Redmi Note 11 (4+12...  Rp 1.989.000   shopee   \n",
       "3      Xiaomi Redmi Note 11 6/128 Baru Garansi Resmi  Rp 1.999.000   shopee   \n",
       "4  Xiaomi Redmi Note 11 4/128Gb & 6/128Gb Second ...  Rp 2.049.000   shopee   \n",
       "5             Xiaomi Redmi Note 11 - Second Original  Rp 2.200.000   shopee   \n",
       "6               Xiaomi Redmi Note 11 4/128 Dan 6/128  Rp 2.399.000   shopee   \n",
       "\n",
       "  SellerRating                     SellerName   Colour    ROM  RAM  \\\n",
       "0         4.89                  Android Zone_  Abu-abu  128GB  4GB   \n",
       "1         4.89                  Android Zone_  Abu-abu  128GB  4GB   \n",
       "2         4.89              One world Mi Home  Abu-abu  128GB  4GB   \n",
       "3         4.88                 jimurape_store  Abu-abu  128GB  4GB   \n",
       "4         4.85                WE_STORE GADGET  Abu-abu  128GB  4GB   \n",
       "5         4.84  hapemart gsk official partner  Abu-abu  128GB  4GB   \n",
       "6         4.82             Boutiquee.official  Abu-abu  128GB  4GB   \n",
       "\n",
       "  Price Official    Camera  \n",
       "0      2.499.000  50 + 8MP  \n",
       "1      2.499.000  50 + 8MP  \n",
       "2      2.499.000  50 + 8MP  \n",
       "3      2.499.000  50 + 8MP  \n",
       "4      2.499.000  50 + 8MP  \n",
       "5      2.499.000  50 + 8MP  \n",
       "6      2.499.000  50 + 8MP  "
      ]
     },
     "execution_count": 115,
     "metadata": {},
     "output_type": "execute_result"
    }
   ],
   "source": [
    "get_detail2('https://iprice.co.id/harga/xiaomi-redmi-note-11-128gb-4gb-graphite-gray/')"
   ]
  },
  {
   "cell_type": "code",
   "execution_count": 37,
   "id": "72524707",
   "metadata": {},
   "outputs": [],
   "source": [
    "driver.get(url)"
   ]
  },
  {
   "cell_type": "code",
   "execution_count": 38,
   "id": "d7cfb9fd",
   "metadata": {},
   "outputs": [],
   "source": [
    "driver.maximize_window()"
   ]
  },
  {
   "cell_type": "code",
   "execution_count": 39,
   "id": "fba88aeb",
   "metadata": {},
   "outputs": [],
   "source": [
    "driver.execute_script(\"window.scrollTo(0, 800)\")"
   ]
  },
  {
   "cell_type": "code",
   "execution_count": 41,
   "id": "b487facf",
   "metadata": {},
   "outputs": [],
   "source": [
    "try:\n",
    "    WebDriverWait(driver, 5).until(EC.element_to_be_clickable((By.XPATH, '//div[@id=\"excellent-offers-tab\"]'))).click()\n",
    "except:\n",
    "    WebDriverWait(driver, 5).until(EC.element_to_be_clickable((By.XPATH, '//div[@id=\"unknown-offers-tab-in-default\"]'))).click()"
   ]
  },
  {
   "cell_type": "code",
   "execution_count": 51,
   "id": "b448ca22",
   "metadata": {},
   "outputs": [],
   "source": [
    "soup = driver.page_source\n",
    "bsobj_detail = BeautifulSoup(soup,'html.parser')"
   ]
  },
  {
   "cell_type": "code",
   "execution_count": 43,
   "id": "f2fe35d2",
   "metadata": {},
   "outputs": [],
   "source": [
    "# Get the offername\n",
    "Offername = []\n",
    "for item in bsobj_detail.findAll('div', {'class':'product-name dn bR a en'}):\n",
    "    Offername.append(item.text.strip())\n",
    "if len(Offername)>20:\n",
    "    Offername = Offername[:20]\n",
    "\n",
    "Offername = list(filter(None, Offername))"
   ]
  },
  {
   "cell_type": "code",
   "execution_count": 44,
   "id": "2845318e",
   "metadata": {},
   "outputs": [
    {
     "data": {
      "text/plain": [
       "[]"
      ]
     },
     "execution_count": 44,
     "metadata": {},
     "output_type": "execute_result"
    }
   ],
   "source": [
    "Offername"
   ]
  },
  {
   "cell_type": "code",
   "execution_count": 62,
   "id": "780282dd",
   "metadata": {},
   "outputs": [],
   "source": [
    "# Scrape the Price\n",
    "Price = []\n",
    "for item in bsobj_detail.findAll('div', {'class':'price-2nd a_ aw gW'}):\n",
    "    Price.append(item.text.strip())\n",
    "\n",
    "if len(Price)>20:\n",
    "    Price = Price[:20]\n",
    "    \n",
    "Price = list(filter(None, Price))"
   ]
  },
  {
   "cell_type": "code",
   "execution_count": 63,
   "id": "0295bbef",
   "metadata": {},
   "outputs": [
    {
     "data": {
      "text/plain": [
       "[]"
      ]
     },
     "execution_count": 63,
     "metadata": {},
     "output_type": "execute_result"
    }
   ],
   "source": [
    "Price"
   ]
  },
  {
   "cell_type": "code",
   "execution_count": 57,
   "id": "36b5d783",
   "metadata": {},
   "outputs": [],
   "source": [
    "# Get the platform\n",
    "Platform = []\n",
    "SellerRating = []\n",
    "SellerName = []\n",
    "\n",
    "for item in bsobj_detail.findAll('div', {'data-vars-action':'pc-2ndhand'}):\n",
    "    line = item[\"data-vars-merchant\"]\n",
    "    Platform.append(line.split('|')[0])\n",
    "    SellerName.append(line.split('|')[2].replace('sellerName:',''))\n",
    "    SellerRating.append(line.split('|')[3].replace('sellerRating:',''))\n",
    "\n",
    "Platform = Platform[1:21]\n",
    "SellerRating = SellerRating[1:21]\n",
    "SellerName = SellerName[1:21]\n",
    "\n",
    "Platform = list(filter(None, Platform))\n",
    "\n",
    "Platform = [ x for x in Platform if '{{merchant.url}}' not in x ]\n",
    "\n",
    "SellerName = [ x for x in SellerName if '{{seller.name}}' not in x ]\n",
    "\n",
    "SellerRating = [ x for x in SellerRating if '{{seller.rating}}' not in x ]"
   ]
  },
  {
   "cell_type": "code",
   "execution_count": 58,
   "id": "aee42cfd",
   "metadata": {},
   "outputs": [
    {
     "data": {
      "text/plain": [
       "[]"
      ]
     },
     "execution_count": 58,
     "metadata": {},
     "output_type": "execute_result"
    }
   ],
   "source": [
    "Platform"
   ]
  },
  {
   "cell_type": "code",
   "execution_count": 119,
   "id": "1856952a",
   "metadata": {},
   "outputs": [],
   "source": [
    "la,lb,lc,ld,le = len(Offername),len(Price),len(Platform),len(SellerRating),len(SellerName)\n",
    "# now find the min\n",
    "min_len = min(la,lb,lc,ld,le)"
   ]
  },
  {
   "cell_type": "code",
   "execution_count": 120,
   "id": "7d1a16f4",
   "metadata": {},
   "outputs": [],
   "source": [
    "if len(Offername)>min_len:\n",
    "    Offername = Offername[:min_len - len(Offername)]\n",
    "    \n",
    "if len(Price)>min_len:\n",
    "    Price = Price[:min_len - len(Price)]\n",
    "    \n",
    "if len(Platform)>min_len:\n",
    "    Platform = Platform[:min_len - len(Platform)]\n",
    "\n",
    "if len(SellerRating)>min_len:\n",
    "    SellerRating = SellerRating[:min_len - len(SellerRating)]\n",
    "\n",
    "if len(SellerName)>min_len:\n",
    "    SellerName = SellerName[:min_len - len(SellerName)]"
   ]
  },
  {
   "cell_type": "code",
   "execution_count": 121,
   "id": "0d4da834",
   "metadata": {},
   "outputs": [],
   "source": [
    "data = {\n",
    "        'Offername':Offername,\n",
    "        'Price_Seller':Price,\n",
    "        'Platform':Platform,\n",
    "        'SellerRating':SellerRating,\n",
    "        'SellerName':SellerName,\n",
    "    }"
   ]
  },
  {
   "cell_type": "code",
   "execution_count": 122,
   "id": "34483f21",
   "metadata": {},
   "outputs": [],
   "source": [
    "# Other Specs\n",
    "Warna = bsobj_detail.find_all(lambda tag: tag.name == \"tr\" and \"Warna\" in tag.text)[1].text.replace(\"Warna\",'').strip()\n",
    "ROM = bsobj_detail.find_all(lambda tag: tag.name == \"tr\" and \"Penyimpanan\" in tag.text)[0].text.replace(\"Penyimpanan\", '').strip()\n",
    "RAM = bsobj_detail.find_all(lambda tag: tag.name == \"tr\" and \"RAM\" in tag.text)[0].text.replace(\"RAM\", '').strip()\n",
    "try:\n",
    "    Harga_resmi = bsobj_detail.find_all(lambda tag: tag.name == \"tr\" and \"Harga Resmi\" in tag.text)[0].text.replace(\"Harga Resmi\", '').strip()\n",
    "except:\n",
    "    Harga_resmi = None\n",
    "Kamera = bsobj_detail.find_all(lambda tag: tag.name == \"tr\" and \"Kamera Utama\" in tag.text)[0].text.replace(\"Kamera Utama\", '').strip()"
   ]
  },
  {
   "cell_type": "code",
   "execution_count": 123,
   "id": "9d9d33b5",
   "metadata": {},
   "outputs": [],
   "source": [
    "df = pd.DataFrame(data)\n",
    "df[\"Colour\"] = Warna\n",
    "df[\"ROM\"] = ROM\n",
    "df[\"RAM\"] = RAM\n",
    "df[\"Price Official\"] = Harga_resmi\n",
    "df[\"Camera\"] = Kamera"
   ]
  },
  {
   "cell_type": "markdown",
   "id": "bc315eca",
   "metadata": {},
   "source": [
    "## Testing Driver 2"
   ]
  },
  {
   "cell_type": "code",
   "execution_count": 72,
   "id": "036ce029",
   "metadata": {},
   "outputs": [],
   "source": [
    "url = click_link('https://iprice.co.id/harga/xiaomi-redmi-note-11/#amp-x-autoplay=1')[0]"
   ]
  },
  {
   "cell_type": "code",
   "execution_count": 73,
   "id": "268f0626",
   "metadata": {},
   "outputs": [
    {
     "data": {
      "text/plain": [
       "'https://iprice.co.id/harga/xiaomi-redmi-note-11-128gb-4gb-graphite-gray/'"
      ]
     },
     "execution_count": 73,
     "metadata": {},
     "output_type": "execute_result"
    }
   ],
   "source": [
    "url"
   ]
  },
  {
   "cell_type": "code",
   "execution_count": 74,
   "id": "fa6e5aaa",
   "metadata": {},
   "outputs": [],
   "source": [
    "driver.get(url)"
   ]
  },
  {
   "cell_type": "code",
   "execution_count": 75,
   "id": "f6697594",
   "metadata": {},
   "outputs": [],
   "source": [
    "driver.maximize_window()"
   ]
  },
  {
   "cell_type": "code",
   "execution_count": 76,
   "id": "4d335bfe",
   "metadata": {},
   "outputs": [],
   "source": [
    "driver.execute_script(\"window.scrollTo(0, 600)\")"
   ]
  },
  {
   "cell_type": "code",
   "execution_count": 77,
   "id": "596d5b2c",
   "metadata": {},
   "outputs": [],
   "source": [
    "WebDriverWait(driver, 5).until(EC.element_to_be_clickable((By.XPATH, '//div[@id=\"unknown-offers-tab-in-default\"]'))).click()"
   ]
  },
  {
   "cell_type": "code",
   "execution_count": 80,
   "id": "f7f9ccbb",
   "metadata": {},
   "outputs": [],
   "source": [
    "soup = driver.page_source\n",
    "bsobj_detail = BeautifulSoup(soup,'html.parser')"
   ]
  },
  {
   "cell_type": "code",
   "execution_count": 103,
   "id": "f9d3c50f",
   "metadata": {},
   "outputs": [],
   "source": [
    "# Get the offername\n",
    "Offername = []\n",
    "for item in bsobj_detail.findAll('div', {'class':'b8 l4 rL F mD ve aZ ph A a0 eC l7'}):\n",
    "    now = item.findAll('p',{'class':'qA b a dG rM'})\n",
    "    for each in now:\n",
    "        Offername.append(each.text.strip())\n",
    "      \n",
    "if len(Offername)>20:\n",
    "    Offername = Offername[:20]\n",
    "\n",
    "Offername = list(filter(None, Offername))"
   ]
  },
  {
   "cell_type": "code",
   "execution_count": 105,
   "id": "52e3d199",
   "metadata": {},
   "outputs": [],
   "source": [
    "# Scrape the Price\n",
    "Price = []\n",
    "for item in bsobj_detail.findAll('div', {'class':'b8 l4 rL F mD ve aZ ph A a0 eC l7'}):\n",
    "    now = item.findAll('div',{'class':'e7 a1 b gW tr bT dn bR'})\n",
    "    for each in now:\n",
    "        Price.append(each.text.strip())\n",
    "        \n",
    "if len(Price)>20:\n",
    "    Price = Price[:20]\n",
    "    \n",
    "Price = list(filter(None, Price))"
   ]
  },
  {
   "cell_type": "code",
   "execution_count": 107,
   "id": "79edaf83",
   "metadata": {},
   "outputs": [],
   "source": [
    "# Get the platform\n",
    "Platform = []\n",
    "SellerRating = []\n",
    "SellerName = []\n",
    "\n",
    "for item in bsobj_detail.findAll('span', {'data-vars-action':'pc-2ndhand'}):\n",
    "    line = item[\"data-vars-merchant\"]\n",
    "    Platform.append(line.split('|')[0])\n",
    "    SellerName.append(line.split('|')[2].replace('sellerName:',''))\n",
    "    SellerRating.append(line.split('|')[3].replace('sellerRating:',''))\n",
    "\n",
    "Platform = Platform[:21]\n",
    "SellerRating = SellerRating[:21]\n",
    "SellerName = SellerName[:21]\n",
    "\n",
    "Platform = list(filter(None, Platform))\n",
    "\n",
    "Platform = [ x for x in Platform if '{{merchant.url}}' not in x ]\n",
    "\n",
    "SellerName = [ x for x in SellerName if '{{seller.name}}' not in x ]\n",
    "\n",
    "SellerRating = [ x for x in SellerRating if '{{seller.rating}}' not in x ]"
   ]
  },
  {
   "cell_type": "code",
   "execution_count": null,
   "id": "96545087",
   "metadata": {},
   "outputs": [],
   "source": []
  }
 ],
 "metadata": {
  "kernelspec": {
   "display_name": "Python 3 (ipykernel)",
   "language": "python",
   "name": "python3"
  },
  "language_info": {
   "codemirror_mode": {
    "name": "ipython",
    "version": 3
   },
   "file_extension": ".py",
   "mimetype": "text/x-python",
   "name": "python",
   "nbconvert_exporter": "python",
   "pygments_lexer": "ipython3",
   "version": "3.10.9"
  }
 },
 "nbformat": 4,
 "nbformat_minor": 5
}
