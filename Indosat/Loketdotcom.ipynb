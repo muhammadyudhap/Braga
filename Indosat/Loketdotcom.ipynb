{
 "cells": [
  {
   "cell_type": "code",
   "execution_count": 2,
   "id": "4ca466df",
   "metadata": {},
   "outputs": [],
   "source": [
    "from datetime import datetime\n",
    "import pandas as pd\n",
    "\n",
    "from selenium import webdriver\n",
    "from selenium.webdriver.chrome.service import Service\n",
    "from selenium.webdriver.chrome.options import Options\n",
    "from tqdm import tqdm\n",
    "\n",
    "import os\n",
    "from time import sleep\n",
    "\n",
    "from selenium.webdriver.support.ui import Select\n",
    "from selenium.webdriver.common.by import By\n",
    "\n",
    "import requests\n",
    "from bs4 import BeautifulSoup"
   ]
  },
  {
   "cell_type": "code",
   "execution_count": 3,
   "id": "4fa05b61",
   "metadata": {},
   "outputs": [],
   "source": [
    "from selenium.common.exceptions import TimeoutException\n",
    "from selenium.webdriver.support.ui import WebDriverWait\n",
    "from selenium.webdriver.support import expected_conditions as EC"
   ]
  },
  {
   "cell_type": "code",
   "execution_count": 4,
   "id": "9a56a031",
   "metadata": {},
   "outputs": [],
   "source": [
    "url = 'https://www.loket.com/discover?per_page=8&sorts=daz&page='"
   ]
  },
  {
   "cell_type": "code",
   "execution_count": 5,
   "id": "5713da57",
   "metadata": {},
   "outputs": [],
   "source": [
    "# get the chromedriver path\n",
    "path = os.getcwd()+'/chromedriver'\n",
    "options = Options()\n",
    "#options.headless = True\n",
    "#options.add_argument(\"--disable-gpu\")\n",
    "#options.add_argument(\"--no-sandbox\")\n",
    "#options.add_argument(\"enable-automation\")\n",
    "#options.add_argument(\"--disable-infobars\")\n",
    "#options.add_argument(\"--disable-dev-shm-usage\")\n",
    "driver = webdriver.Chrome(options=options)"
   ]
  },
  {
   "cell_type": "code",
   "execution_count": 6,
   "id": "b1231149",
   "metadata": {},
   "outputs": [],
   "source": [
    "# Execute the webdriver\n",
    "driver.get(url)"
   ]
  },
  {
   "cell_type": "code",
   "execution_count": 7,
   "id": "1e0e9d6a",
   "metadata": {},
   "outputs": [],
   "source": [
    "soup = driver.page_source\n",
    "bsobj = BeautifulSoup(soup,'html.parser')"
   ]
  },
  {
   "cell_type": "markdown",
   "id": "b7f4b84a",
   "metadata": {},
   "source": [
    "## Get URLS"
   ]
  },
  {
   "cell_type": "code",
   "execution_count": 8,
   "id": "fe93911e",
   "metadata": {},
   "outputs": [],
   "source": [
    "Urls = []"
   ]
  },
  {
   "cell_type": "code",
   "execution_count": null,
   "id": "d5ded831",
   "metadata": {},
   "outputs": [],
   "source": [
    "for i in range (1,72):\n",
    "    soup = driver.page_source\n",
    "    bsobj = BeautifulSoup(soup,'html.parser')\n",
    "    \n",
    "    for ti in bsobj.findAll('a',{'class':'uk-link-reset body'}):\n",
    "        each_url = ti['href']\n",
    "        what_url = each_url\n",
    "        Urls.append(what_url)\n",
    "        \n",
    "    sleep(10)\n",
    "    driver.execute_script(\"window.scrollTo(0,document.body.scrollHeight)\")\n",
    "    WebDriverWait(driver, 10).until(EC.element_to_be_clickable((By.XPATH, '//span[@class=\"uk-link-reset next-page\"]'))).click()"
   ]
  },
  {
   "cell_type": "code",
   "execution_count": 8,
   "id": "c8a5cea4",
   "metadata": {},
   "outputs": [
    {
     "data": {
      "text/plain": [
       "['https://www.loket.com/event/optimalisasi-kecerdasan-anak-strategi-pembinaan-stimulasi-yang-tepat-vzdg',\n",
       " 'https://www.loket.com/event/10-indonesian-private-lessons_V999g',\n",
       " 'https://www.loket.com/event/happy-asmara-mr-jono-joni-ngopibareng-pintulangit-vly',\n",
       " 'https://www.loket.com/event/managing-across-generation_VEbb',\n",
       " 'https://www.loket.com/event/10-indonesian-private-lessons_V9993',\n",
       " 'https://www.loket.com/event/aspek-dan-perlindungan-hukum-terhadap-perkawinan-masyarakat-penganut-vbydd',\n",
       " 'https://www.loket.com/event/talk8-jaf2023',\n",
       " 'https://www.loket.com/event/moon-celebration-v24b',\n",
       " 'https://www.loket.com/event/optimalisasi-kecerdasan-anak-strategi-pembinaan-stimulasi-yang-tepat-vzdg',\n",
       " 'https://www.loket.com/event/10-indonesian-private-lessons_V999g',\n",
       " 'https://www.loket.com/event/happy-asmara-mr-jono-joni-ngopibareng-pintulangit-vly',\n",
       " 'https://www.loket.com/event/managing-across-generation_VEbb',\n",
       " 'https://www.loket.com/event/10-indonesian-private-lessons_V9993',\n",
       " 'https://www.loket.com/event/aspek-dan-perlindungan-hukum-terhadap-perkawinan-masyarakat-penganut-vbydd',\n",
       " 'https://www.loket.com/event/talk8-jaf2023',\n",
       " 'https://www.loket.com/event/moon-celebration-v24b',\n",
       " 'https://www.loket.com/event/pemutaran-film-bintang-ketjil_V99i',\n",
       " 'https://www.loket.com/event/omadella-sekaten-solo-2023_Vtx',\n",
       " 'https://www.loket.com/event/hanebu-sauyun-concert-denny-cak-nan-in-love-vtw',\n",
       " 'https://www.loket.com/event/habitat-by-bintang-emon-surabaya_UD29',\n",
       " 'https://www.loket.com/event/sm-night-friday-noraebang-v6z',\n",
       " 'https://www.loket.com/event/metamorphosis-festival-in-jember-2023-09-december-2023-v4b43',\n",
       " 'https://www.loket.com/event/side-a-side-b-mini-rave-festivals-vmm',\n",
       " 'https://www.loket.com/event/yif-batch-4-vkj',\n",
       " 'https://www.loket.com/event/down-payment-bootcamp-109-v9uy',\n",
       " 'https://www.loket.com/event/wellness-aqua-yoga',\n",
       " 'https://www.loket.com/event/kelas-mengelola-usaha-laundry-dari-nol-batch-9_VS4b',\n",
       " 'https://www.loket.com/event/cikal-pop-up-class-gerak-gerak-23-september_Vwm',\n",
       " 'https://www.loket.com/event/mastering-copywriting-boost-your-ads-and-marketing-message_V5bD',\n",
       " 'https://www.loket.com/event/webinar-cara-content-creator-pemula-mendapatkan-endorsement_VfE',\n",
       " 'https://www.loket.com/event/10-indonesian-private-lessons_V9994',\n",
       " 'https://www.loket.com/event/bermain-dan-seru-seruan-di-kidzoona-bareng-adik_V649',\n",
       " 'https://www.loket.com/event/jadi-data-analis-profesional-vfy',\n",
       " 'https://www.loket.com/event/akta-ppjb-lunas-dan-permasalahannya-vz7',\n",
       " 'https://www.loket.com/event/jadi-programmer-golang-python-vfk',\n",
       " 'https://www.loket.com/event/tiket-wahana-v6o',\n",
       " 'https://www.loket.com/event/tiket-wahana-atv-besar-v6u',\n",
       " 'https://www.loket.com/event/tiket-wahana-atv-besar-2-orang_V6m',\n",
       " 'https://www.loket.com/event/membangun-apps-berbasis-ai-tanpa-koding-dengan-pendekatan_VV94',\n",
       " 'https://www.loket.com/event/jadi-programmer-python-copywriter-vfx',\n",
       " 'https://www.loket.com/event/bermain-dan-belajar-buat-lilin-bersama-adik_Vjd',\n",
       " 'https://www.loket.com/event/cikal-pop-up-class-x-mardin-cafe-30_V43q',\n",
       " 'https://www.loket.com/event/livy-renata-1st-private-meet-and-greet-v4bn',\n",
       " 'https://www.loket.com/event/pameran-koleksi-dan-arsip-toeti-heraty-museum-ddu34',\n",
       " 'https://www.loket.com/event/psp',\n",
       " 'https://www.loket.com/event/goalkampung',\n",
       " 'https://www.loket.com/event/sunset-yoga-by-konco-yoga-vde',\n",
       " 'https://www.loket.com/event/homecoming2023semarang',\n",
       " 'https://www.loket.com/event/solophoto-sragen-self-photo-studio-vi4g',\n",
       " 'https://www.loket.com/event/taman-impian_UU4U9',\n",
       " 'https://www.loket.com/event/dunia-fantasi-dufan_UU9c1',\n",
       " 'https://www.loket.com/event/sea-world_UU9Yg',\n",
       " 'https://www.loket.com/event/arpa-self-photo-studio-vrd1',\n",
       " 'https://www.loket.com/event/berbagi-bahagia-dengan-pasien-di-rumah-singgah_V64b',\n",
       " 'https://www.loket.com/event/psiko',\n",
       " 'https://www.loket.com/event/webinar-time-management-cara-memaksimalkan-produkitivitas_VIU4',\n",
       " 'https://www.loket.com/event/konser-musik-sanz-tetap-berharap-u3d4g',\n",
       " 'https://www.loket.com/event/nutrition-care-process-pada-pasien-dengan-penyakit-kanker_V9Y8',\n",
       " 'https://www.loket.com/event/rinai-dikara-sinoptik-vw9g',\n",
       " 'https://www.loket.com/event/gjls2nd-tsk',\n",
       " 'https://www.loket.com/event/tribute-to-yovie-widianto_VbYbU',\n",
       " 'https://www.loket.com/event/plus26-pengaduan-rakyat_UbbU9',\n",
       " 'https://www.loket.com/event/fambandung',\n",
       " 'https://www.loket.com/event/g30th-pcsndh',\n",
       " 'https://www.loket.com/event/jakarta-bird-land_UU9cU',\n",
       " 'https://www.loket.com/event/ocean-dream-samudra_UU91U',\n",
       " 'https://www.loket.com/event/atlantis-ancol_UUbD3',\n",
       " 'https://www.loket.com/event/akademi-ritel-gramedia_VnUD',\n",
       " 'https://www.loket.com/event/gramedia-academy-menulis-buku-anak-dengan-konsep-bertema_VPb9',\n",
       " 'https://www.loket.com/event/gramedia-academy-meningkatkan-kompetensi-sdm-di-era-4_VPDY',\n",
       " 'https://www.loket.com/event/prettypinkdreams',\n",
       " 'https://www.loket.com/event/intimate-yoga-by-the-life-society_VbcQ',\n",
       " 'https://www.loket.com/event/temu-penulis-gagasmedia-yoris-sebastian-xaviera-putri-v9dbu',\n",
       " 'https://www.loket.com/event/10-indonesian-private-lessons_V9999',\n",
       " 'https://www.loket.com/event/sinergibicara-psclass-jakarta-011023',\n",
       " 'https://www.loket.com/event/menghias-cupcake-bersama-adik-adik-panti-v9gdb',\n",
       " 'https://www.loket.com/event/pelatihan-gada-pratama-security_UbZY',\n",
       " 'https://www.loket.com/event/melukis-dan-berkunjung-ke-pameran-seni-ui-artx_V9gD9',\n",
       " 'https://www.loket.com/event/webinar-impaktif-tema-bahasa-asing_Vbgw',\n",
       " 'https://www.loket.com/event/persela-lamongan-vs-gresik-united_V91Dg',\n",
       " 'https://www.loket.com/event/tiketbulananbdtpekan5sept2023',\n",
       " 'https://www.loket.com/event/tikettahunanumumbdtpekan5sept2023',\n",
       " 'https://www.loket.com/event/homecoming2023yogyakarta',\n",
       " 'https://www.loket.com/event/tiketharianbdtpekan5sept2023',\n",
       " 'https://www.loket.com/event/tikettahunanpelajarbdtpekan5sept2023',\n",
       " 'https://www.loket.com/event/sinergibicara-mcclass-jakarta-011023',\n",
       " 'https://www.loket.com/event/fullball-the-awakening-day-2023-v9343',\n",
       " 'https://www.loket.com/event/ekspedisi-lingkungan-di-pantai-ujung-genteng_Vty',\n",
       " 'https://www.loket.com/event/piala-jakarta-futsalseries-liga-pramusim-vot',\n",
       " 'https://www.loket.com/event/helau-dance-festival_V91m',\n",
       " 'https://www.loket.com/event/woyo-fest-vjf',\n",
       " 'https://www.loket.com/event/imoby-indonesia-mom-baby-kids-expo-2023_UUD94',\n",
       " 'https://www.loket.com/event/sertifikasi-ahli-k3-umum-bnsp_Vlb3',\n",
       " 'https://www.loket.com/event/yrmujakarta',\n",
       " 'https://www.loket.com/event/nyejer-music',\n",
       " 'https://www.loket.com/event/habitat-by-bintang-emon-bali_UD2U',\n",
       " 'https://www.loket.com/event/pentas-karya-tari-suman-oleh-elly-luthan-udu39',\n",
       " 'https://www.loket.com/event/10-indonesian-private-lessons_V999b',\n",
       " 'https://www.loket.com/event/5-hari-kelas-akting-intensif-bersama-verdi-solaiman-vi94',\n",
       " 'https://www.loket.com/event/10-indonesian-private-lessons_V999D',\n",
       " 'https://www.loket.com/event/gildcoustic-sekaten-solo-2023_VtE',\n",
       " 'https://www.loket.com/event/10-indonesian-private-lessons_V999U',\n",
       " 'https://www.loket.com/event/sertifikasi-bnsp-investigasi-insiden-ve4u',\n",
       " 'https://www.loket.com/event/brewog-audio-sekaten-solo-2023_Vtq',\n",
       " 'https://www.loket.com/event/konser-kemerdekaan-vpd3',\n",
       " 'https://www.loket.com/event/10-indonesian-private-lessons_V99bc',\n",
       " 'https://www.loket.com/event/open-trip-oktober-ceria_VbY9c',\n",
       " 'https://www.loket.com/event/t-don-presentation-skills-offline-workshop-fundamental_VPn',\n",
       " 'https://www.loket.com/event/techmind-conference-unleash-the-unicorn-inside_Vv4D',\n",
       " 'https://www.loket.com/event/indonesia-future-leader-summit',\n",
       " 'https://www.loket.com/event/csab',\n",
       " 'https://www.loket.com/event/sharing-session-archinesia-76-design-approach-method-v9dq',\n",
       " 'https://www.loket.com/event/richard-marx-the-songwriter-tour_VfN',\n",
       " 'https://www.loket.com/event/kaka-slank_V7bU',\n",
       " 'https://www.loket.com/event/10-indonesian-private-lessons_V99bY',\n",
       " 'https://www.loket.com/event/belajar-membatik-bersama-adik-adik-panti_V9gUc',\n",
       " 'https://www.loket.com/event/et-asia-intensive-bootcamp-indonesia-capital-market-law_V8K',\n",
       " 'https://www.loket.com/event/pertanggungjawaban-pidana-notaris-dan-ppat-atas-tindak-pidana-vbyd9',\n",
       " 'https://www.loket.com/event/indonesia-digital-meetup-2023',\n",
       " 'https://www.loket.com/event/theraplay-gathering-bali2023',\n",
       " 'https://www.loket.com/event/vibrant-colors-in-illustration_VkW',\n",
       " 'https://www.loket.com/event/member-f1_V8J',\n",
       " 'https://www.loket.com/event/perpanjang-membership-f1_V8O',\n",
       " 'https://www.loket.com/event/homecoming2023bandung',\n",
       " 'https://www.loket.com/event/in-memoriam-of-benny-panjaitan-bersama-new-panbers-v99x',\n",
       " 'https://www.loket.com/event/unram',\n",
       " 'https://www.loket.com/event/ptm-kaloberaksi-bandung-vqt',\n",
       " 'https://www.loket.com/event/ai-powered-chatbot-with-chatgpt-api-integration_V9394',\n",
       " 'https://www.loket.com/event/data-analytics-essentials-with-google-data-studio_V93b9',\n",
       " 'https://www.loket.com/event/ipld',\n",
       " 'https://www.loket.com/event/10-indonesian-private-lessons_V99bg',\n",
       " 'https://www.loket.com/event/bermain-dan-berbagi-makanan-bersama-warga-kampung-bantaran_V9gD3',\n",
       " 'https://www.loket.com/event/bermain-musik-bersama-anak-pemusik-jalanan_V9gUg',\n",
       " 'https://www.loket.com/event/living-in-fortune-scientific-feng-shui-in-modern_Vrbc',\n",
       " 'https://www.loket.com/event/puskara-arga-soka-vlbb',\n",
       " 'https://www.loket.com/event/workshop-and-battle-barber-2023_V6D3',\n",
       " 'https://www.loket.com/event/workshop-basic-manual-brewing-v7d9',\n",
       " 'https://www.loket.com/event/closing-altocup-6-raissaanggiani',\n",
       " 'https://www.loket.com/event/droidjam-2023-vjt',\n",
       " 'https://www.loket.com/event/nap-training-bali2023',\n",
       " 'https://www.loket.com/event/kebangunan-rohani-katolik-faithful-and-fruitful-uu49d',\n",
       " 'https://www.loket.com/event/scale-up-your-career-through-project-management-skills_V9UV',\n",
       " 'https://www.loket.com/event/seribu-cerita-keuangan',\n",
       " 'https://www.loket.com/event/cerita-sebelku-oleh-raditya-dika-padang_UUi4',\n",
       " 'https://www.loket.com/event/operatic-concert-100-years-tribute-to-maria-callas_V69b',\n",
       " 'https://www.loket.com/event/2024-surabaya',\n",
       " 'https://www.loket.com/event/edge-day-2023_VFU3',\n",
       " 'https://www.loket.com/event/tiket-donasi-billiard-basketball-fun-competition-ud494',\n",
       " 'https://www.loket.com/event/10-indonesian-private-lessons_V99b1',\n",
       " 'https://www.loket.com/event/morula-sunday-morning-talk-bersama-arda-medical-center_ViD9',\n",
       " 'https://www.loket.com/event/mengenal-dunia-angkasa-bersama-adik-adik-panti_V9gU9',\n",
       " 'https://www.loket.com/event/rrrec-fest-in-the-valley-2023-udpy',\n",
       " 'https://www.loket.com/event/susyballet',\n",
       " 'https://www.loket.com/event/webinar-belajar-memaksimalkan-prompt-dalam-menggunakan-ai-tools-v9c9g',\n",
       " 'https://www.loket.com/event/museum-macan-ticket-admission_p411',\n",
       " 'https://www.loket.com/event/bsfreefly',\n",
       " 'https://www.loket.com/event/sicaf-2023',\n",
       " 'https://www.loket.com/event/konservasi-elang-field-herping_V9gD1',\n",
       " 'https://www.loket.com/event/terangtanahsampah',\n",
       " 'https://www.loket.com/event/stand-here-alone-sekaten-solo-2023_V6D9',\n",
       " 'https://www.loket.com/event/coffee-camp-karawang-2023-v4gdc',\n",
       " 'https://www.loket.com/event/jeslla-unspoken-showcase',\n",
       " 'https://www.loket.com/event/konser-legend-musik-era-ku-2-0-vfd3',\n",
       " 'https://www.loket.com/event/social-arkvenue-vol-2-v99b9',\n",
       " 'https://www.loket.com/event/csmd',\n",
       " 'https://www.loket.com/event/creative-problem-solving-at-work_U9U43',\n",
       " 'https://www.loket.com/event/asesmen-minat-bakat-online-by-pion-clinician-batch-vz9c',\n",
       " 'https://www.loket.com/event/sertifikasi-bnsp-pengawas-k3-migas-ve91',\n",
       " 'https://www.loket.com/event/kevin-morby-live-in-jakarta-plainsong-live_V439D',\n",
       " 'https://www.loket.com/event/t-don-presentation-skills-offline-workshop-elevator_VP9D',\n",
       " 'https://www.loket.com/event/business-communication-skills_U9U34',\n",
       " 'https://www.loket.com/event/bshr',\n",
       " 'https://www.loket.com/event/extensive-project-management-program-xpm_D4U99',\n",
       " 'https://www.loket.com/event/dynamic-pmp-exam-preparation_D4UbD',\n",
       " 'https://www.loket.com/event/dynamic-capm-exam-preparation-program-capm_D9XU',\n",
       " 'https://www.loket.com/event/capm-exam-preparation_U9U3U',\n",
       " 'https://www.loket.com/event/pmp-exam-preparation_U9U49',\n",
       " 'https://www.loket.com/event/professional-project-management_UbI4',\n",
       " 'https://www.loket.com/event/konferensi-ama-leadership-summit_Vk4g',\n",
       " 'https://www.loket.com/event/shutterclass17',\n",
       " 'https://www.loket.com/event/the-cycle-peluang-baru-ladang-cuan',\n",
       " 'https://www.loket.com/event/gm-music-fest-goes-to-batu-vkt',\n",
       " 'https://www.loket.com/event/fur-x-hard-rock-cafe-bali-30th-anniversary-vb9c',\n",
       " 'https://www.loket.com/event/webinar-self-knowledge-mengenali-diri-dan-menemukan-passion_VIUb',\n",
       " 'https://www.loket.com/event/python-for-data-scrapping-tiktok-twitter_V93Db',\n",
       " 'https://www.loket.com/event/menangkan-debat-politik-dengan-mahir-public-speaking-v9buc',\n",
       " 'https://www.loket.com/event/clapham-conference-2023_U971',\n",
       " 'https://www.loket.com/event/festival-teater-pelajar-teater-roket-v99m',\n",
       " 'https://www.loket.com/event/breaking-down-scholarship-essay_VlL',\n",
       " 'https://www.loket.com/event/mini-bootcamp-design-adalah-jalan-dakwah-ku',\n",
       " 'https://www.loket.com/event/cerita-sebelku-oleh-raditya-dika-palembang_UU0g',\n",
       " 'https://www.loket.com/event/smariduta-youth-carnival-vol-5_VmR',\n",
       " 'https://www.loket.com/event/resurgemus-csi',\n",
       " 'https://www.loket.com/event/pasta-2023',\n",
       " 'https://www.loket.com/event/2024-yogyakarta',\n",
       " 'https://www.loket.com/event/perjalanan-sementara-yogyakarta_VT91',\n",
       " 'https://www.loket.com/event/hesforia-vbc9g',\n",
       " 'https://www.loket.com/event/onlineclass-ps-15-10-23',\n",
       " 'https://www.loket.com/event/certified-professional-digital-marketing-and-e-commerce-certified-vf9c',\n",
       " 'https://www.loket.com/event/muslimah-youth-forum-online_V934U',\n",
       " 'https://www.loket.com/event/onlineclass-mc-15-10-23',\n",
       " 'https://www.loket.com/event/season-1-kontes-ayam-pelung-piala-rektor-unpad-vki',\n",
       " 'https://www.loket.com/event/season-02-kongtes-ayam-pelung-piala-rektor-unpad_VK0',\n",
       " 'https://www.loket.com/event/season-04-kontes-ayam-pelung-piala-rektor-unpad_VK7',\n",
       " 'https://www.loket.com/event/season-3-kontes-ayam-pelung-piala-rektor-unpad_VK4g',\n",
       " 'https://www.loket.com/event/webinar-dasar-teknik-prompt-perintah-dalam-menggunakan-ai-v9c94',\n",
       " 'https://www.loket.com/event/semesta-berpesta-jakarta_VbcG',\n",
       " 'https://www.loket.com/event/m-bloc-fest-2023_Vbc9Y',\n",
       " 'https://www.loket.com/event/sul-sel-aniv-fest-2023-colour-run-vr91',\n",
       " 'https://www.loket.com/event/tiket-resmi-sul-sel-annivest-2023-run-5-vmk',\n",
       " 'https://www.loket.com/event/critical-thinking-skills-for-all-professionals_U9U13',\n",
       " 'https://www.loket.com/event/hse-acceleration-program-management-system-iso_V6I',\n",
       " 'https://www.loket.com/event/clskbatchix',\n",
       " 'https://www.loket.com/event/practical-public-speaking_U9U4U',\n",
       " 'https://www.loket.com/event/abang2ankaraoke',\n",
       " 'https://www.loket.com/event/amecapac2023',\n",
       " 'https://www.loket.com/event/hse-acceleration-program-basic-k3-migas-tambang_V6f',\n",
       " 'https://www.loket.com/event/online-random-talks-19-october-2023_VCZ',\n",
       " 'https://www.loket.com/event/data-analytics-essentials-with-google-data-studio_V93D9',\n",
       " 'https://www.loket.com/event/online-random-talks-20-october-2023_VCL',\n",
       " 'https://www.loket.com/event/filla-music-fest-guyon-waton-v6dg',\n",
       " 'https://www.loket.com/event/didi-kempot-tribute-music-concert-udzd',\n",
       " 'https://www.loket.com/event/cikal-pop-up-class-kunyah-kunyah-21-oktober_Vwj',\n",
       " 'https://www.loket.com/event/cikal-pop-up-class-kunyah-kunyah-21-oktober_VwR',\n",
       " 'https://www.loket.com/event/cikal-pop-up-class-kunyah-kunyah-21-oktober_VwF',\n",
       " 'https://www.loket.com/event/cikal-pop-up-class-kunyah-kunyah-21-oktober_Vwe',\n",
       " 'https://www.loket.com/event/online-random-talks-21-october-2023_VCd',\n",
       " 'https://www.loket.com/event/sigap-batch-3-2023-intro_VfUg',\n",
       " 'https://www.loket.com/event/scholarship-incubator-intro_VbYh',\n",
       " 'https://www.loket.com/event/decade-by-bogor-runners-vjc',\n",
       " 'https://www.loket.com/event/15thjakmed2023',\n",
       " 'https://www.loket.com/event/gema-gathika-offline-3d-music-concert-u9vu',\n",
       " 'https://www.loket.com/event/chindo-kalbar-seminar-project-vmm',\n",
       " 'https://www.loket.com/event/perjalanan-sementara-malang_V0v',\n",
       " 'https://www.loket.com/event/black-camping-makassar',\n",
       " 'https://www.loket.com/event/festivaltitiktemu2023',\n",
       " 'https://www.loket.com/event/homecoming2023jakarta',\n",
       " 'https://www.loket.com/event/ghost-mansion',\n",
       " 'https://www.loket.com/event/cartoon2023',\n",
       " 'https://www.loket.com/event/katedral-open-vhd1',\n",
       " 'https://www.loket.com/event/katedral-open-vhu1',\n",
       " 'https://www.loket.com/event/candyland',\n",
       " 'https://www.loket.com/event/pekan-raya-jatim_V93bg',\n",
       " 'https://www.loket.com/event/festival-rimba-indonesia-rimbafest-vol-1_V418',\n",
       " 'https://www.loket.com/event/playlist-live-festival-2023_UDn1',\n",
       " 'https://www.loket.com/event/sertifikasi-bnsp-training-of-trainer-ve9d',\n",
       " 'https://www.loket.com/event/hse-acceleration-program-workshop-risk-analisis-kecelakaan-jsa_V6k',\n",
       " 'https://www.loket.com/event/2024-indonesia-market-behavior-outlook-vn99',\n",
       " 'https://www.loket.com/event/et-asia-ossrba',\n",
       " 'https://www.loket.com/event/nsk',\n",
       " 'https://www.loket.com/event/hse-acceleration-program-emergency-response-plan-erp-bff-v6w',\n",
       " 'https://www.loket.com/event/all-in-ticket-hse-acceleration-program_V6Z',\n",
       " 'https://www.loket.com/event/grandshow2023',\n",
       " 'https://www.loket.com/event/steve-vai-inviolate-2023_Vl94',\n",
       " 'https://www.loket.com/event/birubaru-berlayar',\n",
       " 'https://www.loket.com/event/webinar-study-hack-cara-belajar-lebih-cerdas-dan_Vfr',\n",
       " 'https://www.loket.com/event/teknikal-classic-101-v9b0',\n",
       " 'https://www.loket.com/event/tweads-bazzar-preloved-books-vbbd',\n",
       " 'https://www.loket.com/event/guinness-brighter-together_V9Dm',\n",
       " 'https://www.loket.com/event/cerita-sebelku-oleh-raditya-dika-batam_UU4gc',\n",
       " 'https://www.loket.com/event/an-intimate-concert-with-gigi-vp9d',\n",
       " 'https://www.loket.com/event/to-day-party-vst',\n",
       " 'https://www.loket.com/event/black-camping-surabaya',\n",
       " 'https://www.loket.com/event/nyawang-swara-3',\n",
       " 'https://www.loket.com/event/narasi-hati-echa-v99q',\n",
       " 'https://www.loket.com/event/ini-medan-bung-u9jb',\n",
       " 'https://www.loket.com/event/banyak-anak-banyak-rizki-vsu9',\n",
       " 'https://www.loket.com/event/indonesia-united-in-worship-v8q',\n",
       " 'https://www.loket.com/event/gebyar-hari-santri-2023_V9cUU',\n",
       " 'https://www.loket.com/event/workshoparchetype2023',\n",
       " 'https://www.loket.com/event/medical-acupuncture-in-ophthalmology-and-otolaryngology-an-update_UUh3',\n",
       " 'https://www.loket.com/event/medical-acupuncture-in-ophthalmology-and-otolaryngology-an-update_VKr',\n",
       " 'https://www.loket.com/event/pelatihan-gada-pratama-security_UbZ1',\n",
       " 'https://www.loket.com/event/outdoor-yoga-by-konco-yoga_Vbgy',\n",
       " 'https://www.loket.com/event/vol-05-sewaktu-bermusik-di-taman-budaya-sentul',\n",
       " 'https://www.loket.com/event/pameranarchetype2023',\n",
       " 'https://www.loket.com/event/black-camping-denpasar',\n",
       " 'https://www.loket.com/event/rock-in-celebes_UbmU',\n",
       " 'https://www.loket.com/event/the-papandayan-jazz-fest-tpjf-2023-vlx',\n",
       " 'https://www.loket.com/event/sesore-sekolah-sosial-forestri-vidd',\n",
       " 'https://www.loket.com/event/kaleaid',\n",
       " 'https://www.loket.com/event/world-tourrecycling-virtual-v93bc',\n",
       " 'https://www.loket.com/event/kursus-musik-sanggarku-basic-ukulele-class_K2c',\n",
       " 'https://www.loket.com/event/imoviccon-2023-vju',\n",
       " 'https://www.loket.com/event/just-mom_UDS9',\n",
       " 'https://www.loket.com/event/anomalieliveinindonesia2023',\n",
       " 'https://www.loket.com/event/redlight-emergency-6-vbdy',\n",
       " 'https://www.loket.com/event/super-brain-yoga-vmb1',\n",
       " 'https://www.loket.com/event/natcon-jci-inter',\n",
       " 'https://www.loket.com/event/plot-twist-makassar',\n",
       " 'https://www.loket.com/event/epic-comeback-by-bonar',\n",
       " 'https://www.loket.com/event/jci-ej-natcon',\n",
       " 'https://www.loket.com/event/pameran-ifbc-2023-jakarta_V0T',\n",
       " 'https://www.loket.com/event/black-camping-bogor',\n",
       " 'https://www.loket.com/event/dynamic-pmi-acp-exam-preparation-program-dacp_D9Ng',\n",
       " 'https://www.loket.com/event/extensive-agile-project-management-xapm_Ubs9',\n",
       " 'https://www.loket.com/event/somia-conference-2023-systems-thinking-in-design_Vjs',\n",
       " 'https://www.loket.com/event/extensive-project-management-program-xpm_D4U9D',\n",
       " 'https://www.loket.com/event/dynamic-pmp-exam-preparation_D4UbU',\n",
       " 'https://www.loket.com/event/dynamic-capm-exam-preparation-program-capm_D95c',\n",
       " 'https://www.loket.com/event/acraa',\n",
       " 'https://www.loket.com/event/indofood-presents-konser-emas-50tahungodbless_V4343',\n",
       " 'https://www.loket.com/event/retii-ke-18-2023',\n",
       " 'https://www.loket.com/event/liga-kopi-jakarta-2023-24_UUbgb',\n",
       " 'https://www.loket.com/event/pengembangan-kompetensi-vgs',\n",
       " 'https://www.loket.com/event/round12-vrl',\n",
       " 'https://www.loket.com/event/il-divo-a-new-day-tour_UU4Dg',\n",
       " 'https://www.loket.com/event/workshopkimbarthel',\n",
       " 'https://www.loket.com/event/black-camping-balikpapan',\n",
       " 'https://www.loket.com/event/jacob-collier-live-concert-2023_UD9DY',\n",
       " 'https://www.loket.com/event/impectful-project-management-office-ipmo_D9vg',\n",
       " 'https://www.loket.com/event/certified-international-procurement-professional-cipp-ud6b',\n",
       " 'https://www.loket.com/event/practical-ms-project-pmsp_D9kU',\n",
       " 'https://www.loket.com/event/hatsukoi-karaoke-vol-2_VAk',\n",
       " 'https://www.loket.com/event/cikal-pop-up-class-cerita-cerita-18-november_Vw6',\n",
       " 'https://www.loket.com/event/cikal-pop-up-class-cerita-cerita-18-november_VwP',\n",
       " 'https://www.loket.com/event/cikal-pop-up-class-cerita-cerita-18-november_Vw7',\n",
       " 'https://www.loket.com/event/cikal-pop-up-class-cerita-cerita-18-november_Vw4g',\n",
       " 'https://www.loket.com/event/ison8',\n",
       " 'https://www.loket.com/event/black-camping-lampung',\n",
       " 'https://www.loket.com/event/manifest-mba',\n",
       " 'https://www.loket.com/event/rx-team-1st-anniversary-v910',\n",
       " 'https://www.loket.com/event/jakarta-tabletop-expo-2023',\n",
       " 'https://www.loket.com/event/certified-international-supply-chain-professional-ciscp-ud6d',\n",
       " 'https://www.loket.com/event/iasti2023',\n",
       " 'https://www.loket.com/event/online-random-talks-23-novembere-2023_VCW',\n",
       " 'https://www.loket.com/event/cpss',\n",
       " 'https://www.loket.com/event/online-random-talks-24-november-2023_VCS',\n",
       " 'https://www.loket.com/event/online-random-talks-25-november-2023_VCl',\n",
       " 'https://www.loket.com/event/public-talk-yongey-mingyur-rinpoche-2023_Vfd',\n",
       " 'https://www.loket.com/event/black-camping-batam',\n",
       " 'https://www.loket.com/event/mobile-legends-bang-bang-sultan-cup-rising-star-vpd',\n",
       " 'https://www.loket.com/event/solo-mlbb-sultan-cup-rising-star-vmp',\n",
       " 'https://www.loket.com/event/pelatihan-gada-pratama-security_UbZ3',\n",
       " 'https://www.loket.com/event/joyland-jakarta-2023_UgbgD',\n",
       " 'https://www.loket.com/event/certified-international-professional-negotiator-cipn-ud6u',\n",
       " 'https://www.loket.com/event/dance-modern-traditional-regular-class-sanggarku_U4U9U',\n",
       " 'https://www.loket.com/event/entrance-ticket_U4DUD',\n",
       " 'https://www.loket.com/event/kimono-rental-japanese-costume_U4UYg',\n",
       " 'https://www.loket.com/event/litto-swimming-pool-u4uy9',\n",
       " 'https://www.loket.com/event/ninja-games-u4uyb',\n",
       " 'https://www.loket.com/event/mindfullness-litto-jogja-u4u13',\n",
       " 'https://www.loket.com/event/litto-jeep-wisata-u4u9g',\n",
       " 'https://www.loket.com/event/entrance-voucher-u4uc3',\n",
       " 'https://www.loket.com/event/plot-twist-bali',\n",
       " 'https://www.loket.com/event/black-camping-yogyakarta',\n",
       " 'https://www.loket.com/event/pekan-gembira-ria-vol-6_VeJ',\n",
       " 'https://www.loket.com/event/masquerade-from-0-to-100-voud',\n",
       " 'https://www.loket.com/event/iamjakarta',\n",
       " 'https://www.loket.com/event/black-camping-semarang',\n",
       " 'https://www.loket.com/event/mahorasop2023',\n",
       " 'https://www.loket.com/event/certified-international-warehouse-and-inventory-manager-ciwim_UU2D',\n",
       " 'https://www.loket.com/event/the-18th-markplus-conference-2024_V9gUb',\n",
       " 'https://www.loket.com/event/extensive-project-management-program-xpm_D4U9U',\n",
       " 'https://www.loket.com/event/dynamic-pmp-exam-preparation_D4UDY',\n",
       " 'https://www.loket.com/event/dynamic-capm-exam-preparation-program-capm_D95Y',\n",
       " 'https://www.loket.com/event/cikal-movie-maker_V9Ua',\n",
       " 'https://www.loket.com/event/scars',\n",
       " 'https://www.loket.com/event/cpt',\n",
       " 'https://www.loket.com/event/rock-in-solo-festival-2023-vjm',\n",
       " 'https://www.loket.com/event/psb',\n",
       " 'https://www.loket.com/event/iamhpexplore2023',\n",
       " 'https://www.loket.com/event/online-random-talks-14-december-2023_VC8',\n",
       " 'https://www.loket.com/event/online-random-talks-15-december-2023_VCx',\n",
       " 'https://www.loket.com/event/cikal-pop-up-class-temu-temu-16-desember_Vwb3',\n",
       " 'https://www.loket.com/event/cikal-pop-up-class-temu-temu-16-desember_Vw91',\n",
       " 'https://www.loket.com/event/cikal-pop-up-class-temu-temu-16-desember_Vw9U',\n",
       " 'https://www.loket.com/event/online-random-talks-16-december-2023_VCC',\n",
       " 'https://www.loket.com/event/cikal-pop-up-class-temu-temu-16-desember_Vw4b',\n",
       " 'https://www.loket.com/event/bundling-package-all-online-event-austeread-sept-s_VCE',\n",
       " 'https://www.loket.com/event/bundling-package-all-event-sept-s-d-des_V43O',\n",
       " 'https://www.loket.com/event/supercampfest',\n",
       " 'https://www.loket.com/event/lomba-karya-tulis-ilmiah-lkti-patelki-palembang-ubn3',\n",
       " 'https://www.loket.com/event/hotel-voucher_V9cn',\n",
       " 'https://www.loket.com/event/pelatihan-gada-pratama-security_UbZ4',\n",
       " 'https://www.loket.com/event/corolla-paradise-ubw4',\n",
       " 'https://www.loket.com/event/nonton-woof-pluto-disini-ucvc',\n",
       " 'https://www.loket.com/event/uxwritingsession',\n",
       " 'https://www.loket.com/event/on-demand-series-skillstation-vio',\n",
       " 'https://www.loket.com/event/kelas-belajar-bersama-d4d1b',\n",
       " 'https://www.loket.com/event/kaguya-j-fest-matsuri-2023-motto_D3lc',\n",
       " 'https://www.loket.com/event/google-ads-masterclass_UcDbU',\n",
       " 'https://www.loket.com/event/tiket-masuk-wana-wisata-smart-hill-camp-vrug',\n",
       " 'https://www.loket.com/event/b2b-lead-generation-sales-strategy-training_U9Db3',\n",
       " 'https://www.loket.com/event/ice-skating-bx-rink-bintaro-jaya_419UU',\n",
       " 'https://www.loket.com/event/bx-rink-white-label_FUc1',\n",
       " 'https://www.loket.com/event/love-for-sale_bDDYg',\n",
       " 'https://www.loket.com/event/gie_UgC4',\n",
       " 'https://www.loket.com/event/handcrafted_Ugq4',\n",
       " 'https://www.loket.com/event/biola-tak-berdawai_UgQ1',\n",
       " 'https://www.loket.com/event/cinta-dari-wamena_UgJg',\n",
       " 'https://www.loket.com/event/tjoet-nja-dhien_UgJ3',\n",
       " 'https://www.loket.com/event/vidio-premier-platinum_UgDc3',\n",
       " 'https://www.loket.com/event/gondola-ancol_49UY1',\n",
       " 'https://www.loket.com/event/aum_9YHD',\n",
       " 'https://www.loket.com/event/rekaman-webinar-relationship-journey-designing-a-desirable-relationship_DU994',\n",
       " 'https://www.loket.com/event/rekaman-webinar-begin-your-entrepreneurjourney-with-uma-hapsari_DU9bc',\n",
       " 'https://www.loket.com/event/rekaman-webinar-mencapai-100-juta-pertamamu-jonathan-end_DUb44',\n",
       " 'https://www.loket.com/event/rekaman-webinar-growing-through-pain-growth-space-x-dub4b',\n",
       " 'https://www.loket.com/event/rekaman-webinar-critical-thinking-mastery-growth-space-x_DUb4U',\n",
       " 'https://www.loket.com/event/rekaman-webinar-boost-your-career-jonathan-end-x_DUb91',\n",
       " 'https://www.loket.com/event/rekaman-webinar-personal-finance-mastery-jonathan-end-x_DUbb3',\n",
       " 'https://www.loket.com/event/rekaman-webinar-plan-your-career-jonathan-end_DUbb4',\n",
       " 'https://www.loket.com/event/rekaman-webinar-investasi-saham-untuk-pemula-jonathan-end_DUbb9',\n",
       " 'https://www.loket.com/event/rekaman-webinar-customer-centric-marketing-jonathan-end_DUbbD',\n",
       " 'https://www.loket.com/event/rekaman-webinar-build-your-personal-branding-jonathan-end_DUbbU',\n",
       " 'https://www.loket.com/event/rekaman-webinar-santai-berinvestasi-saham-dengan-growth-investing_DUbDc',\n",
       " 'https://www.loket.com/event/kelas-bisnis-umkm-dan-dasar-menjadi-barista-makara_Ug81',\n",
       " 'https://www.loket.com/event/kelas-desain-busana-makara-ui-academy_Ug83',\n",
       " 'https://www.loket.com/event/kelas-editing-video-makara-ui-academy_Ug89',\n",
       " 'https://www.loket.com/event/kelas-elemen-seni-mural-makara-ui-academy_Ug8b',\n",
       " 'https://www.loket.com/event/kelas-animasi-2d-makara-ui-academy_Ug8U',\n",
       " 'https://www.loket.com/event/kelas-public-speaking-makara-ui-academy_UgxY',\n",
       " 'https://www.loket.com/event/kelas-pramuwisata-makara-ui-academy_Ugxg',\n",
       " 'https://www.loket.com/event/kelas-executive-administrative-secretary-session-01-managing-project_UgCU',\n",
       " 'https://www.loket.com/event/kelas-executive-administrative-secretary-session-02-building-relationship_UgEg',\n",
       " 'https://www.loket.com/event/kelas-executive-administrative-secretary-session-03-applying-supervision_UgE4',\n",
       " 'https://www.loket.com/event/kelas-executive-administrative-secretary-session-04-managing-quality_UgEb',\n",
       " 'https://www.loket.com/event/kelas-executive-administrative-secretary-session-05-processing-customer_Ugqc',\n",
       " 'https://www.loket.com/event/kelas-executive-administrative-secretary-session-06-developing-individual_Ugqg',\n",
       " 'https://www.loket.com/event/kelas-executive-administrative-secretary-session-07-applying-professional_Ugq3',\n",
       " 'https://www.loket.com/event/kelas-executive-administrative-secretary-session-08-hr-management_Ugq9',\n",
       " 'https://www.loket.com/event/kelas-executive-administrative-secretary-session-09-corporate-communication_UgqD',\n",
       " 'https://www.loket.com/event/kelas-executive-administrative-secretary-session-10-handling-conflict_UgQg',\n",
       " 'https://www.loket.com/event/kelas-executive-administrative-secretary-session-11-minimalizing-embezzlement_UgQ9',\n",
       " 'https://www.loket.com/event/kelas-executive-administrative-secretary-session-12-applying-teamwork_UgQD',\n",
       " 'https://www.loket.com/event/kelas-executive-administrative-secretary-session-13-k3-perkantoran_UgJc',\n",
       " 'https://www.loket.com/event/kelas-executive-administrative-secretary-session-14-how-to_UgJ1',\n",
       " 'https://www.loket.com/event/kelas-corporate-public-relations-session-01-special-event_UgJ4',\n",
       " 'https://www.loket.com/event/kelas-corporate-public-relations-session-02-master-of_UgJb',\n",
       " 'https://www.loket.com/event/kelas-corporate-public-relations-session-02-master-of_UgJD',\n",
       " 'https://www.loket.com/event/kelas-corporate-public-relations-session-04-komunikasi-efektif_UgHg',\n",
       " 'https://www.loket.com/event/kelas-corporate-public-relations-sesi-05-what-is_UgH1',\n",
       " 'https://www.loket.com/event/kelas-corporate-public-relations-session-06-public-speaking_UgH3',\n",
       " 'https://www.loket.com/event/kelas-corporate-public-relations-session-07-olah-vokal_UgH4',\n",
       " 'https://www.loket.com/event/kelas-corporate-public-relations-session-08-digital-public_UgHb',\n",
       " 'https://www.loket.com/event/kelas-english-for-business-business-presentation-makara-ui_Ugpc',\n",
       " 'https://www.loket.com/event/kelas-english-for-business-business-telephone-makara-ui_Ugp1',\n",
       " 'https://www.loket.com/event/panduan-mempersiapkan-perpisahan_DUn9',\n",
       " 'https://www.loket.com/event/satu-hari-nanti_Ugx4',\n",
       " 'https://www.loket.com/event/ratu-dansa_Ugx9',\n",
       " 'https://www.loket.com/event/kasat-mata_Ugxb',\n",
       " 'https://www.loket.com/event/antar-kota-dalam-provinsi_UgxD',\n",
       " 'https://www.loket.com/event/laskar-pelangi_UgxU',\n",
       " 'https://www.loket.com/event/balada-bala-sinema_UgCc',\n",
       " 'https://www.loket.com/event/sampai-ujung-laut_UgCg',\n",
       " 'https://www.loket.com/event/ziarah_UgC1',\n",
       " 'https://www.loket.com/event/mursala_UgC3',\n",
       " 'https://www.loket.com/event/pasir-berbisik_UgCD',\n",
       " 'https://www.loket.com/event/i-am-hope_UgEc',\n",
       " 'https://www.loket.com/event/sultan-agung-director-s-cut_UgE1',\n",
       " 'https://www.loket.com/event/turah_UgED',\n",
       " 'https://www.loket.com/event/petualangan-sherina_UgQU',\n",
       " 'https://www.loket.com/event/lily-of-the-valey_Po3',\n",
       " 'https://www.loket.com/event/metaverse-sman-2-bandung-dudbb',\n",
       " 'https://www.loket.com/event/coda5',\n",
       " 'https://www.loket.com/event/beasiswa-preneur-academy-scholarship-pas-batch-7',\n",
       " 'https://www.loket.com/event/nonton-film-putus-asa-u1dug',\n",
       " 'https://www.loket.com/event/splash-water-park_V94Y',\n",
       " 'https://www.loket.com/event/finns-bali-super-fun-pass_yLg',\n",
       " 'https://www.loket.com/event/finns-bali-day-pass_V9U1',\n",
       " 'https://www.loket.com/event/reuni-akbar',\n",
       " 'https://www.loket.com/event/basic-mandarin-literacy-course-bmlc-vy4u',\n",
       " 'https://www.loket.com/event/ukmfonsite',\n",
       " 'https://www.loket.com/event/ukmfonline',\n",
       " 'https://www.loket.com/event/ada-apa-dengan-cinta_bDDcg',\n",
       " 'https://www.loket.com/event/ada-apa-dengan-cinta-2_bDDcD',\n",
       " 'https://www.loket.com/event/online-5d-bim-personal-certicfication-ubg1',\n",
       " 'https://www.loket.com/event/berangkat-rombongan-ubbdg',\n",
       " 'https://www.loket.com/event/kelas-jepang-siap-lulus-ujian-jft-basic-a2_VIC',\n",
       " 'https://www.loket.com/event/wisata-alam-pesisir-berbalut-pohon-mangrove-dub34',\n",
       " 'https://www.loket.com/event/massage_bUUYU',\n",
       " 'https://www.loket.com/event/massage_bUU1Y',\n",
       " 'https://www.loket.com/event/quarantine-tales_t4Uc',\n",
       " 'https://www.loket.com/event/wisata-kampoeng-koena_Dbuc',\n",
       " 'https://www.loket.com/event/lock-tempat-umah-tropik-uglu',\n",
       " 'https://www.loket.com/event/rekaman-resep-baking-class-with-rozma-suhardi-cookies_UY994',\n",
       " 'https://www.loket.com/event/rekaman-zoom-resep-baking-class-with-rozma-suhardi_bDvc',\n",
       " 'https://www.loket.com/event/rekaman-zoom-resep-cooking-class-with-rozma-suhardi_bD23',\n",
       " 'https://www.loket.com/event/rekaman-dan-resep-milky-bread_DcCg',\n",
       " 'https://www.loket.com/event/waterbom-bali_Sj',\n",
       " 'https://www.loket.com/event/rekaman-zoom-resepcooking-class-with-rozma-suhardi-korean_bD21',\n",
       " 'https://www.loket.com/event/rekaman-zoom-resep-baking-class-with-rozma-suhardi_DcCU',\n",
       " 'https://www.loket.com/event/rekaman-resep-baking-class-with-rozma-cookies-jadul_UY99U',\n",
       " 'https://www.loket.com/event/rekaman-resep-baking-class-with-rozma-suhardi-aneka_UY999',\n",
       " 'https://www.loket.com/event/rekaman-resep-baking-class-with-rozma-suhardi-brownies_UYDcU']"
      ]
     },
     "execution_count": 8,
     "metadata": {},
     "output_type": "execute_result"
    }
   ],
   "source": [
    "Urls"
   ]
  },
  {
   "cell_type": "code",
   "execution_count": 9,
   "id": "0bdf7590",
   "metadata": {},
   "outputs": [],
   "source": [
    "df_url = pd.DataFrame(Urls, columns = ['Urls'])"
   ]
  },
  {
   "cell_type": "code",
   "execution_count": 10,
   "id": "b9590cdb",
   "metadata": {},
   "outputs": [],
   "source": [
    "#df_url.to_csv(\"url_loketdotcom_08062023.csv\")"
   ]
  },
  {
   "cell_type": "markdown",
   "id": "2c62e264",
   "metadata": {},
   "source": [
    "## Now move on"
   ]
  },
  {
   "cell_type": "code",
   "execution_count": 11,
   "id": "03dce97d",
   "metadata": {},
   "outputs": [],
   "source": [
    "#df_url = pd.read_csv(\"url_loketdotcom_31052023.csv\")"
   ]
  },
  {
   "cell_type": "code",
   "execution_count": 12,
   "id": "0942928d",
   "metadata": {
    "scrolled": true
   },
   "outputs": [
    {
     "data": {
      "text/html": [
       "<div>\n",
       "<style scoped>\n",
       "    .dataframe tbody tr th:only-of-type {\n",
       "        vertical-align: middle;\n",
       "    }\n",
       "\n",
       "    .dataframe tbody tr th {\n",
       "        vertical-align: top;\n",
       "    }\n",
       "\n",
       "    .dataframe thead th {\n",
       "        text-align: right;\n",
       "    }\n",
       "</style>\n",
       "<table border=\"1\" class=\"dataframe\">\n",
       "  <thead>\n",
       "    <tr style=\"text-align: right;\">\n",
       "      <th></th>\n",
       "      <th>Urls</th>\n",
       "    </tr>\n",
       "  </thead>\n",
       "  <tbody>\n",
       "    <tr>\n",
       "      <th>0</th>\n",
       "      <td>https://www.loket.com/event/optimalisasi-kecer...</td>\n",
       "    </tr>\n",
       "    <tr>\n",
       "      <th>1</th>\n",
       "      <td>https://www.loket.com/event/10-indonesian-priv...</td>\n",
       "    </tr>\n",
       "    <tr>\n",
       "      <th>2</th>\n",
       "      <td>https://www.loket.com/event/happy-asmara-mr-jo...</td>\n",
       "    </tr>\n",
       "    <tr>\n",
       "      <th>3</th>\n",
       "      <td>https://www.loket.com/event/managing-across-ge...</td>\n",
       "    </tr>\n",
       "    <tr>\n",
       "      <th>4</th>\n",
       "      <td>https://www.loket.com/event/10-indonesian-priv...</td>\n",
       "    </tr>\n",
       "    <tr>\n",
       "      <th>...</th>\n",
       "      <td>...</td>\n",
       "    </tr>\n",
       "    <tr>\n",
       "      <th>481</th>\n",
       "      <td>https://www.loket.com/event/rekaman-zoom-resep...</td>\n",
       "    </tr>\n",
       "    <tr>\n",
       "      <th>482</th>\n",
       "      <td>https://www.loket.com/event/rekaman-zoom-resep...</td>\n",
       "    </tr>\n",
       "    <tr>\n",
       "      <th>483</th>\n",
       "      <td>https://www.loket.com/event/rekaman-resep-baki...</td>\n",
       "    </tr>\n",
       "    <tr>\n",
       "      <th>484</th>\n",
       "      <td>https://www.loket.com/event/rekaman-resep-baki...</td>\n",
       "    </tr>\n",
       "    <tr>\n",
       "      <th>485</th>\n",
       "      <td>https://www.loket.com/event/rekaman-resep-baki...</td>\n",
       "    </tr>\n",
       "  </tbody>\n",
       "</table>\n",
       "<p>486 rows × 1 columns</p>\n",
       "</div>"
      ],
      "text/plain": [
       "                                                  Urls\n",
       "0    https://www.loket.com/event/optimalisasi-kecer...\n",
       "1    https://www.loket.com/event/10-indonesian-priv...\n",
       "2    https://www.loket.com/event/happy-asmara-mr-jo...\n",
       "3    https://www.loket.com/event/managing-across-ge...\n",
       "4    https://www.loket.com/event/10-indonesian-priv...\n",
       "..                                                 ...\n",
       "481  https://www.loket.com/event/rekaman-zoom-resep...\n",
       "482  https://www.loket.com/event/rekaman-zoom-resep...\n",
       "483  https://www.loket.com/event/rekaman-resep-baki...\n",
       "484  https://www.loket.com/event/rekaman-resep-baki...\n",
       "485  https://www.loket.com/event/rekaman-resep-baki...\n",
       "\n",
       "[486 rows x 1 columns]"
      ]
     },
     "execution_count": 12,
     "metadata": {},
     "output_type": "execute_result"
    }
   ],
   "source": [
    "df_url"
   ]
  },
  {
   "cell_type": "code",
   "execution_count": 13,
   "id": "e8fc2a8c",
   "metadata": {},
   "outputs": [],
   "source": [
    "def date_indo_full(start, time):\n",
    "    new_date = start.lower().strip()\n",
    "    world_date = new_date.replace('wib','').replace('wita','').replace('wit','').replace('jan', 'Jan').replace('feb', 'Feb').replace('mar', 'Mar').replace('apr', 'Apr').replace('mei', 'May').replace('jun', 'Jun').replace('jul', 'Jul').replace('agt', 'Aug').replace('sep', 'Sep').replace('okt', 'Oct').replace('nov', 'Nov').replace('des', 'Dec').strip()\n",
    "    start_date = datetime.strptime(world_date, \"%d %b %Y\")\n",
    "    \n",
    "    time = time.lower().replace('wib','').replace('wita','').replace('wit','').strip()\n",
    "    time_split = time.split(':')\n",
    "    final_date = start_date.replace(hour = int(time_split[0]), minute = int(time_split[1]))\n",
    "    \n",
    "    return final_date"
   ]
  },
  {
   "cell_type": "code",
   "execution_count": 14,
   "id": "e887953c",
   "metadata": {},
   "outputs": [],
   "source": [
    "def loketdotcom_detail(url):\n",
    "    test = requests.get(url = url, headers = header)\n",
    "    bsobj = BeautifulSoup(test.content,'html.parser')\n",
    "    \n",
    "    print(bsobj)\n",
    "    Event_name=bsobj.find('h1',{'id':'gt-event-name'}).text.strip()\n",
    "    Category_event=bsobj.find_all('li',{'class':'event-detail-breadcrumbs-item'})[1].text.strip().replace('\\n',' ')\n",
    "    Venue = bsobj.find('div',{'class':'event-venue'}).text.strip()\n",
    "    Event_time=bsobj.find('div',{'class':'event-time'}).text.strip()\n",
    "    try:\n",
    "        Desc = bsobj.find('ul',{'class':'uk-switcher description-panel'}).text.strip().replace('\\n',' ').replace('\\xa0',' ')\n",
    "    except:\n",
    "        Desc = None\n",
    "    try:\n",
    "        Price = bsobj.find('span',{'id':'sub-total-price'}).text\n",
    "    except:\n",
    "        Price = None\n",
    "    try:\n",
    "        loc = bsobj.find('div',{'class':'event-venue'}).a['href']\n",
    "        lat_lon = loc.split('query=')[1]\n",
    "        lat = lat_lon.split(',')[0]\n",
    "        lon = lat_lon.split(',')[1]\n",
    "    except:\n",
    "        lat=None\n",
    "        lon=None\n",
    "        \n",
    "    Event_date=bsobj.find('div',{'class':'event-date'}).text.strip()\n",
    "    \n",
    "    try:\n",
    "        begin_date = Event_date.split('-')[0] + '2023'\n",
    "        end_date = Event_date.split('-')[1]\n",
    "    except:\n",
    "        begin_date = Event_date\n",
    "        end_date = Event_date\n",
    "        \n",
    "    Time_event = bsobj.find('div',{'class':'event-time'}).text.split('-')\n",
    "    print(Time_event)\n",
    "    \n",
    "    begin_time = Time_event[0]\n",
    "    end_time = Time_event[1]\n",
    "    \n",
    "    Start_date = date_indo_full(begin_date, begin_time)\n",
    "    End_date = date_indo_full(end_date, end_time)\n",
    "    \n",
    "    data = {\n",
    "        'Event Name': [Event_name],\n",
    "        'Start Date': [Start_date],\n",
    "        'End Date': [End_date],\n",
    "        'Category Event': [Category_event],\n",
    "        'Price': [Price],\n",
    "        'Venue': [Venue],\n",
    "        'Address': [Venue],\n",
    "        'Description': [Desc],\n",
    "        'Source': [url],\n",
    "        'Latitude': [lat],\n",
    "        'Longitude': [lon]\n",
    "    }\n",
    "    \n",
    "    df = pd.DataFrame(data)   \n",
    "\n",
    "    return df"
   ]
  },
  {
   "cell_type": "code",
   "execution_count": 15,
   "id": "27f0ecdd",
   "metadata": {},
   "outputs": [],
   "source": [
    "def loketdotcom_detail_selenium(url):\n",
    "    test = driver.get(url)\n",
    "    soup = driver.page_source\n",
    "    bsobj = BeautifulSoup(soup,'html.parser')\n",
    "    \n",
    "    Event_name=bsobj.find('h1',{'id':'gt-event-name'}).text.strip()\n",
    "    Category_event=bsobj.find_all('li',{'class':'event-detail-breadcrumbs-item'})[1].text.strip().replace('\\n',' ')\n",
    "    Venue = bsobj.find('div',{'class':'event-venue'}).text.strip()\n",
    "    Event_time=bsobj.find('div',{'class':'event-time'}).text.strip()\n",
    "    try:\n",
    "        Desc = bsobj.find('ul',{'class':'uk-switcher description-panel'}).text.strip().replace('\\n',' ').replace('\\xa0',' ')\n",
    "    except:\n",
    "        Desc = None\n",
    "    try:\n",
    "        Price = bsobj.find('span',{'id':'sub-total-price'}).text\n",
    "    except:\n",
    "        Price = None\n",
    "    try:\n",
    "        loc = bsobj.find('div',{'class':'event-venue'}).a['href']\n",
    "        lat_lon = loc.split('query=')[1]\n",
    "        lat = lat_lon.split(',')[0]\n",
    "        lon = lat_lon.split(',')[1]\n",
    "    except:\n",
    "        lat=None\n",
    "        lon=None\n",
    "        \n",
    "    Event_date=bsobj.find('div',{'class':'event-date'}).text.strip()\n",
    "    \n",
    "    try:\n",
    "        begin_date = Event_date.split('-')[0] + '2023'\n",
    "        end_date = Event_date.split('-')[1]\n",
    "    except:\n",
    "        begin_date = Event_date\n",
    "        end_date = Event_date\n",
    "        \n",
    "    Time_event = bsobj.find('div',{'class':'event-time'}).text.split('-')\n",
    "    \n",
    "    \n",
    "    begin_time = Time_event[0].strip()\n",
    "    end_time = Time_event[1].strip()\n",
    "    \n",
    "    Start_date = date_indo_full(begin_date, begin_time)\n",
    "    End_date = date_indo_full(end_date, end_time)\n",
    "    \n",
    "    data = {\n",
    "        'Event Name': [Event_name],\n",
    "        'Start Date': [Start_date],\n",
    "        'End Date': [End_date],\n",
    "        'Category Event': [Category_event],\n",
    "        'Price': [Price],\n",
    "        'Venue': [Venue],\n",
    "        'Address': [Venue],\n",
    "        'Description': [Desc],\n",
    "        'Source': [url],\n",
    "        'Latitude': [lat],\n",
    "        'Longitude': [lon]\n",
    "    }\n",
    "    \n",
    "    df = pd.DataFrame(data)   \n",
    "\n",
    "    return df"
   ]
  },
  {
   "cell_type": "code",
   "execution_count": 16,
   "id": "7761e3b5",
   "metadata": {},
   "outputs": [],
   "source": [
    "header = {\n",
    "    'user-agent':'Mozilla/5.0 (Windows NT 10.0; Win64; x64) AppleWebKit/537.36 (KHTML, like Gecko) Chrome/111.0.0.0 Safari/537.36',\n",
    "    'referer':'https://www.loket.com/'\n",
    "}"
   ]
  },
  {
   "cell_type": "code",
   "execution_count": 17,
   "id": "e7fefae9",
   "metadata": {},
   "outputs": [],
   "source": [
    "df_detail = pd.DataFrame()"
   ]
  },
  {
   "cell_type": "code",
   "execution_count": 18,
   "id": "d31a8dc3",
   "metadata": {},
   "outputs": [
    {
     "name": "stderr",
     "output_type": "stream",
     "text": [
      "\r",
      "  0%|                                                                                          | 0/486 [00:00<?, ?it/s]"
     ]
    },
    {
     "name": "stdout",
     "output_type": "stream",
     "text": [
      "https://www.loket.com/event/optimalisasi-kecerdasan-anak-strategi-pembinaan-stimulasi-yang-tepat-vzdg\n"
     ]
    },
    {
     "name": "stderr",
     "output_type": "stream",
     "text": [
      "\r",
      "  0%|▏                                                                                 | 1/486 [00:05<47:36,  5.89s/it]"
     ]
    },
    {
     "name": "stdout",
     "output_type": "stream",
     "text": [
      "https://www.loket.com/event/10-indonesian-private-lessons_V999g\n"
     ]
    },
    {
     "name": "stderr",
     "output_type": "stream",
     "text": [
      "\r",
      "  0%|▎                                                                                 | 2/486 [00:09<38:31,  4.78s/it]"
     ]
    },
    {
     "name": "stdout",
     "output_type": "stream",
     "text": [
      "https://www.loket.com/event/happy-asmara-mr-jono-joni-ngopibareng-pintulangit-vly\n"
     ]
    },
    {
     "name": "stderr",
     "output_type": "stream",
     "text": [
      "\r",
      "  1%|▌                                                                                 | 3/486 [00:13<32:58,  4.10s/it]"
     ]
    },
    {
     "name": "stdout",
     "output_type": "stream",
     "text": [
      "https://www.loket.com/event/managing-across-generation_VEbb\n"
     ]
    },
    {
     "name": "stderr",
     "output_type": "stream",
     "text": [
      "\r",
      "  1%|▋                                                                                 | 4/486 [00:16<30:48,  3.83s/it]"
     ]
    },
    {
     "name": "stdout",
     "output_type": "stream",
     "text": [
      "https://www.loket.com/event/10-indonesian-private-lessons_V9993\n"
     ]
    },
    {
     "name": "stderr",
     "output_type": "stream",
     "text": [
      "\r",
      "  1%|▊                                                                                 | 5/486 [00:19<28:52,  3.60s/it]"
     ]
    },
    {
     "name": "stdout",
     "output_type": "stream",
     "text": [
      "https://www.loket.com/event/aspek-dan-perlindungan-hukum-terhadap-perkawinan-masyarakat-penganut-vbydd\n"
     ]
    },
    {
     "name": "stderr",
     "output_type": "stream",
     "text": [
      "\r",
      "  1%|█                                                                                 | 6/486 [00:23<29:15,  3.66s/it]"
     ]
    },
    {
     "name": "stdout",
     "output_type": "stream",
     "text": [
      "https://www.loket.com/event/talk8-jaf2023\n"
     ]
    },
    {
     "name": "stderr",
     "output_type": "stream",
     "text": [
      "\r",
      "  1%|█▏                                                                                | 7/486 [00:26<28:34,  3.58s/it]"
     ]
    },
    {
     "name": "stdout",
     "output_type": "stream",
     "text": [
      "https://www.loket.com/event/moon-celebration-v24b\n"
     ]
    },
    {
     "name": "stderr",
     "output_type": "stream",
     "text": [
      "\r",
      "  2%|█▎                                                                                | 8/486 [00:32<33:49,  4.25s/it]"
     ]
    },
    {
     "name": "stdout",
     "output_type": "stream",
     "text": [
      "https://www.loket.com/event/optimalisasi-kecerdasan-anak-strategi-pembinaan-stimulasi-yang-tepat-vzdg\n"
     ]
    },
    {
     "name": "stderr",
     "output_type": "stream",
     "text": [
      "\r",
      "  2%|█▌                                                                                | 9/486 [00:35<31:15,  3.93s/it]"
     ]
    },
    {
     "name": "stdout",
     "output_type": "stream",
     "text": [
      "https://www.loket.com/event/10-indonesian-private-lessons_V999g\n"
     ]
    },
    {
     "name": "stderr",
     "output_type": "stream",
     "text": [
      "\r",
      "  2%|█▋                                                                               | 10/486 [00:38<29:09,  3.68s/it]"
     ]
    },
    {
     "name": "stdout",
     "output_type": "stream",
     "text": [
      "https://www.loket.com/event/happy-asmara-mr-jono-joni-ngopibareng-pintulangit-vly\n"
     ]
    },
    {
     "name": "stderr",
     "output_type": "stream",
     "text": [
      "\r",
      "  2%|█▊                                                                               | 11/486 [00:42<28:32,  3.61s/it]"
     ]
    },
    {
     "name": "stdout",
     "output_type": "stream",
     "text": [
      "https://www.loket.com/event/managing-across-generation_VEbb\n"
     ]
    },
    {
     "name": "stderr",
     "output_type": "stream",
     "text": [
      "\r",
      "  2%|██                                                                               | 12/486 [00:45<27:47,  3.52s/it]"
     ]
    },
    {
     "name": "stdout",
     "output_type": "stream",
     "text": [
      "https://www.loket.com/event/10-indonesian-private-lessons_V9993\n"
     ]
    },
    {
     "name": "stderr",
     "output_type": "stream",
     "text": [
      "\r",
      "  3%|██▏                                                                              | 13/486 [00:49<28:12,  3.58s/it]"
     ]
    },
    {
     "name": "stdout",
     "output_type": "stream",
     "text": [
      "https://www.loket.com/event/aspek-dan-perlindungan-hukum-terhadap-perkawinan-masyarakat-penganut-vbydd\n"
     ]
    },
    {
     "name": "stderr",
     "output_type": "stream",
     "text": [
      "\r",
      "  3%|██▎                                                                              | 14/486 [00:52<27:27,  3.49s/it]"
     ]
    },
    {
     "name": "stdout",
     "output_type": "stream",
     "text": [
      "https://www.loket.com/event/talk8-jaf2023\n"
     ]
    },
    {
     "name": "stderr",
     "output_type": "stream",
     "text": [
      "\r",
      "  3%|██▌                                                                              | 15/486 [00:56<27:13,  3.47s/it]"
     ]
    },
    {
     "name": "stdout",
     "output_type": "stream",
     "text": [
      "https://www.loket.com/event/moon-celebration-v24b\n"
     ]
    },
    {
     "name": "stderr",
     "output_type": "stream",
     "text": [
      "\r",
      "  3%|██▋                                                                              | 16/486 [00:59<27:06,  3.46s/it]"
     ]
    },
    {
     "name": "stdout",
     "output_type": "stream",
     "text": [
      "https://www.loket.com/event/pemutaran-film-bintang-ketjil_V99i\n"
     ]
    },
    {
     "name": "stderr",
     "output_type": "stream",
     "text": [
      "\r",
      "  3%|██▊                                                                              | 17/486 [01:03<27:47,  3.56s/it]"
     ]
    },
    {
     "name": "stdout",
     "output_type": "stream",
     "text": [
      "https://www.loket.com/event/omadella-sekaten-solo-2023_Vtx\n"
     ]
    },
    {
     "name": "stderr",
     "output_type": "stream",
     "text": [
      "\r",
      "  4%|███                                                                              | 18/486 [01:07<28:55,  3.71s/it]"
     ]
    },
    {
     "name": "stdout",
     "output_type": "stream",
     "text": [
      "https://www.loket.com/event/hanebu-sauyun-concert-denny-cak-nan-in-love-vtw\n"
     ]
    },
    {
     "name": "stderr",
     "output_type": "stream",
     "text": [
      "\r",
      "  4%|███▏                                                                             | 19/486 [01:11<29:05,  3.74s/it]"
     ]
    },
    {
     "name": "stdout",
     "output_type": "stream",
     "text": [
      "https://www.loket.com/event/habitat-by-bintang-emon-surabaya_UD29\n"
     ]
    },
    {
     "name": "stderr",
     "output_type": "stream",
     "text": [
      "\r",
      "  4%|███▎                                                                             | 20/486 [01:15<29:17,  3.77s/it]"
     ]
    },
    {
     "name": "stdout",
     "output_type": "stream",
     "text": [
      "https://www.loket.com/event/sm-night-friday-noraebang-v6z\n"
     ]
    },
    {
     "name": "stderr",
     "output_type": "stream",
     "text": [
      "\r",
      "  4%|███▌                                                                             | 21/486 [01:18<28:45,  3.71s/it]"
     ]
    },
    {
     "name": "stdout",
     "output_type": "stream",
     "text": [
      "https://www.loket.com/event/metamorphosis-festival-in-jember-2023-09-december-2023-v4b43\n"
     ]
    },
    {
     "name": "stderr",
     "output_type": "stream",
     "text": [
      "\r",
      "  5%|███▋                                                                             | 22/486 [01:22<28:49,  3.73s/it]"
     ]
    },
    {
     "name": "stdout",
     "output_type": "stream",
     "text": [
      "https://www.loket.com/event/side-a-side-b-mini-rave-festivals-vmm\n"
     ]
    },
    {
     "name": "stderr",
     "output_type": "stream",
     "text": [
      "\r",
      "  5%|███▊                                                                             | 23/486 [01:25<28:19,  3.67s/it]"
     ]
    },
    {
     "name": "stdout",
     "output_type": "stream",
     "text": [
      "https://www.loket.com/event/yif-batch-4-vkj\n"
     ]
    },
    {
     "name": "stderr",
     "output_type": "stream",
     "text": [
      "\r",
      "  5%|████                                                                             | 24/486 [01:29<28:58,  3.76s/it]"
     ]
    },
    {
     "name": "stdout",
     "output_type": "stream",
     "text": [
      "https://www.loket.com/event/down-payment-bootcamp-109-v9uy\n"
     ]
    },
    {
     "name": "stderr",
     "output_type": "stream",
     "text": [
      "\r",
      "  5%|████▏                                                                            | 25/486 [01:33<28:54,  3.76s/it]"
     ]
    },
    {
     "name": "stdout",
     "output_type": "stream",
     "text": [
      "https://www.loket.com/event/wellness-aqua-yoga\n"
     ]
    },
    {
     "name": "stderr",
     "output_type": "stream",
     "text": [
      "\r",
      "  5%|████▎                                                                            | 26/486 [01:37<29:16,  3.82s/it]"
     ]
    },
    {
     "name": "stdout",
     "output_type": "stream",
     "text": [
      "https://www.loket.com/event/kelas-mengelola-usaha-laundry-dari-nol-batch-9_VS4b\n"
     ]
    },
    {
     "name": "stderr",
     "output_type": "stream",
     "text": [
      "\r",
      "  6%|████▌                                                                            | 27/486 [01:41<30:08,  3.94s/it]"
     ]
    },
    {
     "name": "stdout",
     "output_type": "stream",
     "text": [
      "https://www.loket.com/event/cikal-pop-up-class-gerak-gerak-23-september_Vwm\n"
     ]
    },
    {
     "name": "stderr",
     "output_type": "stream",
     "text": [
      "\r",
      "  6%|████▋                                                                            | 28/486 [01:46<30:30,  4.00s/it]"
     ]
    },
    {
     "name": "stdout",
     "output_type": "stream",
     "text": [
      "https://www.loket.com/event/mastering-copywriting-boost-your-ads-and-marketing-message_V5bD\n"
     ]
    },
    {
     "name": "stderr",
     "output_type": "stream",
     "text": [
      "\r",
      "  6%|████▊                                                                            | 29/486 [01:50<31:33,  4.14s/it]"
     ]
    },
    {
     "name": "stdout",
     "output_type": "stream",
     "text": [
      "https://www.loket.com/event/webinar-cara-content-creator-pemula-mendapatkan-endorsement_VfE\n"
     ]
    },
    {
     "name": "stderr",
     "output_type": "stream",
     "text": [
      "\r",
      "  6%|█████                                                                            | 30/486 [01:54<31:12,  4.11s/it]"
     ]
    },
    {
     "name": "stdout",
     "output_type": "stream",
     "text": [
      "https://www.loket.com/event/10-indonesian-private-lessons_V9994\n"
     ]
    },
    {
     "name": "stderr",
     "output_type": "stream",
     "text": [
      "\r",
      "  6%|█████▏                                                                           | 31/486 [01:58<31:50,  4.20s/it]"
     ]
    },
    {
     "name": "stdout",
     "output_type": "stream",
     "text": [
      "https://www.loket.com/event/bermain-dan-seru-seruan-di-kidzoona-bareng-adik_V649\n"
     ]
    },
    {
     "name": "stderr",
     "output_type": "stream",
     "text": [
      "\r",
      "  7%|█████▎                                                                           | 32/486 [02:05<35:59,  4.76s/it]"
     ]
    },
    {
     "name": "stdout",
     "output_type": "stream",
     "text": [
      "https://www.loket.com/event/jadi-data-analis-profesional-vfy\n"
     ]
    },
    {
     "name": "stderr",
     "output_type": "stream",
     "text": [
      "\r",
      "  7%|█████▌                                                                           | 33/486 [02:08<33:38,  4.46s/it]"
     ]
    },
    {
     "name": "stdout",
     "output_type": "stream",
     "text": [
      "https://www.loket.com/event/akta-ppjb-lunas-dan-permasalahannya-vz7\n"
     ]
    },
    {
     "name": "stderr",
     "output_type": "stream",
     "text": [
      "\r",
      "  7%|█████▋                                                                           | 34/486 [02:12<32:02,  4.25s/it]"
     ]
    },
    {
     "name": "stdout",
     "output_type": "stream",
     "text": [
      "https://www.loket.com/event/jadi-programmer-golang-python-vfk\n"
     ]
    },
    {
     "name": "stderr",
     "output_type": "stream",
     "text": [
      "\r",
      "  7%|█████▊                                                                           | 35/486 [02:16<30:14,  4.02s/it]"
     ]
    },
    {
     "name": "stdout",
     "output_type": "stream",
     "text": [
      "https://www.loket.com/event/tiket-wahana-v6o\n"
     ]
    },
    {
     "name": "stderr",
     "output_type": "stream",
     "text": [
      "\r",
      "  7%|██████                                                                           | 36/486 [02:20<30:08,  4.02s/it]"
     ]
    },
    {
     "name": "stdout",
     "output_type": "stream",
     "text": [
      "https://www.loket.com/event/tiket-wahana-atv-besar-v6u\n"
     ]
    },
    {
     "name": "stderr",
     "output_type": "stream",
     "text": [
      "\r",
      "  8%|██████▏                                                                          | 37/486 [02:23<28:36,  3.82s/it]"
     ]
    },
    {
     "name": "stdout",
     "output_type": "stream",
     "text": [
      "https://www.loket.com/event/tiket-wahana-atv-besar-2-orang_V6m\n"
     ]
    },
    {
     "name": "stderr",
     "output_type": "stream",
     "text": [
      "\r",
      "  8%|██████▎                                                                          | 38/486 [02:27<28:08,  3.77s/it]"
     ]
    },
    {
     "name": "stdout",
     "output_type": "stream",
     "text": [
      "https://www.loket.com/event/membangun-apps-berbasis-ai-tanpa-koding-dengan-pendekatan_VV94\n"
     ]
    },
    {
     "name": "stderr",
     "output_type": "stream",
     "text": [
      "\r",
      "  8%|██████▌                                                                          | 39/486 [02:30<28:22,  3.81s/it]"
     ]
    },
    {
     "name": "stdout",
     "output_type": "stream",
     "text": [
      "https://www.loket.com/event/jadi-programmer-python-copywriter-vfx\n"
     ]
    },
    {
     "name": "stderr",
     "output_type": "stream",
     "text": [
      "\r",
      "  8%|██████▋                                                                          | 40/486 [02:34<28:04,  3.78s/it]"
     ]
    },
    {
     "name": "stdout",
     "output_type": "stream",
     "text": [
      "https://www.loket.com/event/bermain-dan-belajar-buat-lilin-bersama-adik_Vjd\n"
     ]
    },
    {
     "name": "stderr",
     "output_type": "stream",
     "text": [
      "\r",
      "  8%|██████▊                                                                          | 41/486 [02:38<28:15,  3.81s/it]"
     ]
    },
    {
     "name": "stdout",
     "output_type": "stream",
     "text": [
      "https://www.loket.com/event/cikal-pop-up-class-x-mardin-cafe-30_V43q\n"
     ]
    },
    {
     "name": "stderr",
     "output_type": "stream",
     "text": [
      "\r",
      "  9%|███████                                                                          | 42/486 [02:42<28:22,  3.83s/it]"
     ]
    },
    {
     "name": "stdout",
     "output_type": "stream",
     "text": [
      "https://www.loket.com/event/livy-renata-1st-private-meet-and-greet-v4bn\n"
     ]
    },
    {
     "name": "stderr",
     "output_type": "stream",
     "text": [
      "\r",
      "  9%|███████▏                                                                         | 43/486 [02:46<28:11,  3.82s/it]"
     ]
    },
    {
     "name": "stdout",
     "output_type": "stream",
     "text": [
      "https://www.loket.com/event/pameran-koleksi-dan-arsip-toeti-heraty-museum-ddu34\n"
     ]
    },
    {
     "name": "stderr",
     "output_type": "stream",
     "text": [
      "\r",
      "  9%|███████▎                                                                         | 44/486 [02:50<29:27,  4.00s/it]"
     ]
    },
    {
     "name": "stdout",
     "output_type": "stream",
     "text": [
      "https://www.loket.com/event/psp\n"
     ]
    },
    {
     "name": "stderr",
     "output_type": "stream",
     "text": [
      "\r",
      "  9%|███████▌                                                                         | 45/486 [02:54<28:29,  3.88s/it]"
     ]
    },
    {
     "name": "stdout",
     "output_type": "stream",
     "text": [
      "https://www.loket.com/event/goalkampung\n"
     ]
    },
    {
     "name": "stderr",
     "output_type": "stream",
     "text": [
      "\r",
      "  9%|███████▋                                                                         | 46/486 [02:57<28:11,  3.84s/it]"
     ]
    },
    {
     "name": "stdout",
     "output_type": "stream",
     "text": [
      "https://www.loket.com/event/sunset-yoga-by-konco-yoga-vde\n"
     ]
    },
    {
     "name": "stderr",
     "output_type": "stream",
     "text": [
      "\r",
      " 10%|███████▊                                                                         | 47/486 [03:03<30:42,  4.20s/it]"
     ]
    },
    {
     "name": "stdout",
     "output_type": "stream",
     "text": [
      "https://www.loket.com/event/homecoming2023semarang\n"
     ]
    },
    {
     "name": "stderr",
     "output_type": "stream",
     "text": [
      "\r",
      " 10%|████████                                                                         | 48/486 [03:06<30:05,  4.12s/it]"
     ]
    },
    {
     "name": "stdout",
     "output_type": "stream",
     "text": [
      "https://www.loket.com/event/solophoto-sragen-self-photo-studio-vi4g\n"
     ]
    },
    {
     "name": "stderr",
     "output_type": "stream",
     "text": [
      "\r",
      " 10%|████████▏                                                                        | 49/486 [03:11<30:24,  4.18s/it]"
     ]
    },
    {
     "name": "stdout",
     "output_type": "stream",
     "text": [
      "https://www.loket.com/event/taman-impian_UU4U9\n"
     ]
    },
    {
     "name": "stderr",
     "output_type": "stream",
     "text": [
      "\r",
      " 10%|████████▎                                                                        | 50/486 [03:15<30:04,  4.14s/it]"
     ]
    },
    {
     "name": "stdout",
     "output_type": "stream",
     "text": [
      "https://www.loket.com/event/dunia-fantasi-dufan_UU9c1\n"
     ]
    },
    {
     "name": "stderr",
     "output_type": "stream",
     "text": [
      "\r",
      " 10%|████████▌                                                                        | 51/486 [03:19<29:45,  4.11s/it]"
     ]
    },
    {
     "name": "stdout",
     "output_type": "stream",
     "text": [
      "https://www.loket.com/event/sea-world_UU9Yg\n"
     ]
    },
    {
     "name": "stderr",
     "output_type": "stream",
     "text": [
      "\r",
      " 11%|████████▋                                                                        | 52/486 [03:23<29:25,  4.07s/it]"
     ]
    },
    {
     "name": "stdout",
     "output_type": "stream",
     "text": [
      "https://www.loket.com/event/arpa-self-photo-studio-vrd1\n"
     ]
    },
    {
     "name": "stderr",
     "output_type": "stream",
     "text": [
      "\r",
      " 11%|████████▊                                                                        | 53/486 [03:27<28:47,  3.99s/it]"
     ]
    },
    {
     "name": "stdout",
     "output_type": "stream",
     "text": [
      "https://www.loket.com/event/berbagi-bahagia-dengan-pasien-di-rumah-singgah_V64b\n"
     ]
    },
    {
     "name": "stderr",
     "output_type": "stream",
     "text": [
      "\r",
      " 11%|█████████                                                                        | 54/486 [03:30<27:54,  3.88s/it]"
     ]
    },
    {
     "name": "stdout",
     "output_type": "stream",
     "text": [
      "https://www.loket.com/event/psiko\n"
     ]
    },
    {
     "name": "stderr",
     "output_type": "stream",
     "text": [
      "\r",
      " 11%|█████████▏                                                                       | 55/486 [03:34<28:05,  3.91s/it]"
     ]
    },
    {
     "name": "stdout",
     "output_type": "stream",
     "text": [
      "https://www.loket.com/event/webinar-time-management-cara-memaksimalkan-produkitivitas_VIU4\n"
     ]
    },
    {
     "name": "stderr",
     "output_type": "stream",
     "text": [
      "\r",
      " 12%|█████████▎                                                                       | 56/486 [03:38<28:27,  3.97s/it]"
     ]
    },
    {
     "name": "stdout",
     "output_type": "stream",
     "text": [
      "https://www.loket.com/event/konser-musik-sanz-tetap-berharap-u3d4g\n"
     ]
    },
    {
     "name": "stderr",
     "output_type": "stream",
     "text": [
      "\r",
      " 12%|█████████▌                                                                       | 57/486 [03:42<27:41,  3.87s/it]"
     ]
    },
    {
     "name": "stdout",
     "output_type": "stream",
     "text": [
      "https://www.loket.com/event/nutrition-care-process-pada-pasien-dengan-penyakit-kanker_V9Y8\n"
     ]
    },
    {
     "name": "stderr",
     "output_type": "stream",
     "text": [
      "\r",
      " 12%|█████████▋                                                                       | 58/486 [03:46<27:46,  3.89s/it]"
     ]
    },
    {
     "name": "stdout",
     "output_type": "stream",
     "text": [
      "https://www.loket.com/event/rinai-dikara-sinoptik-vw9g\n"
     ]
    },
    {
     "name": "stderr",
     "output_type": "stream",
     "text": [
      "\r",
      " 12%|█████████▊                                                                       | 59/486 [03:50<27:51,  3.91s/it]"
     ]
    },
    {
     "name": "stdout",
     "output_type": "stream",
     "text": [
      "https://www.loket.com/event/gjls2nd-tsk\n"
     ]
    },
    {
     "name": "stderr",
     "output_type": "stream",
     "text": [
      "\r",
      " 12%|██████████                                                                       | 60/486 [03:54<27:23,  3.86s/it]"
     ]
    },
    {
     "name": "stdout",
     "output_type": "stream",
     "text": [
      "https://www.loket.com/event/tribute-to-yovie-widianto_VbYbU\n"
     ]
    },
    {
     "name": "stderr",
     "output_type": "stream",
     "text": [
      "\r",
      " 13%|██████████▏                                                                      | 61/486 [03:58<27:49,  3.93s/it]"
     ]
    },
    {
     "name": "stdout",
     "output_type": "stream",
     "text": [
      "https://www.loket.com/event/plus26-pengaduan-rakyat_UbbU9\n"
     ]
    },
    {
     "name": "stderr",
     "output_type": "stream",
     "text": [
      "\r",
      " 13%|██████████▎                                                                      | 62/486 [04:01<26:11,  3.71s/it]"
     ]
    },
    {
     "name": "stdout",
     "output_type": "stream",
     "text": [
      "https://www.loket.com/event/fambandung\n"
     ]
    },
    {
     "name": "stderr",
     "output_type": "stream",
     "text": [
      "\r",
      " 13%|██████████▌                                                                      | 63/486 [04:05<27:32,  3.91s/it]"
     ]
    },
    {
     "name": "stdout",
     "output_type": "stream",
     "text": [
      "https://www.loket.com/event/g30th-pcsndh\n"
     ]
    },
    {
     "name": "stderr",
     "output_type": "stream",
     "text": [
      "\r",
      " 13%|██████████▋                                                                      | 64/486 [04:09<27:06,  3.85s/it]"
     ]
    },
    {
     "name": "stdout",
     "output_type": "stream",
     "text": [
      "https://www.loket.com/event/jakarta-bird-land_UU9cU\n"
     ]
    },
    {
     "name": "stderr",
     "output_type": "stream",
     "text": [
      "\r",
      " 13%|██████████▊                                                                      | 65/486 [04:13<27:02,  3.85s/it]"
     ]
    },
    {
     "name": "stdout",
     "output_type": "stream",
     "text": [
      "https://www.loket.com/event/ocean-dream-samudra_UU91U\n"
     ]
    },
    {
     "name": "stderr",
     "output_type": "stream",
     "text": [
      "\r",
      " 14%|███████████                                                                      | 66/486 [04:17<26:55,  3.85s/it]"
     ]
    },
    {
     "name": "stdout",
     "output_type": "stream",
     "text": [
      "https://www.loket.com/event/atlantis-ancol_UUbD3\n"
     ]
    },
    {
     "name": "stderr",
     "output_type": "stream",
     "text": [
      "\r",
      " 14%|███████████▏                                                                     | 67/486 [04:21<26:59,  3.86s/it]"
     ]
    },
    {
     "name": "stdout",
     "output_type": "stream",
     "text": [
      "https://www.loket.com/event/akademi-ritel-gramedia_VnUD\n"
     ]
    },
    {
     "name": "stderr",
     "output_type": "stream",
     "text": [
      "\r",
      " 14%|███████████▎                                                                     | 68/486 [04:24<26:42,  3.83s/it]"
     ]
    },
    {
     "name": "stdout",
     "output_type": "stream",
     "text": [
      "https://www.loket.com/event/gramedia-academy-menulis-buku-anak-dengan-konsep-bertema_VPb9\n"
     ]
    },
    {
     "name": "stderr",
     "output_type": "stream",
     "text": [
      "\r",
      " 14%|███████████▌                                                                     | 69/486 [04:28<26:43,  3.84s/it]"
     ]
    },
    {
     "name": "stdout",
     "output_type": "stream",
     "text": [
      "https://www.loket.com/event/gramedia-academy-meningkatkan-kompetensi-sdm-di-era-4_VPDY\n"
     ]
    },
    {
     "name": "stderr",
     "output_type": "stream",
     "text": [
      "\r",
      " 14%|███████████▋                                                                     | 70/486 [04:34<30:04,  4.34s/it]"
     ]
    },
    {
     "name": "stdout",
     "output_type": "stream",
     "text": [
      "https://www.loket.com/event/prettypinkdreams\n"
     ]
    },
    {
     "name": "stderr",
     "output_type": "stream",
     "text": [
      "\r",
      " 15%|███████████▊                                                                     | 71/486 [04:38<29:28,  4.26s/it]"
     ]
    },
    {
     "name": "stdout",
     "output_type": "stream",
     "text": [
      "https://www.loket.com/event/intimate-yoga-by-the-life-society_VbcQ\n"
     ]
    },
    {
     "name": "stderr",
     "output_type": "stream",
     "text": [
      "\r",
      " 15%|████████████                                                                     | 72/486 [04:42<29:17,  4.24s/it]"
     ]
    },
    {
     "name": "stdout",
     "output_type": "stream",
     "text": [
      "https://www.loket.com/event/temu-penulis-gagasmedia-yoris-sebastian-xaviera-putri-v9dbu\n"
     ]
    },
    {
     "name": "stderr",
     "output_type": "stream",
     "text": [
      "\r",
      " 15%|████████████▏                                                                    | 73/486 [04:46<28:47,  4.18s/it]"
     ]
    },
    {
     "name": "stdout",
     "output_type": "stream",
     "text": [
      "https://www.loket.com/event/10-indonesian-private-lessons_V9999\n"
     ]
    },
    {
     "name": "stderr",
     "output_type": "stream",
     "text": [
      "\r",
      " 15%|████████████▎                                                                    | 74/486 [04:50<28:51,  4.20s/it]"
     ]
    },
    {
     "name": "stdout",
     "output_type": "stream",
     "text": [
      "https://www.loket.com/event/sinergibicara-psclass-jakarta-011023\n"
     ]
    },
    {
     "name": "stderr",
     "output_type": "stream",
     "text": [
      "\r",
      " 15%|████████████▌                                                                    | 75/486 [04:54<28:10,  4.11s/it]"
     ]
    },
    {
     "name": "stdout",
     "output_type": "stream",
     "text": [
      "https://www.loket.com/event/menghias-cupcake-bersama-adik-adik-panti-v9gdb\n"
     ]
    },
    {
     "name": "stderr",
     "output_type": "stream",
     "text": [
      "\r",
      " 16%|████████████▋                                                                    | 76/486 [04:58<28:27,  4.16s/it]"
     ]
    },
    {
     "name": "stdout",
     "output_type": "stream",
     "text": [
      "https://www.loket.com/event/pelatihan-gada-pratama-security_UbZY\n"
     ]
    },
    {
     "name": "stderr",
     "output_type": "stream",
     "text": [
      "\r",
      " 16%|████████████▊                                                                    | 77/486 [05:03<29:26,  4.32s/it]"
     ]
    },
    {
     "name": "stdout",
     "output_type": "stream",
     "text": [
      "https://www.loket.com/event/melukis-dan-berkunjung-ke-pameran-seni-ui-artx_V9gD9\n"
     ]
    },
    {
     "name": "stderr",
     "output_type": "stream",
     "text": [
      "\r",
      " 16%|█████████████                                                                    | 78/486 [05:07<28:10,  4.14s/it]"
     ]
    },
    {
     "name": "stdout",
     "output_type": "stream",
     "text": [
      "https://www.loket.com/event/webinar-impaktif-tema-bahasa-asing_Vbgw\n"
     ]
    },
    {
     "name": "stderr",
     "output_type": "stream",
     "text": [
      " 16%|█████████████▎                                                                   | 80/486 [05:14<25:37,  3.79s/it]"
     ]
    },
    {
     "name": "stdout",
     "output_type": "stream",
     "text": [
      "Gagal https://www.loket.com/event/persela-lamongan-vs-gresik-united_V91Dg\n",
      "https://www.loket.com/event/tiketbulananbdtpekan5sept2023\n"
     ]
    },
    {
     "name": "stderr",
     "output_type": "stream",
     "text": [
      "\r",
      " 17%|█████████████▌                                                                   | 81/486 [05:19<27:18,  4.05s/it]"
     ]
    },
    {
     "name": "stdout",
     "output_type": "stream",
     "text": [
      "https://www.loket.com/event/tikettahunanumumbdtpekan5sept2023\n"
     ]
    },
    {
     "name": "stderr",
     "output_type": "stream",
     "text": [
      "\r",
      " 17%|█████████████▋                                                                   | 82/486 [05:22<26:50,  3.99s/it]"
     ]
    },
    {
     "name": "stdout",
     "output_type": "stream",
     "text": [
      "https://www.loket.com/event/homecoming2023yogyakarta\n"
     ]
    },
    {
     "name": "stderr",
     "output_type": "stream",
     "text": [
      "\r",
      " 17%|█████████████▊                                                                   | 83/486 [05:26<26:03,  3.88s/it]"
     ]
    },
    {
     "name": "stdout",
     "output_type": "stream",
     "text": [
      "https://www.loket.com/event/tiketharianbdtpekan5sept2023\n"
     ]
    },
    {
     "name": "stderr",
     "output_type": "stream",
     "text": [
      "\r",
      " 17%|██████████████                                                                   | 84/486 [05:30<26:38,  3.98s/it]"
     ]
    },
    {
     "name": "stdout",
     "output_type": "stream",
     "text": [
      "https://www.loket.com/event/tikettahunanpelajarbdtpekan5sept2023\n"
     ]
    },
    {
     "name": "stderr",
     "output_type": "stream",
     "text": [
      "\r",
      " 17%|██████████████▏                                                                  | 85/486 [05:34<26:35,  3.98s/it]"
     ]
    },
    {
     "name": "stdout",
     "output_type": "stream",
     "text": [
      "https://www.loket.com/event/sinergibicara-mcclass-jakarta-011023\n"
     ]
    },
    {
     "name": "stderr",
     "output_type": "stream",
     "text": [
      "\r",
      " 18%|██████████████▎                                                                  | 86/486 [05:38<26:32,  3.98s/it]"
     ]
    },
    {
     "name": "stdout",
     "output_type": "stream",
     "text": [
      "https://www.loket.com/event/fullball-the-awakening-day-2023-v9343\n"
     ]
    },
    {
     "name": "stderr",
     "output_type": "stream",
     "text": [
      "\r",
      " 18%|██████████████▌                                                                  | 87/486 [05:43<27:07,  4.08s/it]"
     ]
    },
    {
     "name": "stdout",
     "output_type": "stream",
     "text": [
      "https://www.loket.com/event/ekspedisi-lingkungan-di-pantai-ujung-genteng_Vty\n"
     ]
    },
    {
     "name": "stderr",
     "output_type": "stream",
     "text": [
      "\r",
      " 18%|██████████████▋                                                                  | 88/486 [05:47<26:55,  4.06s/it]"
     ]
    },
    {
     "name": "stdout",
     "output_type": "stream",
     "text": [
      "https://www.loket.com/event/piala-jakarta-futsalseries-liga-pramusim-vot\n"
     ]
    },
    {
     "name": "stderr",
     "output_type": "stream",
     "text": [
      "\r",
      " 18%|██████████████▊                                                                  | 89/486 [05:51<27:49,  4.21s/it]"
     ]
    },
    {
     "name": "stdout",
     "output_type": "stream",
     "text": [
      "https://www.loket.com/event/helau-dance-festival_V91m\n"
     ]
    },
    {
     "name": "stderr",
     "output_type": "stream",
     "text": [
      "\r",
      " 19%|███████████████                                                                  | 90/486 [05:56<28:23,  4.30s/it]"
     ]
    },
    {
     "name": "stdout",
     "output_type": "stream",
     "text": [
      "https://www.loket.com/event/woyo-fest-vjf\n"
     ]
    },
    {
     "name": "stderr",
     "output_type": "stream",
     "text": [
      "\r",
      " 19%|███████████████▏                                                                 | 91/486 [06:06<40:21,  6.13s/it]"
     ]
    },
    {
     "name": "stdout",
     "output_type": "stream",
     "text": [
      "https://www.loket.com/event/imoby-indonesia-mom-baby-kids-expo-2023_UUD94\n"
     ]
    },
    {
     "name": "stderr",
     "output_type": "stream",
     "text": [
      "\r",
      " 19%|███████████████▎                                                                 | 92/486 [06:10<36:56,  5.63s/it]"
     ]
    },
    {
     "name": "stdout",
     "output_type": "stream",
     "text": [
      "https://www.loket.com/event/sertifikasi-ahli-k3-umum-bnsp_Vlb3\n"
     ]
    },
    {
     "name": "stderr",
     "output_type": "stream",
     "text": [
      "\r",
      " 19%|███████████████▌                                                                 | 93/486 [06:15<34:22,  5.25s/it]"
     ]
    },
    {
     "name": "stdout",
     "output_type": "stream",
     "text": [
      "https://www.loket.com/event/yrmujakarta\n"
     ]
    },
    {
     "name": "stderr",
     "output_type": "stream",
     "text": [
      "\r",
      " 19%|███████████████▋                                                                 | 94/486 [06:19<31:27,  4.82s/it]"
     ]
    },
    {
     "name": "stdout",
     "output_type": "stream",
     "text": [
      "https://www.loket.com/event/nyejer-music\n"
     ]
    },
    {
     "name": "stderr",
     "output_type": "stream",
     "text": [
      "\r",
      " 20%|███████████████▊                                                                 | 95/486 [06:23<30:50,  4.73s/it]"
     ]
    },
    {
     "name": "stdout",
     "output_type": "stream",
     "text": [
      "https://www.loket.com/event/habitat-by-bintang-emon-bali_UD2U\n"
     ]
    },
    {
     "name": "stderr",
     "output_type": "stream",
     "text": [
      "\r",
      " 20%|████████████████                                                                 | 96/486 [06:28<30:29,  4.69s/it]"
     ]
    },
    {
     "name": "stdout",
     "output_type": "stream",
     "text": [
      "https://www.loket.com/event/pentas-karya-tari-suman-oleh-elly-luthan-udu39\n"
     ]
    },
    {
     "name": "stderr",
     "output_type": "stream",
     "text": [
      "\r",
      " 20%|████████████████▏                                                                | 97/486 [06:36<37:12,  5.74s/it]"
     ]
    },
    {
     "name": "stdout",
     "output_type": "stream",
     "text": [
      "https://www.loket.com/event/10-indonesian-private-lessons_V999b\n"
     ]
    },
    {
     "name": "stderr",
     "output_type": "stream",
     "text": [
      "\r",
      " 20%|████████████████▎                                                                | 98/486 [06:41<36:05,  5.58s/it]"
     ]
    },
    {
     "name": "stdout",
     "output_type": "stream",
     "text": [
      "https://www.loket.com/event/5-hari-kelas-akting-intensif-bersama-verdi-solaiman-vi94\n"
     ]
    },
    {
     "name": "stderr",
     "output_type": "stream",
     "text": [
      "\r",
      " 20%|████████████████▌                                                                | 99/486 [06:46<34:31,  5.35s/it]"
     ]
    },
    {
     "name": "stdout",
     "output_type": "stream",
     "text": [
      "https://www.loket.com/event/10-indonesian-private-lessons_V999D\n"
     ]
    },
    {
     "name": "stderr",
     "output_type": "stream",
     "text": [
      "\r",
      " 21%|████████████████▍                                                               | 100/486 [06:50<31:54,  4.96s/it]"
     ]
    },
    {
     "name": "stdout",
     "output_type": "stream",
     "text": [
      "https://www.loket.com/event/gildcoustic-sekaten-solo-2023_VtE\n"
     ]
    },
    {
     "name": "stderr",
     "output_type": "stream",
     "text": [
      "\r",
      " 21%|████████████████▋                                                               | 101/486 [06:54<30:45,  4.79s/it]"
     ]
    },
    {
     "name": "stdout",
     "output_type": "stream",
     "text": [
      "https://www.loket.com/event/10-indonesian-private-lessons_V999U\n"
     ]
    },
    {
     "name": "stderr",
     "output_type": "stream",
     "text": [
      "\r",
      " 21%|████████████████▊                                                               | 102/486 [06:59<29:16,  4.58s/it]"
     ]
    },
    {
     "name": "stdout",
     "output_type": "stream",
     "text": [
      "https://www.loket.com/event/sertifikasi-bnsp-investigasi-insiden-ve4u\n"
     ]
    },
    {
     "name": "stderr",
     "output_type": "stream",
     "text": [
      "\r",
      " 21%|████████████████▉                                                               | 103/486 [07:06<34:23,  5.39s/it]"
     ]
    },
    {
     "name": "stdout",
     "output_type": "stream",
     "text": [
      "https://www.loket.com/event/brewog-audio-sekaten-solo-2023_Vtq\n"
     ]
    },
    {
     "name": "stderr",
     "output_type": "stream",
     "text": [
      "\r",
      " 21%|█████████████████                                                               | 104/486 [07:10<31:31,  4.95s/it]"
     ]
    },
    {
     "name": "stdout",
     "output_type": "stream",
     "text": [
      "https://www.loket.com/event/konser-kemerdekaan-vpd3\n"
     ]
    },
    {
     "name": "stderr",
     "output_type": "stream",
     "text": [
      "\r",
      " 22%|█████████████████▎                                                              | 105/486 [07:14<29:23,  4.63s/it]"
     ]
    },
    {
     "name": "stdout",
     "output_type": "stream",
     "text": [
      "https://www.loket.com/event/10-indonesian-private-lessons_V99bc\n"
     ]
    },
    {
     "name": "stderr",
     "output_type": "stream",
     "text": [
      "\r",
      " 22%|█████████████████▍                                                              | 106/486 [07:17<27:50,  4.40s/it]"
     ]
    },
    {
     "name": "stdout",
     "output_type": "stream",
     "text": [
      "https://www.loket.com/event/open-trip-oktober-ceria_VbY9c\n"
     ]
    },
    {
     "name": "stderr",
     "output_type": "stream",
     "text": [
      "\r",
      " 22%|█████████████████▌                                                              | 107/486 [07:22<27:46,  4.40s/it]"
     ]
    },
    {
     "name": "stdout",
     "output_type": "stream",
     "text": [
      "https://www.loket.com/event/t-don-presentation-skills-offline-workshop-fundamental_VPn\n"
     ]
    },
    {
     "name": "stderr",
     "output_type": "stream",
     "text": [
      "\r",
      " 22%|█████████████████▊                                                              | 108/486 [07:26<27:23,  4.35s/it]"
     ]
    },
    {
     "name": "stdout",
     "output_type": "stream",
     "text": [
      "https://www.loket.com/event/techmind-conference-unleash-the-unicorn-inside_Vv4D\n"
     ]
    },
    {
     "name": "stderr",
     "output_type": "stream",
     "text": [
      "\r",
      " 22%|█████████████████▉                                                              | 109/486 [07:34<34:40,  5.52s/it]"
     ]
    },
    {
     "name": "stdout",
     "output_type": "stream",
     "text": [
      "https://www.loket.com/event/indonesia-future-leader-summit\n"
     ]
    },
    {
     "name": "stderr",
     "output_type": "stream",
     "text": [
      "\r",
      " 23%|██████████████████                                                              | 110/486 [07:39<32:00,  5.11s/it]"
     ]
    },
    {
     "name": "stdout",
     "output_type": "stream",
     "text": [
      "https://www.loket.com/event/csab\n"
     ]
    },
    {
     "name": "stderr",
     "output_type": "stream",
     "text": [
      "\r",
      " 23%|██████████████████▎                                                             | 111/486 [07:42<29:40,  4.75s/it]"
     ]
    },
    {
     "name": "stdout",
     "output_type": "stream",
     "text": [
      "https://www.loket.com/event/sharing-session-archinesia-76-design-approach-method-v9dq\n"
     ]
    },
    {
     "name": "stderr",
     "output_type": "stream",
     "text": [
      "\r",
      " 23%|██████████████████▍                                                             | 112/486 [07:46<27:36,  4.43s/it]"
     ]
    },
    {
     "name": "stdout",
     "output_type": "stream",
     "text": [
      "https://www.loket.com/event/richard-marx-the-songwriter-tour_VfN\n"
     ]
    },
    {
     "name": "stderr",
     "output_type": "stream",
     "text": [
      "\r",
      " 23%|██████████████████▌                                                             | 113/486 [07:50<25:59,  4.18s/it]"
     ]
    },
    {
     "name": "stdout",
     "output_type": "stream",
     "text": [
      "https://www.loket.com/event/kaka-slank_V7bU\n"
     ]
    },
    {
     "name": "stderr",
     "output_type": "stream",
     "text": [
      "\r",
      " 23%|██████████████████▊                                                             | 114/486 [07:54<25:37,  4.13s/it]"
     ]
    },
    {
     "name": "stdout",
     "output_type": "stream",
     "text": [
      "https://www.loket.com/event/10-indonesian-private-lessons_V99bY\n"
     ]
    },
    {
     "name": "stderr",
     "output_type": "stream",
     "text": [
      "\r",
      " 24%|██████████████████▉                                                             | 115/486 [07:58<25:37,  4.14s/it]"
     ]
    },
    {
     "name": "stdout",
     "output_type": "stream",
     "text": [
      "https://www.loket.com/event/belajar-membatik-bersama-adik-adik-panti_V9gUc\n"
     ]
    },
    {
     "name": "stderr",
     "output_type": "stream",
     "text": [
      "\r",
      " 24%|███████████████████                                                             | 116/486 [08:06<32:46,  5.32s/it]"
     ]
    },
    {
     "name": "stdout",
     "output_type": "stream",
     "text": [
      "https://www.loket.com/event/et-asia-intensive-bootcamp-indonesia-capital-market-law_V8K\n"
     ]
    },
    {
     "name": "stderr",
     "output_type": "stream",
     "text": [
      "\r",
      " 24%|███████████████████▎                                                            | 117/486 [08:10<30:53,  5.02s/it]"
     ]
    },
    {
     "name": "stdout",
     "output_type": "stream",
     "text": [
      "https://www.loket.com/event/pertanggungjawaban-pidana-notaris-dan-ppat-atas-tindak-pidana-vbyd9\n"
     ]
    },
    {
     "name": "stderr",
     "output_type": "stream",
     "text": [
      "\r",
      " 24%|███████████████████▍                                                            | 118/486 [08:14<29:07,  4.75s/it]"
     ]
    },
    {
     "name": "stdout",
     "output_type": "stream",
     "text": [
      "https://www.loket.com/event/indonesia-digital-meetup-2023\n"
     ]
    },
    {
     "name": "stderr",
     "output_type": "stream",
     "text": [
      "\r",
      " 24%|███████████████████▌                                                            | 119/486 [08:18<27:37,  4.52s/it]"
     ]
    },
    {
     "name": "stdout",
     "output_type": "stream",
     "text": [
      "https://www.loket.com/event/theraplay-gathering-bali2023\n"
     ]
    },
    {
     "name": "stderr",
     "output_type": "stream",
     "text": [
      "\r",
      " 25%|███████████████████▊                                                            | 120/486 [08:22<26:25,  4.33s/it]"
     ]
    },
    {
     "name": "stdout",
     "output_type": "stream",
     "text": [
      "https://www.loket.com/event/vibrant-colors-in-illustration_VkW\n"
     ]
    },
    {
     "name": "stderr",
     "output_type": "stream",
     "text": [
      "\r",
      " 25%|███████████████████▉                                                            | 121/486 [08:26<25:45,  4.23s/it]"
     ]
    },
    {
     "name": "stdout",
     "output_type": "stream",
     "text": [
      "https://www.loket.com/event/member-f1_V8J\n"
     ]
    },
    {
     "name": "stderr",
     "output_type": "stream",
     "text": [
      "\r",
      " 25%|████████████████████                                                            | 122/486 [08:30<25:32,  4.21s/it]"
     ]
    },
    {
     "name": "stdout",
     "output_type": "stream",
     "text": [
      "https://www.loket.com/event/perpanjang-membership-f1_V8O\n"
     ]
    },
    {
     "name": "stderr",
     "output_type": "stream",
     "text": [
      "\r",
      " 25%|████████████████████▏                                                           | 123/486 [08:34<24:43,  4.09s/it]"
     ]
    },
    {
     "name": "stdout",
     "output_type": "stream",
     "text": [
      "https://www.loket.com/event/homecoming2023bandung\n"
     ]
    },
    {
     "name": "stderr",
     "output_type": "stream",
     "text": [
      "\r",
      " 26%|████████████████████▍                                                           | 124/486 [08:38<24:41,  4.09s/it]"
     ]
    },
    {
     "name": "stdout",
     "output_type": "stream",
     "text": [
      "https://www.loket.com/event/in-memoriam-of-benny-panjaitan-bersama-new-panbers-v99x\n"
     ]
    },
    {
     "name": "stderr",
     "output_type": "stream",
     "text": [
      "\r",
      " 26%|████████████████████▌                                                           | 125/486 [08:42<24:33,  4.08s/it]"
     ]
    },
    {
     "name": "stdout",
     "output_type": "stream",
     "text": [
      "https://www.loket.com/event/unram\n"
     ]
    },
    {
     "name": "stderr",
     "output_type": "stream",
     "text": [
      "\r",
      " 26%|████████████████████▋                                                           | 126/486 [08:46<24:26,  4.07s/it]"
     ]
    },
    {
     "name": "stdout",
     "output_type": "stream",
     "text": [
      "https://www.loket.com/event/ptm-kaloberaksi-bandung-vqt\n"
     ]
    },
    {
     "name": "stderr",
     "output_type": "stream",
     "text": [
      "\r",
      " 26%|████████████████████▉                                                           | 127/486 [08:50<24:11,  4.04s/it]"
     ]
    },
    {
     "name": "stdout",
     "output_type": "stream",
     "text": [
      "https://www.loket.com/event/ai-powered-chatbot-with-chatgpt-api-integration_V9394\n"
     ]
    },
    {
     "name": "stderr",
     "output_type": "stream",
     "text": [
      "\r",
      " 26%|█████████████████████                                                           | 128/486 [08:55<25:01,  4.19s/it]"
     ]
    },
    {
     "name": "stdout",
     "output_type": "stream",
     "text": [
      "https://www.loket.com/event/data-analytics-essentials-with-google-data-studio_V93b9\n"
     ]
    },
    {
     "name": "stderr",
     "output_type": "stream",
     "text": [
      "\r",
      " 27%|█████████████████████▏                                                          | 129/486 [08:59<24:47,  4.17s/it]"
     ]
    },
    {
     "name": "stdout",
     "output_type": "stream",
     "text": [
      "https://www.loket.com/event/ipld\n"
     ]
    },
    {
     "name": "stderr",
     "output_type": "stream",
     "text": [
      "\r",
      " 27%|█████████████████████▍                                                          | 130/486 [09:06<30:13,  5.09s/it]"
     ]
    },
    {
     "name": "stdout",
     "output_type": "stream",
     "text": [
      "https://www.loket.com/event/10-indonesian-private-lessons_V99bg\n"
     ]
    },
    {
     "name": "stderr",
     "output_type": "stream",
     "text": [
      "\r",
      " 27%|█████████████████████▌                                                          | 131/486 [09:13<33:14,  5.62s/it]"
     ]
    },
    {
     "name": "stdout",
     "output_type": "stream",
     "text": [
      "https://www.loket.com/event/bermain-dan-berbagi-makanan-bersama-warga-kampung-bantaran_V9gD3\n"
     ]
    },
    {
     "name": "stderr",
     "output_type": "stream",
     "text": [
      "\r",
      " 27%|█████████████████████▋                                                          | 132/486 [09:17<30:33,  5.18s/it]"
     ]
    },
    {
     "name": "stdout",
     "output_type": "stream",
     "text": [
      "https://www.loket.com/event/bermain-musik-bersama-anak-pemusik-jalanan_V9gUg\n"
     ]
    },
    {
     "name": "stderr",
     "output_type": "stream",
     "text": [
      "\r",
      " 27%|█████████████████████▉                                                          | 133/486 [09:21<28:33,  4.85s/it]"
     ]
    },
    {
     "name": "stdout",
     "output_type": "stream",
     "text": [
      "https://www.loket.com/event/living-in-fortune-scientific-feng-shui-in-modern_Vrbc\n"
     ]
    },
    {
     "name": "stderr",
     "output_type": "stream",
     "text": [
      "\r",
      " 28%|██████████████████████                                                          | 134/486 [09:26<27:26,  4.68s/it]"
     ]
    },
    {
     "name": "stdout",
     "output_type": "stream",
     "text": [
      "https://www.loket.com/event/puskara-arga-soka-vlbb\n"
     ]
    },
    {
     "name": "stderr",
     "output_type": "stream",
     "text": [
      "\r",
      " 28%|██████████████████████▏                                                         | 135/486 [09:30<27:15,  4.66s/it]"
     ]
    },
    {
     "name": "stdout",
     "output_type": "stream",
     "text": [
      "https://www.loket.com/event/workshop-and-battle-barber-2023_V6D3\n"
     ]
    },
    {
     "name": "stderr",
     "output_type": "stream",
     "text": [
      "\r",
      " 28%|██████████████████████▍                                                         | 136/486 [09:36<28:41,  4.92s/it]"
     ]
    },
    {
     "name": "stdout",
     "output_type": "stream",
     "text": [
      "https://www.loket.com/event/workshop-basic-manual-brewing-v7d9\n"
     ]
    },
    {
     "name": "stderr",
     "output_type": "stream",
     "text": [
      "\r",
      " 28%|██████████████████████▌                                                         | 137/486 [09:40<27:16,  4.69s/it]"
     ]
    },
    {
     "name": "stdout",
     "output_type": "stream",
     "text": [
      "https://www.loket.com/event/closing-altocup-6-raissaanggiani\n"
     ]
    },
    {
     "name": "stderr",
     "output_type": "stream",
     "text": [
      "\r",
      " 28%|██████████████████████▋                                                         | 138/486 [09:44<25:41,  4.43s/it]"
     ]
    },
    {
     "name": "stdout",
     "output_type": "stream",
     "text": [
      "https://www.loket.com/event/droidjam-2023-vjt\n"
     ]
    },
    {
     "name": "stderr",
     "output_type": "stream",
     "text": [
      "\r",
      " 29%|██████████████████████▉                                                         | 139/486 [09:48<25:00,  4.32s/it]"
     ]
    },
    {
     "name": "stdout",
     "output_type": "stream",
     "text": [
      "https://www.loket.com/event/nap-training-bali2023\n"
     ]
    },
    {
     "name": "stderr",
     "output_type": "stream",
     "text": [
      "\r",
      " 29%|███████████████████████                                                         | 140/486 [09:52<24:18,  4.22s/it]"
     ]
    },
    {
     "name": "stdout",
     "output_type": "stream",
     "text": [
      "https://www.loket.com/event/kebangunan-rohani-katolik-faithful-and-fruitful-uu49d\n"
     ]
    },
    {
     "name": "stderr",
     "output_type": "stream",
     "text": [
      "\r",
      " 29%|███████████████████████▏                                                        | 141/486 [09:56<24:34,  4.27s/it]"
     ]
    },
    {
     "name": "stdout",
     "output_type": "stream",
     "text": [
      "https://www.loket.com/event/scale-up-your-career-through-project-management-skills_V9UV\n"
     ]
    },
    {
     "name": "stderr",
     "output_type": "stream",
     "text": [
      "\r",
      " 29%|███████████████████████▎                                                        | 142/486 [10:04<30:07,  5.25s/it]"
     ]
    },
    {
     "name": "stdout",
     "output_type": "stream",
     "text": [
      "https://www.loket.com/event/seribu-cerita-keuangan\n"
     ]
    },
    {
     "name": "stderr",
     "output_type": "stream",
     "text": [
      "\r",
      " 29%|███████████████████████▌                                                        | 143/486 [10:08<28:46,  5.03s/it]"
     ]
    },
    {
     "name": "stdout",
     "output_type": "stream",
     "text": [
      "https://www.loket.com/event/cerita-sebelku-oleh-raditya-dika-padang_UUi4\n"
     ]
    },
    {
     "name": "stderr",
     "output_type": "stream",
     "text": [
      " 30%|███████████████████████▊                                                        | 145/486 [10:16<24:19,  4.28s/it]"
     ]
    },
    {
     "name": "stdout",
     "output_type": "stream",
     "text": [
      "Gagal https://www.loket.com/event/operatic-concert-100-years-tribute-to-maria-callas_V69b\n",
      "https://www.loket.com/event/2024-surabaya\n"
     ]
    },
    {
     "name": "stderr",
     "output_type": "stream",
     "text": [
      "\r",
      " 30%|████████████████████████                                                        | 146/486 [10:19<23:24,  4.13s/it]"
     ]
    },
    {
     "name": "stdout",
     "output_type": "stream",
     "text": [
      "https://www.loket.com/event/edge-day-2023_VFU3\n"
     ]
    },
    {
     "name": "stderr",
     "output_type": "stream",
     "text": [
      "\r",
      " 30%|████████████████████████▏                                                       | 147/486 [10:24<23:36,  4.18s/it]"
     ]
    },
    {
     "name": "stdout",
     "output_type": "stream",
     "text": [
      "https://www.loket.com/event/tiket-donasi-billiard-basketball-fun-competition-ud494\n"
     ]
    },
    {
     "name": "stderr",
     "output_type": "stream",
     "text": [
      "\r",
      " 30%|████████████████████████▎                                                       | 148/486 [10:28<23:35,  4.19s/it]"
     ]
    },
    {
     "name": "stdout",
     "output_type": "stream",
     "text": [
      "https://www.loket.com/event/10-indonesian-private-lessons_V99b1\n"
     ]
    },
    {
     "name": "stderr",
     "output_type": "stream",
     "text": [
      "\r",
      " 31%|████████████████████████▌                                                       | 149/486 [10:35<28:45,  5.12s/it]"
     ]
    },
    {
     "name": "stdout",
     "output_type": "stream",
     "text": [
      "https://www.loket.com/event/morula-sunday-morning-talk-bersama-arda-medical-center_ViD9\n"
     ]
    },
    {
     "name": "stderr",
     "output_type": "stream",
     "text": [
      "\r",
      " 31%|████████████████████████▋                                                       | 150/486 [10:39<27:06,  4.84s/it]"
     ]
    },
    {
     "name": "stdout",
     "output_type": "stream",
     "text": [
      "https://www.loket.com/event/mengenal-dunia-angkasa-bersama-adik-adik-panti_V9gU9\n"
     ]
    },
    {
     "name": "stderr",
     "output_type": "stream",
     "text": [
      "\r",
      " 31%|████████████████████████▊                                                       | 151/486 [10:43<25:39,  4.60s/it]"
     ]
    },
    {
     "name": "stdout",
     "output_type": "stream",
     "text": [
      "https://www.loket.com/event/rrrec-fest-in-the-valley-2023-udpy\n"
     ]
    },
    {
     "name": "stderr",
     "output_type": "stream",
     "text": [
      "\r",
      " 31%|█████████████████████████                                                       | 152/486 [10:47<24:07,  4.33s/it]"
     ]
    },
    {
     "name": "stdout",
     "output_type": "stream",
     "text": [
      "https://www.loket.com/event/susyballet\n"
     ]
    },
    {
     "name": "stderr",
     "output_type": "stream",
     "text": [
      "\r",
      " 31%|█████████████████████████▏                                                      | 153/486 [10:51<23:55,  4.31s/it]"
     ]
    },
    {
     "name": "stdout",
     "output_type": "stream",
     "text": [
      "https://www.loket.com/event/webinar-belajar-memaksimalkan-prompt-dalam-menggunakan-ai-tools-v9c9g\n"
     ]
    },
    {
     "name": "stderr",
     "output_type": "stream",
     "text": [
      " 32%|█████████████████████████▌                                                      | 155/486 [10:59<22:52,  4.15s/it]"
     ]
    },
    {
     "name": "stdout",
     "output_type": "stream",
     "text": [
      "Gagal https://www.loket.com/event/museum-macan-ticket-admission_p411\n",
      "https://www.loket.com/event/bsfreefly\n"
     ]
    },
    {
     "name": "stderr",
     "output_type": "stream",
     "text": [
      "\r",
      " 32%|█████████████████████████▋                                                      | 156/486 [11:05<24:52,  4.52s/it]"
     ]
    },
    {
     "name": "stdout",
     "output_type": "stream",
     "text": [
      "https://www.loket.com/event/sicaf-2023\n"
     ]
    },
    {
     "name": "stderr",
     "output_type": "stream",
     "text": [
      "\r",
      " 32%|█████████████████████████▊                                                      | 157/486 [11:09<24:00,  4.38s/it]"
     ]
    },
    {
     "name": "stdout",
     "output_type": "stream",
     "text": [
      "https://www.loket.com/event/konservasi-elang-field-herping_V9gD1\n"
     ]
    },
    {
     "name": "stderr",
     "output_type": "stream",
     "text": [
      "\r",
      " 33%|██████████████████████████                                                      | 158/486 [11:13<23:14,  4.25s/it]"
     ]
    },
    {
     "name": "stdout",
     "output_type": "stream",
     "text": [
      "https://www.loket.com/event/terangtanahsampah\n"
     ]
    },
    {
     "name": "stderr",
     "output_type": "stream",
     "text": [
      "\r",
      " 33%|██████████████████████████▏                                                     | 159/486 [11:17<23:16,  4.27s/it]"
     ]
    },
    {
     "name": "stdout",
     "output_type": "stream",
     "text": [
      "https://www.loket.com/event/stand-here-alone-sekaten-solo-2023_V6D9\n"
     ]
    },
    {
     "name": "stderr",
     "output_type": "stream",
     "text": [
      "\r",
      " 33%|██████████████████████████▎                                                     | 160/486 [11:21<22:58,  4.23s/it]"
     ]
    },
    {
     "name": "stdout",
     "output_type": "stream",
     "text": [
      "https://www.loket.com/event/coffee-camp-karawang-2023-v4gdc\n"
     ]
    },
    {
     "name": "stderr",
     "output_type": "stream",
     "text": [
      "\r",
      " 33%|██████████████████████████▌                                                     | 161/486 [11:26<23:28,  4.33s/it]"
     ]
    },
    {
     "name": "stdout",
     "output_type": "stream",
     "text": [
      "https://www.loket.com/event/jeslla-unspoken-showcase\n"
     ]
    },
    {
     "name": "stderr",
     "output_type": "stream",
     "text": [
      "\r",
      " 33%|██████████████████████████▋                                                     | 162/486 [11:30<23:03,  4.27s/it]"
     ]
    },
    {
     "name": "stdout",
     "output_type": "stream",
     "text": [
      "https://www.loket.com/event/konser-legend-musik-era-ku-2-0-vfd3\n"
     ]
    },
    {
     "name": "stderr",
     "output_type": "stream",
     "text": [
      "\r",
      " 34%|██████████████████████████▊                                                     | 163/486 [11:35<23:37,  4.39s/it]"
     ]
    },
    {
     "name": "stdout",
     "output_type": "stream",
     "text": [
      "https://www.loket.com/event/social-arkvenue-vol-2-v99b9\n"
     ]
    },
    {
     "name": "stderr",
     "output_type": "stream",
     "text": [
      "\r",
      " 34%|██████████████████████████▉                                                     | 164/486 [11:39<23:23,  4.36s/it]"
     ]
    },
    {
     "name": "stdout",
     "output_type": "stream",
     "text": [
      "https://www.loket.com/event/csmd\n"
     ]
    },
    {
     "name": "stderr",
     "output_type": "stream",
     "text": [
      "\r",
      " 34%|███████████████████████████▏                                                    | 165/486 [11:43<22:31,  4.21s/it]"
     ]
    },
    {
     "name": "stdout",
     "output_type": "stream",
     "text": [
      "https://www.loket.com/event/creative-problem-solving-at-work_U9U43\n"
     ]
    },
    {
     "name": "stderr",
     "output_type": "stream",
     "text": [
      "\r",
      " 34%|███████████████████████████▎                                                    | 166/486 [11:47<22:32,  4.23s/it]"
     ]
    },
    {
     "name": "stdout",
     "output_type": "stream",
     "text": [
      "https://www.loket.com/event/asesmen-minat-bakat-online-by-pion-clinician-batch-vz9c\n"
     ]
    },
    {
     "name": "stderr",
     "output_type": "stream",
     "text": [
      "\r",
      " 34%|███████████████████████████▍                                                    | 167/486 [11:52<22:45,  4.28s/it]"
     ]
    },
    {
     "name": "stdout",
     "output_type": "stream",
     "text": [
      "https://www.loket.com/event/sertifikasi-bnsp-pengawas-k3-migas-ve91\n"
     ]
    },
    {
     "name": "stderr",
     "output_type": "stream",
     "text": [
      "\r",
      " 35%|███████████████████████████▋                                                    | 168/486 [11:56<22:34,  4.26s/it]"
     ]
    },
    {
     "name": "stdout",
     "output_type": "stream",
     "text": [
      "https://www.loket.com/event/kevin-morby-live-in-jakarta-plainsong-live_V439D\n"
     ]
    },
    {
     "name": "stderr",
     "output_type": "stream",
     "text": [
      "\r",
      " 35%|███████████████████████████▊                                                    | 169/486 [12:00<23:06,  4.37s/it]"
     ]
    },
    {
     "name": "stdout",
     "output_type": "stream",
     "text": [
      "https://www.loket.com/event/t-don-presentation-skills-offline-workshop-elevator_VP9D\n"
     ]
    },
    {
     "name": "stderr",
     "output_type": "stream",
     "text": [
      "\r",
      " 35%|███████████████████████████▉                                                    | 170/486 [12:05<24:14,  4.60s/it]"
     ]
    },
    {
     "name": "stdout",
     "output_type": "stream",
     "text": [
      "https://www.loket.com/event/business-communication-skills_U9U34\n"
     ]
    },
    {
     "name": "stderr",
     "output_type": "stream",
     "text": [
      "\r",
      " 35%|████████████████████████████▏                                                   | 171/486 [12:10<23:34,  4.49s/it]"
     ]
    },
    {
     "name": "stdout",
     "output_type": "stream",
     "text": [
      "https://www.loket.com/event/bshr\n"
     ]
    },
    {
     "name": "stderr",
     "output_type": "stream",
     "text": [
      "\r",
      " 35%|████████████████████████████▎                                                   | 172/486 [12:14<23:01,  4.40s/it]"
     ]
    },
    {
     "name": "stdout",
     "output_type": "stream",
     "text": [
      "https://www.loket.com/event/extensive-project-management-program-xpm_D4U99\n"
     ]
    },
    {
     "name": "stderr",
     "output_type": "stream",
     "text": [
      "\r",
      " 36%|████████████████████████████▍                                                   | 173/486 [12:19<23:38,  4.53s/it]"
     ]
    },
    {
     "name": "stdout",
     "output_type": "stream",
     "text": [
      "https://www.loket.com/event/dynamic-pmp-exam-preparation_D4UbD\n"
     ]
    },
    {
     "name": "stderr",
     "output_type": "stream",
     "text": [
      "\r",
      " 36%|████████████████████████████▋                                                   | 174/486 [12:22<22:16,  4.28s/it]"
     ]
    },
    {
     "name": "stdout",
     "output_type": "stream",
     "text": [
      "https://www.loket.com/event/dynamic-capm-exam-preparation-program-capm_D9XU\n"
     ]
    },
    {
     "name": "stderr",
     "output_type": "stream",
     "text": [
      "\r",
      " 36%|████████████████████████████▊                                                   | 175/486 [12:26<21:25,  4.13s/it]"
     ]
    },
    {
     "name": "stdout",
     "output_type": "stream",
     "text": [
      "https://www.loket.com/event/capm-exam-preparation_U9U3U\n"
     ]
    },
    {
     "name": "stderr",
     "output_type": "stream",
     "text": [
      "\r",
      " 36%|████████████████████████████▉                                                   | 176/486 [12:30<20:59,  4.06s/it]"
     ]
    },
    {
     "name": "stdout",
     "output_type": "stream",
     "text": [
      "https://www.loket.com/event/pmp-exam-preparation_U9U49\n"
     ]
    },
    {
     "name": "stderr",
     "output_type": "stream",
     "text": [
      "\r",
      " 36%|█████████████████████████████▏                                                  | 177/486 [12:34<20:59,  4.08s/it]"
     ]
    },
    {
     "name": "stdout",
     "output_type": "stream",
     "text": [
      "https://www.loket.com/event/professional-project-management_UbI4\n"
     ]
    },
    {
     "name": "stderr",
     "output_type": "stream",
     "text": [
      "\r",
      " 37%|█████████████████████████████▎                                                  | 178/486 [12:39<22:38,  4.41s/it]"
     ]
    },
    {
     "name": "stdout",
     "output_type": "stream",
     "text": [
      "https://www.loket.com/event/konferensi-ama-leadership-summit_Vk4g\n"
     ]
    },
    {
     "name": "stderr",
     "output_type": "stream",
     "text": [
      "\r",
      " 37%|█████████████████████████████▍                                                  | 179/486 [12:44<22:22,  4.37s/it]"
     ]
    },
    {
     "name": "stdout",
     "output_type": "stream",
     "text": [
      "https://www.loket.com/event/shutterclass17\n"
     ]
    },
    {
     "name": "stderr",
     "output_type": "stream",
     "text": [
      "\r",
      " 37%|█████████████████████████████▋                                                  | 180/486 [12:48<21:43,  4.26s/it]"
     ]
    },
    {
     "name": "stdout",
     "output_type": "stream",
     "text": [
      "https://www.loket.com/event/the-cycle-peluang-baru-ladang-cuan\n"
     ]
    },
    {
     "name": "stderr",
     "output_type": "stream",
     "text": [
      "\r",
      " 37%|█████████████████████████████▊                                                  | 181/486 [12:51<20:52,  4.11s/it]"
     ]
    },
    {
     "name": "stdout",
     "output_type": "stream",
     "text": [
      "https://www.loket.com/event/gm-music-fest-goes-to-batu-vkt\n"
     ]
    },
    {
     "name": "stderr",
     "output_type": "stream",
     "text": [
      "\r",
      " 37%|█████████████████████████████▉                                                  | 182/486 [12:56<21:15,  4.20s/it]"
     ]
    },
    {
     "name": "stdout",
     "output_type": "stream",
     "text": [
      "https://www.loket.com/event/fur-x-hard-rock-cafe-bali-30th-anniversary-vb9c\n"
     ]
    },
    {
     "name": "stderr",
     "output_type": "stream",
     "text": [
      "\r",
      " 38%|██████████████████████████████                                                  | 183/486 [13:00<20:32,  4.07s/it]"
     ]
    },
    {
     "name": "stdout",
     "output_type": "stream",
     "text": [
      "https://www.loket.com/event/webinar-self-knowledge-mengenali-diri-dan-menemukan-passion_VIUb\n"
     ]
    },
    {
     "name": "stderr",
     "output_type": "stream",
     "text": [
      "\r",
      " 38%|██████████████████████████████▎                                                 | 184/486 [13:04<20:43,  4.12s/it]"
     ]
    },
    {
     "name": "stdout",
     "output_type": "stream",
     "text": [
      "https://www.loket.com/event/python-for-data-scrapping-tiktok-twitter_V93Db\n"
     ]
    },
    {
     "name": "stderr",
     "output_type": "stream",
     "text": [
      "\r",
      " 38%|██████████████████████████████▍                                                 | 185/486 [13:08<20:46,  4.14s/it]"
     ]
    },
    {
     "name": "stdout",
     "output_type": "stream",
     "text": [
      "https://www.loket.com/event/menangkan-debat-politik-dengan-mahir-public-speaking-v9buc\n"
     ]
    },
    {
     "name": "stderr",
     "output_type": "stream",
     "text": [
      "\r",
      " 38%|██████████████████████████████▌                                                 | 186/486 [13:12<20:26,  4.09s/it]"
     ]
    },
    {
     "name": "stdout",
     "output_type": "stream",
     "text": [
      "https://www.loket.com/event/clapham-conference-2023_U971\n"
     ]
    },
    {
     "name": "stderr",
     "output_type": "stream",
     "text": [
      "\r",
      " 38%|██████████████████████████████▊                                                 | 187/486 [13:16<20:24,  4.09s/it]"
     ]
    },
    {
     "name": "stdout",
     "output_type": "stream",
     "text": [
      "https://www.loket.com/event/festival-teater-pelajar-teater-roket-v99m\n"
     ]
    },
    {
     "name": "stderr",
     "output_type": "stream",
     "text": [
      "\r",
      " 39%|██████████████████████████████▉                                                 | 188/486 [13:20<20:33,  4.14s/it]"
     ]
    },
    {
     "name": "stdout",
     "output_type": "stream",
     "text": [
      "https://www.loket.com/event/breaking-down-scholarship-essay_VlL\n"
     ]
    },
    {
     "name": "stderr",
     "output_type": "stream",
     "text": [
      "\r",
      " 39%|███████████████████████████████                                                 | 189/486 [13:24<20:18,  4.10s/it]"
     ]
    },
    {
     "name": "stdout",
     "output_type": "stream",
     "text": [
      "https://www.loket.com/event/mini-bootcamp-design-adalah-jalan-dakwah-ku\n"
     ]
    },
    {
     "name": "stderr",
     "output_type": "stream",
     "text": [
      "\r",
      " 39%|███████████████████████████████▎                                                | 190/486 [13:29<20:23,  4.13s/it]"
     ]
    },
    {
     "name": "stdout",
     "output_type": "stream",
     "text": [
      "https://www.loket.com/event/cerita-sebelku-oleh-raditya-dika-palembang_UU0g\n"
     ]
    },
    {
     "name": "stderr",
     "output_type": "stream",
     "text": [
      "\r",
      " 39%|███████████████████████████████▍                                                | 191/486 [13:35<23:10,  4.71s/it]"
     ]
    },
    {
     "name": "stdout",
     "output_type": "stream",
     "text": [
      "https://www.loket.com/event/smariduta-youth-carnival-vol-5_VmR\n"
     ]
    },
    {
     "name": "stderr",
     "output_type": "stream",
     "text": [
      "\r",
      " 40%|███████████████████████████████▌                                                | 192/486 [13:39<22:16,  4.54s/it]"
     ]
    },
    {
     "name": "stdout",
     "output_type": "stream",
     "text": [
      "https://www.loket.com/event/resurgemus-csi\n"
     ]
    },
    {
     "name": "stderr",
     "output_type": "stream",
     "text": [
      "\r",
      " 40%|███████████████████████████████▊                                                | 193/486 [13:43<21:59,  4.50s/it]"
     ]
    },
    {
     "name": "stdout",
     "output_type": "stream",
     "text": [
      "https://www.loket.com/event/pasta-2023\n"
     ]
    },
    {
     "name": "stderr",
     "output_type": "stream",
     "text": [
      "\r",
      " 40%|███████████████████████████████▉                                                | 194/486 [13:47<21:10,  4.35s/it]"
     ]
    },
    {
     "name": "stdout",
     "output_type": "stream",
     "text": [
      "https://www.loket.com/event/2024-yogyakarta\n"
     ]
    },
    {
     "name": "stderr",
     "output_type": "stream",
     "text": [
      "\r",
      " 40%|████████████████████████████████                                                | 195/486 [13:51<20:48,  4.29s/it]"
     ]
    },
    {
     "name": "stdout",
     "output_type": "stream",
     "text": [
      "https://www.loket.com/event/perjalanan-sementara-yogyakarta_VT91\n"
     ]
    },
    {
     "name": "stderr",
     "output_type": "stream",
     "text": [
      "\r",
      " 40%|████████████████████████████████▎                                               | 196/486 [13:56<20:56,  4.33s/it]"
     ]
    },
    {
     "name": "stdout",
     "output_type": "stream",
     "text": [
      "https://www.loket.com/event/hesforia-vbc9g\n"
     ]
    },
    {
     "name": "stderr",
     "output_type": "stream",
     "text": [
      "\r",
      " 41%|████████████████████████████████▍                                               | 197/486 [14:00<20:57,  4.35s/it]"
     ]
    },
    {
     "name": "stdout",
     "output_type": "stream",
     "text": [
      "https://www.loket.com/event/onlineclass-ps-15-10-23\n"
     ]
    },
    {
     "name": "stderr",
     "output_type": "stream",
     "text": [
      "\r",
      " 41%|████████████████████████████████▌                                               | 198/486 [14:04<20:17,  4.23s/it]"
     ]
    },
    {
     "name": "stdout",
     "output_type": "stream",
     "text": [
      "https://www.loket.com/event/certified-professional-digital-marketing-and-e-commerce-certified-vf9c\n"
     ]
    },
    {
     "name": "stderr",
     "output_type": "stream",
     "text": [
      "\r",
      " 41%|████████████████████████████████▊                                               | 199/486 [14:08<19:58,  4.18s/it]"
     ]
    },
    {
     "name": "stdout",
     "output_type": "stream",
     "text": [
      "https://www.loket.com/event/muslimah-youth-forum-online_V934U\n"
     ]
    },
    {
     "name": "stderr",
     "output_type": "stream",
     "text": [
      "\r",
      " 41%|████████████████████████████████▉                                               | 200/486 [14:12<20:00,  4.20s/it]"
     ]
    },
    {
     "name": "stdout",
     "output_type": "stream",
     "text": [
      "https://www.loket.com/event/onlineclass-mc-15-10-23\n"
     ]
    },
    {
     "name": "stderr",
     "output_type": "stream",
     "text": [
      "\r",
      " 41%|█████████████████████████████████                                               | 201/486 [14:17<19:59,  4.21s/it]"
     ]
    },
    {
     "name": "stdout",
     "output_type": "stream",
     "text": [
      "https://www.loket.com/event/season-1-kontes-ayam-pelung-piala-rektor-unpad-vki\n"
     ]
    },
    {
     "name": "stderr",
     "output_type": "stream",
     "text": [
      "\r",
      " 42%|█████████████████████████████████▎                                              | 202/486 [14:21<20:29,  4.33s/it]"
     ]
    },
    {
     "name": "stdout",
     "output_type": "stream",
     "text": [
      "https://www.loket.com/event/season-02-kongtes-ayam-pelung-piala-rektor-unpad_VK0\n"
     ]
    },
    {
     "name": "stderr",
     "output_type": "stream",
     "text": [
      "\r",
      " 42%|█████████████████████████████████▍                                              | 203/486 [14:26<20:47,  4.41s/it]"
     ]
    },
    {
     "name": "stdout",
     "output_type": "stream",
     "text": [
      "https://www.loket.com/event/season-04-kontes-ayam-pelung-piala-rektor-unpad_VK7\n"
     ]
    },
    {
     "name": "stderr",
     "output_type": "stream",
     "text": [
      "\r",
      " 42%|█████████████████████████████████▌                                              | 204/486 [14:31<21:03,  4.48s/it]"
     ]
    },
    {
     "name": "stdout",
     "output_type": "stream",
     "text": [
      "https://www.loket.com/event/season-3-kontes-ayam-pelung-piala-rektor-unpad_VK4g\n"
     ]
    },
    {
     "name": "stderr",
     "output_type": "stream",
     "text": [
      "\r",
      " 42%|█████████████████████████████████▋                                              | 205/486 [14:35<20:54,  4.47s/it]"
     ]
    },
    {
     "name": "stdout",
     "output_type": "stream",
     "text": [
      "https://www.loket.com/event/webinar-dasar-teknik-prompt-perintah-dalam-menggunakan-ai-v9c94\n"
     ]
    },
    {
     "name": "stderr",
     "output_type": "stream",
     "text": [
      "\r",
      " 42%|█████████████████████████████████▉                                              | 206/486 [14:39<20:06,  4.31s/it]"
     ]
    },
    {
     "name": "stdout",
     "output_type": "stream",
     "text": [
      "https://www.loket.com/event/semesta-berpesta-jakarta_VbcG\n"
     ]
    },
    {
     "name": "stderr",
     "output_type": "stream",
     "text": [
      "\r",
      " 43%|██████████████████████████████████                                              | 207/486 [14:43<19:38,  4.22s/it]"
     ]
    },
    {
     "name": "stdout",
     "output_type": "stream",
     "text": [
      "https://www.loket.com/event/m-bloc-fest-2023_Vbc9Y\n"
     ]
    },
    {
     "name": "stderr",
     "output_type": "stream",
     "text": [
      "\r",
      " 43%|██████████████████████████████████▏                                             | 208/486 [14:47<19:23,  4.18s/it]"
     ]
    },
    {
     "name": "stdout",
     "output_type": "stream",
     "text": [
      "https://www.loket.com/event/sul-sel-aniv-fest-2023-colour-run-vr91\n"
     ]
    },
    {
     "name": "stderr",
     "output_type": "stream",
     "text": [
      "\r",
      " 43%|██████████████████████████████████▍                                             | 209/486 [14:51<19:19,  4.18s/it]"
     ]
    },
    {
     "name": "stdout",
     "output_type": "stream",
     "text": [
      "https://www.loket.com/event/tiket-resmi-sul-sel-annivest-2023-run-5-vmk\n"
     ]
    },
    {
     "name": "stderr",
     "output_type": "stream",
     "text": [
      "\r",
      " 43%|██████████████████████████████████▌                                             | 210/486 [14:55<19:14,  4.18s/it]"
     ]
    },
    {
     "name": "stdout",
     "output_type": "stream",
     "text": [
      "https://www.loket.com/event/critical-thinking-skills-for-all-professionals_U9U13\n"
     ]
    },
    {
     "name": "stderr",
     "output_type": "stream",
     "text": [
      "\r",
      " 43%|██████████████████████████████████▋                                             | 211/486 [15:00<19:28,  4.25s/it]"
     ]
    },
    {
     "name": "stdout",
     "output_type": "stream",
     "text": [
      "https://www.loket.com/event/hse-acceleration-program-management-system-iso_V6I\n"
     ]
    },
    {
     "name": "stderr",
     "output_type": "stream",
     "text": [
      "\r",
      " 44%|██████████████████████████████████▉                                             | 212/486 [15:05<21:06,  4.62s/it]"
     ]
    },
    {
     "name": "stdout",
     "output_type": "stream",
     "text": [
      "https://www.loket.com/event/clskbatchix\n"
     ]
    },
    {
     "name": "stderr",
     "output_type": "stream",
     "text": [
      "\r",
      " 44%|███████████████████████████████████                                             | 213/486 [15:10<20:52,  4.59s/it]"
     ]
    },
    {
     "name": "stdout",
     "output_type": "stream",
     "text": [
      "https://www.loket.com/event/practical-public-speaking_U9U4U\n"
     ]
    },
    {
     "name": "stderr",
     "output_type": "stream",
     "text": [
      "\r",
      " 44%|███████████████████████████████████▏                                            | 214/486 [15:14<20:16,  4.47s/it]"
     ]
    },
    {
     "name": "stdout",
     "output_type": "stream",
     "text": [
      "https://www.loket.com/event/abang2ankaraoke\n"
     ]
    },
    {
     "name": "stderr",
     "output_type": "stream",
     "text": [
      "\r",
      " 44%|███████████████████████████████████▍                                            | 215/486 [15:18<19:42,  4.36s/it]"
     ]
    },
    {
     "name": "stdout",
     "output_type": "stream",
     "text": [
      "https://www.loket.com/event/amecapac2023\n"
     ]
    },
    {
     "name": "stderr",
     "output_type": "stream",
     "text": [
      "\r",
      " 44%|███████████████████████████████████▌                                            | 216/486 [15:22<19:09,  4.26s/it]"
     ]
    },
    {
     "name": "stdout",
     "output_type": "stream",
     "text": [
      "https://www.loket.com/event/hse-acceleration-program-basic-k3-migas-tambang_V6f\n"
     ]
    },
    {
     "name": "stderr",
     "output_type": "stream",
     "text": [
      "\r",
      " 45%|███████████████████████████████████▋                                            | 217/486 [15:26<18:33,  4.14s/it]"
     ]
    },
    {
     "name": "stdout",
     "output_type": "stream",
     "text": [
      "https://www.loket.com/event/online-random-talks-19-october-2023_VCZ\n"
     ]
    },
    {
     "name": "stderr",
     "output_type": "stream",
     "text": [
      "\r",
      " 45%|███████████████████████████████████▉                                            | 218/486 [15:30<18:42,  4.19s/it]"
     ]
    },
    {
     "name": "stdout",
     "output_type": "stream",
     "text": [
      "https://www.loket.com/event/data-analytics-essentials-with-google-data-studio_V93D9\n"
     ]
    },
    {
     "name": "stderr",
     "output_type": "stream",
     "text": [
      "\r",
      " 45%|████████████████████████████████████                                            | 219/486 [15:35<19:08,  4.30s/it]"
     ]
    },
    {
     "name": "stdout",
     "output_type": "stream",
     "text": [
      "https://www.loket.com/event/online-random-talks-20-october-2023_VCL\n"
     ]
    },
    {
     "name": "stderr",
     "output_type": "stream",
     "text": [
      "\r",
      " 45%|████████████████████████████████████▏                                           | 220/486 [15:39<19:18,  4.35s/it]"
     ]
    },
    {
     "name": "stdout",
     "output_type": "stream",
     "text": [
      "https://www.loket.com/event/filla-music-fest-guyon-waton-v6dg\n"
     ]
    },
    {
     "name": "stderr",
     "output_type": "stream",
     "text": [
      "\r",
      " 45%|████████████████████████████████████▍                                           | 221/486 [15:44<19:16,  4.36s/it]"
     ]
    },
    {
     "name": "stdout",
     "output_type": "stream",
     "text": [
      "https://www.loket.com/event/didi-kempot-tribute-music-concert-udzd\n"
     ]
    },
    {
     "name": "stderr",
     "output_type": "stream",
     "text": [
      "\r",
      " 46%|████████████████████████████████████▌                                           | 222/486 [15:48<19:11,  4.36s/it]"
     ]
    },
    {
     "name": "stdout",
     "output_type": "stream",
     "text": [
      "https://www.loket.com/event/cikal-pop-up-class-kunyah-kunyah-21-oktober_Vwj\n"
     ]
    },
    {
     "name": "stderr",
     "output_type": "stream",
     "text": [
      "\r",
      " 46%|████████████████████████████████████▋                                           | 223/486 [15:53<19:35,  4.47s/it]"
     ]
    },
    {
     "name": "stdout",
     "output_type": "stream",
     "text": [
      "https://www.loket.com/event/cikal-pop-up-class-kunyah-kunyah-21-oktober_VwR\n"
     ]
    },
    {
     "name": "stderr",
     "output_type": "stream",
     "text": [
      "\r",
      " 46%|████████████████████████████████████▊                                           | 224/486 [15:57<19:50,  4.54s/it]"
     ]
    },
    {
     "name": "stdout",
     "output_type": "stream",
     "text": [
      "https://www.loket.com/event/cikal-pop-up-class-kunyah-kunyah-21-oktober_VwF\n"
     ]
    },
    {
     "name": "stderr",
     "output_type": "stream",
     "text": [
      "\r",
      " 46%|█████████████████████████████████████                                           | 225/486 [16:04<21:48,  5.01s/it]"
     ]
    },
    {
     "name": "stdout",
     "output_type": "stream",
     "text": [
      "https://www.loket.com/event/cikal-pop-up-class-kunyah-kunyah-21-oktober_Vwe\n"
     ]
    },
    {
     "name": "stderr",
     "output_type": "stream",
     "text": [
      "\r",
      " 47%|█████████████████████████████████████▏                                          | 226/486 [16:08<21:03,  4.86s/it]"
     ]
    },
    {
     "name": "stdout",
     "output_type": "stream",
     "text": [
      "https://www.loket.com/event/online-random-talks-21-october-2023_VCd\n"
     ]
    },
    {
     "name": "stderr",
     "output_type": "stream",
     "text": [
      "\r",
      " 47%|█████████████████████████████████████▎                                          | 227/486 [16:12<20:02,  4.64s/it]"
     ]
    },
    {
     "name": "stdout",
     "output_type": "stream",
     "text": [
      "https://www.loket.com/event/sigap-batch-3-2023-intro_VfUg\n"
     ]
    },
    {
     "name": "stderr",
     "output_type": "stream",
     "text": [
      "\r",
      " 47%|█████████████████████████████████████▌                                          | 228/486 [16:17<20:01,  4.66s/it]"
     ]
    },
    {
     "name": "stdout",
     "output_type": "stream",
     "text": [
      "https://www.loket.com/event/scholarship-incubator-intro_VbYh\n"
     ]
    },
    {
     "name": "stderr",
     "output_type": "stream",
     "text": [
      "\r",
      " 47%|█████████████████████████████████████▋                                          | 229/486 [16:21<19:04,  4.45s/it]"
     ]
    },
    {
     "name": "stdout",
     "output_type": "stream",
     "text": [
      "https://www.loket.com/event/decade-by-bogor-runners-vjc\n"
     ]
    },
    {
     "name": "stderr",
     "output_type": "stream",
     "text": [
      "\r",
      " 47%|█████████████████████████████████████▊                                          | 230/486 [16:25<18:26,  4.32s/it]"
     ]
    },
    {
     "name": "stdout",
     "output_type": "stream",
     "text": [
      "https://www.loket.com/event/15thjakmed2023\n"
     ]
    },
    {
     "name": "stderr",
     "output_type": "stream",
     "text": [
      "\r",
      " 48%|██████████████████████████████████████                                          | 231/486 [16:29<17:39,  4.15s/it]"
     ]
    },
    {
     "name": "stdout",
     "output_type": "stream",
     "text": [
      "https://www.loket.com/event/gema-gathika-offline-3d-music-concert-u9vu\n"
     ]
    },
    {
     "name": "stderr",
     "output_type": "stream",
     "text": [
      "\r",
      " 48%|██████████████████████████████████████▏                                         | 232/486 [16:36<21:50,  5.16s/it]"
     ]
    },
    {
     "name": "stdout",
     "output_type": "stream",
     "text": [
      "https://www.loket.com/event/chindo-kalbar-seminar-project-vmm\n"
     ]
    },
    {
     "name": "stderr",
     "output_type": "stream",
     "text": [
      "\r",
      " 48%|██████████████████████████████████████▎                                         | 233/486 [16:41<20:59,  4.98s/it]"
     ]
    },
    {
     "name": "stdout",
     "output_type": "stream",
     "text": [
      "https://www.loket.com/event/perjalanan-sementara-malang_V0v\n"
     ]
    },
    {
     "name": "stderr",
     "output_type": "stream",
     "text": [
      "\r",
      " 48%|██████████████████████████████████████▌                                         | 234/486 [16:45<20:03,  4.78s/it]"
     ]
    },
    {
     "name": "stdout",
     "output_type": "stream",
     "text": [
      "https://www.loket.com/event/black-camping-makassar\n"
     ]
    },
    {
     "name": "stderr",
     "output_type": "stream",
     "text": [
      "\r",
      " 48%|██████████████████████████████████████▋                                         | 235/486 [16:49<19:30,  4.66s/it]"
     ]
    },
    {
     "name": "stdout",
     "output_type": "stream",
     "text": [
      "https://www.loket.com/event/festivaltitiktemu2023\n"
     ]
    },
    {
     "name": "stderr",
     "output_type": "stream",
     "text": [
      "\r",
      " 49%|██████████████████████████████████████▊                                         | 236/486 [16:54<18:56,  4.55s/it]"
     ]
    },
    {
     "name": "stdout",
     "output_type": "stream",
     "text": [
      "https://www.loket.com/event/homecoming2023jakarta\n"
     ]
    },
    {
     "name": "stderr",
     "output_type": "stream",
     "text": [
      "\r",
      " 49%|███████████████████████████████████████                                         | 237/486 [16:58<19:02,  4.59s/it]"
     ]
    },
    {
     "name": "stdout",
     "output_type": "stream",
     "text": [
      "https://www.loket.com/event/ghost-mansion\n"
     ]
    },
    {
     "name": "stderr",
     "output_type": "stream",
     "text": [
      "\r",
      " 49%|███████████████████████████████████████▏                                        | 238/486 [17:05<21:25,  5.18s/it]"
     ]
    },
    {
     "name": "stdout",
     "output_type": "stream",
     "text": [
      "https://www.loket.com/event/cartoon2023\n"
     ]
    },
    {
     "name": "stderr",
     "output_type": "stream",
     "text": [
      "\r",
      " 49%|███████████████████████████████████████▎                                        | 239/486 [17:10<20:31,  4.98s/it]"
     ]
    },
    {
     "name": "stdout",
     "output_type": "stream",
     "text": [
      "https://www.loket.com/event/katedral-open-vhd1\n"
     ]
    },
    {
     "name": "stderr",
     "output_type": "stream",
     "text": [
      "\r",
      " 49%|███████████████████████████████████████▌                                        | 240/486 [17:14<19:44,  4.82s/it]"
     ]
    },
    {
     "name": "stdout",
     "output_type": "stream",
     "text": [
      "https://www.loket.com/event/katedral-open-vhu1\n"
     ]
    },
    {
     "name": "stderr",
     "output_type": "stream",
     "text": [
      "\r",
      " 50%|███████████████████████████████████████▋                                        | 241/486 [17:18<18:12,  4.46s/it]"
     ]
    },
    {
     "name": "stdout",
     "output_type": "stream",
     "text": [
      "https://www.loket.com/event/candyland\n"
     ]
    },
    {
     "name": "stderr",
     "output_type": "stream",
     "text": [
      "\r",
      " 50%|███████████████████████████████████████▊                                        | 242/486 [17:22<18:05,  4.45s/it]"
     ]
    },
    {
     "name": "stdout",
     "output_type": "stream",
     "text": [
      "https://www.loket.com/event/pekan-raya-jatim_V93bg\n"
     ]
    },
    {
     "name": "stderr",
     "output_type": "stream",
     "text": [
      "\r",
      " 50%|████████████████████████████████████████                                        | 243/486 [17:27<18:06,  4.47s/it]"
     ]
    },
    {
     "name": "stdout",
     "output_type": "stream",
     "text": [
      "https://www.loket.com/event/festival-rimba-indonesia-rimbafest-vol-1_V418\n"
     ]
    },
    {
     "name": "stderr",
     "output_type": "stream",
     "text": [
      "\r",
      " 50%|████████████████████████████████████████▏                                       | 244/486 [17:31<18:15,  4.53s/it]"
     ]
    },
    {
     "name": "stdout",
     "output_type": "stream",
     "text": [
      "https://www.loket.com/event/playlist-live-festival-2023_UDn1\n"
     ]
    },
    {
     "name": "stderr",
     "output_type": "stream",
     "text": [
      "\r",
      " 50%|████████████████████████████████████████▎                                       | 245/486 [17:35<17:10,  4.27s/it]"
     ]
    },
    {
     "name": "stdout",
     "output_type": "stream",
     "text": [
      "https://www.loket.com/event/sertifikasi-bnsp-training-of-trainer-ve9d\n"
     ]
    },
    {
     "name": "stderr",
     "output_type": "stream",
     "text": [
      "\r",
      " 51%|████████████████████████████████████████▍                                       | 246/486 [17:39<17:02,  4.26s/it]"
     ]
    },
    {
     "name": "stdout",
     "output_type": "stream",
     "text": [
      "https://www.loket.com/event/hse-acceleration-program-workshop-risk-analisis-kecelakaan-jsa_V6k\n"
     ]
    },
    {
     "name": "stderr",
     "output_type": "stream",
     "text": [
      "\r",
      " 51%|████████████████████████████████████████▋                                       | 247/486 [17:43<16:27,  4.13s/it]"
     ]
    },
    {
     "name": "stdout",
     "output_type": "stream",
     "text": [
      "https://www.loket.com/event/2024-indonesia-market-behavior-outlook-vn99\n"
     ]
    },
    {
     "name": "stderr",
     "output_type": "stream",
     "text": [
      "\r",
      " 51%|████████████████████████████████████████▊                                       | 248/486 [17:47<16:29,  4.16s/it]"
     ]
    },
    {
     "name": "stdout",
     "output_type": "stream",
     "text": [
      "https://www.loket.com/event/et-asia-ossrba\n"
     ]
    },
    {
     "name": "stderr",
     "output_type": "stream",
     "text": [
      "\r",
      " 51%|████████████████████████████████████████▉                                       | 249/486 [17:51<16:11,  4.10s/it]"
     ]
    },
    {
     "name": "stdout",
     "output_type": "stream",
     "text": [
      "https://www.loket.com/event/nsk\n"
     ]
    },
    {
     "name": "stderr",
     "output_type": "stream",
     "text": [
      "\r",
      " 51%|█████████████████████████████████████████▏                                      | 250/486 [17:56<16:45,  4.26s/it]"
     ]
    },
    {
     "name": "stdout",
     "output_type": "stream",
     "text": [
      "https://www.loket.com/event/hse-acceleration-program-emergency-response-plan-erp-bff-v6w\n"
     ]
    },
    {
     "name": "stderr",
     "output_type": "stream",
     "text": [
      "\r",
      " 52%|█████████████████████████████████████████▎                                      | 251/486 [18:00<16:53,  4.31s/it]"
     ]
    },
    {
     "name": "stdout",
     "output_type": "stream",
     "text": [
      "https://www.loket.com/event/all-in-ticket-hse-acceleration-program_V6Z\n"
     ]
    },
    {
     "name": "stderr",
     "output_type": "stream",
     "text": [
      "\r",
      " 52%|█████████████████████████████████████████▍                                      | 252/486 [18:06<18:21,  4.71s/it]"
     ]
    },
    {
     "name": "stdout",
     "output_type": "stream",
     "text": [
      "https://www.loket.com/event/grandshow2023\n"
     ]
    },
    {
     "name": "stderr",
     "output_type": "stream",
     "text": [
      "\r",
      " 52%|█████████████████████████████████████████▋                                      | 253/486 [18:10<17:59,  4.63s/it]"
     ]
    },
    {
     "name": "stdout",
     "output_type": "stream",
     "text": [
      "https://www.loket.com/event/steve-vai-inviolate-2023_Vl94\n"
     ]
    },
    {
     "name": "stderr",
     "output_type": "stream",
     "text": [
      "\r",
      " 52%|█████████████████████████████████████████▊                                      | 254/486 [18:15<18:14,  4.72s/it]"
     ]
    },
    {
     "name": "stdout",
     "output_type": "stream",
     "text": [
      "https://www.loket.com/event/birubaru-berlayar\n"
     ]
    },
    {
     "name": "stderr",
     "output_type": "stream",
     "text": [
      "\r",
      " 52%|█████████████████████████████████████████▉                                      | 255/486 [18:19<17:13,  4.48s/it]"
     ]
    },
    {
     "name": "stdout",
     "output_type": "stream",
     "text": [
      "https://www.loket.com/event/webinar-study-hack-cara-belajar-lebih-cerdas-dan_Vfr\n"
     ]
    },
    {
     "name": "stderr",
     "output_type": "stream",
     "text": [
      "\r",
      " 53%|██████████████████████████████████████████▏                                     | 256/486 [18:24<17:13,  4.50s/it]"
     ]
    },
    {
     "name": "stdout",
     "output_type": "stream",
     "text": [
      "https://www.loket.com/event/teknikal-classic-101-v9b0\n"
     ]
    },
    {
     "name": "stderr",
     "output_type": "stream",
     "text": [
      "\r",
      " 53%|██████████████████████████████████████████▎                                     | 257/486 [18:29<17:43,  4.65s/it]"
     ]
    },
    {
     "name": "stdout",
     "output_type": "stream",
     "text": [
      "https://www.loket.com/event/tweads-bazzar-preloved-books-vbbd\n"
     ]
    },
    {
     "name": "stderr",
     "output_type": "stream",
     "text": [
      "\r",
      " 53%|██████████████████████████████████████████▍                                     | 258/486 [18:37<22:18,  5.87s/it]"
     ]
    },
    {
     "name": "stdout",
     "output_type": "stream",
     "text": [
      "https://www.loket.com/event/guinness-brighter-together_V9Dm\n"
     ]
    },
    {
     "name": "stderr",
     "output_type": "stream",
     "text": [
      "\r",
      " 53%|██████████████████████████████████████████▋                                     | 259/486 [18:42<20:59,  5.55s/it]"
     ]
    },
    {
     "name": "stdout",
     "output_type": "stream",
     "text": [
      "https://www.loket.com/event/cerita-sebelku-oleh-raditya-dika-batam_UU4gc\n"
     ]
    },
    {
     "name": "stderr",
     "output_type": "stream",
     "text": [
      "\r",
      " 53%|██████████████████████████████████████████▊                                     | 260/486 [18:48<20:41,  5.49s/it]"
     ]
    },
    {
     "name": "stdout",
     "output_type": "stream",
     "text": [
      "https://www.loket.com/event/an-intimate-concert-with-gigi-vp9d\n"
     ]
    },
    {
     "name": "stderr",
     "output_type": "stream",
     "text": [
      "\r",
      " 54%|██████████████████████████████████████████▉                                     | 261/486 [18:52<19:30,  5.20s/it]"
     ]
    },
    {
     "name": "stdout",
     "output_type": "stream",
     "text": [
      "https://www.loket.com/event/to-day-party-vst\n"
     ]
    },
    {
     "name": "stderr",
     "output_type": "stream",
     "text": [
      "\r",
      " 54%|███████████████████████████████████████████▏                                    | 262/486 [18:56<18:30,  4.96s/it]"
     ]
    },
    {
     "name": "stdout",
     "output_type": "stream",
     "text": [
      "https://www.loket.com/event/black-camping-surabaya\n"
     ]
    },
    {
     "name": "stderr",
     "output_type": "stream",
     "text": [
      "\r",
      " 54%|███████████████████████████████████████████▎                                    | 263/486 [19:04<21:19,  5.74s/it]"
     ]
    },
    {
     "name": "stdout",
     "output_type": "stream",
     "text": [
      "https://www.loket.com/event/nyawang-swara-3\n"
     ]
    },
    {
     "name": "stderr",
     "output_type": "stream",
     "text": [
      "\r",
      " 54%|███████████████████████████████████████████▍                                    | 264/486 [19:12<23:21,  6.31s/it]"
     ]
    },
    {
     "name": "stdout",
     "output_type": "stream",
     "text": [
      "https://www.loket.com/event/narasi-hati-echa-v99q\n"
     ]
    },
    {
     "name": "stderr",
     "output_type": "stream",
     "text": [
      "\r",
      " 55%|███████████████████████████████████████████▌                                    | 265/486 [19:17<21:43,  5.90s/it]"
     ]
    },
    {
     "name": "stdout",
     "output_type": "stream",
     "text": [
      "https://www.loket.com/event/ini-medan-bung-u9jb\n"
     ]
    },
    {
     "name": "stderr",
     "output_type": "stream",
     "text": [
      "\r",
      " 55%|███████████████████████████████████████████▊                                    | 266/486 [19:21<19:52,  5.42s/it]"
     ]
    },
    {
     "name": "stdout",
     "output_type": "stream",
     "text": [
      "https://www.loket.com/event/banyak-anak-banyak-rizki-vsu9\n"
     ]
    },
    {
     "name": "stderr",
     "output_type": "stream",
     "text": [
      "\r",
      " 55%|███████████████████████████████████████████▉                                    | 267/486 [19:25<18:51,  5.17s/it]"
     ]
    },
    {
     "name": "stdout",
     "output_type": "stream",
     "text": [
      "https://www.loket.com/event/indonesia-united-in-worship-v8q\n"
     ]
    },
    {
     "name": "stderr",
     "output_type": "stream",
     "text": [
      "\r",
      " 55%|████████████████████████████████████████████                                    | 268/486 [19:30<18:37,  5.13s/it]"
     ]
    },
    {
     "name": "stdout",
     "output_type": "stream",
     "text": [
      "https://www.loket.com/event/gebyar-hari-santri-2023_V9cUU\n"
     ]
    },
    {
     "name": "stderr",
     "output_type": "stream",
     "text": [
      "\r",
      " 55%|████████████████████████████████████████████▎                                   | 269/486 [19:37<20:09,  5.57s/it]"
     ]
    },
    {
     "name": "stdout",
     "output_type": "stream",
     "text": [
      "https://www.loket.com/event/workshoparchetype2023\n"
     ]
    },
    {
     "name": "stderr",
     "output_type": "stream",
     "text": [
      "\r",
      " 56%|████████████████████████████████████████████▍                                   | 270/486 [19:42<19:05,  5.30s/it]"
     ]
    },
    {
     "name": "stdout",
     "output_type": "stream",
     "text": [
      "https://www.loket.com/event/medical-acupuncture-in-ophthalmology-and-otolaryngology-an-update_UUh3\n"
     ]
    },
    {
     "name": "stderr",
     "output_type": "stream",
     "text": [
      "\r",
      " 56%|████████████████████████████████████████████▌                                   | 271/486 [19:47<18:58,  5.30s/it]"
     ]
    },
    {
     "name": "stdout",
     "output_type": "stream",
     "text": [
      "https://www.loket.com/event/medical-acupuncture-in-ophthalmology-and-otolaryngology-an-update_VKr\n"
     ]
    },
    {
     "name": "stderr",
     "output_type": "stream",
     "text": [
      "\r",
      " 56%|████████████████████████████████████████████▊                                   | 272/486 [19:54<20:59,  5.88s/it]"
     ]
    },
    {
     "name": "stdout",
     "output_type": "stream",
     "text": [
      "https://www.loket.com/event/pelatihan-gada-pratama-security_UbZ1\n"
     ]
    },
    {
     "name": "stderr",
     "output_type": "stream",
     "text": [
      "\r",
      " 56%|████████████████████████████████████████████▉                                   | 273/486 [20:00<21:10,  5.96s/it]"
     ]
    },
    {
     "name": "stdout",
     "output_type": "stream",
     "text": [
      "https://www.loket.com/event/outdoor-yoga-by-konco-yoga_Vbgy\n"
     ]
    },
    {
     "name": "stderr",
     "output_type": "stream",
     "text": [
      "\r",
      " 56%|█████████████████████████████████████████████                                   | 274/486 [20:07<21:49,  6.18s/it]"
     ]
    },
    {
     "name": "stdout",
     "output_type": "stream",
     "text": [
      "https://www.loket.com/event/vol-05-sewaktu-bermusik-di-taman-budaya-sentul\n"
     ]
    },
    {
     "name": "stderr",
     "output_type": "stream",
     "text": [
      "\r",
      " 57%|█████████████████████████████████████████████▎                                  | 275/486 [20:12<20:32,  5.84s/it]"
     ]
    },
    {
     "name": "stdout",
     "output_type": "stream",
     "text": [
      "https://www.loket.com/event/pameranarchetype2023\n"
     ]
    },
    {
     "name": "stderr",
     "output_type": "stream",
     "text": [
      "\r",
      " 57%|█████████████████████████████████████████████▍                                  | 276/486 [20:17<19:13,  5.49s/it]"
     ]
    },
    {
     "name": "stdout",
     "output_type": "stream",
     "text": [
      "https://www.loket.com/event/black-camping-denpasar\n"
     ]
    },
    {
     "name": "stderr",
     "output_type": "stream",
     "text": [
      "\r",
      " 57%|█████████████████████████████████████████████▌                                  | 277/486 [20:22<18:36,  5.34s/it]"
     ]
    },
    {
     "name": "stdout",
     "output_type": "stream",
     "text": [
      "https://www.loket.com/event/rock-in-celebes_UbmU\n"
     ]
    },
    {
     "name": "stderr",
     "output_type": "stream",
     "text": [
      "\r",
      " 57%|█████████████████████████████████████████████▊                                  | 278/486 [20:27<17:59,  5.19s/it]"
     ]
    },
    {
     "name": "stdout",
     "output_type": "stream",
     "text": [
      "https://www.loket.com/event/the-papandayan-jazz-fest-tpjf-2023-vlx\n"
     ]
    },
    {
     "name": "stderr",
     "output_type": "stream",
     "text": [
      "\r",
      " 57%|█████████████████████████████████████████████▉                                  | 279/486 [20:31<17:10,  4.98s/it]"
     ]
    },
    {
     "name": "stdout",
     "output_type": "stream",
     "text": [
      "https://www.loket.com/event/sesore-sekolah-sosial-forestri-vidd\n"
     ]
    },
    {
     "name": "stderr",
     "output_type": "stream",
     "text": [
      "\r",
      " 58%|██████████████████████████████████████████████                                  | 280/486 [20:35<16:05,  4.69s/it]"
     ]
    },
    {
     "name": "stdout",
     "output_type": "stream",
     "text": [
      "https://www.loket.com/event/kaleaid\n"
     ]
    },
    {
     "name": "stderr",
     "output_type": "stream",
     "text": [
      "\r",
      " 58%|██████████████████████████████████████████████▎                                 | 281/486 [20:39<15:33,  4.55s/it]"
     ]
    },
    {
     "name": "stdout",
     "output_type": "stream",
     "text": [
      "https://www.loket.com/event/world-tourrecycling-virtual-v93bc\n"
     ]
    },
    {
     "name": "stderr",
     "output_type": "stream",
     "text": [
      "\r",
      " 58%|██████████████████████████████████████████████▍                                 | 282/486 [20:43<14:52,  4.37s/it]"
     ]
    },
    {
     "name": "stdout",
     "output_type": "stream",
     "text": [
      "https://www.loket.com/event/kursus-musik-sanggarku-basic-ukulele-class_K2c\n"
     ]
    },
    {
     "name": "stderr",
     "output_type": "stream",
     "text": [
      "\r",
      " 58%|██████████████████████████████████████████████▌                                 | 283/486 [20:48<15:08,  4.48s/it]"
     ]
    },
    {
     "name": "stdout",
     "output_type": "stream",
     "text": [
      "https://www.loket.com/event/imoviccon-2023-vju\n"
     ]
    },
    {
     "name": "stderr",
     "output_type": "stream",
     "text": [
      "\r",
      " 58%|██████████████████████████████████████████████▋                                 | 284/486 [20:53<15:29,  4.60s/it]"
     ]
    },
    {
     "name": "stdout",
     "output_type": "stream",
     "text": [
      "https://www.loket.com/event/just-mom_UDS9\n"
     ]
    },
    {
     "name": "stderr",
     "output_type": "stream",
     "text": [
      "\r",
      " 59%|██████████████████████████████████████████████▉                                 | 285/486 [20:58<15:37,  4.66s/it]"
     ]
    },
    {
     "name": "stdout",
     "output_type": "stream",
     "text": [
      "https://www.loket.com/event/anomalieliveinindonesia2023\n"
     ]
    },
    {
     "name": "stderr",
     "output_type": "stream",
     "text": [
      "\r",
      " 59%|███████████████████████████████████████████████                                 | 286/486 [21:02<15:13,  4.57s/it]"
     ]
    },
    {
     "name": "stdout",
     "output_type": "stream",
     "text": [
      "https://www.loket.com/event/redlight-emergency-6-vbdy\n"
     ]
    },
    {
     "name": "stderr",
     "output_type": "stream",
     "text": [
      "\r",
      " 59%|███████████████████████████████████████████████▏                                | 287/486 [21:07<15:14,  4.60s/it]"
     ]
    },
    {
     "name": "stdout",
     "output_type": "stream",
     "text": [
      "https://www.loket.com/event/super-brain-yoga-vmb1\n"
     ]
    },
    {
     "name": "stderr",
     "output_type": "stream",
     "text": [
      "\r",
      " 59%|███████████████████████████████████████████████▍                                | 288/486 [21:11<14:58,  4.54s/it]"
     ]
    },
    {
     "name": "stdout",
     "output_type": "stream",
     "text": [
      "https://www.loket.com/event/natcon-jci-inter\n"
     ]
    },
    {
     "name": "stderr",
     "output_type": "stream",
     "text": [
      "\r",
      " 59%|███████████████████████████████████████████████▌                                | 289/486 [21:16<15:32,  4.74s/it]"
     ]
    },
    {
     "name": "stdout",
     "output_type": "stream",
     "text": [
      "https://www.loket.com/event/plot-twist-makassar\n"
     ]
    },
    {
     "name": "stderr",
     "output_type": "stream",
     "text": [
      "\r",
      " 60%|███████████████████████████████████████████████▋                                | 290/486 [21:21<14:55,  4.57s/it]"
     ]
    },
    {
     "name": "stdout",
     "output_type": "stream",
     "text": [
      "https://www.loket.com/event/epic-comeback-by-bonar\n"
     ]
    },
    {
     "name": "stderr",
     "output_type": "stream",
     "text": [
      "\r",
      " 60%|███████████████████████████████████████████████▉                                | 291/486 [21:25<14:41,  4.52s/it]"
     ]
    },
    {
     "name": "stdout",
     "output_type": "stream",
     "text": [
      "https://www.loket.com/event/jci-ej-natcon\n"
     ]
    },
    {
     "name": "stderr",
     "output_type": "stream",
     "text": [
      "\r",
      " 60%|████████████████████████████████████████████████                                | 292/486 [21:29<14:00,  4.33s/it]"
     ]
    },
    {
     "name": "stdout",
     "output_type": "stream",
     "text": [
      "https://www.loket.com/event/pameran-ifbc-2023-jakarta_V0T\n"
     ]
    },
    {
     "name": "stderr",
     "output_type": "stream",
     "text": [
      "\r",
      " 60%|████████████████████████████████████████████████▏                               | 293/486 [21:35<15:25,  4.80s/it]"
     ]
    },
    {
     "name": "stdout",
     "output_type": "stream",
     "text": [
      "https://www.loket.com/event/black-camping-bogor\n"
     ]
    },
    {
     "name": "stderr",
     "output_type": "stream",
     "text": [
      "\r",
      " 60%|████████████████████████████████████████████████▍                               | 294/486 [21:39<14:24,  4.50s/it]"
     ]
    },
    {
     "name": "stdout",
     "output_type": "stream",
     "text": [
      "https://www.loket.com/event/dynamic-pmi-acp-exam-preparation-program-dacp_D9Ng\n"
     ]
    },
    {
     "name": "stderr",
     "output_type": "stream",
     "text": [
      "\r",
      " 61%|████████████████████████████████████████████████▌                               | 295/486 [21:43<14:30,  4.56s/it]"
     ]
    },
    {
     "name": "stdout",
     "output_type": "stream",
     "text": [
      "https://www.loket.com/event/extensive-agile-project-management-xapm_Ubs9\n"
     ]
    },
    {
     "name": "stderr",
     "output_type": "stream",
     "text": [
      "\r",
      " 61%|████████████████████████████████████████████████▋                               | 296/486 [21:48<14:24,  4.55s/it]"
     ]
    },
    {
     "name": "stdout",
     "output_type": "stream",
     "text": [
      "https://www.loket.com/event/somia-conference-2023-systems-thinking-in-design_Vjs\n"
     ]
    },
    {
     "name": "stderr",
     "output_type": "stream",
     "text": [
      "\r",
      " 61%|████████████████████████████████████████████████▉                               | 297/486 [21:53<14:33,  4.62s/it]"
     ]
    },
    {
     "name": "stdout",
     "output_type": "stream",
     "text": [
      "https://www.loket.com/event/extensive-project-management-program-xpm_D4U9D\n"
     ]
    },
    {
     "name": "stderr",
     "output_type": "stream",
     "text": [
      "\r",
      " 61%|█████████████████████████████████████████████████                               | 298/486 [21:57<14:13,  4.54s/it]"
     ]
    },
    {
     "name": "stdout",
     "output_type": "stream",
     "text": [
      "https://www.loket.com/event/dynamic-pmp-exam-preparation_D4UbU\n"
     ]
    },
    {
     "name": "stderr",
     "output_type": "stream",
     "text": [
      "\r",
      " 62%|█████████████████████████████████████████████████▏                              | 299/486 [22:03<15:34,  5.00s/it]"
     ]
    },
    {
     "name": "stdout",
     "output_type": "stream",
     "text": [
      "https://www.loket.com/event/dynamic-capm-exam-preparation-program-capm_D95c\n"
     ]
    },
    {
     "name": "stderr",
     "output_type": "stream",
     "text": [
      "\r",
      " 62%|█████████████████████████████████████████████████▍                              | 300/486 [22:08<15:05,  4.87s/it]"
     ]
    },
    {
     "name": "stdout",
     "output_type": "stream",
     "text": [
      "https://www.loket.com/event/acraa\n"
     ]
    },
    {
     "name": "stderr",
     "output_type": "stream",
     "text": [
      "\r",
      " 62%|█████████████████████████████████████████████████▌                              | 301/486 [22:12<14:28,  4.70s/it]"
     ]
    },
    {
     "name": "stdout",
     "output_type": "stream",
     "text": [
      "https://www.loket.com/event/indofood-presents-konser-emas-50tahungodbless_V4343\n"
     ]
    },
    {
     "name": "stderr",
     "output_type": "stream",
     "text": [
      "\r",
      " 62%|█████████████████████████████████████████████████▋                              | 302/486 [22:16<14:12,  4.63s/it]"
     ]
    },
    {
     "name": "stdout",
     "output_type": "stream",
     "text": [
      "https://www.loket.com/event/retii-ke-18-2023\n"
     ]
    },
    {
     "name": "stderr",
     "output_type": "stream",
     "text": [
      "\r",
      " 62%|█████████████████████████████████████████████████▉                              | 303/486 [22:21<14:04,  4.61s/it]"
     ]
    },
    {
     "name": "stdout",
     "output_type": "stream",
     "text": [
      "https://www.loket.com/event/liga-kopi-jakarta-2023-24_UUbgb\n"
     ]
    },
    {
     "name": "stderr",
     "output_type": "stream",
     "text": [
      "\r",
      " 63%|██████████████████████████████████████████████████                              | 304/486 [22:26<14:14,  4.69s/it]"
     ]
    },
    {
     "name": "stdout",
     "output_type": "stream",
     "text": [
      "https://www.loket.com/event/pengembangan-kompetensi-vgs\n"
     ]
    },
    {
     "name": "stderr",
     "output_type": "stream",
     "text": [
      "\r",
      " 63%|██████████████████████████████████████████████████▏                             | 305/486 [22:30<14:01,  4.65s/it]"
     ]
    },
    {
     "name": "stdout",
     "output_type": "stream",
     "text": [
      "https://www.loket.com/event/round12-vrl\n"
     ]
    },
    {
     "name": "stderr",
     "output_type": "stream",
     "text": [
      "\r",
      " 63%|██████████████████████████████████████████████████▎                             | 306/486 [22:35<13:54,  4.64s/it]"
     ]
    },
    {
     "name": "stdout",
     "output_type": "stream",
     "text": [
      "https://www.loket.com/event/il-divo-a-new-day-tour_UU4Dg\n"
     ]
    },
    {
     "name": "stderr",
     "output_type": "stream",
     "text": [
      "\r",
      " 63%|██████████████████████████████████████████████████▌                             | 307/486 [22:40<13:52,  4.65s/it]"
     ]
    },
    {
     "name": "stdout",
     "output_type": "stream",
     "text": [
      "https://www.loket.com/event/workshopkimbarthel\n"
     ]
    },
    {
     "name": "stderr",
     "output_type": "stream",
     "text": [
      "\r",
      " 63%|██████████████████████████████████████████████████▋                             | 308/486 [22:44<13:47,  4.65s/it]"
     ]
    },
    {
     "name": "stdout",
     "output_type": "stream",
     "text": [
      "https://www.loket.com/event/black-camping-balikpapan\n"
     ]
    },
    {
     "name": "stderr",
     "output_type": "stream",
     "text": [
      "\r",
      " 64%|██████████████████████████████████████████████████▊                             | 309/486 [22:49<13:33,  4.59s/it]"
     ]
    },
    {
     "name": "stdout",
     "output_type": "stream",
     "text": [
      "https://www.loket.com/event/jacob-collier-live-concert-2023_UD9DY\n"
     ]
    },
    {
     "name": "stderr",
     "output_type": "stream",
     "text": [
      "\r",
      " 64%|███████████████████████████████████████████████████                             | 310/486 [22:53<13:31,  4.61s/it]"
     ]
    },
    {
     "name": "stdout",
     "output_type": "stream",
     "text": [
      "https://www.loket.com/event/impectful-project-management-office-ipmo_D9vg\n"
     ]
    },
    {
     "name": "stderr",
     "output_type": "stream",
     "text": [
      "\r",
      " 64%|███████████████████████████████████████████████████▏                            | 311/486 [22:58<13:44,  4.71s/it]"
     ]
    },
    {
     "name": "stdout",
     "output_type": "stream",
     "text": [
      "https://www.loket.com/event/certified-international-procurement-professional-cipp-ud6b\n"
     ]
    },
    {
     "name": "stderr",
     "output_type": "stream",
     "text": [
      "\r",
      " 64%|███████████████████████████████████████████████████▎                            | 312/486 [23:05<15:00,  5.17s/it]"
     ]
    },
    {
     "name": "stdout",
     "output_type": "stream",
     "text": [
      "https://www.loket.com/event/practical-ms-project-pmsp_D9kU\n"
     ]
    },
    {
     "name": "stderr",
     "output_type": "stream",
     "text": [
      "\r",
      " 64%|███████████████████████████████████████████████████▌                            | 313/486 [23:10<14:52,  5.16s/it]"
     ]
    },
    {
     "name": "stdout",
     "output_type": "stream",
     "text": [
      "https://www.loket.com/event/hatsukoi-karaoke-vol-2_VAk\n"
     ]
    },
    {
     "name": "stderr",
     "output_type": "stream",
     "text": [
      "\r",
      " 65%|███████████████████████████████████████████████████▋                            | 314/486 [23:14<14:24,  5.03s/it]"
     ]
    },
    {
     "name": "stdout",
     "output_type": "stream",
     "text": [
      "https://www.loket.com/event/cikal-pop-up-class-cerita-cerita-18-november_Vw6\n"
     ]
    },
    {
     "name": "stderr",
     "output_type": "stream",
     "text": [
      "\r",
      " 65%|███████████████████████████████████████████████████▊                            | 315/486 [23:19<14:01,  4.92s/it]"
     ]
    },
    {
     "name": "stdout",
     "output_type": "stream",
     "text": [
      "https://www.loket.com/event/cikal-pop-up-class-cerita-cerita-18-november_VwP\n"
     ]
    },
    {
     "name": "stderr",
     "output_type": "stream",
     "text": [
      "\r",
      " 65%|████████████████████████████████████████████████████                            | 316/486 [23:24<13:48,  4.87s/it]"
     ]
    },
    {
     "name": "stdout",
     "output_type": "stream",
     "text": [
      "https://www.loket.com/event/cikal-pop-up-class-cerita-cerita-18-november_Vw7\n"
     ]
    },
    {
     "name": "stderr",
     "output_type": "stream",
     "text": [
      "\r",
      " 65%|████████████████████████████████████████████████████▏                           | 317/486 [23:29<13:38,  4.84s/it]"
     ]
    },
    {
     "name": "stdout",
     "output_type": "stream",
     "text": [
      "https://www.loket.com/event/cikal-pop-up-class-cerita-cerita-18-november_Vw4g\n"
     ]
    },
    {
     "name": "stderr",
     "output_type": "stream",
     "text": [
      "\r",
      " 65%|████████████████████████████████████████████████████▎                           | 318/486 [23:35<14:33,  5.20s/it]"
     ]
    },
    {
     "name": "stdout",
     "output_type": "stream",
     "text": [
      "https://www.loket.com/event/ison8\n"
     ]
    },
    {
     "name": "stderr",
     "output_type": "stream",
     "text": [
      "\r",
      " 66%|████████████████████████████████████████████████████▌                           | 319/486 [23:40<14:11,  5.10s/it]"
     ]
    },
    {
     "name": "stdout",
     "output_type": "stream",
     "text": [
      "https://www.loket.com/event/black-camping-lampung\n"
     ]
    },
    {
     "name": "stderr",
     "output_type": "stream",
     "text": [
      "\r",
      " 66%|████████████████████████████████████████████████████▋                           | 320/486 [23:44<13:41,  4.95s/it]"
     ]
    },
    {
     "name": "stdout",
     "output_type": "stream",
     "text": [
      "https://www.loket.com/event/manifest-mba\n"
     ]
    },
    {
     "name": "stderr",
     "output_type": "stream",
     "text": [
      "\r",
      " 66%|████████████████████████████████████████████████████▊                           | 321/486 [23:49<13:28,  4.90s/it]"
     ]
    },
    {
     "name": "stdout",
     "output_type": "stream",
     "text": [
      "https://www.loket.com/event/rx-team-1st-anniversary-v910\n"
     ]
    },
    {
     "name": "stderr",
     "output_type": "stream",
     "text": [
      "\r",
      " 66%|█████████████████████████████████████████████████████                           | 322/486 [23:54<13:13,  4.84s/it]"
     ]
    },
    {
     "name": "stdout",
     "output_type": "stream",
     "text": [
      "https://www.loket.com/event/jakarta-tabletop-expo-2023\n"
     ]
    },
    {
     "name": "stderr",
     "output_type": "stream",
     "text": [
      "\r",
      " 66%|█████████████████████████████████████████████████████▏                          | 323/486 [23:58<13:10,  4.85s/it]"
     ]
    },
    {
     "name": "stdout",
     "output_type": "stream",
     "text": [
      "https://www.loket.com/event/certified-international-supply-chain-professional-ciscp-ud6d\n"
     ]
    },
    {
     "name": "stderr",
     "output_type": "stream",
     "text": [
      "\r",
      " 67%|█████████████████████████████████████████████████████▎                          | 324/486 [24:04<13:35,  5.03s/it]"
     ]
    },
    {
     "name": "stdout",
     "output_type": "stream",
     "text": [
      "https://www.loket.com/event/iasti2023\n"
     ]
    },
    {
     "name": "stderr",
     "output_type": "stream",
     "text": [
      "\r",
      " 67%|█████████████████████████████████████████████████████▍                          | 325/486 [24:09<13:13,  4.93s/it]"
     ]
    },
    {
     "name": "stdout",
     "output_type": "stream",
     "text": [
      "https://www.loket.com/event/online-random-talks-23-novembere-2023_VCW\n"
     ]
    },
    {
     "name": "stderr",
     "output_type": "stream",
     "text": [
      "\r",
      " 67%|█████████████████████████████████████████████████████▋                          | 326/486 [24:14<13:31,  5.07s/it]"
     ]
    },
    {
     "name": "stdout",
     "output_type": "stream",
     "text": [
      "https://www.loket.com/event/cpss\n"
     ]
    },
    {
     "name": "stderr",
     "output_type": "stream",
     "text": [
      "\r",
      " 67%|█████████████████████████████████████████████████████▊                          | 327/486 [24:19<13:41,  5.17s/it]"
     ]
    },
    {
     "name": "stdout",
     "output_type": "stream",
     "text": [
      "https://www.loket.com/event/online-random-talks-24-november-2023_VCS\n"
     ]
    },
    {
     "name": "stderr",
     "output_type": "stream",
     "text": [
      "\r",
      " 67%|█████████████████████████████████████████████████████▉                          | 328/486 [24:24<13:27,  5.11s/it]"
     ]
    },
    {
     "name": "stdout",
     "output_type": "stream",
     "text": [
      "https://www.loket.com/event/online-random-talks-25-november-2023_VCl\n"
     ]
    },
    {
     "name": "stderr",
     "output_type": "stream",
     "text": [
      "\r",
      " 68%|██████████████████████████████████████████████████████▏                         | 329/486 [24:29<12:52,  4.92s/it]"
     ]
    },
    {
     "name": "stdout",
     "output_type": "stream",
     "text": [
      "https://www.loket.com/event/public-talk-yongey-mingyur-rinpoche-2023_Vfd\n"
     ]
    },
    {
     "name": "stderr",
     "output_type": "stream",
     "text": [
      "\r",
      " 68%|██████████████████████████████████████████████████████▎                         | 330/486 [24:36<14:28,  5.57s/it]"
     ]
    },
    {
     "name": "stdout",
     "output_type": "stream",
     "text": [
      "https://www.loket.com/event/black-camping-batam\n"
     ]
    },
    {
     "name": "stderr",
     "output_type": "stream",
     "text": [
      "\r",
      " 68%|██████████████████████████████████████████████████████▍                         | 331/486 [24:41<13:51,  5.36s/it]"
     ]
    },
    {
     "name": "stdout",
     "output_type": "stream",
     "text": [
      "https://www.loket.com/event/mobile-legends-bang-bang-sultan-cup-rising-star-vpd\n"
     ]
    },
    {
     "name": "stderr",
     "output_type": "stream",
     "text": [
      "\r",
      " 68%|██████████████████████████████████████████████████████▋                         | 332/486 [24:46<13:15,  5.17s/it]"
     ]
    },
    {
     "name": "stdout",
     "output_type": "stream",
     "text": [
      "https://www.loket.com/event/solo-mlbb-sultan-cup-rising-star-vmp\n"
     ]
    },
    {
     "name": "stderr",
     "output_type": "stream",
     "text": [
      "\r",
      " 69%|██████████████████████████████████████████████████████▊                         | 333/486 [24:50<12:56,  5.08s/it]"
     ]
    },
    {
     "name": "stdout",
     "output_type": "stream",
     "text": [
      "https://www.loket.com/event/pelatihan-gada-pratama-security_UbZ3\n"
     ]
    },
    {
     "name": "stderr",
     "output_type": "stream",
     "text": [
      "\r",
      " 69%|██████████████████████████████████████████████████████▉                         | 334/486 [24:55<12:40,  5.00s/it]"
     ]
    },
    {
     "name": "stdout",
     "output_type": "stream",
     "text": [
      "https://www.loket.com/event/joyland-jakarta-2023_UgbgD\n"
     ]
    },
    {
     "name": "stderr",
     "output_type": "stream",
     "text": [
      "\r",
      " 69%|███████████████████████████████████████████████████████▏                        | 335/486 [25:01<13:02,  5.18s/it]"
     ]
    },
    {
     "name": "stdout",
     "output_type": "stream",
     "text": [
      "https://www.loket.com/event/certified-international-professional-negotiator-cipn-ud6u\n"
     ]
    },
    {
     "name": "stderr",
     "output_type": "stream",
     "text": [
      "\r",
      " 69%|███████████████████████████████████████████████████████▎                        | 336/486 [25:05<12:32,  5.02s/it]"
     ]
    },
    {
     "name": "stdout",
     "output_type": "stream",
     "text": [
      "https://www.loket.com/event/dance-modern-traditional-regular-class-sanggarku_U4U9U\n"
     ]
    },
    {
     "name": "stderr",
     "output_type": "stream",
     "text": [
      "\r",
      " 69%|███████████████████████████████████████████████████████▍                        | 337/486 [25:11<12:36,  5.08s/it]"
     ]
    },
    {
     "name": "stdout",
     "output_type": "stream",
     "text": [
      "https://www.loket.com/event/entrance-ticket_U4DUD\n"
     ]
    },
    {
     "name": "stderr",
     "output_type": "stream",
     "text": [
      "\r",
      " 70%|███████████████████████████████████████████████████████▋                        | 338/486 [25:16<12:42,  5.15s/it]"
     ]
    },
    {
     "name": "stdout",
     "output_type": "stream",
     "text": [
      "https://www.loket.com/event/kimono-rental-japanese-costume_U4UYg\n"
     ]
    },
    {
     "name": "stderr",
     "output_type": "stream",
     "text": [
      "\r",
      " 70%|███████████████████████████████████████████████████████▊                        | 339/486 [25:21<12:25,  5.07s/it]"
     ]
    },
    {
     "name": "stdout",
     "output_type": "stream",
     "text": [
      "https://www.loket.com/event/litto-swimming-pool-u4uy9\n"
     ]
    },
    {
     "name": "stderr",
     "output_type": "stream",
     "text": [
      "\r",
      " 70%|███████████████████████████████████████████████████████▉                        | 340/486 [25:25<11:52,  4.88s/it]"
     ]
    },
    {
     "name": "stdout",
     "output_type": "stream",
     "text": [
      "https://www.loket.com/event/ninja-games-u4uyb\n"
     ]
    },
    {
     "name": "stderr",
     "output_type": "stream",
     "text": [
      "\r",
      " 70%|████████████████████████████████████████████████████████▏                       | 341/486 [25:30<11:56,  4.94s/it]"
     ]
    },
    {
     "name": "stdout",
     "output_type": "stream",
     "text": [
      "https://www.loket.com/event/mindfullness-litto-jogja-u4u13\n"
     ]
    },
    {
     "name": "stderr",
     "output_type": "stream",
     "text": [
      "\r",
      " 70%|████████████████████████████████████████████████████████▎                       | 342/486 [25:36<12:03,  5.02s/it]"
     ]
    },
    {
     "name": "stdout",
     "output_type": "stream",
     "text": [
      "https://www.loket.com/event/litto-jeep-wisata-u4u9g\n"
     ]
    },
    {
     "name": "stderr",
     "output_type": "stream",
     "text": [
      "\r",
      " 71%|████████████████████████████████████████████████████████▍                       | 343/486 [25:41<11:53,  4.99s/it]"
     ]
    },
    {
     "name": "stdout",
     "output_type": "stream",
     "text": [
      "https://www.loket.com/event/entrance-voucher-u4uc3\n"
     ]
    },
    {
     "name": "stderr",
     "output_type": "stream",
     "text": [
      "\r",
      " 71%|████████████████████████████████████████████████████████▋                       | 344/486 [25:45<11:33,  4.89s/it]"
     ]
    },
    {
     "name": "stdout",
     "output_type": "stream",
     "text": [
      "https://www.loket.com/event/plot-twist-bali\n"
     ]
    },
    {
     "name": "stderr",
     "output_type": "stream",
     "text": [
      "\r",
      " 71%|████████████████████████████████████████████████████████▊                       | 345/486 [25:50<11:39,  4.96s/it]"
     ]
    },
    {
     "name": "stdout",
     "output_type": "stream",
     "text": [
      "https://www.loket.com/event/black-camping-yogyakarta\n"
     ]
    },
    {
     "name": "stderr",
     "output_type": "stream",
     "text": [
      "\r",
      " 71%|████████████████████████████████████████████████████████▉                       | 346/486 [25:55<11:32,  4.94s/it]"
     ]
    },
    {
     "name": "stdout",
     "output_type": "stream",
     "text": [
      "https://www.loket.com/event/pekan-gembira-ria-vol-6_VeJ\n"
     ]
    },
    {
     "name": "stderr",
     "output_type": "stream",
     "text": [
      "\r",
      " 71%|█████████████████████████████████████████████████████████                       | 347/486 [26:00<11:21,  4.90s/it]"
     ]
    },
    {
     "name": "stdout",
     "output_type": "stream",
     "text": [
      "https://www.loket.com/event/masquerade-from-0-to-100-voud\n"
     ]
    },
    {
     "name": "stderr",
     "output_type": "stream",
     "text": [
      "\r",
      " 72%|█████████████████████████████████████████████████████████▎                      | 348/486 [26:06<11:38,  5.06s/it]"
     ]
    },
    {
     "name": "stdout",
     "output_type": "stream",
     "text": [
      "https://www.loket.com/event/iamjakarta\n"
     ]
    },
    {
     "name": "stderr",
     "output_type": "stream",
     "text": [
      "\r",
      " 72%|█████████████████████████████████████████████████████████▍                      | 349/486 [26:10<11:23,  4.99s/it]"
     ]
    },
    {
     "name": "stdout",
     "output_type": "stream",
     "text": [
      "https://www.loket.com/event/black-camping-semarang\n"
     ]
    },
    {
     "name": "stderr",
     "output_type": "stream",
     "text": [
      "\r",
      " 72%|█████████████████████████████████████████████████████████▌                      | 350/486 [26:15<11:08,  4.92s/it]"
     ]
    },
    {
     "name": "stdout",
     "output_type": "stream",
     "text": [
      "https://www.loket.com/event/mahorasop2023\n"
     ]
    },
    {
     "name": "stderr",
     "output_type": "stream",
     "text": [
      "\r",
      " 72%|█████████████████████████████████████████████████████████▊                      | 351/486 [26:20<11:04,  4.92s/it]"
     ]
    },
    {
     "name": "stdout",
     "output_type": "stream",
     "text": [
      "https://www.loket.com/event/certified-international-warehouse-and-inventory-manager-ciwim_UU2D\n"
     ]
    },
    {
     "name": "stderr",
     "output_type": "stream",
     "text": [
      "\r",
      " 72%|█████████████████████████████████████████████████████████▉                      | 352/486 [26:25<11:09,  5.00s/it]"
     ]
    },
    {
     "name": "stdout",
     "output_type": "stream",
     "text": [
      "https://www.loket.com/event/the-18th-markplus-conference-2024_V9gUb\n"
     ]
    },
    {
     "name": "stderr",
     "output_type": "stream",
     "text": [
      "\r",
      " 73%|██████████████████████████████████████████████████████████                      | 353/486 [26:30<11:08,  5.03s/it]"
     ]
    },
    {
     "name": "stdout",
     "output_type": "stream",
     "text": [
      "https://www.loket.com/event/extensive-project-management-program-xpm_D4U9U\n"
     ]
    },
    {
     "name": "stderr",
     "output_type": "stream",
     "text": [
      "\r",
      " 73%|██████████████████████████████████████████████████████████▎                     | 354/486 [26:36<11:21,  5.16s/it]"
     ]
    },
    {
     "name": "stdout",
     "output_type": "stream",
     "text": [
      "https://www.loket.com/event/dynamic-pmp-exam-preparation_D4UDY\n"
     ]
    },
    {
     "name": "stderr",
     "output_type": "stream",
     "text": [
      "\r",
      " 73%|██████████████████████████████████████████████████████████▍                     | 355/486 [26:41<11:21,  5.20s/it]"
     ]
    },
    {
     "name": "stdout",
     "output_type": "stream",
     "text": [
      "https://www.loket.com/event/dynamic-capm-exam-preparation-program-capm_D95Y\n"
     ]
    },
    {
     "name": "stderr",
     "output_type": "stream",
     "text": [
      "\r",
      " 73%|██████████████████████████████████████████████████████████▌                     | 356/486 [26:46<10:53,  5.03s/it]"
     ]
    },
    {
     "name": "stdout",
     "output_type": "stream",
     "text": [
      "https://www.loket.com/event/cikal-movie-maker_V9Ua\n"
     ]
    },
    {
     "name": "stderr",
     "output_type": "stream",
     "text": [
      "\r",
      " 73%|██████████████████████████████████████████████████████████▊                     | 357/486 [26:51<11:07,  5.17s/it]"
     ]
    },
    {
     "name": "stdout",
     "output_type": "stream",
     "text": [
      "https://www.loket.com/event/scars\n"
     ]
    },
    {
     "name": "stderr",
     "output_type": "stream",
     "text": [
      "\r",
      " 74%|██████████████████████████████████████████████████████████▉                     | 358/486 [26:56<10:46,  5.05s/it]"
     ]
    },
    {
     "name": "stdout",
     "output_type": "stream",
     "text": [
      "https://www.loket.com/event/cpt\n"
     ]
    },
    {
     "name": "stderr",
     "output_type": "stream",
     "text": [
      "\r",
      " 74%|███████████████████████████████████████████████████████████                     | 359/486 [27:02<11:08,  5.27s/it]"
     ]
    },
    {
     "name": "stdout",
     "output_type": "stream",
     "text": [
      "https://www.loket.com/event/rock-in-solo-festival-2023-vjm\n"
     ]
    },
    {
     "name": "stderr",
     "output_type": "stream",
     "text": [
      "\r",
      " 74%|███████████████████████████████████████████████████████████▎                    | 360/486 [27:08<11:44,  5.59s/it]"
     ]
    },
    {
     "name": "stdout",
     "output_type": "stream",
     "text": [
      "https://www.loket.com/event/psb\n"
     ]
    },
    {
     "name": "stderr",
     "output_type": "stream",
     "text": [
      "\r",
      " 74%|███████████████████████████████████████████████████████████▍                    | 361/486 [27:13<11:11,  5.37s/it]"
     ]
    },
    {
     "name": "stdout",
     "output_type": "stream",
     "text": [
      "https://www.loket.com/event/iamhpexplore2023\n"
     ]
    },
    {
     "name": "stderr",
     "output_type": "stream",
     "text": [
      "\r",
      " 74%|███████████████████████████████████████████████████████████▌                    | 362/486 [27:18<11:00,  5.32s/it]"
     ]
    },
    {
     "name": "stdout",
     "output_type": "stream",
     "text": [
      "https://www.loket.com/event/online-random-talks-14-december-2023_VC8\n"
     ]
    },
    {
     "name": "stderr",
     "output_type": "stream",
     "text": [
      "\r",
      " 75%|███████████████████████████████████████████████████████████▊                    | 363/486 [27:23<10:43,  5.23s/it]"
     ]
    },
    {
     "name": "stdout",
     "output_type": "stream",
     "text": [
      "https://www.loket.com/event/online-random-talks-15-december-2023_VCx\n"
     ]
    },
    {
     "name": "stderr",
     "output_type": "stream",
     "text": [
      "\r",
      " 75%|███████████████████████████████████████████████████████████▉                    | 364/486 [27:28<10:17,  5.06s/it]"
     ]
    },
    {
     "name": "stdout",
     "output_type": "stream",
     "text": [
      "https://www.loket.com/event/cikal-pop-up-class-temu-temu-16-desember_Vwb3\n"
     ]
    },
    {
     "name": "stderr",
     "output_type": "stream",
     "text": [
      "\r",
      " 75%|████████████████████████████████████████████████████████████                    | 365/486 [27:33<10:20,  5.13s/it]"
     ]
    },
    {
     "name": "stdout",
     "output_type": "stream",
     "text": [
      "https://www.loket.com/event/cikal-pop-up-class-temu-temu-16-desember_Vw91\n"
     ]
    },
    {
     "name": "stderr",
     "output_type": "stream",
     "text": [
      "\r",
      " 75%|████████████████████████████████████████████████████████████▏                   | 366/486 [27:40<11:03,  5.53s/it]"
     ]
    },
    {
     "name": "stdout",
     "output_type": "stream",
     "text": [
      "https://www.loket.com/event/cikal-pop-up-class-temu-temu-16-desember_Vw9U\n"
     ]
    },
    {
     "name": "stderr",
     "output_type": "stream",
     "text": [
      "\r",
      " 76%|████████████████████████████████████████████████████████████▍                   | 367/486 [27:45<10:43,  5.40s/it]"
     ]
    },
    {
     "name": "stdout",
     "output_type": "stream",
     "text": [
      "https://www.loket.com/event/online-random-talks-16-december-2023_VCC\n"
     ]
    },
    {
     "name": "stderr",
     "output_type": "stream",
     "text": [
      "\r",
      " 76%|████████████████████████████████████████████████████████████▌                   | 368/486 [27:50<10:38,  5.42s/it]"
     ]
    },
    {
     "name": "stdout",
     "output_type": "stream",
     "text": [
      "https://www.loket.com/event/cikal-pop-up-class-temu-temu-16-desember_Vw4b\n"
     ]
    },
    {
     "name": "stderr",
     "output_type": "stream",
     "text": [
      "\r",
      " 76%|████████████████████████████████████████████████████████████▋                   | 369/486 [27:55<10:08,  5.20s/it]"
     ]
    },
    {
     "name": "stdout",
     "output_type": "stream",
     "text": [
      "https://www.loket.com/event/bundling-package-all-online-event-austeread-sept-s_VCE\n"
     ]
    },
    {
     "name": "stderr",
     "output_type": "stream",
     "text": [
      "\r",
      " 76%|████████████████████████████████████████████████████████████▉                   | 370/486 [28:00<09:54,  5.12s/it]"
     ]
    },
    {
     "name": "stdout",
     "output_type": "stream",
     "text": [
      "https://www.loket.com/event/bundling-package-all-event-sept-s-d-des_V43O\n"
     ]
    },
    {
     "name": "stderr",
     "output_type": "stream",
     "text": [
      "\r",
      " 76%|█████████████████████████████████████████████████████████████                   | 371/486 [28:05<09:40,  5.05s/it]"
     ]
    },
    {
     "name": "stdout",
     "output_type": "stream",
     "text": [
      "https://www.loket.com/event/supercampfest\n"
     ]
    },
    {
     "name": "stderr",
     "output_type": "stream",
     "text": [
      "\r",
      " 77%|█████████████████████████████████████████████████████████████▏                  | 372/486 [28:10<09:31,  5.02s/it]"
     ]
    },
    {
     "name": "stdout",
     "output_type": "stream",
     "text": [
      "https://www.loket.com/event/lomba-karya-tulis-ilmiah-lkti-patelki-palembang-ubn3\n"
     ]
    },
    {
     "name": "stderr",
     "output_type": "stream",
     "text": [
      "\r",
      " 77%|█████████████████████████████████████████████████████████████▍                  | 373/486 [28:15<09:30,  5.05s/it]"
     ]
    },
    {
     "name": "stdout",
     "output_type": "stream",
     "text": [
      "https://www.loket.com/event/hotel-voucher_V9cn\n"
     ]
    },
    {
     "name": "stderr",
     "output_type": "stream",
     "text": [
      "\r",
      " 77%|█████████████████████████████████████████████████████████████▌                  | 374/486 [28:20<09:25,  5.05s/it]"
     ]
    },
    {
     "name": "stdout",
     "output_type": "stream",
     "text": [
      "https://www.loket.com/event/pelatihan-gada-pratama-security_UbZ4\n"
     ]
    },
    {
     "name": "stderr",
     "output_type": "stream",
     "text": [
      "\r",
      " 77%|█████████████████████████████████████████████████████████████▋                  | 375/486 [28:27<10:24,  5.63s/it]"
     ]
    },
    {
     "name": "stdout",
     "output_type": "stream",
     "text": [
      "https://www.loket.com/event/corolla-paradise-ubw4\n"
     ]
    },
    {
     "name": "stderr",
     "output_type": "stream",
     "text": [
      "\r",
      " 77%|█████████████████████████████████████████████████████████████▉                  | 376/486 [28:32<10:22,  5.66s/it]"
     ]
    },
    {
     "name": "stdout",
     "output_type": "stream",
     "text": [
      "https://www.loket.com/event/nonton-woof-pluto-disini-ucvc\n"
     ]
    },
    {
     "name": "stderr",
     "output_type": "stream",
     "text": [
      " 78%|██████████████████████████████████████████████████████████████▏                 | 378/486 [28:42<09:03,  5.03s/it]"
     ]
    },
    {
     "name": "stdout",
     "output_type": "stream",
     "text": [
      "Gagal https://www.loket.com/event/uxwritingsession\n",
      "https://www.loket.com/event/on-demand-series-skillstation-vio\n"
     ]
    },
    {
     "name": "stderr",
     "output_type": "stream",
     "text": [
      " 78%|██████████████████████████████████████████████████████████████▌                 | 380/486 [28:53<09:39,  5.46s/it]"
     ]
    },
    {
     "name": "stdout",
     "output_type": "stream",
     "text": [
      "Gagal https://www.loket.com/event/kelas-belajar-bersama-d4d1b\n",
      "https://www.loket.com/event/kaguya-j-fest-matsuri-2023-motto_D3lc\n"
     ]
    },
    {
     "name": "stderr",
     "output_type": "stream",
     "text": [
      "\r",
      " 78%|██████████████████████████████████████████████████████████████▋                 | 381/486 [29:04<12:10,  6.96s/it]"
     ]
    },
    {
     "name": "stdout",
     "output_type": "stream",
     "text": [
      "https://www.loket.com/event/google-ads-masterclass_UcDbU\n"
     ]
    },
    {
     "name": "stderr",
     "output_type": "stream",
     "text": [
      "\r",
      " 79%|██████████████████████████████████████████████████████████████▉                 | 382/486 [29:16<14:44,  8.51s/it]"
     ]
    },
    {
     "name": "stdout",
     "output_type": "stream",
     "text": [
      "https://www.loket.com/event/tiket-masuk-wana-wisata-smart-hill-camp-vrug\n"
     ]
    },
    {
     "name": "stderr",
     "output_type": "stream",
     "text": [
      "\r",
      " 79%|███████████████████████████████████████████████████████████████                 | 383/486 [29:22<13:39,  7.96s/it]"
     ]
    },
    {
     "name": "stdout",
     "output_type": "stream",
     "text": [
      "https://www.loket.com/event/b2b-lead-generation-sales-strategy-training_U9Db3\n"
     ]
    },
    {
     "name": "stderr",
     "output_type": "stream",
     "text": [
      " 79%|███████████████████████████████████████████████████████████████▎                | 385/486 [29:35<11:45,  6.99s/it]"
     ]
    },
    {
     "name": "stdout",
     "output_type": "stream",
     "text": [
      "Gagal https://www.loket.com/event/ice-skating-bx-rink-bintaro-jaya_419UU\n"
     ]
    },
    {
     "name": "stderr",
     "output_type": "stream",
     "text": [
      "\r",
      " 79%|███████████████████████████████████████████████████████████████▌                | 386/486 [29:40<10:36,  6.37s/it]"
     ]
    },
    {
     "name": "stdout",
     "output_type": "stream",
     "text": [
      "Gagal https://www.loket.com/event/bx-rink-white-label_FUc1\n",
      "https://www.loket.com/event/love-for-sale_bDDYg\n"
     ]
    },
    {
     "name": "stderr",
     "output_type": "stream",
     "text": [
      "\r",
      " 80%|███████████████████████████████████████████████████████████████▋                | 387/486 [29:46<10:14,  6.20s/it]"
     ]
    },
    {
     "name": "stdout",
     "output_type": "stream",
     "text": [
      "https://www.loket.com/event/gie_UgC4\n"
     ]
    },
    {
     "name": "stderr",
     "output_type": "stream",
     "text": [
      "\r",
      " 80%|███████████████████████████████████████████████████████████████▊                | 388/486 [29:51<09:55,  6.07s/it]"
     ]
    },
    {
     "name": "stdout",
     "output_type": "stream",
     "text": [
      "https://www.loket.com/event/handcrafted_Ugq4\n"
     ]
    },
    {
     "name": "stderr",
     "output_type": "stream",
     "text": [
      "\r",
      " 80%|████████████████████████████████████████████████████████████████                | 389/486 [29:57<09:24,  5.82s/it]"
     ]
    },
    {
     "name": "stdout",
     "output_type": "stream",
     "text": [
      "https://www.loket.com/event/biola-tak-berdawai_UgQ1\n"
     ]
    },
    {
     "name": "stderr",
     "output_type": "stream",
     "text": [
      "\r",
      " 80%|████████████████████████████████████████████████████████████████▏               | 390/486 [30:04<09:49,  6.14s/it]"
     ]
    },
    {
     "name": "stdout",
     "output_type": "stream",
     "text": [
      "https://www.loket.com/event/cinta-dari-wamena_UgJg\n"
     ]
    },
    {
     "name": "stderr",
     "output_type": "stream",
     "text": [
      "\r",
      " 80%|████████████████████████████████████████████████████████████████▎               | 391/486 [30:09<09:19,  5.88s/it]"
     ]
    },
    {
     "name": "stdout",
     "output_type": "stream",
     "text": [
      "https://www.loket.com/event/tjoet-nja-dhien_UgJ3\n"
     ]
    },
    {
     "name": "stderr",
     "output_type": "stream",
     "text": [
      "\r",
      " 81%|████████████████████████████████████████████████████████████████▌               | 392/486 [30:14<08:54,  5.69s/it]"
     ]
    },
    {
     "name": "stdout",
     "output_type": "stream",
     "text": [
      "https://www.loket.com/event/vidio-premier-platinum_UgDc3\n"
     ]
    },
    {
     "name": "stderr",
     "output_type": "stream",
     "text": [
      " 81%|████████████████████████████████████████████████████████████████▊               | 394/486 [30:24<07:57,  5.20s/it]"
     ]
    },
    {
     "name": "stdout",
     "output_type": "stream",
     "text": [
      "Gagal https://www.loket.com/event/gondola-ancol_49UY1\n"
     ]
    },
    {
     "name": "stderr",
     "output_type": "stream",
     "text": [
      "\r",
      " 81%|█████████████████████████████████████████████████████████████████               | 395/486 [30:28<07:27,  4.92s/it]"
     ]
    },
    {
     "name": "stdout",
     "output_type": "stream",
     "text": [
      "Gagal https://www.loket.com/event/aum_9YHD\n",
      "https://www.loket.com/event/rekaman-webinar-relationship-journey-designing-a-desirable-relationship_DU994\n"
     ]
    },
    {
     "name": "stderr",
     "output_type": "stream",
     "text": [
      "\r",
      " 81%|█████████████████████████████████████████████████████████████████▏              | 396/486 [30:36<08:56,  5.97s/it]"
     ]
    },
    {
     "name": "stdout",
     "output_type": "stream",
     "text": [
      "https://www.loket.com/event/rekaman-webinar-begin-your-entrepreneurjourney-with-uma-hapsari_DU9bc\n"
     ]
    },
    {
     "name": "stderr",
     "output_type": "stream",
     "text": [
      "\r",
      " 82%|█████████████████████████████████████████████████████████████████▎              | 397/486 [30:42<08:26,  5.69s/it]"
     ]
    },
    {
     "name": "stdout",
     "output_type": "stream",
     "text": [
      "https://www.loket.com/event/rekaman-webinar-mencapai-100-juta-pertamamu-jonathan-end_DUb44\n"
     ]
    },
    {
     "name": "stderr",
     "output_type": "stream",
     "text": [
      "\r",
      " 82%|█████████████████████████████████████████████████████████████████▌              | 398/486 [30:47<08:04,  5.50s/it]"
     ]
    },
    {
     "name": "stdout",
     "output_type": "stream",
     "text": [
      "https://www.loket.com/event/rekaman-webinar-growing-through-pain-growth-space-x-dub4b\n"
     ]
    },
    {
     "name": "stderr",
     "output_type": "stream",
     "text": [
      "\r",
      " 82%|█████████████████████████████████████████████████████████████████▋              | 399/486 [30:51<07:43,  5.33s/it]"
     ]
    },
    {
     "name": "stdout",
     "output_type": "stream",
     "text": [
      "https://www.loket.com/event/rekaman-webinar-critical-thinking-mastery-growth-space-x_DUb4U\n"
     ]
    },
    {
     "name": "stderr",
     "output_type": "stream",
     "text": [
      "\r",
      " 82%|█████████████████████████████████████████████████████████████████▊              | 400/486 [30:57<07:45,  5.41s/it]"
     ]
    },
    {
     "name": "stdout",
     "output_type": "stream",
     "text": [
      "https://www.loket.com/event/rekaman-webinar-boost-your-career-jonathan-end-x_DUb91\n"
     ]
    },
    {
     "name": "stderr",
     "output_type": "stream",
     "text": [
      "\r",
      " 83%|██████████████████████████████████████████████████████████████████              | 401/486 [31:04<08:27,  5.97s/it]"
     ]
    },
    {
     "name": "stdout",
     "output_type": "stream",
     "text": [
      "https://www.loket.com/event/rekaman-webinar-personal-finance-mastery-jonathan-end-x_DUbb3\n"
     ]
    },
    {
     "name": "stderr",
     "output_type": "stream",
     "text": [
      "\r",
      " 83%|██████████████████████████████████████████████████████████████████▏             | 402/486 [31:10<08:05,  5.78s/it]"
     ]
    },
    {
     "name": "stdout",
     "output_type": "stream",
     "text": [
      "https://www.loket.com/event/rekaman-webinar-plan-your-career-jonathan-end_DUbb4\n"
     ]
    },
    {
     "name": "stderr",
     "output_type": "stream",
     "text": [
      "\r",
      " 83%|██████████████████████████████████████████████████████████████████▎             | 403/486 [31:15<07:36,  5.50s/it]"
     ]
    },
    {
     "name": "stdout",
     "output_type": "stream",
     "text": [
      "https://www.loket.com/event/rekaman-webinar-investasi-saham-untuk-pemula-jonathan-end_DUbb9\n"
     ]
    },
    {
     "name": "stderr",
     "output_type": "stream",
     "text": [
      "\r",
      " 83%|██████████████████████████████████████████████████████████████████▌             | 404/486 [31:20<07:29,  5.48s/it]"
     ]
    },
    {
     "name": "stdout",
     "output_type": "stream",
     "text": [
      "https://www.loket.com/event/rekaman-webinar-customer-centric-marketing-jonathan-end_DUbbD\n"
     ]
    },
    {
     "name": "stderr",
     "output_type": "stream",
     "text": [
      "\r",
      " 83%|██████████████████████████████████████████████████████████████████▋             | 405/486 [31:25<07:17,  5.40s/it]"
     ]
    },
    {
     "name": "stdout",
     "output_type": "stream",
     "text": [
      "https://www.loket.com/event/rekaman-webinar-build-your-personal-branding-jonathan-end_DUbbU\n"
     ]
    },
    {
     "name": "stderr",
     "output_type": "stream",
     "text": [
      "\r",
      " 84%|██████████████████████████████████████████████████████████████████▊             | 406/486 [31:31<07:11,  5.40s/it]"
     ]
    },
    {
     "name": "stdout",
     "output_type": "stream",
     "text": [
      "https://www.loket.com/event/rekaman-webinar-santai-berinvestasi-saham-dengan-growth-investing_DUbDc\n"
     ]
    },
    {
     "name": "stderr",
     "output_type": "stream",
     "text": [
      "\r",
      " 84%|██████████████████████████████████████████████████████████████████▉             | 407/486 [31:37<07:35,  5.77s/it]"
     ]
    },
    {
     "name": "stdout",
     "output_type": "stream",
     "text": [
      "https://www.loket.com/event/kelas-bisnis-umkm-dan-dasar-menjadi-barista-makara_Ug81\n"
     ]
    },
    {
     "name": "stderr",
     "output_type": "stream",
     "text": [
      "\r",
      " 84%|███████████████████████████████████████████████████████████████████▏            | 408/486 [31:43<07:23,  5.69s/it]"
     ]
    },
    {
     "name": "stdout",
     "output_type": "stream",
     "text": [
      "https://www.loket.com/event/kelas-desain-busana-makara-ui-academy_Ug83\n"
     ]
    },
    {
     "name": "stderr",
     "output_type": "stream",
     "text": [
      "\r",
      " 84%|███████████████████████████████████████████████████████████████████▎            | 409/486 [31:48<07:03,  5.50s/it]"
     ]
    },
    {
     "name": "stdout",
     "output_type": "stream",
     "text": [
      "https://www.loket.com/event/kelas-editing-video-makara-ui-academy_Ug89\n"
     ]
    },
    {
     "name": "stderr",
     "output_type": "stream",
     "text": [
      "\r",
      " 84%|███████████████████████████████████████████████████████████████████▍            | 410/486 [31:54<07:03,  5.57s/it]"
     ]
    },
    {
     "name": "stdout",
     "output_type": "stream",
     "text": [
      "https://www.loket.com/event/kelas-elemen-seni-mural-makara-ui-academy_Ug8b\n"
     ]
    },
    {
     "name": "stderr",
     "output_type": "stream",
     "text": [
      "\r",
      " 85%|███████████████████████████████████████████████████████████████████▋            | 411/486 [31:59<06:51,  5.48s/it]"
     ]
    },
    {
     "name": "stdout",
     "output_type": "stream",
     "text": [
      "https://www.loket.com/event/kelas-animasi-2d-makara-ui-academy_Ug8U\n"
     ]
    },
    {
     "name": "stderr",
     "output_type": "stream",
     "text": [
      "\r",
      " 85%|███████████████████████████████████████████████████████████████████▊            | 412/486 [32:05<07:06,  5.76s/it]"
     ]
    },
    {
     "name": "stdout",
     "output_type": "stream",
     "text": [
      "https://www.loket.com/event/kelas-public-speaking-makara-ui-academy_UgxY\n"
     ]
    },
    {
     "name": "stderr",
     "output_type": "stream",
     "text": [
      "\r",
      " 85%|███████████████████████████████████████████████████████████████████▉            | 413/486 [32:10<06:49,  5.62s/it]"
     ]
    },
    {
     "name": "stdout",
     "output_type": "stream",
     "text": [
      "https://www.loket.com/event/kelas-pramuwisata-makara-ui-academy_Ugxg\n"
     ]
    },
    {
     "name": "stderr",
     "output_type": "stream",
     "text": [
      "\r",
      " 85%|████████████████████████████████████████████████████████████████████▏           | 414/486 [32:16<06:31,  5.44s/it]"
     ]
    },
    {
     "name": "stdout",
     "output_type": "stream",
     "text": [
      "https://www.loket.com/event/kelas-executive-administrative-secretary-session-01-managing-project_UgCU\n"
     ]
    },
    {
     "name": "stderr",
     "output_type": "stream",
     "text": [
      "\r",
      " 85%|████████████████████████████████████████████████████████████████████▎           | 415/486 [32:21<06:23,  5.40s/it]"
     ]
    },
    {
     "name": "stdout",
     "output_type": "stream",
     "text": [
      "https://www.loket.com/event/kelas-executive-administrative-secretary-session-02-building-relationship_UgEg\n"
     ]
    },
    {
     "name": "stderr",
     "output_type": "stream",
     "text": [
      "\r",
      " 86%|████████████████████████████████████████████████████████████████████▍           | 416/486 [32:26<06:12,  5.31s/it]"
     ]
    },
    {
     "name": "stdout",
     "output_type": "stream",
     "text": [
      "https://www.loket.com/event/kelas-executive-administrative-secretary-session-03-applying-supervision_UgE4\n"
     ]
    },
    {
     "name": "stderr",
     "output_type": "stream",
     "text": [
      "\r",
      " 86%|████████████████████████████████████████████████████████████████████▋           | 417/486 [32:31<06:10,  5.37s/it]"
     ]
    },
    {
     "name": "stdout",
     "output_type": "stream",
     "text": [
      "https://www.loket.com/event/kelas-executive-administrative-secretary-session-04-managing-quality_UgEb\n"
     ]
    },
    {
     "name": "stderr",
     "output_type": "stream",
     "text": [
      "\r",
      " 86%|████████████████████████████████████████████████████████████████████▊           | 418/486 [32:38<06:22,  5.63s/it]"
     ]
    },
    {
     "name": "stdout",
     "output_type": "stream",
     "text": [
      "https://www.loket.com/event/kelas-executive-administrative-secretary-session-05-processing-customer_Ugqc\n"
     ]
    },
    {
     "name": "stderr",
     "output_type": "stream",
     "text": [
      "\r",
      " 86%|████████████████████████████████████████████████████████████████████▉           | 419/486 [32:44<06:24,  5.74s/it]"
     ]
    },
    {
     "name": "stdout",
     "output_type": "stream",
     "text": [
      "https://www.loket.com/event/kelas-executive-administrative-secretary-session-06-developing-individual_Ugqg\n"
     ]
    },
    {
     "name": "stderr",
     "output_type": "stream",
     "text": [
      "\r",
      " 86%|█████████████████████████████████████████████████████████████████████▏          | 420/486 [32:49<06:19,  5.75s/it]"
     ]
    },
    {
     "name": "stdout",
     "output_type": "stream",
     "text": [
      "https://www.loket.com/event/kelas-executive-administrative-secretary-session-07-applying-professional_Ugq3\n"
     ]
    },
    {
     "name": "stderr",
     "output_type": "stream",
     "text": [
      "\r",
      " 87%|█████████████████████████████████████████████████████████████████████▎          | 421/486 [32:55<06:10,  5.70s/it]"
     ]
    },
    {
     "name": "stdout",
     "output_type": "stream",
     "text": [
      "https://www.loket.com/event/kelas-executive-administrative-secretary-session-08-hr-management_Ugq9\n"
     ]
    },
    {
     "name": "stderr",
     "output_type": "stream",
     "text": [
      "\r",
      " 87%|█████████████████████████████████████████████████████████████████████▍          | 422/486 [33:01<06:14,  5.85s/it]"
     ]
    },
    {
     "name": "stdout",
     "output_type": "stream",
     "text": [
      "https://www.loket.com/event/kelas-executive-administrative-secretary-session-09-corporate-communication_UgqD\n"
     ]
    },
    {
     "name": "stderr",
     "output_type": "stream",
     "text": [
      "\r",
      " 87%|█████████████████████████████████████████████████████████████████████▋          | 423/486 [33:07<06:07,  5.84s/it]"
     ]
    },
    {
     "name": "stdout",
     "output_type": "stream",
     "text": [
      "https://www.loket.com/event/kelas-executive-administrative-secretary-session-10-handling-conflict_UgQg\n"
     ]
    },
    {
     "name": "stderr",
     "output_type": "stream",
     "text": [
      "\r",
      " 87%|█████████████████████████████████████████████████████████████████████▊          | 424/486 [33:13<05:55,  5.74s/it]"
     ]
    },
    {
     "name": "stdout",
     "output_type": "stream",
     "text": [
      "https://www.loket.com/event/kelas-executive-administrative-secretary-session-11-minimalizing-embezzlement_UgQ9\n"
     ]
    },
    {
     "name": "stderr",
     "output_type": "stream",
     "text": [
      "\r",
      " 87%|█████████████████████████████████████████████████████████████████████▉          | 425/486 [33:18<05:42,  5.62s/it]"
     ]
    },
    {
     "name": "stdout",
     "output_type": "stream",
     "text": [
      "https://www.loket.com/event/kelas-executive-administrative-secretary-session-12-applying-teamwork_UgQD\n"
     ]
    },
    {
     "name": "stderr",
     "output_type": "stream",
     "text": [
      "\r",
      " 88%|██████████████████████████████████████████████████████████████████████          | 426/486 [33:23<05:29,  5.48s/it]"
     ]
    },
    {
     "name": "stdout",
     "output_type": "stream",
     "text": [
      "https://www.loket.com/event/kelas-executive-administrative-secretary-session-13-k3-perkantoran_UgJc\n"
     ]
    },
    {
     "name": "stderr",
     "output_type": "stream",
     "text": [
      "\r",
      " 88%|██████████████████████████████████████████████████████████████████████▎         | 427/486 [33:28<05:19,  5.42s/it]"
     ]
    },
    {
     "name": "stdout",
     "output_type": "stream",
     "text": [
      "https://www.loket.com/event/kelas-executive-administrative-secretary-session-14-how-to_UgJ1\n"
     ]
    },
    {
     "name": "stderr",
     "output_type": "stream",
     "text": [
      "\r",
      " 88%|██████████████████████████████████████████████████████████████████████▍         | 428/486 [33:35<05:42,  5.91s/it]"
     ]
    },
    {
     "name": "stdout",
     "output_type": "stream",
     "text": [
      "https://www.loket.com/event/kelas-corporate-public-relations-session-01-special-event_UgJ4\n"
     ]
    },
    {
     "name": "stderr",
     "output_type": "stream",
     "text": [
      "\r",
      " 88%|██████████████████████████████████████████████████████████████████████▌         | 429/486 [33:41<05:26,  5.72s/it]"
     ]
    },
    {
     "name": "stdout",
     "output_type": "stream",
     "text": [
      "https://www.loket.com/event/kelas-corporate-public-relations-session-02-master-of_UgJb\n"
     ]
    },
    {
     "name": "stderr",
     "output_type": "stream",
     "text": [
      "\r",
      " 88%|██████████████████████████████████████████████████████████████████████▊         | 430/486 [33:46<05:09,  5.53s/it]"
     ]
    },
    {
     "name": "stdout",
     "output_type": "stream",
     "text": [
      "https://www.loket.com/event/kelas-corporate-public-relations-session-02-master-of_UgJD\n"
     ]
    },
    {
     "name": "stderr",
     "output_type": "stream",
     "text": [
      "\r",
      " 89%|██████████████████████████████████████████████████████████████████████▉         | 431/486 [33:51<04:57,  5.41s/it]"
     ]
    },
    {
     "name": "stdout",
     "output_type": "stream",
     "text": [
      "https://www.loket.com/event/kelas-corporate-public-relations-session-04-komunikasi-efektif_UgHg\n"
     ]
    },
    {
     "name": "stderr",
     "output_type": "stream",
     "text": [
      "\r",
      " 89%|███████████████████████████████████████████████████████████████████████         | 432/486 [33:56<04:39,  5.18s/it]"
     ]
    },
    {
     "name": "stdout",
     "output_type": "stream",
     "text": [
      "https://www.loket.com/event/kelas-corporate-public-relations-sesi-05-what-is_UgH1\n"
     ]
    },
    {
     "name": "stderr",
     "output_type": "stream",
     "text": [
      "\r",
      " 89%|███████████████████████████████████████████████████████████████████████▎        | 433/486 [34:00<04:26,  5.02s/it]"
     ]
    },
    {
     "name": "stdout",
     "output_type": "stream",
     "text": [
      "https://www.loket.com/event/kelas-corporate-public-relations-session-06-public-speaking_UgH3\n"
     ]
    },
    {
     "name": "stderr",
     "output_type": "stream",
     "text": [
      "\r",
      " 89%|███████████████████████████████████████████████████████████████████████▍        | 434/486 [34:05<04:18,  4.96s/it]"
     ]
    },
    {
     "name": "stdout",
     "output_type": "stream",
     "text": [
      "https://www.loket.com/event/kelas-corporate-public-relations-session-07-olah-vokal_UgH4\n"
     ]
    },
    {
     "name": "stderr",
     "output_type": "stream",
     "text": [
      "\r",
      " 90%|███████████████████████████████████████████████████████████████████████▌        | 435/486 [34:10<04:11,  4.93s/it]"
     ]
    },
    {
     "name": "stdout",
     "output_type": "stream",
     "text": [
      "https://www.loket.com/event/kelas-corporate-public-relations-session-08-digital-public_UgHb\n"
     ]
    },
    {
     "name": "stderr",
     "output_type": "stream",
     "text": [
      "\r",
      " 90%|███████████████████████████████████████████████████████████████████████▊        | 436/486 [34:15<04:04,  4.88s/it]"
     ]
    },
    {
     "name": "stdout",
     "output_type": "stream",
     "text": [
      "https://www.loket.com/event/kelas-english-for-business-business-presentation-makara-ui_Ugpc\n"
     ]
    },
    {
     "name": "stderr",
     "output_type": "stream",
     "text": [
      "\r",
      " 90%|███████████████████████████████████████████████████████████████████████▉        | 437/486 [34:20<03:59,  4.89s/it]"
     ]
    },
    {
     "name": "stdout",
     "output_type": "stream",
     "text": [
      "https://www.loket.com/event/kelas-english-for-business-business-telephone-makara-ui_Ugp1\n"
     ]
    },
    {
     "name": "stderr",
     "output_type": "stream",
     "text": [
      "\r",
      " 90%|████████████████████████████████████████████████████████████████████████        | 438/486 [34:24<03:54,  4.88s/it]"
     ]
    },
    {
     "name": "stdout",
     "output_type": "stream",
     "text": [
      "https://www.loket.com/event/panduan-mempersiapkan-perpisahan_DUn9\n"
     ]
    },
    {
     "name": "stderr",
     "output_type": "stream",
     "text": [
      "\r",
      " 90%|████████████████████████████████████████████████████████████████████████▎       | 439/486 [34:29<03:52,  4.96s/it]"
     ]
    },
    {
     "name": "stdout",
     "output_type": "stream",
     "text": [
      "https://www.loket.com/event/satu-hari-nanti_Ugx4\n"
     ]
    },
    {
     "name": "stderr",
     "output_type": "stream",
     "text": [
      "\r",
      " 91%|████████████████████████████████████████████████████████████████████████▍       | 440/486 [34:37<04:20,  5.67s/it]"
     ]
    },
    {
     "name": "stdout",
     "output_type": "stream",
     "text": [
      "https://www.loket.com/event/ratu-dansa_Ugx9\n"
     ]
    },
    {
     "name": "stderr",
     "output_type": "stream",
     "text": [
      "\r",
      " 91%|████████████████████████████████████████████████████████████████████████▌       | 441/486 [34:41<03:55,  5.24s/it]"
     ]
    },
    {
     "name": "stdout",
     "output_type": "stream",
     "text": [
      "https://www.loket.com/event/kasat-mata_Ugxb\n"
     ]
    },
    {
     "name": "stderr",
     "output_type": "stream",
     "text": [
      "\r",
      " 91%|████████████████████████████████████████████████████████████████████████▊       | 442/486 [34:46<03:43,  5.07s/it]"
     ]
    },
    {
     "name": "stdout",
     "output_type": "stream",
     "text": [
      "https://www.loket.com/event/antar-kota-dalam-provinsi_UgxD\n"
     ]
    },
    {
     "name": "stderr",
     "output_type": "stream",
     "text": [
      "\r",
      " 91%|████████████████████████████████████████████████████████████████████████▉       | 443/486 [34:50<03:28,  4.86s/it]"
     ]
    },
    {
     "name": "stdout",
     "output_type": "stream",
     "text": [
      "https://www.loket.com/event/laskar-pelangi_UgxU\n"
     ]
    },
    {
     "name": "stderr",
     "output_type": "stream",
     "text": [
      "\r",
      " 91%|█████████████████████████████████████████████████████████████████████████       | 444/486 [34:55<03:21,  4.79s/it]"
     ]
    },
    {
     "name": "stdout",
     "output_type": "stream",
     "text": [
      "https://www.loket.com/event/balada-bala-sinema_UgCc\n"
     ]
    },
    {
     "name": "stderr",
     "output_type": "stream",
     "text": [
      "\r",
      " 92%|█████████████████████████████████████████████████████████████████████████▎      | 445/486 [34:59<03:15,  4.76s/it]"
     ]
    },
    {
     "name": "stdout",
     "output_type": "stream",
     "text": [
      "https://www.loket.com/event/sampai-ujung-laut_UgCg\n"
     ]
    },
    {
     "name": "stderr",
     "output_type": "stream",
     "text": [
      "\r",
      " 92%|█████████████████████████████████████████████████████████████████████████▍      | 446/486 [35:04<03:11,  4.80s/it]"
     ]
    },
    {
     "name": "stdout",
     "output_type": "stream",
     "text": [
      "https://www.loket.com/event/ziarah_UgC1\n"
     ]
    },
    {
     "name": "stderr",
     "output_type": "stream",
     "text": [
      "\r",
      " 92%|█████████████████████████████████████████████████████████████████████████▌      | 447/486 [35:09<03:07,  4.80s/it]"
     ]
    },
    {
     "name": "stdout",
     "output_type": "stream",
     "text": [
      "https://www.loket.com/event/mursala_UgC3\n"
     ]
    },
    {
     "name": "stderr",
     "output_type": "stream",
     "text": [
      "\r",
      " 92%|█████████████████████████████████████████████████████████████████████████▋      | 448/486 [35:14<03:03,  4.83s/it]"
     ]
    },
    {
     "name": "stdout",
     "output_type": "stream",
     "text": [
      "https://www.loket.com/event/pasir-berbisik_UgCD\n"
     ]
    },
    {
     "name": "stderr",
     "output_type": "stream",
     "text": [
      "\r",
      " 92%|█████████████████████████████████████████████████████████████████████████▉      | 449/486 [35:19<02:57,  4.80s/it]"
     ]
    },
    {
     "name": "stdout",
     "output_type": "stream",
     "text": [
      "https://www.loket.com/event/i-am-hope_UgEc\n"
     ]
    },
    {
     "name": "stderr",
     "output_type": "stream",
     "text": [
      "\r",
      " 93%|██████████████████████████████████████████████████████████████████████████      | 450/486 [35:24<02:52,  4.79s/it]"
     ]
    },
    {
     "name": "stdout",
     "output_type": "stream",
     "text": [
      "https://www.loket.com/event/sultan-agung-director-s-cut_UgE1\n"
     ]
    },
    {
     "name": "stderr",
     "output_type": "stream",
     "text": [
      "\r",
      " 93%|██████████████████████████████████████████████████████████████████████████▏     | 451/486 [35:28<02:49,  4.83s/it]"
     ]
    },
    {
     "name": "stdout",
     "output_type": "stream",
     "text": [
      "https://www.loket.com/event/turah_UgED\n"
     ]
    },
    {
     "name": "stderr",
     "output_type": "stream",
     "text": [
      "\r",
      " 93%|██████████████████████████████████████████████████████████████████████████▍     | 452/486 [35:35<03:00,  5.30s/it]"
     ]
    },
    {
     "name": "stdout",
     "output_type": "stream",
     "text": [
      "https://www.loket.com/event/petualangan-sherina_UgQU\n"
     ]
    },
    {
     "name": "stderr",
     "output_type": "stream",
     "text": [
      "\r",
      " 93%|██████████████████████████████████████████████████████████████████████████▌     | 453/486 [35:40<02:52,  5.23s/it]"
     ]
    },
    {
     "name": "stdout",
     "output_type": "stream",
     "text": [
      "https://www.loket.com/event/lily-of-the-valey_Po3\n"
     ]
    },
    {
     "name": "stderr",
     "output_type": "stream",
     "text": [
      " 94%|██████████████████████████████████████████████████████████████████████████▉     | 455/486 [35:49<02:28,  4.78s/it]"
     ]
    },
    {
     "name": "stdout",
     "output_type": "stream",
     "text": [
      "Gagal https://www.loket.com/event/metaverse-sman-2-bandung-dudbb\n"
     ]
    },
    {
     "name": "stderr",
     "output_type": "stream",
     "text": [
      "\r",
      " 94%|███████████████████████████████████████████████████████████████████████████     | 456/486 [35:53<02:16,  4.55s/it]"
     ]
    },
    {
     "name": "stdout",
     "output_type": "stream",
     "text": [
      "Gagal https://www.loket.com/event/coda5\n"
     ]
    },
    {
     "name": "stderr",
     "output_type": "stream",
     "text": [
      "\r",
      " 94%|███████████████████████████████████████████████████████████████████████████▏    | 457/486 [35:57<02:07,  4.41s/it]"
     ]
    },
    {
     "name": "stdout",
     "output_type": "stream",
     "text": [
      "Gagal https://www.loket.com/event/beasiswa-preneur-academy-scholarship-pas-batch-7\n"
     ]
    },
    {
     "name": "stderr",
     "output_type": "stream",
     "text": [
      "\r",
      " 94%|███████████████████████████████████████████████████████████████████████████▍    | 458/486 [36:01<02:01,  4.34s/it]"
     ]
    },
    {
     "name": "stdout",
     "output_type": "stream",
     "text": [
      "Gagal https://www.loket.com/event/nonton-film-putus-asa-u1dug\n"
     ]
    },
    {
     "name": "stderr",
     "output_type": "stream",
     "text": [
      "\r",
      " 94%|███████████████████████████████████████████████████████████████████████████▌    | 459/486 [36:06<01:59,  4.44s/it]"
     ]
    },
    {
     "name": "stdout",
     "output_type": "stream",
     "text": [
      "Gagal https://www.loket.com/event/splash-water-park_V94Y\n"
     ]
    },
    {
     "name": "stderr",
     "output_type": "stream",
     "text": [
      "\r",
      " 95%|███████████████████████████████████████████████████████████████████████████▋    | 460/486 [36:10<01:53,  4.35s/it]"
     ]
    },
    {
     "name": "stdout",
     "output_type": "stream",
     "text": [
      "Gagal https://www.loket.com/event/finns-bali-super-fun-pass_yLg\n"
     ]
    },
    {
     "name": "stderr",
     "output_type": "stream",
     "text": [
      "\r",
      " 95%|███████████████████████████████████████████████████████████████████████████▉    | 461/486 [36:14<01:47,  4.30s/it]"
     ]
    },
    {
     "name": "stdout",
     "output_type": "stream",
     "text": [
      "Gagal https://www.loket.com/event/finns-bali-day-pass_V9U1\n",
      "https://www.loket.com/event/reuni-akbar\n"
     ]
    },
    {
     "name": "stderr",
     "output_type": "stream",
     "text": [
      "\r",
      " 95%|████████████████████████████████████████████████████████████████████████████    | 462/486 [36:19<01:49,  4.58s/it]"
     ]
    },
    {
     "name": "stdout",
     "output_type": "stream",
     "text": [
      "https://www.loket.com/event/basic-mandarin-literacy-course-bmlc-vy4u\n"
     ]
    },
    {
     "name": "stderr",
     "output_type": "stream",
     "text": [
      " 95%|████████████████████████████████████████████████████████████████████████████▍   | 464/486 [36:28<01:39,  4.51s/it]"
     ]
    },
    {
     "name": "stdout",
     "output_type": "stream",
     "text": [
      "Gagal https://www.loket.com/event/ukmfonsite\n"
     ]
    },
    {
     "name": "stderr",
     "output_type": "stream",
     "text": [
      "\r",
      " 96%|████████████████████████████████████████████████████████████████████████████▌   | 465/486 [36:33<01:33,  4.43s/it]"
     ]
    },
    {
     "name": "stdout",
     "output_type": "stream",
     "text": [
      "Gagal https://www.loket.com/event/ukmfonline\n"
     ]
    },
    {
     "name": "stderr",
     "output_type": "stream",
     "text": [
      "\r",
      " 96%|████████████████████████████████████████████████████████████████████████████▋   | 466/486 [36:37<01:26,  4.34s/it]"
     ]
    },
    {
     "name": "stdout",
     "output_type": "stream",
     "text": [
      "Gagal https://www.loket.com/event/ada-apa-dengan-cinta_bDDcg\n"
     ]
    },
    {
     "name": "stderr",
     "output_type": "stream",
     "text": [
      "\r",
      " 96%|████████████████████████████████████████████████████████████████████████████▊   | 467/486 [36:41<01:20,  4.24s/it]"
     ]
    },
    {
     "name": "stdout",
     "output_type": "stream",
     "text": [
      "Gagal https://www.loket.com/event/ada-apa-dengan-cinta-2_bDDcD\n"
     ]
    },
    {
     "name": "stderr",
     "output_type": "stream",
     "text": [
      "\r",
      " 96%|█████████████████████████████████████████████████████████████████████████████   | 468/486 [36:45<01:16,  4.22s/it]"
     ]
    },
    {
     "name": "stdout",
     "output_type": "stream",
     "text": [
      "Gagal https://www.loket.com/event/online-5d-bim-personal-certicfication-ubg1\n"
     ]
    },
    {
     "name": "stderr",
     "output_type": "stream",
     "text": [
      "\r",
      " 97%|█████████████████████████████████████████████████████████████████████████████▏  | 469/486 [36:49<01:12,  4.25s/it]"
     ]
    },
    {
     "name": "stdout",
     "output_type": "stream",
     "text": [
      "Gagal https://www.loket.com/event/berangkat-rombongan-ubbdg\n"
     ]
    },
    {
     "name": "stderr",
     "output_type": "stream",
     "text": [
      "\r",
      " 97%|█████████████████████████████████████████████████████████████████████████████▎  | 470/486 [36:54<01:10,  4.41s/it]"
     ]
    },
    {
     "name": "stdout",
     "output_type": "stream",
     "text": [
      "Gagal https://www.loket.com/event/kelas-jepang-siap-lulus-ujian-jft-basic-a2_VIC\n"
     ]
    },
    {
     "name": "stderr",
     "output_type": "stream",
     "text": [
      "\r",
      " 97%|█████████████████████████████████████████████████████████████████████████████▌  | 471/486 [36:59<01:06,  4.44s/it]"
     ]
    },
    {
     "name": "stdout",
     "output_type": "stream",
     "text": [
      "Gagal https://www.loket.com/event/wisata-alam-pesisir-berbalut-pohon-mangrove-dub34\n"
     ]
    },
    {
     "name": "stderr",
     "output_type": "stream",
     "text": [
      "\r",
      " 97%|█████████████████████████████████████████████████████████████████████████████▋  | 472/486 [37:05<01:08,  4.89s/it]"
     ]
    },
    {
     "name": "stdout",
     "output_type": "stream",
     "text": [
      "Gagal https://www.loket.com/event/massage_bUUYU\n"
     ]
    },
    {
     "name": "stderr",
     "output_type": "stream",
     "text": [
      "\r",
      " 97%|█████████████████████████████████████████████████████████████████████████████▊  | 473/486 [37:09<01:01,  4.75s/it]"
     ]
    },
    {
     "name": "stdout",
     "output_type": "stream",
     "text": [
      "Gagal https://www.loket.com/event/massage_bUU1Y\n"
     ]
    },
    {
     "name": "stderr",
     "output_type": "stream",
     "text": [
      "\r",
      " 98%|██████████████████████████████████████████████████████████████████████████████  | 474/486 [37:13<00:54,  4.54s/it]"
     ]
    },
    {
     "name": "stdout",
     "output_type": "stream",
     "text": [
      "Gagal https://www.loket.com/event/quarantine-tales_t4Uc\n"
     ]
    },
    {
     "name": "stderr",
     "output_type": "stream",
     "text": [
      "\r",
      " 98%|██████████████████████████████████████████████████████████████████████████████▏ | 475/486 [37:17<00:49,  4.51s/it]"
     ]
    },
    {
     "name": "stdout",
     "output_type": "stream",
     "text": [
      "Gagal https://www.loket.com/event/wisata-kampoeng-koena_Dbuc\n"
     ]
    },
    {
     "name": "stderr",
     "output_type": "stream",
     "text": [
      "\r",
      " 98%|██████████████████████████████████████████████████████████████████████████████▎ | 476/486 [37:21<00:43,  4.36s/it]"
     ]
    },
    {
     "name": "stdout",
     "output_type": "stream",
     "text": [
      "Gagal https://www.loket.com/event/lock-tempat-umah-tropik-uglu\n"
     ]
    },
    {
     "name": "stderr",
     "output_type": "stream",
     "text": [
      "\r",
      " 98%|██████████████████████████████████████████████████████████████████████████████▌ | 477/486 [37:26<00:40,  4.46s/it]"
     ]
    },
    {
     "name": "stdout",
     "output_type": "stream",
     "text": [
      "Gagal https://www.loket.com/event/rekaman-resep-baking-class-with-rozma-suhardi-cookies_UY994\n"
     ]
    },
    {
     "name": "stderr",
     "output_type": "stream",
     "text": [
      "\r",
      " 98%|██████████████████████████████████████████████████████████████████████████████▋ | 478/486 [37:30<00:34,  4.31s/it]"
     ]
    },
    {
     "name": "stdout",
     "output_type": "stream",
     "text": [
      "Gagal https://www.loket.com/event/rekaman-zoom-resep-baking-class-with-rozma-suhardi_bDvc\n"
     ]
    },
    {
     "name": "stderr",
     "output_type": "stream",
     "text": [
      "\r",
      " 99%|██████████████████████████████████████████████████████████████████████████████▊ | 479/486 [37:36<00:33,  4.72s/it]"
     ]
    },
    {
     "name": "stdout",
     "output_type": "stream",
     "text": [
      "Gagal https://www.loket.com/event/rekaman-zoom-resep-cooking-class-with-rozma-suhardi_bD23\n"
     ]
    },
    {
     "name": "stderr",
     "output_type": "stream",
     "text": [
      "\r",
      " 99%|███████████████████████████████████████████████████████████████████████████████ | 480/486 [37:40<00:27,  4.54s/it]"
     ]
    },
    {
     "name": "stdout",
     "output_type": "stream",
     "text": [
      "Gagal https://www.loket.com/event/rekaman-dan-resep-milky-bread_DcCg\n"
     ]
    },
    {
     "name": "stderr",
     "output_type": "stream",
     "text": [
      "\r",
      " 99%|███████████████████████████████████████████████████████████████████████████████▏| 481/486 [37:44<00:21,  4.37s/it]"
     ]
    },
    {
     "name": "stdout",
     "output_type": "stream",
     "text": [
      "Gagal https://www.loket.com/event/waterbom-bali_Sj\n"
     ]
    },
    {
     "name": "stderr",
     "output_type": "stream",
     "text": [
      "\r",
      " 99%|███████████████████████████████████████████████████████████████████████████████▎| 482/486 [37:48<00:17,  4.42s/it]"
     ]
    },
    {
     "name": "stdout",
     "output_type": "stream",
     "text": [
      "Gagal https://www.loket.com/event/rekaman-zoom-resepcooking-class-with-rozma-suhardi-korean_bD21\n"
     ]
    },
    {
     "name": "stderr",
     "output_type": "stream",
     "text": [
      "\r",
      " 99%|███████████████████████████████████████████████████████████████████████████████▌| 483/486 [37:53<00:13,  4.45s/it]"
     ]
    },
    {
     "name": "stdout",
     "output_type": "stream",
     "text": [
      "Gagal https://www.loket.com/event/rekaman-zoom-resep-baking-class-with-rozma-suhardi_DcCU\n"
     ]
    },
    {
     "name": "stderr",
     "output_type": "stream",
     "text": [
      "\r",
      "100%|███████████████████████████████████████████████████████████████████████████████▋| 484/486 [37:57<00:08,  4.45s/it]"
     ]
    },
    {
     "name": "stdout",
     "output_type": "stream",
     "text": [
      "Gagal https://www.loket.com/event/rekaman-resep-baking-class-with-rozma-cookies-jadul_UY99U\n"
     ]
    },
    {
     "name": "stderr",
     "output_type": "stream",
     "text": [
      "\r",
      "100%|███████████████████████████████████████████████████████████████████████████████▊| 485/486 [38:02<00:04,  4.41s/it]"
     ]
    },
    {
     "name": "stdout",
     "output_type": "stream",
     "text": [
      "Gagal https://www.loket.com/event/rekaman-resep-baking-class-with-rozma-suhardi-aneka_UY999\n"
     ]
    },
    {
     "name": "stderr",
     "output_type": "stream",
     "text": [
      "100%|████████████████████████████████████████████████████████████████████████████████| 486/486 [38:08<00:00,  4.71s/it]"
     ]
    },
    {
     "name": "stdout",
     "output_type": "stream",
     "text": [
      "Gagal https://www.loket.com/event/rekaman-resep-baking-class-with-rozma-suhardi-brownies_UYDcU\n"
     ]
    },
    {
     "name": "stderr",
     "output_type": "stream",
     "text": [
      "\n"
     ]
    }
   ],
   "source": [
    "for i in tqdm(range(len(df_url[\"Urls\"]))):\n",
    "    urls = df_url[\"Urls\"][i]\n",
    "    try:\n",
    "        dfs = loketdotcom_detail_selenium(urls)\n",
    "    except:\n",
    "        print('Gagal' + ' '+ urls )\n",
    "        continue\n",
    "    df_detail = pd.concat([df_detail, dfs], ignore_index=True)\n",
    "    print(urls)\n",
    "    sleep(1)    "
   ]
  },
  {
   "cell_type": "code",
   "execution_count": null,
   "id": "de28653b",
   "metadata": {},
   "outputs": [],
   "source": [
    "df_detail.to_csv(\"Loketdotcom_27September2023.csv\")"
   ]
  },
  {
   "cell_type": "code",
   "execution_count": 1,
   "id": "c6690611",
   "metadata": {},
   "outputs": [
    {
     "ename": "NameError",
     "evalue": "name 'df_detail' is not defined",
     "output_type": "error",
     "traceback": [
      "\u001b[1;31m---------------------------------------------------------------------------\u001b[0m",
      "\u001b[1;31mNameError\u001b[0m                                 Traceback (most recent call last)",
      "Cell \u001b[1;32mIn[1], line 1\u001b[0m\n\u001b[1;32m----> 1\u001b[0m \u001b[43mdf_detail\u001b[49m\n",
      "\u001b[1;31mNameError\u001b[0m: name 'df_detail' is not defined"
     ]
    }
   ],
   "source": [
    "df_detail"
   ]
  },
  {
   "cell_type": "code",
   "execution_count": 55,
   "id": "093fe8b4",
   "metadata": {},
   "outputs": [],
   "source": [
    "test = requests.get(url = test_url1, headers = header)"
   ]
  },
  {
   "cell_type": "code",
   "execution_count": 56,
   "id": "0d9d692d",
   "metadata": {},
   "outputs": [],
   "source": [
    "bsobj = BeautifulSoup(test.content,'html.parser')"
   ]
  },
  {
   "cell_type": "code",
   "execution_count": 53,
   "id": "54f9bcd9",
   "metadata": {},
   "outputs": [],
   "source": [
    "Event_name=bsobj.find('h1',{'id':'gt-event-name'}).text"
   ]
  },
  {
   "cell_type": "code",
   "execution_count": 39,
   "id": "36b9954d",
   "metadata": {},
   "outputs": [],
   "source": [
    "Start_date=bsobj.find('div',{'class':'event-date'}).text.strip()"
   ]
  },
  {
   "cell_type": "code",
   "execution_count": 13,
   "id": "bbaecb0c",
   "metadata": {},
   "outputs": [
    {
     "data": {
      "text/plain": [
       "'28 Mar - 29 Mar 2023'"
      ]
     },
     "execution_count": 13,
     "metadata": {},
     "output_type": "execute_result"
    }
   ],
   "source": [
    "Category_event=bsobj.find_all('li',{'class':'event-detail-breadcrumbs-item'})[1].text.strip().replace('\\n',' ')"
   ]
  },
  {
   "cell_type": "code",
   "execution_count": 62,
   "id": "f2778962",
   "metadata": {},
   "outputs": [],
   "source": [
    "Venue = bsobj.find('div',{'class':'event-venue'}).text.strip()"
   ]
  },
  {
   "cell_type": "code",
   "execution_count": 58,
   "id": "217ee5c6",
   "metadata": {},
   "outputs": [],
   "source": [
    "Event_time=bsobj.find('div',{'class':'event-time'}).text"
   ]
  },
  {
   "cell_type": "code",
   "execution_count": 64,
   "id": "0c506c70",
   "metadata": {},
   "outputs": [],
   "source": [
    "Price = bsobj.find('span',{'id':'sub-total-price'}).text"
   ]
  },
  {
   "cell_type": "code",
   "execution_count": 65,
   "id": "bb7d78c1",
   "metadata": {},
   "outputs": [
    {
     "data": {
      "text/plain": [
       "'0'"
      ]
     },
     "execution_count": 65,
     "metadata": {},
     "output_type": "execute_result"
    }
   ],
   "source": [
    "Price"
   ]
  },
  {
   "cell_type": "code",
   "execution_count": 17,
   "id": "9573c407",
   "metadata": {},
   "outputs": [
    {
     "data": {
      "text/plain": [
       "<li class=\"navbar-link uk-visible@m\">\n",
       "<a href=\"https://www.loket.com/pricing\">Biaya</a>\n",
       "</li>"
      ]
     },
     "execution_count": 17,
     "metadata": {},
     "output_type": "execute_result"
    }
   ],
   "source": [
    "bsobj.select('ul > li')[2]"
   ]
  },
  {
   "cell_type": "code",
   "execution_count": 40,
   "id": "1579937f",
   "metadata": {},
   "outputs": [
    {
     "data": {
      "text/plain": [
       "'28 Mar - 29 Mar 2023'"
      ]
     },
     "execution_count": 40,
     "metadata": {},
     "output_type": "execute_result"
    }
   ],
   "source": [
    "Start_date"
   ]
  },
  {
   "cell_type": "code",
   "execution_count": 57,
   "id": "889135b2",
   "metadata": {},
   "outputs": [
    {
     "data": {
      "text/plain": [
       "<!DOCTYPE html>\n",
       "\n",
       "<html lang=\"id-ID\" prefix=\"og: http://ogp.me/ns#\">\n",
       "<head>\n",
       "<title>ENHYP3N M4NIFESTO in DEPOK [contoh] | Loket.com</title>\n",
       "<meta charset=\"utf-8\"/><script type=\"text/javascript\">(window.NREUM||(NREUM={})).init={privacy:{cookies_enabled:false},ajax:{deny_list:[\"bam.nr-data.net\"]}};(window.NREUM||(NREUM={})).loader_config={xpid:\"VgUPWVRVCBADUllWAgAOV10=\",licenseKey:\"2c15469c42\",applicationID:\"368451919\"};;(()=>{var e,t,r={9071:(e,t,r)=>{\"use strict\";r.d(t,{I:()=>n});var n=0,i=navigator.userAgent.match(/Firefox[\\/\\s](\\d+\\.\\d+)/);i&&(n=+i[1])},6562:(e,t,r)=>{\"use strict\";r.d(t,{P_:()=>g,Mt:()=>v,C5:()=>d,DL:()=>y,OP:()=>N,lF:()=>L,Yu:()=>E,Dg:()=>p,CX:()=>f,GE:()=>w,sU:()=>k});var n={};r.r(n),r.d(n,{agent:()=>T,match:()=>S,version:()=>A});var i=r(6797),o=r(909),a=r(8610);class s{constructor(e,t){try{if(!e||\"object\"!=typeof e)return(0,a.Z)(\"New setting a Configurable requires an object as input\");if(!t||\"object\"!=typeof t)return(0,a.Z)(\"Setting a Configurable requires a model to set its initial properties\");Object.assign(this,t),Object.entries(e).forEach((e=>{let[t,r]=e;const n=(0,o.q)(t);n.length&&r&&\"object\"==typeof r&&n.forEach((e=>{e in r&&((0,a.Z)('\"'.concat(e,'\" is a protected attribute and can not be changed in feature ').concat(t,\".  It will have no effect.\")),delete r[e])})),this[t]=r}))}catch(e){(0,a.Z)(\"An error occured while setting a Configurable\",e)}}}const c={beacon:i.ce.beacon,errorBeacon:i.ce.errorBeacon,licenseKey:void 0,applicationID:void 0,sa:void 0,queueTime:void 0,applicationTime:void 0,ttGuid:void 0,user:void 0,account:void 0,product:void 0,extra:void 0,jsAttributes:{},userAttributes:void 0,atts:void 0,transactionName:void 0,tNamePlain:void 0},u={};function d(e){if(!e)throw new Error(\"All info objects require an agent identifier!\");if(!u[e])throw new Error(\"Info for \".concat(e,\" was never set\"));return u[e]}function f(e,t){if(!e)throw new Error(\"All info objects require an agent identifier!\");u[e]=new s(t,c),(0,i.Qy)(e,u[e],\"info\")}const l={allow_bfcache:!0,privacy:{cookies_enabled:!0},ajax:{deny_list:void 0,enabled:!0,harvestTimeSeconds:10},distributed_tracing:{enabled:void 0,exclude_newrelic_header:void 0,cors_use_newrelic_header:void 0,cors_use_tracecontext_headers:void 0,allowed_origins:void 0},ssl:void 0,obfuscate:void 0,jserrors:{enabled:!0,harvestTimeSeconds:10},metrics:{enabled:!0},page_action:{enabled:!0,harvestTimeSeconds:30},page_view_event:{enabled:!0},page_view_timing:{enabled:!0,harvestTimeSeconds:30,long_task:!1},session_trace:{enabled:!0,harvestTimeSeconds:10},spa:{enabled:!0,harvestTimeSeconds:10}},h={};function g(e){if(!e)throw new Error(\"All configuration objects require an agent identifier!\");if(!h[e])throw new Error(\"Configuration for \".concat(e,\" was never set\"));return h[e]}function p(e,t){if(!e)throw new Error(\"All configuration objects require an agent identifier!\");h[e]=new s(t,l),(0,i.Qy)(e,h[e],\"config\")}function v(e,t){if(!e)throw new Error(\"All configuration objects require an agent identifier!\");var r=g(e);if(r){for(var n=t.split(\".\"),i=0;i<n.length-1;i++)if(\"object\"!=typeof(r=r[n[i]]))return;r=r[n[n.length-1]]}return r}const m={accountID:void 0,trustKey:void 0,agentID:void 0,licenseKey:void 0,applicationID:void 0,xpid:void 0},b={};function y(e){if(!e)throw new Error(\"All loader-config objects require an agent identifier!\");if(!b[e])throw new Error(\"LoaderConfig for \".concat(e,\" was never set\"));return b[e]}function w(e,t){if(!e)throw new Error(\"All loader-config objects require an agent identifier!\");b[e]=new s(t,m),(0,i.Qy)(e,b[e],\"loader_config\")}const E=(0,i.mF)().o;var T=null,A=null;if(navigator.userAgent){var x=navigator.userAgent,_=x.match(/Version\\/(\\S+)\\s+Safari/);_&&-1===x.indexOf(\"Chrome\")&&-1===x.indexOf(\"Chromium\")&&(T=\"Safari\",A=_[1])}function S(e,t){if(!T)return!1;if(e!==T)return!1;if(!t)return!0;if(!A)return!1;for(var r=A.split(\".\"),n=t.split(\".\"),i=0;i<n.length;i++)if(n[i]!==r[i])return!1;return!0}var O=r(5526),P=r(2374);const D=\"NRBA_SESSION_ID\";function j(){if(!P.il)return null;try{let e;return null===(e=window.sessionStorage.getItem(D))&&(e=(0,O.ky)(16),window.sessionStorage.setItem(D,e)),e}catch(e){return null}}var C=r(8226);const I=e=>({customTransaction:void 0,disabled:!1,isolatedBacklog:!1,loaderType:void 0,maxBytes:3e4,offset:Math.floor(P._A?.performance?.timeOrigin||P._A?.performance?.timing?.navigationStart||Date.now()),onerror:void 0,origin:\"\"+P._A.location,ptid:void 0,releaseIds:{},sessionId:1==v(e,\"privacy.cookies_enabled\")?j():null,xhrWrappable:\"function\"==typeof P._A.XMLHttpRequest?.prototype?.addEventListener,userAgent:n,version:C.q}),R={};function N(e){if(!e)throw new Error(\"All runtime objects require an agent identifier!\");if(!R[e])throw new Error(\"Runtime for \".concat(e,\" was never set\"));return R[e]}function k(e,t){if(!e)throw new Error(\"All runtime objects require an agent identifier!\");R[e]=new s(t,I(e)),(0,i.Qy)(e,R[e],\"runtime\")}function L(e){return function(e){try{const t=d(e);return!!t.licenseKey&&!!t.errorBeacon&&!!t.applicationID}catch(e){return!1}}(e)}},8226:(e,t,r)=>{\"use strict\";r.d(t,{q:()=>n});const n=\"1228.PROD\"},9557:(e,t,r)=>{\"use strict\";r.d(t,{w:()=>o});var n=r(8610);const i={agentIdentifier:\"\"};class o{constructor(e){try{if(\"object\"!=typeof e)return(0,n.Z)(\"shared context requires an object as input\");this.sharedContext={},Object.assign(this.sharedContext,i),Object.entries(e).forEach((e=>{let[t,r]=e;Object.keys(i).includes(t)&&(this.sharedContext[t]=r)}))}catch(e){(0,n.Z)(\"An error occured while setting SharedContext\",e)}}}},4329:(e,t,r)=>{\"use strict\";r.d(t,{L:()=>d,R:()=>c});var n=r(3752),i=r(7022),o=r(4045),a=r(2325);const s={};function c(e,t){const r={staged:!1,priority:a.p[t]||0};u(e),s[e].get(t)||s[e].set(t,r)}function u(e){e&&(s[e]||(s[e]=new Map))}function d(){let e=arguments.length>0&&void 0!==arguments[0]?arguments[0]:\"\",t=arguments.length>1&&void 0!==arguments[1]?arguments[1]:\"feature\";if(u(e),!e||!s[e].get(t))return a(t);s[e].get(t).staged=!0;const r=Array.from(s[e]);function a(t){const r=e?n.ee.get(e):n.ee,a=o.X.handlers;if(r.backlog&&a){var s=r.backlog[t],c=a[t];if(c){for(var u=0;s&&u<s.length;++u)f(s[u],c);(0,i.D)(c,(function(e,t){(0,i.D)(t,(function(t,r){r[0].on(e,r[1])}))}))}delete a[t],r.backlog[t]=null,r.emit(\"drain-\"+t,[])}}r.every((e=>{let[t,r]=e;return r.staged}))&&(r.sort(((e,t)=>e[1].priority-t[1].priority)),r.forEach((e=>{let[t]=e;a(t)})))}function f(e,t){var r=e[1];(0,i.D)(t[r],(function(t,r){var n=e[0];if(r[0]===n){var i=r[1],o=e[3],a=e[2];i.apply(o,a)}}))}},3752:(e,t,r)=>{\"use strict\";r.d(t,{ee:()=>u});var n=r(6797),i=r(3916),o=r(7022),a=r(6562),s=\"nr@context\";let c=(0,n.fP)();var u;function d(){}function f(){return new d}function l(){u.aborted=!0,u.backlog={}}c.ee?u=c.ee:(u=function e(t,r){var n={},c={},h={},g=!1;try{g=16===r.length&&(0,a.OP)(r).isolatedBacklog}catch(e){}var p={on:b,addEventListener:b,removeEventListener:y,emit:m,get:E,listeners:w,context:v,buffer:T,abort:l,aborted:!1,isBuffering:A,debugId:r,backlog:g?{}:t&&\"object\"==typeof t.backlog?t.backlog:{}};return p;function v(e){return e&&e instanceof d?e:e?(0,i.X)(e,s,f):f()}function m(e,r,n,i,o){if(!1!==o&&(o=!0),!u.aborted||i){t&&o&&t.emit(e,r,n);for(var a=v(n),s=w(e),d=s.length,f=0;f<d;f++)s[f].apply(a,r);var l=x()[c[e]];return l&&l.push([p,e,r,a]),a}}function b(e,t){n[e]=w(e).concat(t)}function y(e,t){var r=n[e];if(r)for(var i=0;i<r.length;i++)r[i]===t&&r.splice(i,1)}function w(e){return n[e]||[]}function E(t){return h[t]=h[t]||e(p,t)}function T(e,t){var r=x();p.aborted||(0,o.D)(e,(function(e,n){t=t||\"feature\",c[n]=t,t in r||(r[t]=[])}))}function A(e){return!!x()[c[e]]}function x(){return p.backlog}}(void 0,\"globalEE\"),c.ee=u)},9252:(e,t,r)=>{\"use strict\";r.d(t,{E:()=>n,p:()=>i});var n=r(3752).ee.get(\"handle\");function i(e,t,r,i,o){o?(o.buffer([e],i),o.emit(e,t,r)):(n.buffer([e],i),n.emit(e,t,r))}},4045:(e,t,r)=>{\"use strict\";r.d(t,{X:()=>o});var n=r(9252);o.on=a;var i=o.handlers={};function o(e,t,r,o){a(o||n.E,i,e,t,r)}function a(e,t,r,i,o){o||(o=\"feature\"),e||(e=n.E);var a=t[o]=t[o]||{};(a[r]=a[r]||[]).push([e,i])}},8544:(e,t,r)=>{\"use strict\";r.d(t,{bP:()=>s,iz:()=>c,m$:()=>a});var n=r(2374);let i=!1,o=!1;try{const e={get passive(){return i=!0,!1},get signal(){return o=!0,!1}};n._A.addEventListener(\"test\",null,e),n._A.removeEventListener(\"test\",null,e)}catch(e){}function a(e,t){return i||o?{capture:!!e,passive:i,signal:t}:!!e}function s(e,t){let r=arguments.length>2&&void 0!==arguments[2]&&arguments[2];window.addEventListener(e,t,a(r))}function c(e,t){let r=arguments.length>2&&void 0!==arguments[2]&&arguments[2];document.addEventListener(e,t,a(r))}},5526:(e,t,r)=>{\"use strict\";r.d(t,{Ht:()=>a,M:()=>o,Rl:()=>i,ky:()=>s});var n=r(2374);function i(){var e=null,t=0,r=n._A?.crypto||n._A?.msCrypto;function i(){return e?15&e[t++]:16*Math.random()|0}r&&r.getRandomValues&&(e=r.getRandomValues(new Uint8Array(31)));for(var o,a=\"xxxxxxxx-xxxx-4xxx-yxxx-xxxxxxxxxxxx\",s=\"\",c=0;c<a.length;c++)s+=\"x\"===(o=a[c])?i().toString(16):\"y\"===o?(o=3&i()|8).toString(16):o;return s}function o(){return s(16)}function a(){return s(32)}function s(e){var t=null,r=0,n=self.crypto||self.msCrypto;n&&n.getRandomValues&&Uint8Array&&(t=n.getRandomValues(new Uint8Array(31)));for(var i=[],o=0;o<e;o++)i.push(a().toString(16));return i.join(\"\");function a(){return t?15&t[r++]:16*Math.random()|0}}},2053:(e,t,r)=>{\"use strict\";r.d(t,{B:()=>n,z:()=>i});const n=(new Date).getTime();function i(){return Math.round(performance.now())}},8283:(e,t,r)=>{\"use strict\";r.d(t,{B:()=>a,L:()=>s});var n=r(6562),i=r(2053),o={};function a(e,t,r){void 0===r&&(r=(0,i.z)()+(0,n.OP)(e).offset),o[e]=o[e]||{},o[e][t]=r}function s(e,t,r,n){const i=e.sharedContext.agentIdentifier;var a=o[i]?.[r],s=o[i]?.[n];void 0!==a&&void 0!==s&&e.store(\"measures\",t,{value:s-a})}},2545:(e,t,r)=>{\"use strict\";r.d(t,{L:()=>c});var n=r(9071),i=r(8544),o=r(8305),a=r(2374),s=r(6998);if(a.v6){a._A.cleanupTasks=[];const e=a._A.close;a._A.close=()=>{for(let e of a._A.cleanupTasks)e();e()}}function c(e,t){if(a.il)if(t)(0,s.N)(e,!0),(0,i.bP)(\"pagehide\",e);else{var r=(0,o.Z)(e);!n.I||navigator.sendBeacon?(0,i.bP)(\"pagehide\",r):(0,i.bP)(\"beforeunload\",r),(0,i.bP)(\"unload\",r)}else a.v6&&a._A.cleanupTasks.push(e)}},6368:(e,t,r)=>{\"use strict\";r.d(t,{e:()=>o});var n=r(2374),i={};function o(e){if(e in i)return i[e];if(0===(e||\"\").indexOf(\"data:\"))return{protocol:\"data\"};let t;var r=n._A?.location,o={};if(n.il)t=document.createElement(\"a\"),t.href=e;else try{t=new URL(e,r.href)}catch(e){return o}o.port=t.port;var a=t.href.split(\"://\");!o.port&&a[1]&&(o.port=a[1].split(\"/\")[0].split(\"@\").pop().split(\":\")[1]),o.port&&\"0\"!==o.port||(o.port=\"https\"===a[0]?\"443\":\"80\"),o.hostname=t.hostname||r.hostname,o.pathname=t.pathname,o.protocol=a[0],\"/\"!==o.pathname.charAt(0)&&(o.pathname=\"/\"+o.pathname);var s=!t.protocol||\":\"===t.protocol||t.protocol===r.protocol,c=t.hostname===r.hostname&&t.port===r.port;return o.sameOrigin=s&&(!t.hostname||c),\"/\"===o.pathname&&(i[e]=o),o}},8610:(e,t,r)=>{\"use strict\";function n(e,t){console&&console.warn&&\"function\"==typeof console.warn&&(console.warn(\"New Relic: \".concat(e)),t&&console.warn(t))}r.d(t,{Z:()=>n})},3916:(e,t,r)=>{\"use strict\";r.d(t,{X:()=>i});var n=Object.prototype.hasOwnProperty;function i(e,t,r){if(n.call(e,t))return e[t];var i=r();if(Object.defineProperty&&Object.keys)try{return Object.defineProperty(e,t,{value:i,writable:!0,enumerable:!1}),i}catch(e){}return e[t]=i,i}},2374:(e,t,r)=>{\"use strict\";r.d(t,{_A:()=>o,il:()=>n,lW:()=>a,v6:()=>i});const n=Boolean(\"undefined\"!=typeof window&&window.document),i=Boolean(\"undefined\"!=typeof WorkerGlobalScope&&self.navigator instanceof WorkerNavigator);let o=(()=>{if(n)return window;if(i){if(\"undefined\"!=typeof globalThis&&globalThis instanceof WorkerGlobalScope)return globalThis;if(self instanceof WorkerGlobalScope)return self}throw new Error('New Relic browser agent shutting down due to error: Unable to locate global scope. This is possibly due to code redefining browser global variables like \"self\" and \"window\".')})();function a(){return o}},7022:(e,t,r)=>{\"use strict\";r.d(t,{D:()=>i});var n=Object.prototype.hasOwnProperty;function i(e,t){var r=[],i=\"\",o=0;for(i in e)n.call(e,i)&&(r[o]=t(i,e[i]),o+=1);return r}},8305:(e,t,r)=>{\"use strict\";r.d(t,{Z:()=>o});var n=r(8683),i=r.n(n);function o(e){var t,r=!1;return function(){return r?t:(r=!0,t=e.apply(this,i()(arguments)))}}},2438:(e,t,r)=>{\"use strict\";r.d(t,{P:()=>o});var n=r(3752);const i=()=>{const e=new WeakSet;return(t,r)=>{if(\"object\"==typeof r&&null!==r){if(e.has(r))return;e.add(r)}return r}};function o(e){try{return JSON.stringify(e,i())}catch(e){try{n.ee.emit(\"internal-error\",[e])}catch(e){}}}},2650:(e,t,r)=>{\"use strict\";r.d(t,{K:()=>a,b:()=>o});var n=r(8544);function i(){return\"undefined\"==typeof document||\"complete\"===document.readyState}function o(e,t){if(i())return e();(0,n.bP)(\"load\",e,t)}function a(e){if(i())return e();(0,n.iz)(\"DOMContentLoaded\",e)}},6797:(e,t,r)=>{\"use strict\";r.d(t,{EZ:()=>u,Qy:()=>c,ce:()=>o,fP:()=>a,gG:()=>d,mF:()=>s});var n=r(2053),i=r(2374);const o={beacon:\"bam.nr-data.net\",errorBeacon:\"bam.nr-data.net\"};function a(){return i._A.NREUM||(i._A.NREUM={}),void 0===i._A.newrelic&&(i._A.newrelic=i._A.NREUM),i._A.NREUM}function s(){let e=a();return e.o||(e.o={ST:i._A.setTimeout,SI:i._A.setImmediate,CT:i._A.clearTimeout,XHR:i._A.XMLHttpRequest,REQ:i._A.Request,EV:i._A.Event,PR:i._A.Promise,MO:i._A.MutationObserver,FETCH:i._A.fetch}),e}function c(e,t,r){let i=a();const o=i.initializedAgents||{},s=o[e]||{};return Object.keys(s).length||(s.initializedAt={ms:(0,n.z)(),date:new Date}),i.initializedAgents={...o,[e]:{...s,[r]:t}},i}function u(e,t){a()[e]=t}function d(){return function(){let e=a();const t=e.info||{};e.info={beacon:o.beacon,errorBeacon:o.errorBeacon,...t}}(),function(){let e=a();const t=e.init||{};e.init={...t}}(),s(),function(){let e=a();const t=e.loader_config||{};e.loader_config={...t}}(),a()}},6998:(e,t,r)=>{\"use strict\";r.d(t,{N:()=>i,e:()=>o});var n=r(8544);function i(e){let t=arguments.length>1&&void 0!==arguments[1]&&arguments[1];return void(0,n.iz)(\"visibilitychange\",(function(){if(t){if(\"hidden\"!=document.visibilityState)return;e()}e(document.visibilityState)}))}function o(){return\"hidden\"===document.visibilityState?-1:1/0}},6408:(e,t,r)=>{\"use strict\";r.d(t,{W:()=>i});var n=r(2374);function i(){return\"function\"==typeof n._A?.PerformanceObserver}},8675:(e,t,r)=>{\"use strict\";r.d(t,{t:()=>n});const n=r(2325).D.ajax},8322:(e,t,r)=>{\"use strict\";r.d(t,{A:()=>i,t:()=>n});const n=r(2325).D.jserrors,i=\"nr@seenError\"},6034:(e,t,r)=>{\"use strict\";r.d(t,{gF:()=>o,mY:()=>i,t9:()=>n,vz:()=>s,xS:()=>a});const n=r(2325).D.metrics,i=\"sm\",o=\"cm\",a=\"storeSupportabilityMetrics\",s=\"storeEventMetrics\"},6486:(e,t,r)=>{\"use strict\";r.d(t,{t:()=>n});const n=r(2325).D.pageAction},2484:(e,t,r)=>{\"use strict\";r.d(t,{t:()=>n});const n=r(2325).D.pageViewEvent},6382:(e,t,r)=>{\"use strict\";r.d(t,{t:()=>n});const n=r(2325).D.pageViewTiming},2628:(e,t,r)=>{\"use strict\";r.r(t),r.d(t,{ADD_EVENT_LISTENER:()=>p,BST_RESOURCE:()=>a,BST_TIMER:()=>l,END:()=>u,FEATURE_NAME:()=>i,FN_END:()=>f,FN_START:()=>d,ORIG_EVENT:()=>g,PUSH_STATE:()=>h,RESOURCE:()=>s,RESOURCE_TIMING_BUFFER_FULL:()=>o,START:()=>c});var n=r(6562);const i=r(2325).D.sessionTrace,o=\"resourcetimingbufferfull\",a=\"bstResource\",s=\"resource\",c=\"-start\",u=\"-end\",d=\"fn\"+c,f=\"fn\"+u,l=\"bstTimer\",h=\"pushState\",g=n.Yu.EV,p=\"addEventListener\"},1509:(e,t,r)=>{\"use strict\";r.d(t,{W:()=>s});var n=r(6562),i=r(3752),o=r(2384),a=r(6797);class s{constructor(e,t,r){this.agentIdentifier=e,this.aggregator=t,this.ee=i.ee.get(e,(0,n.OP)(this.agentIdentifier).isolatedBacklog),this.featureName=r,this.blocked=!1,this.checkConfiguration()}checkConfiguration(){if(!(0,n.lF)(this.agentIdentifier)){let e={...(0,a.gG)().info?.jsAttributes};try{e={...e,...(0,n.C5)(this.agentIdentifier)?.jsAttributes}}catch(e){}(0,o.j)(this.agentIdentifier,{...(0,a.gG)(),info:{...(0,a.gG)().info,jsAttributes:e}})}}}},2384:(e,t,r)=>{\"use strict\";r.d(t,{j:()=>w});var n=r(8683),i=r.n(n),o=r(2325),a=r(6562),s=r(9252),c=r(7022),u=r(3752),d=r(2053),f=r(4329),l=r(2650),h=r(2374),g=r(8610),p=r(6034);function v(e){[\"setErrorHandler\",\"finished\",\"addToTrace\",\"inlineHit\",\"addRelease\",\"addPageAction\",\"setCurrentRouteName\",\"setPageViewName\",\"setCustomAttribute\",\"interaction\",\"noticeError\"].forEach((t=>{e[t]=function(){for(var r=arguments.length,n=new Array(r),i=0;i<r;i++)n[i]=arguments[i];return function(t){for(var r=arguments.length,n=new Array(r>1?r-1:0),i=1;i<r;i++)n[i-1]=arguments[i];Object.values(e.initializedAgents).forEach((e=>{e.exposed&&e.api[t]&&e.api[t](...n)}))}(t,...n)}}))}var m=r(6797);const b={stn:[o.D.sessionTrace],err:[o.D.jserrors,o.D.metrics],ins:[o.D.pageAction],spa:[o.D.spa]};const y={};function w(e){let t=arguments.length>1&&void 0!==arguments[1]?arguments[1]:{},n=arguments.length>2?arguments[2]:void 0,w=arguments.length>3?arguments[3]:void 0,{init:E,info:T,loader_config:A,runtime:x={loaderType:n},exposed:_=!0}=t;const S=(0,m.gG)();let O={};return T||(E=S.init,T=S.info,A=S.loader_config,O=S),h.v6&&(T.jsAttributes={...T.jsAttributes,isWorker:!0}),(0,a.CX)(e,T),(0,a.Dg)(e,E||{}),(0,a.GE)(e,A||{}),(0,a.sU)(e,x),function(e,t,n){n||(0,f.R)(e,\"api\"),v(t);var m=u.ee.get(e),b=m.get(\"tracer\"),y=\"api-\",w=y+\"ixn-\";function E(){}(0,c.D)([\"setErrorHandler\",\"finished\",\"addToTrace\",\"inlineHit\",\"addRelease\"],(function(e,r){t[r]=A(y,r,!0,\"api\")})),t.addPageAction=A(y,\"addPageAction\",!0,o.D.pageAction),t.setCurrentRouteName=A(y,\"routeName\",!0,o.D.spa),t.setPageViewName=function(t,r){if(\"string\"==typeof t)return\"/\"!==t.charAt(0)&&(t=\"/\"+t),(0,a.OP)(e).customTransaction=(r||\"http://custom.transaction\")+t,A(y,\"setPageViewName\",!0,\"api\")()},t.setCustomAttribute=function(t,r){const n=(0,a.C5)(e);return(0,a.CX)(e,{...n,jsAttributes:{...n.jsAttributes,[t]:r}}),A(y,\"setCustomAttribute\",!0,\"api\")()},t.interaction=function(){return(new E).get()};var T=E.prototype={createTracer:function(e,t){var r={},n=this,i=\"function\"==typeof t;return(0,s.p)(w+\"tracer\",[(0,d.z)(),e,r],n,o.D.spa,m),function(){if(b.emit((i?\"\":\"no-\")+\"fn-start\",[(0,d.z)(),n,i],r),i)try{return t.apply(this,arguments)}catch(e){throw b.emit(\"fn-err\",[arguments,this,\"string\"==typeof e?new Error(e):e],r),e}finally{b.emit(\"fn-end\",[(0,d.z)()],r)}}}};function A(e,t,r,n){return function(){return(0,s.p)(p.xS,[\"API/\"+t+\"/called\"],void 0,o.D.metrics,m),(0,s.p)(e+t,[(0,d.z)()].concat(i()(arguments)),r?null:this,n,m),r?void 0:this}}function x(){r.e(439).then(r.bind(r,5692)).then((t=>{let{setAPI:r}=t;r(e),(0,f.L)(e,\"api\")})).catch((()=>(0,g.Z)(\"Downloading runtime APIs failed...\")))}(0,c.D)(\"actionText,setName,setAttribute,save,ignore,onEnd,getContext,end,get\".split(\",\"),(function(e,t){T[t]=A(w,t,void 0,o.D.spa)})),t.noticeError=function(e,t){\"string\"==typeof e&&(e=new Error(e)),(0,s.p)(p.xS,[\"API/noticeError/called\"],void 0,o.D.metrics,m),(0,s.p)(\"err\",[e,(0,d.z)(),!1,t],void 0,o.D.jserrors,m)},h.v6?x():(0,l.b)((()=>x()),!0)}(e,O,w),(0,m.Qy)(e,S,\"api\"),(0,m.Qy)(e,_,\"exposed\"),(0,m.EZ)(\"activatedFeatures\",y),(0,m.EZ)(\"setToken\",(t=>function(e,t){var r=u.ee.get(t);e&&\"object\"==typeof e&&((0,c.D)(e,(function(e,t){if(!t)return(b[e]||[]).forEach((t=>{(0,s.p)(\"block-\"+e,[],void 0,t,r)}));y[e]||((0,s.p)(\"feat-\"+e,[],void 0,b[e],r),y[e]=!0)})),(0,f.L)(t,o.D.pageViewEvent))}(t,e))),O}},909:(e,t,r)=>{\"use strict\";r.d(t,{Z:()=>i,q:()=>o});var n=r(2325);function i(e){switch(e){case n.D.ajax:return[n.D.jserrors];case n.D.sessionTrace:return[n.D.ajax,n.D.pageViewEvent];case n.D.pageViewTiming:return[n.D.pageViewEvent];default:return[]}}function o(e){return e===n.D.jserrors?[]:[\"auto\"]}},2325:(e,t,r)=>{\"use strict\";r.d(t,{D:()=>n,p:()=>i});const n={ajax:\"ajax\",jserrors:\"jserrors\",metrics:\"metrics\",pageAction:\"page_action\",pageViewEvent:\"page_view_event\",pageViewTiming:\"page_view_timing\",sessionTrace:\"session_trace\",spa:\"spa\"},i={[n.pageViewEvent]:1,[n.pageViewTiming]:2,[n.metrics]:3,[n.jserrors]:4,[n.ajax]:5,[n.sessionTrace]:6,[n.pageAction]:7,[n.spa]:8}},8683:e=>{e.exports=function(e,t,r){t||(t=0),void 0===r&&(r=e?e.length:0);for(var n=-1,i=r-t||0,o=Array(i<0?0:i);++n<i;)o[n]=e[t+n];return o}}},n={};function i(e){var t=n[e];if(void 0!==t)return t.exports;var o=n[e]={exports:{}};return r[e](o,o.exports,i),o.exports}i.m=r,i.n=e=>{var t=e&&e.__esModule?()=>e.default:()=>e;return i.d(t,{a:t}),t},i.d=(e,t)=>{for(var r in t)i.o(t,r)&&!i.o(e,r)&&Object.defineProperty(e,r,{enumerable:!0,get:t[r]})},i.f={},i.e=e=>Promise.all(Object.keys(i.f).reduce(((t,r)=>(i.f[r](e,t),t)),[])),i.u=e=>(({78:\"page_action-aggregate\",147:\"metrics-aggregate\",193:\"session_trace-aggregate\",317:\"jserrors-aggregate\",348:\"page_view_timing-aggregate\",439:\"async-api\",729:\"lazy-loader\",786:\"page_view_event-aggregate\",873:\"spa-aggregate\",898:\"ajax-aggregate\"}[e]||e)+\".\"+{78:\"1ef08094\",147:\"56d9a464\",193:\"ada8b15b\",317:\"64f61365\",348:\"ced8c919\",439:\"61caf4d9\",729:\"37550b27\",786:\"46b69e61\",862:\"e74e95d2\",873:\"7222cbb6\",898:\"e6085a9a\"}[e]+\"-1228.min.js\"),i.o=(e,t)=>Object.prototype.hasOwnProperty.call(e,t),e={},t=\"NRBA:\",i.l=(r,n,o,a)=>{if(e[r])e[r].push(n);else{var s,c;if(void 0!==o)for(var u=document.getElementsByTagName(\"script\"),d=0;d<u.length;d++){var f=u[d];if(f.getAttribute(\"src\")==r||f.getAttribute(\"data-webpack\")==t+o){s=f;break}}s||(c=!0,(s=document.createElement(\"script\")).charset=\"utf-8\",s.timeout=120,i.nc&&s.setAttribute(\"nonce\",i.nc),s.setAttribute(\"data-webpack\",t+o),s.src=r),e[r]=[n];var l=(t,n)=>{s.onerror=s.onload=null,clearTimeout(h);var i=e[r];if(delete e[r],s.parentNode&&s.parentNode.removeChild(s),i&&i.forEach((e=>e(n))),t)return t(n)},h=setTimeout(l.bind(null,void 0,{type:\"timeout\",target:s}),12e4);s.onerror=l.bind(null,s.onerror),s.onload=l.bind(null,s.onload),c&&document.head.appendChild(s)}},i.r=e=>{\"undefined\"!=typeof Symbol&&Symbol.toStringTag&&Object.defineProperty(e,Symbol.toStringTag,{value:\"Module\"}),Object.defineProperty(e,\"__esModule\",{value:!0})},i.p=\"https://js-agent.newrelic.com/\",(()=>{var e={785:0,357:0};i.f.j=(t,r)=>{var n=i.o(e,t)?e[t]:void 0;if(0!==n)if(n)r.push(n[2]);else{var o=new Promise(((r,i)=>n=e[t]=[r,i]));r.push(n[2]=o);var a=i.p+i.u(t),s=new Error;i.l(a,(r=>{if(i.o(e,t)&&(0!==(n=e[t])&&(e[t]=void 0),n)){var o=r&&(\"load\"===r.type?\"missing\":r.type),a=r&&r.target&&r.target.src;s.message=\"Loading chunk \"+t+\" failed.\\n(\"+o+\": \"+a+\")\",s.name=\"ChunkLoadError\",s.type=o,s.request=a,n[1](s)}}),\"chunk-\"+t,t)}};var t=(t,r)=>{var n,o,[a,s,c]=r,u=0;if(a.some((t=>0!==e[t]))){for(n in s)i.o(s,n)&&(i.m[n]=s[n]);if(c)c(i)}for(t&&t(r);u<a.length;u++)o=a[u],i.o(e,o)&&e[o]&&e[o][0](),e[o]=0},r=window.webpackChunkNRBA=window.webpackChunkNRBA||[];r.forEach(t.bind(null,0)),r.push=t.bind(null,r.push.bind(r))})();var o={};(()=>{\"use strict\";i.r(o);var e=i(2325),t=i(6562);const r=Object.values(e.D);function n(e){const n={};return r.forEach((r=>{n[r]=function(e,r){return!1!==(0,t.Mt)(r,\"\".concat(e,\".enabled\"))}(r,e)})),n}var a=i(2384),s=i(909),c=i(9252),u=i(2053),d=i(8283),f=i(4329),l=i(1509),h=i(2650),g=i(2374),p=i(8610);class v extends l.W{constructor(e,t,r){let n=!(arguments.length>3&&void 0!==arguments[3])||arguments[3];super(e,t,r),this.hasAggregator=!1,this.auto=n,this.abortHandler,n&&(0,f.R)(e,r)}importAggregator(){if(this.hasAggregator||!this.auto)return;this.hasAggregator=!0;const e=async()=>{try{const{lazyLoader:e}=await i.e(729).then(i.bind(i,8110)),{Aggregate:t}=await e(this.featureName,\"aggregate\");new t(this.agentIdentifier,this.aggregator)}catch(e){(0,p.Z)(\"Downloading \".concat(this.featureName,\" failed...\")),this.abortHandler?.()}};g.v6?e():(0,h.b)((()=>e()),!0)}}var m,b,y,w=i(2484);class E extends v{constructor(e,r){let n=!(arguments.length>2&&void 0!==arguments[2])||arguments[2];super(e,r,w.t,n),(0,d.B)(e,\"starttime\",(0,t.OP)(e).offset),(0,d.B)(e,\"firstbyte\",u.B),(0,h.K)((()=>this.measureDomContentLoaded())),(0,h.b)((()=>this.measureWindowLoaded()),!0),this.importAggregator()}measureWindowLoaded(){var r=(0,u.z)();(0,d.B)(this.agentIdentifier,\"onload\",r+(0,t.OP)(this.agentIdentifier).offset),(0,c.p)(\"timing\",[\"load\",r],void 0,e.D.pageViewTiming,this.ee)}measureDomContentLoaded(){(0,d.B)(this.agentIdentifier,\"domContent\",(0,u.z)()+(0,t.OP)(this.agentIdentifier).offset)}}m=E,b=\"featureName\",y=w.t,(b=function(e){var t=function(e,t){if(\"object\"!=typeof e||null===e)return e;var r=e[Symbol.toPrimitive];if(void 0!==r){var n=r.call(e,t||\"default\");if(\"object\"!=typeof n)return n;throw new TypeError(\"@@toPrimitive must return a primitive value.\")}return(\"string\"===t?String:Number)(e)}(e,\"string\");return\"symbol\"==typeof t?t:String(t)}(b))in m?Object.defineProperty(m,b,{value:y,enumerable:!0,configurable:!0,writable:!0}):m[b]=y;var T=i(9557),A=i(7022);class x extends T.w{constructor(e){super(e),this.aggregatedData={}}store(e,t,r,n,i){var o=this.getBucket(e,t,r,i);return o.metrics=function(e,t){t||(t={count:0});return t.count+=1,(0,A.D)(e,(function(e,r){t[e]=_(r,t[e])})),t}(n,o.metrics),o}merge(e,t,r,n,i){var o=this.getBucket(e,t,n,i);if(o.metrics){var a=o.metrics;a.count+=r.count,(0,A.D)(r,(function(e,t){if(\"count\"!==e){var n=a[e],i=r[e];i&&!i.c?a[e]=_(i.t,n):a[e]=function(e,t){if(!t)return e;t.c||(t=S(t.t));return t.min=Math.min(e.min,t.min),t.max=Math.max(e.max,t.max),t.t+=e.t,t.sos+=e.sos,t.c+=e.c,t}(i,a[e])}}))}else o.metrics=r}storeMetric(e,t,r,n){var i=this.getBucket(e,t,r);return i.stats=_(n,i.stats),i}getBucket(e,t,r,n){this.aggregatedData[e]||(this.aggregatedData[e]={});var i=this.aggregatedData[e][t];return i||(i=this.aggregatedData[e][t]={params:r||{}},n&&(i.custom=n)),i}get(e,t){return t?this.aggregatedData[e]&&this.aggregatedData[e][t]:this.aggregatedData[e]}take(e){for(var t={},r=\"\",n=!1,i=0;i<e.length;i++)t[r=e[i]]=O(this.aggregatedData[r]),t[r].length&&(n=!0),delete this.aggregatedData[r];return n?t:null}}function _(e,t){return null==e?function(e){e?e.c++:e={c:1};return e}(t):t?(t.c||(t=S(t.t)),t.c+=1,t.t+=e,t.sos+=e*e,e>t.max&&(t.max=e),e<t.min&&(t.min=e),t):{t:e}}function S(e){return{t:e,min:e,max:e,sos:e*e,c:1}}function O(e){return\"object\"!=typeof e?[]:(0,A.D)(e,P)}function P(e,t){return t}var D=i(6797),j=i(5526),C=i(2438);var I,R=i(6998),N=i(8544),k=i(6382),L=-1,H=function(e){addEventListener(\"pageshow\",(function(t){t.persisted&&(L=t.timeStamp,e(t))}),!0)},z=function(){return window.performance&&performance.getEntriesByType&&performance.getEntriesByType(\"navigation\")[0]},M=function(){var e=z();return e&&e.activationStart||0},B=function(e,t){var r=z(),n=\"navigate\";return L>=0?n=\"back-forward-cache\":r&&(n=document.prerendering||M()>0?\"prerender\":document.wasDiscarded?\"restore\":r.type.replace(/_/g,\"-\")),{name:e,value:void 0===t?-1:t,rating:\"good\",delta:0,entries:[],id:\"v3-\".concat(Date.now(),\"-\").concat(Math.floor(8999999999999*Math.random())+1e12),navigationType:n}},F=function(e,t,r){try{if(PerformanceObserver.supportedEntryTypes.includes(e)){var n=new PerformanceObserver((function(e){Promise.resolve().then((function(){t(e.getEntries())}))}));return n.observe(Object.assign({type:e,buffered:!0},r||{})),n}}catch(e){}},U=function(e,t,r,n){var i,o;return function(a){t.value>=0&&(a||n)&&((o=t.value-(i||0))||void 0===i)&&(i=t.value,t.delta=o,t.rating=function(e,t){return e>t[1]?\"poor\":e>t[0]?\"needs-improvement\":\"good\"}(t.value,r),e(t))}},V=function(e){var t=function(t){\"pagehide\"!==t.type&&\"hidden\"!==document.visibilityState||e(t)};addEventListener(\"visibilitychange\",t,!0),addEventListener(\"pagehide\",t,!0)},W=function(e){document.prerendering?addEventListener(\"prerenderingchange\",(function(){return e()}),!0):e()},q=(new Date,0),G=1/0,X=0,Z=function(e){e.forEach((function(e){e.interactionId&&(G=Math.min(G,e.interactionId),X=Math.max(X,e.interactionId),q=X?(X-G)/7+1:0)}))},Q=function(){return I?q:performance.interactionCount||0},$=function(){\"interactionCount\"in performance||I||(I=F(\"event\",Z,{type:\"event\",buffered:!0,durationThreshold:0}))},Y=[200,500],K=0,J=function(){return Q()-K},ee=[],te={},re=function(e){var t=ee[ee.length-1],r=te[e.interactionId];if(r||ee.length<10||e.duration>t.latency){if(r)r.entries.push(e),r.latency=Math.max(r.latency,e.duration);else{var n={id:e.interactionId,latency:e.duration,entries:[e]};te[n.id]=n,ee.push(n)}ee.sort((function(e,t){return t.latency-e.latency})),ee.splice(10).forEach((function(e){delete te[e.id]}))}},ne=i(2545);class ie extends v{constructor(r,n){var i;let o=!(arguments.length>2&&void 0!==arguments[2])||arguments[2];if(super(r,n,k.t,o),i=this,g.il){if(this.pageHiddenTime=(0,R.e)(),this.performanceObserver,this.lcpPerformanceObserver,this.clsPerformanceObserver,this.fiRecorded=!1,\"PerformanceObserver\"in window&&\"function\"==typeof window.PerformanceObserver){this.performanceObserver=new PerformanceObserver((function(){return i.perfObserver(...arguments)}));try{this.performanceObserver.observe({entryTypes:[\"paint\"]})}catch(e){}this.lcpPerformanceObserver=new PerformanceObserver((function(){return i.lcpObserver(...arguments)}));try{this.lcpPerformanceObserver.observe({entryTypes:[\"largest-contentful-paint\"]})}catch(e){}this.clsPerformanceObserver=new PerformanceObserver((function(){return i.clsObserver(...arguments)}));try{this.clsPerformanceObserver.observe({type:\"layout-shift\",buffered:!0})}catch(e){}}this.fiRecorded=!1;[\"click\",\"keydown\",\"mousedown\",\"pointerdown\",\"touchstart\"].forEach((e=>{(0,N.iz)(e,(function(){return i.captureInteraction(...arguments)}))})),function(e,t){t=t||{},W((function(){$();var r,n=B(\"INP\"),i=function(e){e.forEach((function(e){e.interactionId&&re(e),\"first-input\"===e.entryType&&!ee.some((function(t){return t.entries.some((function(t){return e.duration===t.duration&&e.startTime===t.startTime}))}))&&re(e)}));var t,i=(t=Math.min(ee.length-1,Math.floor(J()/50)),ee[t]);i&&i.latency!==n.value&&(n.value=i.latency,n.entries=i.entries,r())},o=F(\"event\",i,{durationThreshold:t.durationThreshold||40});r=U(e,n,Y,t.reportAllChanges),o&&(o.observe({type:\"first-input\",buffered:!0}),V((function(){i(o.takeRecords()),n.value<0&&J()>0&&(n.value=0,n.entries=[]),r(!0)})),H((function(){ee=[],K=Q(),n=B(\"INP\"),r=U(e,n,Y,t.reportAllChanges)})))}))}((t=>{let{name:r,value:n,id:i}=t;(0,c.p)(\"timing\",[r.toLowerCase(),n,{metricId:i}],void 0,e.D.pageViewTiming,this.ee)})),!0===(0,t.Mt)(this.agentIdentifier,\"page_view_timing.long_task\")&&(e=>{const t=t=>{t.forEach((t=>{const r={name:\"LT\",value:t.duration,info:{ltFrame:t.name,ltStart:t.startTime,ltCtr:t.attribution[0].containerType}};\"window\"!==r.info.ltCtr&&Object.assign(r.info,{ltCtrSrc:t.attribution[0].containerSrc,ltCtrId:t.attribution[0].containerId,ltCtrName:t.attribution[0].containerName}),e(r)}))};let r;try{PerformanceObserver.supportedEntryTypes.includes(\"longtask\")&&(r=new PerformanceObserver((e=>{Promise.resolve().then((()=>{t(e.getEntries())}))})),r.observe({type:\"longtask\",buffered:!0}))}catch(e){}r&&(0,ne.L)((()=>{t(r.takeRecords())}),!0)})((t=>{let{name:r,value:n,info:i}=t;(0,c.p)(\"timing\",[r.toLowerCase(),n,i],void 0,e.D.pageViewTiming,this.ee)})),(0,R.N)((()=>{this.pageHiddenTime=(0,u.z)(),(0,c.p)(\"docHidden\",[this.pageHiddenTime],void 0,e.D.pageViewTiming,this.ee)}),!0),(0,N.bP)(\"pagehide\",(()=>(0,c.p)(\"winPagehide\",[(0,u.z)()],void 0,e.D.pageViewTiming,this.ee))),this.importAggregator()}}perfObserver(t,r){t.getEntries().forEach((t=>{\"first-paint\"===t.name?(0,c.p)(\"timing\",[\"fp\",Math.floor(t.startTime)],void 0,e.D.pageViewTiming,this.ee):\"first-contentful-paint\"===t.name&&(0,c.p)(\"timing\",[\"fcp\",Math.floor(t.startTime)],void 0,e.D.pageViewTiming,this.ee)}))}lcpObserver(t,r){var n=t.getEntries();if(n.length>0){var i=n[n.length-1];if(this.pageHiddenTime<i.startTime)return;var o=[i],a=this.addConnectionAttributes({});a&&o.push(a),(0,c.p)(\"lcp\",o,void 0,e.D.pageViewTiming,this.ee)}}clsObserver(t){t.getEntries().forEach((t=>{t.hadRecentInput||(0,c.p)(\"cls\",[t],void 0,e.D.pageViewTiming,this.ee)}))}addConnectionAttributes(e){var t=navigator.connection||navigator.mozConnection||navigator.webkitConnection;if(t)return t.type&&(e[\"net-type\"]=t.type),t.effectiveType&&(e[\"net-etype\"]=t.effectiveType),t.rtt&&(e[\"net-rtt\"]=t.rtt),t.downlink&&(e[\"net-dlink\"]=t.downlink),e}captureInteraction(r){if(r instanceof t.Yu.EV&&!this.fiRecorded){var n=Math.round(r.timeStamp),i={type:r.type};this.addConnectionAttributes(i);const o=(0,t.OP)(this.agentIdentifier).offset;n<=(0,u.z)()?i.fid=(0,u.z)()-n:n>o&&n<=Date.now()?(n-=o,i.fid=(0,u.z)()-n):n=(0,u.z)(),this.fiRecorded=!0,(0,c.p)(\"timing\",[\"fi\",n,i],void 0,e.D.pageViewTiming,this.ee)}}}!function(e,t,r){(t=function(e){var t=function(e,t){if(\"object\"!=typeof e||null===e)return e;var r=e[Symbol.toPrimitive];if(void 0!==r){var n=r.call(e,t||\"default\");if(\"object\"!=typeof n)return n;throw new TypeError(\"@@toPrimitive must return a primitive value.\")}return(\"string\"===t?String:Number)(e)}(e,\"string\");return\"symbol\"==typeof t?t:String(t)}(t))in e?Object.defineProperty(e,t,{value:r,enumerable:!0,configurable:!0,writable:!0}):e[t]=r}(ie,\"featureName\",k.t);const oe={dedicated:Boolean(g._A?.Worker),shared:Boolean(g._A?.SharedWorker),service:Boolean(g._A?.navigator?.serviceWorker)};let ae,se,ce;var ue=i(6034);class de extends v{constructor(t,r){let n=!(arguments.length>2&&void 0!==arguments[2])||arguments[2];super(t,r,ue.t9,n),function(e){if(!ae){if(oe.dedicated){ae=Worker;try{g._A.Worker=r(ae,\"Dedicated\")}catch(e){o(e,\"Dedicated\")}if(oe.shared){se=SharedWorker;try{g._A.SharedWorker=r(se,\"Shared\")}catch(e){o(e,\"Shared\")}}else n(\"Shared\");if(oe.service){ce=navigator.serviceWorker.register;try{g._A.navigator.serviceWorker.register=(t=ce,function(){for(var e=arguments.length,r=new Array(e),n=0;n<e;n++)r[n]=arguments[n];return i(\"Service\",r[1]?.type),t.apply(navigator.serviceWorker,r)})}catch(e){o(e,\"Service\")}}else n(\"Service\");var t;return}n(\"All\")}function r(e,t){return\"undefined\"==typeof Proxy?e:new Proxy(e,{construct:(e,r)=>(i(t,r[1]?.type),new e(...r))})}function n(t){g.v6||e(\"Workers/\".concat(t,\"/Unavailable\"))}function i(t,r){e(\"Workers/\".concat(t,\"module\"===r?\"/Module\":\"/Classic\"))}function o(t,r){e(\"Workers/\".concat(r,\"/SM/Unsupported\")),(0,p.Z)(\"NR Agent: Unable to capture \".concat(r,\" workers.\"),t)}}((t=>(0,c.p)(ue.xS,[t],void 0,e.D.metrics,this.ee))),this.importAggregator()}}!function(e,t,r){(t=function(e){var t=function(e,t){if(\"object\"!=typeof e||null===e)return e;var r=e[Symbol.toPrimitive];if(void 0!==r){var n=r.call(e,t||\"default\");if(\"object\"!=typeof n)return n;throw new TypeError(\"@@toPrimitive must return a primitive value.\")}return(\"string\"===t?String:Number)(e)}(e,\"string\");return\"symbol\"==typeof t?t:String(t)}(t))in e?Object.defineProperty(e,t,{value:r,enumerable:!0,configurable:!0,writable:!0}):e[t]=r}(de,\"featureName\",ue.t9);var fe=i(3916),le=i(3752),he=i(8683),ge=i.n(he);const pe=\"nr@original\";var ve=Object.prototype.hasOwnProperty,me=!1;function be(e,t){return e||(e=le.ee),r.inPlace=function(e,t,n,i,o){n||(n=\"\");var a,s,c,u=\"-\"===n.charAt(0);for(c=0;c<t.length;c++)Ee(a=e[s=t[c]])||(e[s]=r(a,u?s+n:n,i,s,o))},r.flag=pe,r;function r(t,r,i,o,a){return Ee(t)?t:(r||(r=\"\"),nrWrapper[pe]=t,we(t,nrWrapper,e),nrWrapper);function nrWrapper(){var s,c,u,d;try{c=this,s=ge()(arguments),u=\"function\"==typeof i?i(s,c):i||{}}catch(t){ye([t,\"\",[s,c,o],u],e)}n(r+\"start\",[s,c,o],u,a);try{return d=t.apply(c,s)}catch(e){throw n(r+\"err\",[s,c,e],u,a),e}finally{n(r+\"end\",[s,c,d],u,a)}}}function n(r,n,i,o){if(!me||t){var a=me;me=!0;try{e.emit(r,n,i,t,o)}catch(t){ye([t,r,n,i],e)}me=a}}}function ye(e,t){t||(t=le.ee);try{t.emit(\"internal-error\",e)}catch(e){}}function we(e,t,r){if(Object.defineProperty&&Object.keys)try{return Object.keys(e).forEach((function(r){Object.defineProperty(t,r,{get:function(){return e[r]},set:function(t){return e[r]=t,t}})})),t}catch(e){ye([e],r)}for(var n in e)ve.call(e,n)&&(t[n]=e[n]);return t}function Ee(e){return!(e&&e instanceof Function&&e.apply&&!e[pe])}var Te=\"fetch-\",Ae=Te+\"body-\",xe=[\"arrayBuffer\",\"blob\",\"json\",\"text\",\"formData\"],_e=g._A.Request,Se=g._A.Response,Oe=\"prototype\",Pe=\"nr@context\";const De={};function je(e){const t=function(e){return(e||le.ee).get(\"fetch\")}(e);if(!(_e&&Se&&g._A.fetch))return t;if(De[t.debugId]++)return t;function r(e,r,n){var i=e[r];\"function\"==typeof i&&(e[r]=function(){var e,r=ge()(arguments),o={};t.emit(n+\"before-start\",[r],o),o[Pe]&&o[Pe].dt&&(e=o[Pe].dt);var a=i.apply(this,r);return t.emit(n+\"start\",[r,e],a),a.then((function(e){return t.emit(n+\"end\",[null,e],a),e}),(function(e){throw t.emit(n+\"end\",[e],a),e}))},e[r][pe]=i)}return De[t.debugId]=1,xe.forEach((e=>{r(_e[Oe],e,Ae),r(Se[Oe],e,Ae)})),r(g._A,\"fetch\",Te),t.on(Te+\"end\",(function(e,r){var n=this;if(r){var i=r.headers.get(\"content-length\");null!==i&&(n.rxSize=i),t.emit(Te+\"done\",[null,r],n)}else t.emit(Te+\"done\",[e],n)})),t}const Ce={},Ie=\"setTimeout\",Re=\"setInterval\",Ne=\"clearTimeout\",ke=\"-start\",Le=\"-\",He=[Ie,\"setImmediate\",Re,Ne,\"clearImmediate\"];function ze(e){const t=function(e){return(e||le.ee).get(\"timer\")}(e);if(Ce[t.debugId]++)return t;Ce[t.debugId]=1;var r=be(t);return r.inPlace(g._A,He.slice(0,2),Ie+Le),r.inPlace(g._A,He.slice(2,3),Re+Le),r.inPlace(g._A,He.slice(3),Ne+Le),t.on(Re+ke,(function(e,t,n){e[0]=r(e[0],\"fn-\",null,n)})),t.on(Ie+ke,(function(e,t,n){this.method=n,this.timerDuration=isNaN(e[1])?0:+e[1],e[0]=r(e[0],\"fn-\",this,n)})),t}const Me={},Be=\"requestAnimationFrame\";function Fe(e){const t=function(e){return(e||le.ee).get(\"raf\")}(e);if(!g.il||Me[t.debugId]++)return t;Me[t.debugId]=1;var r=be(t);return r.inPlace(window,[Be],\"raf-\"),t.on(\"raf-start\",(function(e){e[0]=r(e[0],\"fn-\")})),t}const Ue={},Ve=[\"pushState\",\"replaceState\"];function We(e){const t=function(e){return(e||le.ee).get(\"history\")}(e);return!g.il||Ue[t.debugId]++||(Ue[t.debugId]=1,be(t).inPlace(window.history,Ve,\"-\")),t}const qe={},Ge=XMLHttpRequest,Xe=\"addEventListener\",Ze=\"removeEventListener\";function Qe(e){var t=function(e){return(e||le.ee).get(\"events\")}(e);if(qe[t.debugId]++)return t;qe[t.debugId]=1;var r=be(t,!0);function n(e){r.inPlace(e,[Xe,Ze],\"-\",i)}function i(e,t){return e[1]}return\"getPrototypeOf\"in Object&&(g.il&&$e(document,n),$e(g._A,n),$e(Ge.prototype,n)),t.on(Xe+\"-start\",(function(e,t){var n=e[1];if(null!==n&&(\"function\"==typeof n||\"object\"==typeof n)){var i=(0,fe.X)(n,\"nr@wrapped\",(function(){var e={object:function(){if(\"function\"!=typeof n.handleEvent)return;return n.handleEvent.apply(n,arguments)},function:n}[typeof n];return e?r(e,\"fn-\",null,e.name||\"anonymous\"):n}));this.wrapped=e[1]=i}})),t.on(Ze+\"-start\",(function(e){e[1]=this.wrapped||e[1]})),t}function $e(e,t){let r=e;for(;\"object\"==typeof r&&!Object.prototype.hasOwnProperty.call(r,Xe);)r=Object.getPrototypeOf(r);for(var n=arguments.length,i=new Array(n>2?n-2:0),o=2;o<n;o++)i[o-2]=arguments[o];r&&t(r,...i)}const Ye={},Ke=[\"open\",\"send\"];function Je(e){var r=e||le.ee;const n=function(e){return(e||le.ee).get(\"xhr\")}(r);if(Ye[n.debugId]++)return n;Ye[n.debugId]=1,Qe(r);var i=be(n),o=t.Yu.XHR,a=t.Yu.MO,s=t.Yu.PR,c=t.Yu.SI,u=\"readystatechange\",d=[\"onload\",\"onerror\",\"onabort\",\"onloadstart\",\"onloadend\",\"onprogress\",\"ontimeout\"],f=[],l=g._A.XMLHttpRequest.listeners,h=g._A.XMLHttpRequest=function(e){var t=new o(e);function r(){try{n.emit(\"new-xhr\",[t],t),t.addEventListener(u,m,(0,N.m$)(!1))}catch(e){(0,p.Z)(\"An error occured while intercepting XHR\",e);try{n.emit(\"internal-error\",[e])}catch(e){}}}return this.listeners=l?[...l,r]:[r],this.listeners.forEach((e=>e())),t};function v(e,t){i.inPlace(t,[\"onreadystatechange\"],\"fn-\",T)}function m(){var e=this,t=n.context(e);e.readyState>3&&!t.resolved&&(t.resolved=!0,n.emit(\"xhr-resolved\",[],e)),i.inPlace(e,d,\"fn-\",T)}if(function(e,t){for(var r in e)t[r]=e[r]}(o,h),h.prototype=o.prototype,i.inPlace(h.prototype,Ke,\"-xhr-\",T),n.on(\"send-xhr-start\",(function(e,t){v(e,t),function(e){f.push(e),a&&(b?b.then(E):c?c(E):(y=-y,w.data=y))}(t)})),n.on(\"open-xhr-start\",v),a){var b=s&&s.resolve();if(!c&&!s){var y=1,w=document.createTextNode(y);new a(E).observe(w,{characterData:!0})}}else r.on(\"fn-end\",(function(e){e[0]&&e[0].type===u||E()}));function E(){for(var e=0;e<f.length;e++)v(0,f[e]);f.length&&(f=[])}function T(e,t){return t}return n}var et,tt={};try{et=localStorage.getItem(\"__nr_flags\").split(\",\"),console&&\"function\"==typeof console.log&&(tt.console=!0,-1!==et.indexOf(\"dev\")&&(tt.dev=!0),-1!==et.indexOf(\"nr_dev\")&&(tt.nrDev=!0))}catch(e){}function rt(e){try{tt.console&&rt(e)}catch(e){}}tt.nrDev&&le.ee.on(\"internal-error\",(function(e){rt(e.stack)})),tt.dev&&le.ee.on(\"fn-err\",(function(e,t,r){rt(r.stack)})),tt.dev&&(rt(\"NR AGENT IN DEVELOPMENT MODE\"),rt(\"flags: \"+(0,A.D)(tt,(function(e,t){return e})).join(\", \")));var nt=i(8322);function it(e,t){!function(e,t){if(t.has(e))throw new TypeError(\"Cannot initialize the same private elements twice on an object\")}(e,t),t.add(e)}var ot=new WeakSet;class at extends v{constructor(r,n){var i;let o=!(arguments.length>2&&void 0!==arguments[2])||arguments[2];super(r,n,nt.t,o),i=this,it(this,ot),this.skipNext=0,this.origOnerror=g._A.onerror;try{this.removeOnAbort=new AbortController}catch(e){}const a=this;a.ee.on(\"fn-start\",(function(e,t,r){a.abortHandler&&(a.skipNext+=1)})),a.ee.on(\"fn-err\",(function(e,t,r){a.abortHandler&&!r[nt.A]&&((0,fe.X)(r,nt.A,(function(){return!0})),this.thrown=!0,ut(r,void 0,a.ee))})),a.ee.on(\"fn-end\",(function(){a.abortHandler&&!this.thrown&&a.skipNext>0&&(a.skipNext-=1)})),a.ee.on(\"internal-error\",(function(t){(0,c.p)(\"ierr\",[t,(0,u.z)(),!0],void 0,e.D.jserrors,a.ee)})),g._A.onerror=function(){return i.origOnerror&&i.origOnerror(...arguments),i.onerrorHandler(...arguments),!1},g._A.addEventListener(\"unhandledrejection\",(t=>{const r=function(e){let t=\"Unhandled Promise Rejection: \";if(e instanceof Error)try{return e.message=t+e.message,e}catch(t){return e}if(void 0===e)return new Error(t);try{return new Error(t+(0,C.P)(e))}catch(e){return new Error(t)}}(t.reason);(0,c.p)(\"err\",[r,(0,u.z)(),!1,{unhandledPromiseRejection:1}],void 0,e.D.jserrors,this.ee)}),(0,N.m$)(!1,this.removeOnAbort?.signal)),Fe(this.ee),ze(this.ee),Qe(this.ee),(0,t.OP)(r).xhrWrappable&&Je(this.ee),this.abortHandler=function(e,t,r){if(!t.has(e))throw new TypeError(\"attempted to get private field on non-instance\");return r}(this,ot,st),this.importAggregator()}onerrorHandler(t,r,n,i,o){try{this.skipNext?this.skipNext-=1:ut(o||new ct(t,r,n),!0,this.ee)}catch(t){try{(0,c.p)(\"ierr\",[t,(0,u.z)(),!0],void 0,e.D.jserrors,this.ee)}catch(e){}}return\"function\"==typeof this.origOnerror&&this.origOnerror.apply(this,ge()(arguments))}}function st(){this.removeOnAbort?.abort(),this.abortHandler=void 0}function ct(e,t,r){this.message=e||\"Uncaught error with no additional information\",this.sourceURL=t,this.line=r}function ut(t,r,n){var i=r?null:(0,u.z)();(0,c.p)(\"err\",[t,i],void 0,e.D.jserrors,n)}!function(e,t,r){(t=function(e){var t=function(e,t){if(\"object\"!=typeof e||null===e)return e;var r=e[Symbol.toPrimitive];if(void 0!==r){var n=r.call(e,t||\"default\");if(\"object\"!=typeof n)return n;throw new TypeError(\"@@toPrimitive must return a primitive value.\")}return(\"string\"===t?String:Number)(e)}(e,\"string\");return\"symbol\"==typeof t?t:String(t)}(t))in e?Object.defineProperty(e,t,{value:r,enumerable:!0,configurable:!0,writable:!0}):e[t]=r}(at,\"featureName\",nt.t);var dt=1,ft=\"nr@id\";function lt(e){var t=typeof e;return!e||\"object\"!==t&&\"function\"!==t?-1:e===g._A?0:(0,fe.X)(e,ft,(function(){return dt++}))}var ht=i(9071);function gt(e){if(\"string\"==typeof e&&e.length)return e.length;if(\"object\"==typeof e){if(\"undefined\"!=typeof ArrayBuffer&&e instanceof ArrayBuffer&&e.byteLength)return e.byteLength;if(\"undefined\"!=typeof Blob&&e instanceof Blob&&e.size)return e.size;if(!(\"undefined\"!=typeof FormData&&e instanceof FormData))try{return(0,C.P)(e).length}catch(e){return}}}var pt=i(6368);class vt{constructor(e){this.agentIdentifier=e,this.generateTracePayload=this.generateTracePayload.bind(this),this.shouldGenerateTrace=this.shouldGenerateTrace.bind(this)}generateTracePayload(e){if(!this.shouldGenerateTrace(e))return null;var r=(0,t.DL)(this.agentIdentifier);if(!r)return null;var n=(r.accountID||\"\").toString()||null,i=(r.agentID||\"\").toString()||null,o=(r.trustKey||\"\").toString()||null;if(!n||!i)return null;var a=(0,j.M)(),s=(0,j.Ht)(),c=Date.now(),u={spanId:a,traceId:s,timestamp:c};return(e.sameOrigin||this.isAllowedOrigin(e)&&this.useTraceContextHeadersForCors())&&(u.traceContextParentHeader=this.generateTraceContextParentHeader(a,s),u.traceContextStateHeader=this.generateTraceContextStateHeader(a,c,n,i,o)),(e.sameOrigin&&!this.excludeNewrelicHeader()||!e.sameOrigin&&this.isAllowedOrigin(e)&&this.useNewrelicHeaderForCors())&&(u.newrelicHeader=this.generateTraceHeader(a,s,c,n,i,o)),u}generateTraceContextParentHeader(e,t){return\"00-\"+t+\"-\"+e+\"-01\"}generateTraceContextStateHeader(e,t,r,n,i){return i+\"@nr=0-1-\"+r+\"-\"+n+\"-\"+e+\"----\"+t}generateTraceHeader(e,t,r,n,i,o){if(!(\"function\"==typeof g._A?.btoa))return null;var a={v:[0,1],d:{ty:\"Browser\",ac:n,ap:i,id:e,tr:t,ti:r}};return o&&n!==o&&(a.d.tk=o),btoa((0,C.P)(a))}shouldGenerateTrace(e){return this.isDtEnabled()&&this.isAllowedOrigin(e)}isAllowedOrigin(e){var r=!1,n={};if((0,t.Mt)(this.agentIdentifier,\"distributed_tracing\")&&(n=(0,t.P_)(this.agentIdentifier).distributed_tracing),e.sameOrigin)r=!0;else if(n.allowed_origins instanceof Array)for(var i=0;i<n.allowed_origins.length;i++){var o=(0,pt.e)(n.allowed_origins[i]);if(e.hostname===o.hostname&&e.protocol===o.protocol&&e.port===o.port){r=!0;break}}return r}isDtEnabled(){var e=(0,t.Mt)(this.agentIdentifier,\"distributed_tracing\");return!!e&&!!e.enabled}excludeNewrelicHeader(){var e=(0,t.Mt)(this.agentIdentifier,\"distributed_tracing\");return!!e&&!!e.exclude_newrelic_header}useNewrelicHeaderForCors(){var e=(0,t.Mt)(this.agentIdentifier,\"distributed_tracing\");return!!e&&!1!==e.cors_use_newrelic_header}useTraceContextHeadersForCors(){var e=(0,t.Mt)(this.agentIdentifier,\"distributed_tracing\");return!!e&&!!e.cors_use_tracecontext_headers}}var mt=i(8675);var bt=[\"load\",\"error\",\"abort\",\"timeout\"],yt=bt.length,wt=t.Yu.REQ,Et=g._A.XMLHttpRequest;class Tt extends v{constructor(r,n){let i=!(arguments.length>2&&void 0!==arguments[2])||arguments[2];super(r,n,mt.t,i),(0,t.OP)(r).xhrWrappable&&(this.dt=new vt(r),this.handler=(e,t,r,n)=>(0,c.p)(e,t,r,n,this.ee),je(this.ee),Je(this.ee),function(r,n,i,o){function a(e){var t=this;t.totalCbs=0,t.called=0,t.cbTime=0,t.end=A,t.ended=!1,t.xhrGuids={},t.lastSize=null,t.loadCaptureCalled=!1,t.params=this.params||{},t.metrics=this.metrics||{},e.addEventListener(\"load\",(function(r){_(t,e)}),(0,N.m$)(!1)),ht.I||e.addEventListener(\"progress\",(function(e){t.lastSize=e.loaded}),(0,N.m$)(!1))}function s(e){this.params={method:e[0]},x(this,e[1]),this.metrics={}}function c(e,n){var i=(0,t.DL)(r);\"xpid\"in i&&this.sameOrigin&&n.setRequestHeader(\"X-NewRelic-ID\",i.xpid);var a=o.generateTracePayload(this.parsedOrigin);if(a){var s=!1;a.newrelicHeader&&(n.setRequestHeader(\"newrelic\",a.newrelicHeader),s=!0),a.traceContextParentHeader&&(n.setRequestHeader(\"traceparent\",a.traceContextParentHeader),a.traceContextStateHeader&&n.setRequestHeader(\"tracestate\",a.traceContextStateHeader),s=!0),s&&(this.dt=a)}}function d(e,t){var r=this.metrics,i=e[0],o=this;if(r&&i){var a=gt(i);a&&(r.txSize=a)}this.startTime=(0,u.z)(),this.listener=function(e){try{\"abort\"!==e.type||o.loadCaptureCalled||(o.params.aborted=!0),(\"load\"!==e.type||o.called===o.totalCbs&&(o.onloadCalled||\"function\"!=typeof t.onload)&&\"function\"==typeof o.end)&&o.end(t)}catch(e){try{n.emit(\"internal-error\",[e])}catch(e){}}};for(var s=0;s<yt;s++)t.addEventListener(bt[s],this.listener,(0,N.m$)(!1))}function f(e,t,r){this.cbTime+=e,t?this.onloadCalled=!0:this.called+=1,this.called!==this.totalCbs||!this.onloadCalled&&\"function\"==typeof r.onload||\"function\"!=typeof this.end||this.end(r)}function l(e,t){var r=\"\"+lt(e)+!!t;this.xhrGuids&&!this.xhrGuids[r]&&(this.xhrGuids[r]=!0,this.totalCbs+=1)}function h(e,t){var r=\"\"+lt(e)+!!t;this.xhrGuids&&this.xhrGuids[r]&&(delete this.xhrGuids[r],this.totalCbs-=1)}function p(){this.endTime=(0,u.z)()}function v(e,t){t instanceof Et&&\"load\"===e[0]&&n.emit(\"xhr-load-added\",[e[1],e[2]],t)}function m(e,t){t instanceof Et&&\"load\"===e[0]&&n.emit(\"xhr-load-removed\",[e[1],e[2]],t)}function b(e,t,r){t instanceof Et&&(\"onload\"===r&&(this.onload=!0),(\"load\"===(e[0]&&e[0].type)||this.onload)&&(this.xhrCbStart=(0,u.z)()))}function y(e,t){this.xhrCbStart&&n.emit(\"xhr-cb-time\",[(0,u.z)()-this.xhrCbStart,this.onload,t],t)}function w(e){var t,r=e[1]||{};\"string\"==typeof e[0]?t=e[0]:e[0]&&e[0].url?t=e[0].url:g._A?.URL&&e[0]&&e[0]instanceof URL&&(t=e[0].href),t&&(this.parsedOrigin=(0,pt.e)(t),this.sameOrigin=this.parsedOrigin.sameOrigin);var n=o.generateTracePayload(this.parsedOrigin);if(n&&(n.newrelicHeader||n.traceContextParentHeader))if(\"string\"==typeof e[0]||g._A?.URL&&e[0]&&e[0]instanceof URL){var i={};for(var a in r)i[a]=r[a];i.headers=new Headers(r.headers||{}),s(i.headers,n)&&(this.dt=n),e.length>1?e[1]=i:e.push(i)}else e[0]&&e[0].headers&&s(e[0].headers,n)&&(this.dt=n);function s(e,t){var r=!1;return t.newrelicHeader&&(e.set(\"newrelic\",t.newrelicHeader),r=!0),t.traceContextParentHeader&&(e.set(\"traceparent\",t.traceContextParentHeader),t.traceContextStateHeader&&e.set(\"tracestate\",t.traceContextStateHeader),r=!0),r}}function E(e,t){this.params={},this.metrics={},this.startTime=(0,u.z)(),this.dt=t,e.length>=1&&(this.target=e[0]),e.length>=2&&(this.opts=e[1]);var r,n=this.opts||{},i=this.target;\"string\"==typeof i?r=i:\"object\"==typeof i&&i instanceof wt?r=i.url:g._A?.URL&&\"object\"==typeof i&&i instanceof URL&&(r=i.href),x(this,r);var o=(\"\"+(i&&i instanceof wt&&i.method||n.method||\"GET\")).toUpperCase();this.params.method=o,this.txSize=gt(n.body)||0}function T(t,r){var n;this.endTime=(0,u.z)(),this.params||(this.params={}),this.params.status=r?r.status:0,\"string\"==typeof this.rxSize&&this.rxSize.length>0&&(n=+this.rxSize);var o={txSize:this.txSize,rxSize:n,duration:(0,u.z)()-this.startTime};i(\"xhr\",[this.params,o,this.startTime,this.endTime,\"fetch\"],this,e.D.ajax)}function A(t){var r=this.params,n=this.metrics;if(!this.ended){this.ended=!0;for(var o=0;o<yt;o++)t.removeEventListener(bt[o],this.listener,!1);r.aborted||(n.duration=(0,u.z)()-this.startTime,this.loadCaptureCalled||4!==t.readyState?null==r.status&&(r.status=0):_(this,t),n.cbTime=this.cbTime,i(\"xhr\",[r,n,this.startTime,this.endTime,\"xhr\"],this,e.D.ajax))}}function x(e,t){var r=(0,pt.e)(t),n=e.params;n.hostname=r.hostname,n.port=r.port,n.protocol=r.protocol,n.host=r.hostname+\":\"+r.port,n.pathname=r.pathname,e.parsedOrigin=r,e.sameOrigin=r.sameOrigin}function _(e,t){e.params.status=t.status;var r=function(e,t){var r=e.responseType;return\"json\"===r&&null!==t?t:\"arraybuffer\"===r||\"blob\"===r||\"json\"===r?gt(e.response):\"text\"===r||\"\"===r||void 0===r?gt(e.responseText):void 0}(t,e.lastSize);if(r&&(e.metrics.rxSize=r),e.sameOrigin){var n=t.getResponseHeader(\"X-NewRelic-App-Data\");n&&(e.params.cat=n.split(\", \").pop())}e.loadCaptureCalled=!0}n.on(\"new-xhr\",a),n.on(\"open-xhr-start\",s),n.on(\"open-xhr-end\",c),n.on(\"send-xhr-start\",d),n.on(\"xhr-cb-time\",f),n.on(\"xhr-load-added\",l),n.on(\"xhr-load-removed\",h),n.on(\"xhr-resolved\",p),n.on(\"addEventListener-end\",v),n.on(\"removeEventListener-end\",m),n.on(\"fn-end\",y),n.on(\"fetch-before-start\",w),n.on(\"fetch-start\",E),n.on(\"fn-start\",b),n.on(\"fetch-done\",T)}(r,this.ee,this.handler,this.dt),this.importAggregator())}}!function(e,t,r){(t=function(e){var t=function(e,t){if(\"object\"!=typeof e||null===e)return e;var r=e[Symbol.toPrimitive];if(void 0!==r){var n=r.call(e,t||\"default\");if(\"object\"!=typeof n)return n;throw new TypeError(\"@@toPrimitive must return a primitive value.\")}return(\"string\"===t?String:Number)(e)}(e,\"string\");return\"symbol\"==typeof t?t:String(t)}(t))in e?Object.defineProperty(e,t,{value:r,enumerable:!0,configurable:!0,writable:!0}):e[t]=r}(Tt,\"featureName\",mt.t);var At=i(6408),xt=i(2628);function _t(e,t){!function(e,t){if(t.has(e))throw new TypeError(\"Cannot initialize the same private elements twice on an object\")}(e,t),t.add(e)}const{BST_RESOURCE:St,BST_TIMER:Ot,END:Pt,FEATURE_NAME:Dt,FN_END:jt,FN_START:Ct,ADD_EVENT_LISTENER:It,PUSH_STATE:Rt,RESOURCE:Nt,RESOURCE_TIMING_BUFFER_FULL:kt,START:Lt,ORIG_EVENT:Ht}=xt,zt=\"clearResourceTimings\";var Mt=new WeakSet;class Bt extends v{constructor(t,r){if(super(t,r,Dt,!(arguments.length>2&&void 0!==arguments[2])||arguments[2]),_t(this,Mt),!g.il)return;const n=this.ee;this.timerEE=ze(n),this.rafEE=Fe(n),We(n),Qe(n),n.on(Ct,(function(e,t){e[0]instanceof Ht&&(this.bstStart=(0,u.z)())})),n.on(jt,(function(t,r){var i=t[0];i instanceof Ht&&(0,c.p)(\"bst\",[i,r,this.bstStart,(0,u.z)()],void 0,e.D.sessionTrace,n)})),this.timerEE.on(Ct,(function(e,t,r){this.bstStart=(0,u.z)(),this.bstType=r})),this.timerEE.on(jt,(function(t,r){(0,c.p)(Ot,[r,this.bstStart,(0,u.z)(),this.bstType],void 0,e.D.sessionTrace,n)})),this.rafEE.on(Ct,(function(){this.bstStart=(0,u.z)()})),this.rafEE.on(jt,(function(t,r){(0,c.p)(Ot,[r,this.bstStart,(0,u.z)(),\"requestAnimationFrame\"],void 0,e.D.sessionTrace,n)})),n.on(Rt+Lt,(function(e){this.time=(0,u.z)(),this.startPath=location.pathname+location.hash})),n.on(Rt+Pt,(function(t){(0,c.p)(\"bstHist\",[location.pathname+location.hash,this.startPath,this.time],void 0,e.D.sessionTrace,n)})),(0,At.W)()?((0,c.p)(St,[window.performance.getEntriesByType(\"resource\")],void 0,e.D.sessionTrace,n),function(){var t=new PerformanceObserver(((t,r)=>{var i=t.getEntries();(0,c.p)(St,[i],void 0,e.D.sessionTrace,n)}));try{t.observe({entryTypes:[\"resource\"]})}catch(e){}}()):window.performance[zt]&&window.performance[It]&&window.performance.addEventListener(kt,this.onResourceTimingBufferFull,(0,N.m$)(!1)),document.addEventListener(\"scroll\",this.noOp,(0,N.m$)(!1)),document.addEventListener(\"keypress\",this.noOp,(0,N.m$)(!1)),document.addEventListener(\"click\",this.noOp,(0,N.m$)(!1)),this.abortHandler=function(e,t,r){if(!t.has(e))throw new TypeError(\"attempted to get private field on non-instance\");return r}(this,Mt,Ft),this.importAggregator()}noOp(e){}onResourceTimingBufferFull(t){if((0,c.p)(St,[window.performance.getEntriesByType(Nt)],void 0,e.D.sessionTrace,this.ee),window.performance[zt])try{window.performance.removeEventListener(kt,this.onResourceTimingBufferFull,!1)}catch(e){}}}function Ft(){window.performance.removeEventListener(kt,this.onResourceTimingBufferFull,!1),this.abortHandler=void 0}!function(e,t,r){(t=function(e){var t=function(e,t){if(\"object\"!=typeof e||null===e)return e;var r=e[Symbol.toPrimitive];if(void 0!==r){var n=r.call(e,t||\"default\");if(\"object\"!=typeof n)return n;throw new TypeError(\"@@toPrimitive must return a primitive value.\")}return(\"string\"===t?String:Number)(e)}(e,\"string\");return\"symbol\"==typeof t?t:String(t)}(t))in e?Object.defineProperty(e,t,{value:r,enumerable:!0,configurable:!0,writable:!0}):e[t]=r}(Bt,\"featureName\",Dt);var Ut=i(6486);class Vt extends v{constructor(e,t){let r=!(arguments.length>2&&void 0!==arguments[2])||arguments[2];super(e,t,Ut.t,r),this.importAggregator()}}!function(e,t,r){(t=function(e){var t=function(e,t){if(\"object\"!=typeof e||null===e)return e;var r=e[Symbol.toPrimitive];if(void 0!==r){var n=r.call(e,t||\"default\");if(\"object\"!=typeof n)return n;throw new TypeError(\"@@toPrimitive must return a primitive value.\")}return(\"string\"===t?String:Number)(e)}(e,\"string\");return\"symbol\"==typeof t?t:String(t)}(t))in e?Object.defineProperty(e,t,{value:r,enumerable:!0,configurable:!0,writable:!0}):e[t]=r}(Vt,\"featureName\",Ut.t),new class{constructor(e){let t=arguments.length>1&&void 0!==arguments[1]?arguments[1]:(0,j.ky)(16);this.agentIdentifier=t,this.sharedAggregator=new x({agentIdentifier:this.agentIdentifier}),this.features={},this.desiredFeatures=new Set(e.features||[]),this.desiredFeatures.add(E),Object.assign(this,(0,a.j)(this.agentIdentifier,e,e.loaderType||\"agent\")),this.start()}get config(){return{info:(0,t.C5)(this.agentIdentifier),init:(0,t.P_)(this.agentIdentifier),loader_config:(0,t.DL)(this.agentIdentifier),runtime:(0,t.OP)(this.agentIdentifier)}}start(){const t=\"features\";try{const r=n(this.agentIdentifier),i=Array.from(this.desiredFeatures);i.sort(((t,r)=>e.p[t.featureName]-e.p[r.featureName])),i.forEach((t=>{if(r[t.featureName]||t.featureName===e.D.pageViewEvent){const e=(0,s.Z)(t.featureName),n=e.every((e=>r[e]));n||(0,p.Z)(\"\".concat(t.featureName,\" is enabled but one or more dependent features has been disabled (\").concat((0,C.P)(e),\"). This may cause unintended consequences or missing data...\")),this.features[t.featureName]=new t(this.agentIdentifier,this.sharedAggregator)}})),(0,D.Qy)(this.agentIdentifier,this.features,t)}catch(e){(0,p.Z)(\"Failed to initialize all enabled instrument classes (agent aborted) -\",e);for(const e in this.features)this.features[e].abortHandler?.();const r=(0,D.fP)();return delete r.initializedAgents[this.agentIdentifier]?.api,delete r.initializedAgents[this.agentIdentifier]?.[t],delete this.sharedAggregator,r.ee?.abort(),delete r.ee?.get(this.agentIdentifier),!1}}}({features:[E,ie,Bt,Tt,de,Vt,at],loaderType:\"pro\"})})(),window.NRBA=o})();</script>\n",
       "<meta content=\"width=device-width, initial-scale=1.0, maximum-scale=1, user-scalable=no\" name=\"viewport\"/>\n",
       "<meta content=\"                Lihat jadwal dan lokasi event ENHYP3N M4NIFESTO in DEPOK [contoh] yang tersedia. Dapatkan secara online hanya di Loket.com\n",
       "    \" name=\"description\"/>\n",
       "<meta content=\"Loket\" name=\"keywords\"/>\n",
       "<meta content=\"Loket.com\" name=\"author\"/>\n",
       "<meta content=\"ENHYP3N M4NIFESTO in DEPOK [contoh] | Loket.com\" property=\"og:title\"/>\n",
       "<meta content=\"article\" property=\"og:type\"/>\n",
       "<meta content=\"https://www.loket.com/event/enhyp3n-m4nifesto-in-depok-contoh-ugi4\" property=\"og:url\"/>\n",
       "<meta content=\"https://s3-ap-southeast-1.amazonaws.com/loket-production-sg/images/banner/20230327201848_642197b815a7d.jpg\" property=\"og:image\"/>\n",
       "<meta content=\"                        Lihat jadwal dan lokasi event ENHYP3N M4NIFESTO in DEPOK [contoh] yang tersedia. Dapatkan secara online hanya di Loket.com\n",
       "            \" property=\"og:description\"/>\n",
       "<meta content=\"7d54hr8oqbgnt1qydb9xa2mr6xprh8\" name=\"facebook-domain-verification\"/>\n",
       "<link href=\"https://www.loket.com/event/enhyp3n-m4nifesto-in-depok-contoh-ugi4\" rel=\"canonical\"/>\n",
       "<link href=\"https://www.loket.com/images/favicon/favicon.ico\" rel=\"icon\" sizes=\"16x16 24x24 32x32 48x48 64x64\"/>\n",
       "<meta content=\"width=device-width, initial-scale=1\" name=\"viewport\"/>\n",
       "<link as=\"font\" crossorigin=\"anonymous\" href=\"https://assets.loket.com/web/legacy/fonts/basiercircle/basiercircle-regular-webfont.woff2\" rel=\"preload\" type=\"font/woff2\"/>\n",
       "<link as=\"font\" crossorigin=\"anonymous\" href=\"https://assets.loket.com/web/legacy/fonts/basiercircle/basiercircle-medium-webfont.woff2\" rel=\"preload\" type=\"font/woff2\"/>\n",
       "<link as=\"font\" crossorigin=\"anonymous\" href=\"https://assets.loket.com/web/legacy/fonts/basiercircle/basiercircle-semibold-webfont.woff2\" rel=\"preload\" type=\"font/woff2\"/>\n",
       "<link as=\"font\" crossorigin=\"anonymous\" href=\"https://assets.loket.com/web/legacy/fonts/basiercircle/basiercircle-bold-webfont.woff2\" rel=\"preload\" type=\"font/woff2\"/>\n",
       "<link href=\"https://assets.loket.com/web/legacy/vendor/uikit/3.5.10/uikit.min.css\" rel=\"stylesheet\"/>\n",
       "<link href=\"https://www.loket.com/assets-v2/css/app.css?v=20230327001\" rel=\"stylesheet\"/>\n",
       "<link href=\"https://www.loket.com/assets-v2/css/kasablanka.css?v=20230327001\" rel=\"stylesheet\"/>\n",
       "<link href=\"https://www.loket.com/kasablanka/css/app-common.css?v=20230327001\" rel=\"stylesheet\"/>\n",
       "<link href=\"https://www.loket.com/kasablanka/css/loket-ui/core.css?v=20230327001\" rel=\"stylesheet\"/>\n",
       "<link href=\"https://www.loket.com/kasablanka/css/loket-ui/icons.css?v=20230327001\" rel=\"stylesheet\"/>\n",
       "<link href=\"https://www.loket.com/css/event-detail.css?v=20230327001\" rel=\"stylesheet\"/>\n",
       "<script>\n",
       "      window.RuntimeConfig = {\"ENABLE_EVENT_RECOMMENDATION\":false};\n",
       "      window.RuntimeVersion = {\"SILO\":{\"enabled\":true,\"useEncoder\":false},\"HIGHLIGHT\":{\"HERO\":{\"ver\":0,\"mode\":\"VERSION\"},\"HASHTAG\":{\"ver\":0,\"mode\":\"VERSION\"},\"BLOG\":{\"ver\":0,\"mode\":\"VERSION\"}},\"COMMON\":{\"FOOTER_LINKS\":{\"ver\":0,\"mode\":\"VERSION\"}},\"META\":{\"FORMAT\":{\"ver\":0,\"mode\":\"VERSION\"},\"TOPIC\":{\"ver\":0,\"mode\":\"VERSION\"}},\"DISCOVERY\":{\"LOCATION\":{\"ver\":0,\"mode\":\"VERSION\"},\"TIMERANGE\":{\"ver\":0,\"mode\":\"VERSION\"}},\"MIGRATION\":[]};\n",
       "      window.ROUTES = {\n",
       "        DISCOVERY: `https://www.loket.com/discover`,\n",
       "        SEARCH: `https://www.loket.com/search`,\n",
       "        BLOG: `https://www.loket.com/blog`\n",
       "      };\n",
       "    </script>\n",
       "<script>(function(w,d,s,l,i){w[l]=w[l]||[];w[l].push({'gtm.start':new Date().getTime(),event:'gtm.js'});var f=d.getElementsByTagName(s)[0],j=d.createElement(s),dl=l!='dataLayer'?'&l='+l:'';j.async=true;j.src='https://www.googletagmanager.com/gtm.js?id='+i+dl;f.parentNode.insertBefore(j,f);})(window,document,'script','dataLayer','GTM-NWLK6VF');</script>\n",
       "<script charset=\"UTF-8\" data-domain-script=\"c5077e77-46de-4052-a0e1-8dc035a4687c\" src=\"https://cdn-apac.onetrust.com/scripttemplates/otSDKStub.js\" type=\"text/javascript\"></script>\n",
       "<script type=\"text/javascript\">\n",
       "function OptanonWrapper() { }\n",
       "</script>\n",
       "<script>\n",
       "    const ID_EVENT_TOPIC = \"16\";\n",
       "    const ID_EVENT_ORGANIZER = \"EI9U\";\n",
       "    const ID_EVENT_CURRENT = \"UgI4\";\n",
       "\n",
       "    const ENABLE_EVENT_SECTION_BY_ORGANIZER = \"1\";\n",
       "    const ENABLE_EVENT_SECTION_RECOMMENDATION = \"1\";\n",
       "    const ENABLE_EVENT_SECTION_BY_TOPIC = \"1\";\n",
       "    const HIDE_EVENT_TIME = \"\";\n",
       "    const LANDING_MODE = \"\";\n",
       "\n",
       "    const isEventEnterprise = false;\n",
       "    const maxTicketPerInvoice = \"1\";\n",
       "    const hasModerated = \"\";\n",
       "    const isAllFreeTicket = \"1\";\n",
       "\n",
       "    var disabledCountdown = false;\n",
       "    var useCustomEventTimezone = 0;\n",
       "    var customEventTimezone = '';\n",
       "    var eventTopicUrl = \"https://www.loket.com/discover?t=16\";\n",
       "\n",
       "    const hasMultipleSchedules = false;\n",
       "    const cheapestTicketPrice = '';\n",
       "    const EVT_PASSPORT = {\"f\":13,\"e\":92125,\"t\":16,\"c\":271269,\"h\":[30207,35636,35637]};\n",
       "</script>\n",
       "</head>\n",
       "<body>\n",
       "<noscript><iframe height=\"0\" src=\"https://www.googletagmanager.com/ns.html?id=GTM-NWLK6VF\" style=\"display:none;visibility:hidden\" width=\"0\"></iframe></noscript>\n",
       "<div id=\"app\">\n",
       "<nav class=\"navbar uk-navbar-container navbar-new uk-navbar-transparent\" uk-navbar=\"\">\n",
       "<div class=\"uk-navbar-top\">\n",
       "<ul class=\"uk-navbar-nav\">\n",
       "<li class=\"navbar-link uk-visible@m\">\n",
       "<a href=\"https://www.loket.com/tentang-kami\">Tentang Loket</a>\n",
       "</li>\n",
       "<li class=\"navbar-link uk-visible@m\">\n",
       "<a href=\"https://www.loket.com/creator\">Mulai jadi Event Creator</a>\n",
       "</li>\n",
       "<li class=\"navbar-link uk-visible@m\">\n",
       "<a href=\"https://www.loket.com/pricing\">Biaya</a>\n",
       "</li>\n",
       "<li class=\"navbar-link uk-visible@m\">\n",
       "<a href=\"https://www.loket.com/blog\">Blog</a>\n",
       "</li>\n",
       "<li class=\"navbar-link uk-visible@m\">\n",
       "<a href=\"https://www.loket.com/hubungi-kami\">Hubungi Kami</a>\n",
       "</li>\n",
       "</ul>\n",
       "</div>\n",
       "<div class=\"uk-navbar-bottom\">\n",
       "<div class=\"uk-navbar-left\">\n",
       "<ul class=\"uk-navbar-nav\">\n",
       "<li class=\"uk-flex uk-flex-center uk-flex-middle uk-visible@m\">\n",
       "<a class=\"uk-navbar-item uk-logo\" href=\"/\">\n",
       "<img alt=\"Loket Horizontal Logo\" class=\"navbar-logo\" src=\"/images/logo-loket-white.png\"/></a>\n",
       "\n",
       "</li>\n",
       "<li class=\"uk-hidden@m\">\n",
       "<a class=\"uk-navbar-item\" href=\"/\">\n",
       "<img alt=\"Loket Small Logo\" src=\"/images/logo-loket-white.png\" width=\"90\"/>\n",
       "</a>\n",
       "</li>\n",
       "<li class=\"navbar-elastic-search-container uk-visible@m\">\n",
       "<div class=\"navbar-elastic-search-wrapper\">\n",
       "<form autocomplete=\"off\" class=\"navbar-elastic-search-form\" id=\"nes-form\">\n",
       "<div class=\"nes-category uk-hidden\">\n",
       "<div class=\"uk-inline\">\n",
       "<button class=\"uk-button uk-button-default\" type=\"button\">\n",
       "Kategori\n",
       "</button>\n",
       "<div class=\"uk-hidden\" uk-dropdown=\"mode: click\">\n",
       "<ul>\n",
       "<li>Music</li>\n",
       "<li>Film</li>\n",
       "<li>Olahraga</li>\n",
       "</ul>\n",
       "</div>\n",
       "</div>\n",
       "</div>\n",
       "<div class=\"nes-search\">\n",
       "<input class=\"uk-input\" id=\"nes-input\" placeholder=\"Cari event seru disini\" type=\"text\"/>\n",
       "<button class=\"button-reset uk-hidden\" id=\"nes-btn-reset\" type=\"button\"><span uk-icon=\"icon: close\"></span></button>\n",
       "<button class=\"button-search\" id=\"nes-btn-search\" type=\"button\">\n",
       "<img alt=\"Search\" id=\"nes-btn-search-icon\" src=\"/web/assets/img/search-new.svg\" uk-svg=\"\">\n",
       "<span class=\"uk-hidden\" id=\"nes-loading-icon\" uk-spinner=\"ratio: .7\"></span>\n",
       "</img></button>\n",
       "</div>\n",
       "</form>\n",
       "<div class=\"search-result-drop uk-hidden\" id=\"nes-result-drop\"></div>\n",
       "</div>\n",
       "</li>\n",
       "<li class=\"navbar-hashtags uk-visible@m\">\n",
       "<div class=\"hashtag\" data-section=\"navbar\" id=\"hashtag-container\">\n",
       "<a class=\"navbar-hashtag-anchor\" data-hashtag-identifier=\"0b0f8a31-317e-4a46-be55-94afbbad620c\" data-hashtag-name=\"I0hhbW1lcnNvbmljMjAyMw==\" data-hashtag-position=\"1\" href=\"https://www.loket.com/event/hammersonic-2023_b9Xg?utm_source=Organic&amp;utm_medium=Hashtag&amp;utm_campaign=2022hammersonic\" id=\"navbar-hashtag-anchor-0b0f8a31-317e-4a46-be55-94afbbad620c\">#Hammersonic2023</a>\n",
       "<a class=\"navbar-hashtag-anchor\" data-hashtag-identifier=\"9e2216f2-1f8f-403c-82c0-1ade4f4f8c16\" data-hashtag-name=\"I0xPS0VUTXVzaWs=\" data-hashtag-position=\"2\" href=\"https://loket.com/site/page-loketmusik?utm_source=Organic&amp;utm_medium=Hashtag&amp;utm_campaign=2023loketmusik2023\" id=\"navbar-hashtag-anchor-9e2216f2-1f8f-403c-82c0-1ade4f4f8c16\">#LOKETMusik</a>\n",
       "<a class=\"navbar-hashtag-anchor\" data-hashtag-identifier=\"7e093a40-eea1-4c96-b3a4-c4aa4b811415\" data-hashtag-name=\"I0xPS0VUSElUWg==\" data-hashtag-position=\"3\" href=\"https://www.loket.com/e/lokethitz?utm_source=Organic&amp;utm_medium=Hashtag&amp;utm_campaign=2023lokethitz\" id=\"navbar-hashtag-anchor-7e093a40-eea1-4c96-b3a4-c4aa4b811415\">#LOKETHITZ</a>\n",
       "<a class=\"navbar-hashtag-anchor\" data-hashtag-identifier=\"98eef06c-ad88-4be4-a4b8-57d864d66460\" data-hashtag-name=\"I3BILTFXb3JsZFRvdXI=\" data-hashtag-position=\"4\" href=\"https://www.loket.com/event/ph-1-world-tour-about-damn-time-in_UY4U1?utm_source=Organic&amp;utm_medium=Hashtag&amp;utm_campaign=2023ph1worldtour\" id=\"navbar-hashtag-anchor-98eef06c-ad88-4be4-a4b8-57d864d66460\">#pH-1WorldTour</a>\n",
       "</div>\n",
       "</li>\n",
       "</ul>\n",
       "</div>\n",
       "<div class=\"uk-navbar-right\">\n",
       "<ul class=\"navbar-desktop uk-navbar-nav\">\n",
       "<li class=\"auth-navbar-link-loader navbar-link-loader uk-visible@m\"></li>\n",
       "<li class=\"auth-navbar-link-loader navbar-link-loader uk-visible@m\"></li>\n",
       "<li class=\"auth-navbar-link-event navbar-link uk-visible@m uk-hidden\">\n",
       "<a href=\"/buat-event\" id=\"buat-event-anchor-desktop\">\n",
       "<img class=\"uk-preserve\" src=\"/web/assets/img/ic-schedule.svg\" uk-svg=\"\"/>\n",
       "Buat Event\n",
       "</a>\n",
       "</li>\n",
       "<li class=\"auth-navbar-link-discover navbar-link uk-visible@m uk-hidden\">\n",
       "<a href=\"/discover\" id=\"buat-event-anchor-desktop\">\n",
       "<img class=\"uk-preserve\" src=\"/web/assets/img/ic-compass.svg\" uk-svg=\"\"/>\n",
       "Jelajah\n",
       "</a>\n",
       "</li>\n",
       "<li class=\"auth-navbar-link-ticket navbar-link uk-visible@m uk-hidden\">\n",
       "<a href=\"/member/tiket-saya\">\n",
       "<img class=\"uk-preserve\" src=\"/web/assets/img/ic-ticket.svg\" uk-svg=\"\"/>\n",
       "Tiket Saya\n",
       "</a>\n",
       "</li>\n",
       "<li class=\"auth-navbar-button-container\">\n",
       "<div class=\"navbar-auth-button uk-hidden\">\n",
       "<div class=\"uk-width-1-2\">\n",
       "<button class=\"auth-signup-button uk-width-1-1 uk-button uk-button-small button-outline uk-margin-remove\">\n",
       "Daftar\n",
       "</button>\n",
       "</div>\n",
       "<div class=\"uk-width-1-2 uk-margin-small-left\">\n",
       "<button class=\"auth-signin-button uk-width-1-1 uk-button uk-button-primary uk-button-small uk-margin-remove\">\n",
       "Masuk\n",
       "</button>\n",
       "</div>\n",
       "</div>\n",
       "<div class=\"navbar-auth-button-loader\">\n",
       "<div class=\"rect-skeleton\"></div>\n",
       "<div class=\"rect-skeleton\"></div>\n",
       "</div>\n",
       "</li>\n",
       "<li class=\"auth-navbar-menu navbar-auth uk-flex uk-flex-middle uk-hidden\">\n",
       "<div class=\"navbar-auth-toggle uk-visible@m\" uk-toggle=\"\">\n",
       "<img alt=\"User avatar\" class=\"auth-toggle-user-icon\" src=\"/web/assets/img/avatar.svg\"/>\n",
       "<div class=\"auth-toggle-username\">\n",
       "<label></label>\n",
       "<img alt=\"User label\" src=\"/web/assets/img/ic-next-ios.svg\" uk-svg=\"\"/>\n",
       "</div>\n",
       "</div>\n",
       "<div class=\"navbar-auth-dropdown uk-navbar-dropdown uk-hidden\" uk-dropdown=\"delay-hide: 400\">\n",
       "<div class=\"navbar-auth-dropdown-menu\">\n",
       "<div class=\"auth-menu-top\">\n",
       "<div class=\"auth-menu-top-logged-in uk-hidden\">\n",
       "<div class=\"auth-switch uk-flex uk-flex-middle uk-hidden\">\n",
       "<div class=\"auth-switch-icon\">\n",
       "<img class=\"uk-preserve\" src=\"/web/assets/img/icon-protective.svg\" uk-svg=\"\">\n",
       "</img></div>\n",
       "<div class=\"auth-switch-label\">\n",
       "<label>Beralih ke akun</label>\n",
       "<label class=\"auth-switch-label-role\"></label>\n",
       "</div>\n",
       "<i class=\"icon icon-chevron-right\"></i>\n",
       "</div>\n",
       "<div class=\"auth-switch-loader\">\n",
       "<div class=\"auth-switch-loader-icon\">\n",
       "<div class=\"circle-skeleton\"></div>\n",
       "</div>\n",
       "<div class=\"auth-switch-loader-label\">\n",
       "<div class=\"rect-skeleton\"></div>\n",
       "<div class=\"rect-skeleton\"></div>\n",
       "</div>\n",
       "</div>\n",
       "</div>\n",
       "<div class=\"auth-mobile-menu-top-logged-in uk-hidden\">\n",
       "<div class=\"auth-mobile-menu-top-bg\">\n",
       "<img src=\"https://www.loket.com/images/loket-pattern.jpg\">\n",
       "</img></div>\n",
       "<div class=\"auth-mobile-menu-user\">\n",
       "<div class=\"auth-mobile-menu-user-avatar\">\n",
       "<img alt=\"User avatar\" id=\"auth-mobile-menu-avatar\" src=\"#\">\n",
       "</img></div>\n",
       "<div class=\"auth-mobile-menu-user-desc\">\n",
       "<div class=\"auth-mobile-user-title\">\n",
       "<h3 id=\"auth-mobile-menu-email\"></h3>\n",
       "<span></span>\n",
       "</div>\n",
       "<div class=\"auth-mobile-user-additional uk-hidden\" id=\"auth-mobile-user-additional-creator\">\n",
       "<div class=\"additional-icon\">\n",
       "<img src=\"/web/assets/img/icon-protective.svg\">\n",
       "</img></div>\n",
       "<div class=\"additional-description\">\n",
       "<label class=\"uk-flex\">\n",
       "Beralih ke akun \n",
       "<span>Pembeli</span>\n",
       "</label>\n",
       "<i class=\"icon icon-chevron-right\"></i>\n",
       "</div>\n",
       "</div>\n",
       "<div class=\"auth-mobile-user-additional uk-hidden\" id=\"auth-mobile-user-additional-buyer\">\n",
       "<div class=\"additional-icon\">\n",
       "<img src=\"/web/assets/img/icon-protective.svg\">\n",
       "</img></div>\n",
       "<div class=\"additional-description\" id=\"auth-mobile-upgrade-to-ec\">\n",
       "<label class=\"uk-flex\">\n",
       "Beralih ke akun \n",
       "<span>Event Creator</span>\n",
       "</label>\n",
       "<i class=\"icon icon-chevron-right\"></i>\n",
       "</div>\n",
       "</div>\n",
       "<div class=\"auth-mobile-user-progress uk-hidden\" id=\"auth-mobile-menu-progress\">\n",
       "<div class=\"progress-title\">\n",
       "<label>Ayo selesaikan misi! Lengkapi akun profilmu.</label>\n",
       "</div>\n",
       "<div class=\"progress-slider\">\n",
       "<div class=\"progress-slider-power\" id=\"auth-mobile-menu-slider-power\">\n",
       "<div class=\"power-count\"></div>\n",
       "</div>\n",
       "<span class=\"progress-slider-count\" id=\"auth-mobile-menu-slider-count\">0/3</span>\n",
       "</div>\n",
       "<div class=\"progress-personalization\">\n",
       "<div class=\"personalization-list\">\n",
       "<div class=\"personalization-item\" id=\"auth-mobile-menu-phone-verification\">\n",
       "<div class=\"personalization-item-desc\">\n",
       "<img class=\"desc-icon\" src=\"/web/assets/img/ic-phone-verification.svg\">\n",
       "<div class=\"desc-label\">\n",
       "<label>Verifikasi nomor ponselmu</label>\n",
       "</div>\n",
       "</img></div>\n",
       "<div class=\"personalization-item-button\">\n",
       "<a class=\"uk-button uk-button-primary uk-button-small\">\n",
       "Verifikasi\n",
       "</a>\n",
       "</div>\n",
       "</div>\n",
       "<div class=\"personalization-item\" id=\"auth-mobile-menu-basic-information\">\n",
       "<div class=\"personalization-item-desc\">\n",
       "<img class=\"desc-icon\" src=\"/web/assets/img/avatar.svg\"/>\n",
       "<div class=\"desc-label\">\n",
       "<label>Lengkapi detail informasi dasar</label>\n",
       "</div>\n",
       "</div>\n",
       "<div class=\"personalization-item-button\">\n",
       "<a class=\"uk-button uk-button-primary uk-button-small\" href=\"/member/profile\">\n",
       "Lengkapi\n",
       "</a>\n",
       "</div>\n",
       "</div>\n",
       "<div class=\"personalization-item\" id=\"auth-mobile-menu-legal-information\">\n",
       "<div class=\"personalization-item-desc\">\n",
       "<img class=\"desc-icon\" src=\"/web/assets/img/icon-search-search.svg\"/>\n",
       "<div class=\"desc-label\">\n",
       "<label>Lengkapi detail informasi legal</label>\n",
       "</div>\n",
       "</div>\n",
       "<div class=\"personalization-item-button\">\n",
       "<a class=\"uk-button uk-button-primary uk-button-small\" href=\"/member/profile/informasi-legal\">\n",
       "Lengkapi\n",
       "</a>\n",
       "</div>\n",
       "</div>\n",
       "</div>\n",
       "</div>\n",
       "</div>\n",
       "<div class=\"auth-mobile-user-progress on-loading\" id=\"auth-mobile-menu-progress-loader\">\n",
       "<div class=\"progress-title\">\n",
       "<div class=\"rect-skeleton\"></div>\n",
       "</div>\n",
       "<div class=\"progress-slider\">\n",
       "<span class=\"rect-skeleton\"></span>\n",
       "</div>\n",
       "<div class=\"progress-personalization\">\n",
       "<div class=\"personalization-list\">\n",
       "<div class=\"personalization-item\">\n",
       "<div class=\"personalization-item-desc\">\n",
       "<div class=\"desc-icon\">\n",
       "<div class=\"circle-skeleton\"></div>\n",
       "</div>\n",
       "<div class=\"desc-label\">\n",
       "<div class=\"rect-skeleton\"></div>\n",
       "<div class=\"rect-skeleton\"></div>\n",
       "</div>\n",
       "</div>\n",
       "<div class=\"personalization-item-button\">\n",
       "<div class=\"rect-skeleton\"></div>\n",
       "</div>\n",
       "</div>\n",
       "<div class=\"personalization-item\">\n",
       "<div class=\"personalization-item-desc\">\n",
       "<div class=\"desc-icon\">\n",
       "<div class=\"circle-skeleton\"></div>\n",
       "</div>\n",
       "<div class=\"desc-label\">\n",
       "<div class=\"rect-skeleton\"></div>\n",
       "<div class=\"rect-skeleton\"></div>\n",
       "</div>\n",
       "</div>\n",
       "<div class=\"personalization-item-button\">\n",
       "<div class=\"rect-skeleton\"></div>\n",
       "</div>\n",
       "</div>\n",
       "<div class=\"personalization-item\">\n",
       "<div class=\"personalization-item-desc\">\n",
       "<div class=\"desc-icon\">\n",
       "<div class=\"circle-skeleton\"></div>\n",
       "</div>\n",
       "<div class=\"desc-label\">\n",
       "<div class=\"rect-skeleton\"></div>\n",
       "<div class=\"rect-skeleton\"></div>\n",
       "</div>\n",
       "</div>\n",
       "<div class=\"personalization-item-button\">\n",
       "<div class=\"rect-skeleton\"></div>\n",
       "</div>\n",
       "</div>\n",
       "</div>\n",
       "</div>\n",
       "</div>\n",
       "</div>\n",
       "</div>\n",
       "</div>\n",
       "<div class=\"auth-menu-top-logged-out uk-hidden\">\n",
       "<div class=\"auth-menu-top-logged-out-title uk-width-1-1 uk-margin-small-bottom\">\n",
       "<h3 class=\"uk-margin-remove\">Masuk ke Akunmu</h3>\n",
       "<label>Untuk menggunakan semua fitur di Loket</label>\n",
       "</div>\n",
       "<div class=\"uk-grid uk-grid-small uk-child-width-1-2\" uk-grid=\"\">\n",
       "<div class=\"uk-width-1-2\">\n",
       "<a class=\"auth-signup-button uk-width-1-1 uk-button uk-button-small button-outline uk-margin-remove\">\n",
       "Daftar\n",
       "</a>\n",
       "</div>\n",
       "<div class=\"uk-width-1-2\">\n",
       "<a class=\"auth-signin-button uk-width-1-1 uk-button uk-button-primary uk-button-small uk-margin-remove\">\n",
       "Masuk\n",
       "</a>\n",
       "</div>\n",
       "</div>\n",
       "</div>\n",
       "<div class=\"auth-menu-top-loader\">\n",
       "<div class=\"rect-skeleton\"></div>\n",
       "<div class=\"rect-skeleton\"></div>\n",
       "</div>\n",
       "</div>\n",
       "<ul class=\"auth-menu-list-logged-in navbar-auth-dropdown-nav uk-nav uk-navbar-dropdown-nav uk-hidden\"></ul>\n",
       "<ul class=\"auth-menu-list-logged-out navbar-auth-dropdown-nav uk-nav uk-navbar-dropdown-nav\">\n",
       "<li class=\"uk-nav-divider\"></li>\n",
       "<li class=\"uk-flex uk-flex-middle uk-flex-between\">\n",
       "<a href=\"https://www.loket.com/tentang-kami\" target=\"_blank\">\n",
       "<img src=\"/web/assets/img/ic-loket-logo.svg\"/>\n",
       "Tentang Loket\n",
       "</a>\n",
       "</li>\n",
       "<li class=\"uk-flex uk-flex-middle uk-flex-between\">\n",
       "<a href=\"https://www.loket.com/creator\" target=\"_blank\">\n",
       "<img src=\"/web/assets/img/ic-event.svg\"/>\n",
       "Mulai jadi Event Creator\n",
       "</a>\n",
       "</li>\n",
       "<li class=\"uk-flex uk-flex-middle uk-flex-between\">\n",
       "<a href=\"https://www.loket.com/pricing\">\n",
       "<img src=\"/web/assets/img/ic-co-founding.svg\"/>\n",
       "Biaya\n",
       "</a>\n",
       "</li>\n",
       "<li class=\"uk-flex uk-flex-middle uk-flex-between\">\n",
       "<a href=\"https://www.loket.com/blog\">\n",
       "<img src=\"/web/assets/img/ic-notes.svg\"/>\n",
       "Blog\n",
       "</a>\n",
       "</li>\n",
       "<li class=\"uk-flex uk-flex-middle uk-flex-between\">\n",
       "<a href=\"/panduan\">\n",
       "<img src=\"/web/assets/img/ic-info.svg\"/>\n",
       "Panduan\n",
       "</a>\n",
       "</li>\n",
       "</ul>\n",
       "<ul class=\"auth-menu-list-loader navbar-auth-dropdown-nav uk-nav uk-navbar-dropdown-nav\">\n",
       "<li class=\"rect-skeleton\"></li>\n",
       "<li class=\"rect-skeleton\"></li>\n",
       "<li class=\"rect-skeleton\"></li>\n",
       "<li class=\"rect-skeleton\"></li>\n",
       "<li class=\"rect-skeleton\"></li>\n",
       "</ul>\n",
       "</div>\n",
       "</div>\n",
       "</li>\n",
       "</ul>\n",
       "<ul class=\"navbar-mobile uk-navbar-nav uk-hidden@m\">\n",
       "<li class=\"navbar-mobile-search\">\n",
       "<a id=\"btn-mobile-search-modal\">\n",
       "<img alt=\"Mobile Search\" height=\"20\" src=\"/web/assets/img/search-new.svg\" uk-svg=\"\"/>\n",
       "</a>\n",
       "</li>\n",
       "<li class=\"navbar-mobile-menu uk-hidden\">\n",
       "<a class=\"uk-padding-remove\" href=\"javascript:void(0);\">\n",
       "<img alt=\"Mobile Menu\" height=\"20\" src=\"/web/assets/img/icon-menu.svg\" uk-svg=\"\"/>\n",
       "</a>\n",
       "</li>\n",
       "<li class=\"navbar-mobile-close-menu\">\n",
       "<a class=\"uk-padding-remove\" href=\"javascript:void(0);\">\n",
       "<img alt=\"Close Menu\" height=\"14\" src=\"https://assets.loket.com/web/legacy/png/close-menu.png\" width=\"14\"/>\n",
       "</a>\n",
       "</li>\n",
       "<li class=\"navbar-mobile-menu-loader\"></li>\n",
       "</ul>\n",
       "</div>\n",
       "</div>\n",
       "<div class=\"uk-modal-full\" id=\"mobile-menu\" uk-modal=\"\">\n",
       "<div class=\"uk-modal-dialog uk-height-viewport mobile-menu\">\n",
       "<div class=\"uk-grid-collapse uk-child-width-1-1 uk-flex-middle\" uk-grid=\"\">\n",
       "<div class=\"mobile-menu-header\">\n",
       "<div class=\"uk-grid uk-grid-collapse uk-flex-middle\" uk-grid=\"\">\n",
       "<div class=\"uk-width-expand\">\n",
       "<img alt=\"Loket Small Logo\" height=\"24\" src=\"/images/logo-loket-white.png\" uk-svg=\"\" width=\"90\"/>\n",
       "</div>\n",
       "<div class=\"uk-width-auto\">\n",
       "<button class=\"uk-modal-close-full uk-close-default\" style=\"background: none; border: none;\" type=\"button\">\n",
       "<img alt=\"Close Menu\" height=\"14\" src=\"/web/assets/img/close-menu.png\" width=\"14\"/>\n",
       "</button>\n",
       "</div>\n",
       "</div>\n",
       "</div>\n",
       "</div>\n",
       "</div>\n",
       "</div>\n",
       "<div class=\"uk-modal-full\" id=\"elastic-mobile-search-modal\" uk-modal=\"\">\n",
       "<div class=\"uk-modal-dialog uk-height-1-1 elastic-mobile-search-menu\">\n",
       "<div class=\"header\">\n",
       "<div class=\"uk-grid uk-grid-small uk-flex-middle\" uk-grid=\"\">\n",
       "<div class=\"uk-width-auto\">\n",
       "<a href=\"#elastic-mobile-search-modal\" id=\"btn-mobile-search-modal-close\" uk-toggle=\"\"><img alt=\"Close Mobile Menu\" src=\"/web/assets/img/icon-mobile-search-close.svg\"/></a>\n",
       "</div>\n",
       "<div class=\"uk-width-expand\">\n",
       "<form autocomplete=\"off\" id=\"nes-form-mobile\">\n",
       "<div>\n",
       "<input class=\"uk-input\" id=\"nes-input-mobile\" placeholder=\"Cari acara seru disini\" type=\"text\"/>\n",
       "<button class=\"button-reset uk-hidden\" id=\"nes-btn-reset-mobile\" type=\"button\"><span uk-icon=\"icon: close\"></span></button>\n",
       "<button class=\"button-search\" id=\"nes-btn-search-mobile\" type=\"button\">\n",
       "<img alt=\"Search\" id=\"nes-btn-search-icon-mobile\" src=\"/web/assets/img/search-new.svg\" uk-svg=\"\">\n",
       "<span class=\"uk-hidden\" id=\"nes-loading-icon-mobile\" uk-spinner=\"ratio: .7\"></span>\n",
       "</img></button>\n",
       "</div>\n",
       "</form>\n",
       "</div>\n",
       "</div>\n",
       "</div>\n",
       "<div class=\"body\" id=\"nes-result-mobile\"></div>\n",
       "</div>\n",
       "</div>\n",
       "</nav>\n",
       "<div class=\"event-detail-container event-page\">\n",
       "<div class=\"event-detail-sticky-header\">\n",
       "<div class=\"sticky-header-wrapper\">\n",
       "<div class=\"sticky-header-tabs\">\n",
       "<label class=\"sticky-header-tab-item enterprise-header active\">DESKRIPSI</label>\n",
       "<label class=\"sticky-header-tab-item\">TIKET</label>\n",
       "</div>\n",
       "<div class=\"sticky-header-cart\">\n",
       "<div class=\"header-cart-amount\">\n",
       "<div class=\"header-cart-amount-label\">\n",
       "<label class=\"amount-label-qty\" id=\"header-qty-desktop\">Harga mulai dari <span id=\"header-qty-mobile\"></span></label>\n",
       "<label>Rp <span id=\"header-sub-total-price\">0</span></label>\n",
       "</div>\n",
       "<div class=\"header-cart-checkout\">\n",
       "<button class=\"button-min-width uk-button uk-button-primary rounded-button uk-box-shadow-small uk-width-1-1 uk-width-auto@m\" id=\"header-order-ticket\">\n",
       "Dapatkan Tiket\n",
       "</button>\n",
       "</div>\n",
       "</div>\n",
       "</div>\n",
       "</div>\n",
       "</div>\n",
       "<div class=\"event-detail-content-top\">\n",
       "<div class=\"event-detail-content-top-wrapper\">\n",
       "<div class=\"event-detail-breadcrumbs\">\n",
       "<ul class=\"event-detail-breadcrumbs-list\">\n",
       "<li class=\"event-detail-breadcrumbs-item\">\n",
       "<a href=\"/\">Home</a>\n",
       "<span class=\"inner-separator\">\n",
       "<img class=\"uk-preserve\" src=\"/web/assets/img/ic-next-ios.svg\" uk-svg=\"\">\n",
       "</img></span>\n",
       "</li>\n",
       "<li class=\"event-detail-breadcrumbs-item\">\n",
       "<a href=\"https://www.loket.com/discover?f=13\">\n",
       "Seminar, Talk Show\n",
       "</a>\n",
       "<span class=\"circle-separator\"></span>\n",
       "<a href=\"https://www.loket.com/discover?t=16\">\n",
       "Musik\n",
       "</a>\n",
       "</li>\n",
       "<li class=\"event-detail-breadcrumbs-item\">\n",
       "<span class=\"inner-separator\">\n",
       "<img class=\"uk-preserve\" src=\"/web/assets/img/ic-next-ios.svg\" uk-svg=\"\">\n",
       "</img></span>\n",
       "<label>ENHYP3N M4NIFESTO in DEPOK [contoh]</label>\n",
       "</li>\n",
       "</ul>\n",
       "</div>\n",
       "<div class=\"event-detail-banner\">\n",
       "<img alt=\"ENHYP3N M4NIFESTO in DEPOK [contoh]\" onerror=\"this.src='/images/banner-event.jpg';\" src=\"https://s3-ap-southeast-1.amazonaws.com/loket-production-sg/images/banner/20230327201848_642197b815a7d.jpg\"/>\n",
       "</div>\n",
       "<div class=\"event-detail-info\">\n",
       "<div class=\"event-detail-breadcrumbs\">\n",
       "<ul class=\"event-detail-breadcrumbs-list\">\n",
       "<li class=\"event-detail-breadcrumbs-item\">\n",
       "<a href=\"https://www.loket.com/discover?f=13\">\n",
       "Seminar, Talk Show\n",
       "</a>\n",
       "<span class=\"circle-separator\"></span>\n",
       "<a href=\"https://www.loket.com/discover?t=16\">\n",
       "Musik\n",
       "</a>\n",
       "</li>\n",
       "</ul>\n",
       "</div>\n",
       "<div class=\"info-title\">\n",
       "<h1 id=\"gt-event-name\">ENHYP3N M4NIFESTO in DEPOK [contoh]</h1>\n",
       "</div>\n",
       "<div class=\"info-additional\">\n",
       "<div class=\"event-date\">\n",
       "<img class=\"uk-preserve\" src=\"/web/assets/img/ic-calender.svg\" uk-svg=\"\">\n",
       "<label>28 Mar - 29 Mar 2023</label>\n",
       "</img></div>\n",
       "<div class=\"event-time\">\n",
       "<img class=\"uk-preserve\" src=\"/web/assets/img/ic-clock.svg\" uk-svg=\"\">\n",
       "<label class=\"time-event\"></label>\n",
       "</img></div>\n",
       "<div class=\"event-venue\">\n",
       "<img class=\"uk-preserve\" src=\"/web/assets/img/ic-location.svg\" uk-svg=\"\"/>\n",
       "<a href=\"https://www.google.com/maps/search/?api=1&amp;query=-6.37094,106.824\" target=\"_blank\">\n",
       "GEDUNG F POLITEKNIK NEGERI JAKARTA, Jawa Barat\n",
       "</a>\n",
       "</div>\n",
       "<div class=\"event-organizer-mobile\">\n",
       "<div class=\"organizer-avatar\">\n",
       "<img class=\"uk-border-circle\" onerror=\"this.src='../../images/default-logo-organization.png';\" src=\"https://s3-ap-southeast-1.amazonaws.com/loket-production-sg/images/organization/20230327201850_642197ba0a975.jpg\"/>\n",
       "</div>\n",
       "<div class=\"organizer-name\">\n",
       "<span>Diselenggarakan oleh</span>\n",
       "<a href=\"https://www.loket.com/o/lkt-RUk5VQ\">\n",
       "Engene Depok\n",
       "</a>\n",
       "</div>\n",
       "</div>\n",
       "</div>\n",
       "<div class=\"info-organizer\">\n",
       "<div class=\"info-organizer-top\">\n",
       "<div class=\"organizer-avatar\">\n",
       "<img class=\"uk-border-circle\" onerror=\"this.src='../../images/default-logo-organization.png';\" src=\"https://s3-ap-southeast-1.amazonaws.com/loket-production-sg/images/organization/20230327201850_642197ba0a975.jpg\"/>\n",
       "</div>\n",
       "<div class=\"organizer-name\">\n",
       "<span>Diselenggarakan oleh</span>\n",
       "<a href=\"https://www.loket.com/o/lkt-RUk5VQ\">\n",
       "Engene Depok\n",
       "</a>\n",
       "</div>\n",
       "</div>\n",
       "</div>\n",
       "</div> </div>\n",
       "</div>\n",
       "<div class=\"event-detail-content-main\">\n",
       "<div class=\"event-detail-content-main-wrapper\">\n",
       "<div class=\"event-detail-left\">\n",
       "<div class=\"event-detail-info\">\n",
       "<div class=\"event-detail-breadcrumbs\">\n",
       "<ul class=\"event-detail-breadcrumbs-list\">\n",
       "<li class=\"event-detail-breadcrumbs-item\">\n",
       "<a href=\"https://www.loket.com/discover?f=13\">\n",
       "Seminar, Talk Show\n",
       "</a>\n",
       "<span class=\"circle-separator\"></span>\n",
       "<a href=\"https://www.loket.com/discover?t=16\">\n",
       "Musik\n",
       "</a>\n",
       "</li>\n",
       "</ul>\n",
       "</div>\n",
       "<div class=\"info-title\">\n",
       "<h1 id=\"gt-event-name\">ENHYP3N M4NIFESTO in DEPOK [contoh]</h1>\n",
       "</div>\n",
       "<div class=\"info-additional\">\n",
       "<div class=\"event-date\">\n",
       "<img class=\"uk-preserve\" src=\"/web/assets/img/ic-calender.svg\" uk-svg=\"\"/>\n",
       "<label>28 Mar - 29 Mar 2023</label>\n",
       "</div>\n",
       "<div class=\"event-time\">\n",
       "<img class=\"uk-preserve\" src=\"/web/assets/img/ic-clock.svg\" uk-svg=\"\"/>\n",
       "<label class=\"time-event\"></label>\n",
       "</div>\n",
       "<div class=\"event-venue\">\n",
       "<img class=\"uk-preserve\" src=\"/web/assets/img/ic-location.svg\" uk-svg=\"\"/>\n",
       "<a href=\"https://www.google.com/maps/search/?api=1&amp;query=-6.37094,106.824\" target=\"_blank\">\n",
       "GEDUNG F POLITEKNIK NEGERI JAKARTA, Jawa Barat\n",
       "</a>\n",
       "</div>\n",
       "<div class=\"event-organizer-mobile\">\n",
       "<div class=\"organizer-avatar\">\n",
       "<img class=\"uk-border-circle\" onerror=\"this.src='../../images/default-logo-organization.png';\" src=\"https://s3-ap-southeast-1.amazonaws.com/loket-production-sg/images/organization/20230327201850_642197ba0a975.jpg\"/>\n",
       "</div>\n",
       "<div class=\"organizer-name\">\n",
       "<span>Diselenggarakan oleh</span>\n",
       "<a href=\"https://www.loket.com/o/lkt-RUk5VQ\">\n",
       "Engene Depok\n",
       "</a>\n",
       "</div>\n",
       "</div>\n",
       "</div>\n",
       "<div class=\"info-organizer\">\n",
       "<div class=\"info-organizer-top\">\n",
       "<div class=\"organizer-avatar\">\n",
       "<img class=\"uk-border-circle\" onerror=\"this.src='../../images/default-logo-organization.png';\" src=\"https://s3-ap-southeast-1.amazonaws.com/loket-production-sg/images/organization/20230327201850_642197ba0a975.jpg\"/>\n",
       "</div>\n",
       "<div class=\"organizer-name\">\n",
       "<span>Diselenggarakan oleh</span>\n",
       "<a href=\"https://www.loket.com/o/lkt-RUk5VQ\">\n",
       "Engene Depok\n",
       "</a>\n",
       "</div>\n",
       "</div>\n",
       "</div>\n",
       "</div>\n",
       "<div class=\"event-detail-description\">\n",
       "<ul class=\"description-tab\" id=\"event-details\" uk-tab=\"\">\n",
       "<li class=\"description-tab-item\">\n",
       "<a href=\"#\">\n",
       "Deskripsi\n",
       "</a>\n",
       "</li>\n",
       "<li class=\"description-tab-item\" id=\"gt-kategori-tiket\">\n",
       "<a href=\"#\">\n",
       "Tiket\n",
       "</a>\n",
       "</li>\n",
       "</ul>\n",
       "<ul class=\"uk-switcher description-panel\">\n",
       "<li class=\"description-panel-item\">\n",
       "<div class=\"description-panel-section\">\n",
       "<p>ENHYP3N M4NIFESTO in DEPOK is the first Talkshow that performed in Depok Area with limited capacity only for ENGENE DEPOK.</p>\n",
       "</div>\n",
       "<div class=\"description-panel-section\" id=\"tnc-detail\">\n",
       "<p class=\"description-panel-title\">Syarat &amp; Ketentuan</p>\n",
       "<div>\n",
       "<ul>\n",
       "<li>ENGENE only</li>\n",
       "<li>Allowed from 00L - 05L</li>\n",
       "<li>Done Vaccination dosis </li>\n",
       "</ul>\n",
       "</div>\n",
       "</div>\n",
       "<div class=\"custom-tags description-panel-section\" id=\"tags\">\n",
       "<p class=\"description-panel-title\">Label</p>\n",
       "<div class=\"custom-tags-list\">\n",
       "<span class=\"custom-tags-item\">KpopEvent</span>\n",
       "<span class=\"custom-tags-item\">ENHYP3N</span>\n",
       "<span class=\"custom-tags-item\">M4NIFESTO</span>\n",
       "</div>\n",
       "</div>\n",
       "</li>\n",
       "<li class=\"description-panel-item\">\n",
       "<div class=\"event-detail-ticket non-enterprise\">\n",
       "<div class=\"event-detail-ticket-list\">\n",
       "<div class=\"ticket-item disabled\">\n",
       "<div class=\"ticket-item-top\">\n",
       "<div class=\"ticket-name\" id=\"ticket-name-237322\">\n",
       "ENHYP3N M4NIFESTO in DEPOK\n",
       "</div>\n",
       "<div class=\"ticket-description\">\n",
       "Kpop Event for Engene Depok Area\n",
       "</div>\n",
       "<div class=\"ticket-description-expand uk-hidden\">\n",
       "<i class=\"icon icon-chevron-right down\"></i>\n",
       "</div>\n",
       "<div class=\"ticket-schedule\">\n",
       "<img class=\"uk-preserve\" src=\"/web/assets/img/ic-clock-filled.svg\" uk-svg=\"\"/>\n",
       "<p>\n",
       "Berakhir\n",
       "<span class=\"end-sale\">2023-03-28 08:00:00</span>\n",
       "</p>\n",
       "</div>\n",
       "</div>\n",
       "<div class=\"ticket-item-bottom\">\n",
       "<div class=\"ticket-price\">\n",
       "<div class=\"ticket-price-main\">\n",
       "<b>GRATIS</b>\n",
       "</div>\n",
       "</div>\n",
       "<div class=\"ticket-status\">\n",
       "<p class=\"expired\">SALE ENDED</p>\n",
       "</div>\n",
       "</div>\n",
       "<div class=\"ticket-item-data\">\n",
       "<input id=\"ticket-price-237322\" type=\"hidden\" value=\"0\"/>\n",
       "<input id=\"ticket-payw-237322\" type=\"hidden\" value=\"\"/>\n",
       "<input class=\"id-ticket\" id=\"ticket-id-237322\" type=\"hidden\" value=\"237322\"/>\n",
       "<input id=\"ticket-type-237322\" type=\"hidden\" value=\"ENHYP3N M4NIFESTO in DEPOK\"/>\n",
       "<input id=\"max-buy-qty-237322\" type=\"hidden\" value=\"1\"/>\n",
       "<input id=\"available-qty-237322\" type=\"hidden\" value=\"99\"/>\n",
       "</div>\n",
       "</div> </div>\n",
       "</div>\n",
       "</li>\n",
       "</ul>\n",
       "</div>\n",
       "<div class=\"event-detail-organization-suggestions\">\n",
       "<div class=\"event-suggestions-organization uk-hidden\" id=\"section-event-by-organization\">\n",
       "<div class=\"event-page-related-section\">\n",
       "<div class=\"event-suggestions-organization-wrapper\">\n",
       "<div class=\"uk-width-expand\">\n",
       "<h2 class=\"title uk-margin-remove\">Lainnya dari Engene Depok</h2>\n",
       "</div>\n",
       "<div class=\"uk-width-auto uk-hidden\" id=\"see-all-event-by-organization\">\n",
       "<a class=\"more uk-flex uk-flex-middle uk-flex-end\" href=\"https://www.loket.com/o/lkt-RUk5VQ\">\n",
       "Lihat semua\n",
       "<img src=\"/web/assets/img/ic-next-ios.svg\" uk-svg=\"\"/>\n",
       "</a>\n",
       "</div>\n",
       "<div class=\"event-suggestions-organization-slider uk-width-1-1\">\n",
       "<div uk-slider=\"finite: true\">\n",
       "<div class=\"uk-slider-container uk-slider-container-offset-tweak uk-position-relative\">\n",
       "<div class=\"event-suggestions-organization-content uk-position-relative uk-overflow-hidden\">\n",
       "<ul class=\"uk-slider-items uk-child-width-1-3 uk-grid-small\" id=\"list-event-by-organization\" uk-grid=\"\"></ul>\n",
       "</div>\n",
       "</div>\n",
       "</div>\n",
       "</div>\n",
       "</div>\n",
       "</div>\n",
       "</div>\n",
       "</div>\n",
       "</div>\n",
       "<div class=\"event-detail-right\">\n",
       "<div class=\"content-right-sticky\">\n",
       "<div class=\"event-detail-cart free-ticket\">\n",
       "<div class=\"event-detail-cart-list\" id=\"cart-ticket-name\">\n",
       "<div class=\"event-detail-cart-item\">\n",
       "<img class=\"uk-preserve\" src=\"/web/assets/img/ic-ticket-widget.svg\" uk-svg=\"\"/>\n",
       "<span>Kamu belum memilih tiket. Silakan pilih lebih dulu di tab menu TIKET.</span>\n",
       "</div>\n",
       "</div>\n",
       "<div class=\"event-detail-cart-amount\">\n",
       "<div class=\"event-detail-cart-amount-label\">\n",
       "<label class=\"amount-label-qty\" id=\"qty-desktop\">Harga mulai dari <span id=\"qty-mobile\"></span></label>\n",
       "<label>Rp <span id=\"sub-total-price\">0</span></label>\n",
       "</div>\n",
       "<div class=\"event-detail-cart-checkout\">\n",
       "<button class=\"button-min-width uk-button uk-button-primary rounded-button uk-box-shadow-small uk-width-1-1 uk-width-auto@m\" id=\"order-ticket\">\n",
       "Dapatkan Tiket\n",
       " </button>\n",
       "</div>\n",
       "</div>\n",
       "</div>\n",
       "<div class=\"shares\">\n",
       "<div class=\"shares-title\">\n",
       "Bagikan Event\n",
       "</div>\n",
       "<div class=\"shares-list\">\n",
       "<div class=\"shares-item\">\n",
       "<a href=\"http://www.facebook.com/sharer.php?u=https://www.loket.com/event/enhyp3n-m4nifesto-in-depok-contoh-ugi4\" target=\"_blank\">\n",
       "<i class=\"ai ai-facebook2\"></i>\n",
       "</a>\n",
       "</div>\n",
       "<div class=\"shares-item\">\n",
       "<a href=\"https://twitter.com/share?url=https://www.loket.com/event/enhyp3n-m4nifesto-in-depok-contoh-ugi4&amp;text=ENHYP3N M4NIFESTO in DEPOK [contoh]\" target=\"_blank\">\n",
       "<i class=\"ai ai-twitter\"></i>\n",
       "</a>\n",
       "</div>\n",
       "<div class=\"shares-item\">\n",
       "<a href=\"#\" onclick=\"copyToClipboard('#toCopy'); return false;\">\n",
       "<i class=\"ai ai-share\"></i>\n",
       "<p id=\"toCopy\" style=\"display: none\">https://www.loket.com/event/enhyp3n-m4nifesto-in-depok-contoh-ugi4</p>\n",
       "</a>\n",
       "</div>\n",
       "</div>\n",
       "</div>\n",
       "</div> </div>\n",
       "</div>\n",
       "<div class=\"event-suggestions\">\n",
       "<div class=\"event-suggestions-recommendation uk-hidden\" id=\"section-event-recommendation\">\n",
       "<div class=\"event-page-related-section\">\n",
       "<div class=\"uk-grid uk-grid-small uk-flex-middle\" uk-grid=\"\">\n",
       "<div class=\"uk-width-1-1\">\n",
       "<h2 class=\"title\">Rekomendasi untukmu</h2>\n",
       "</div>\n",
       "<div class=\"uk-width-1-1\">\n",
       "<div uk-slider=\"finite: true\">\n",
       "<div class=\"uk-slider-container uk-slider-container-offset-tweak uk-position-relative\">\n",
       "<div class=\"event-suggestions-recommendation-content uk-position-relative uk-overflow-hidden\">\n",
       "<ul class=\"uk-slider-items uk-child-width-1-4 uk-grid-small\" id=\"list-event-recommendation\" uk-grid=\"\"></ul>\n",
       "</div>\n",
       "<div id=\"list-event-recommendation-nav\"></div>\n",
       "</div>\n",
       "</div>\n",
       "</div>\n",
       "</div>\n",
       "</div>\n",
       "</div>\n",
       "<div class=\"event-suggestions-topic uk-hidden\" id=\"section-event-by-topic\">\n",
       "<div class=\"event-page-related-section\">\n",
       "<div class=\"uk-grid uk-grid-small uk-flex-middle\" uk-grid=\"\">\n",
       "<div class=\"uk-width-expand\">\n",
       "<h2 class=\"title\">Mungkin kamu suka</h2>\n",
       "</div>\n",
       "<div class=\"uk-width-auto uk-hidden\" id=\"see-all-event-by-topic\">\n",
       "<a class=\"more uk-flex uk-flex-middle uk-flex-end\" href=\"https://www.loket.com/discover?t=16\">\n",
       "Lihat semua\n",
       "<img loading=\"lazy\" src=\"/web/assets/img/ic-next-ios.svg\" uk-svg=\"\"/>\n",
       "</a>\n",
       "</div>\n",
       "<div class=\"uk-width-1-1\">\n",
       "<div uk-slider=\"finite: true\">\n",
       "<div class=\"uk-slider-container uk-slider-container-offset-tweak uk-position-relative\">\n",
       "<div class=\"event-suggestions-topic-content uk-position-relative uk-overflow-hidden\">\n",
       "<ul class=\"uk-slider-items uk-child-width-1-4 uk-grid-small\" id=\"list-event-by-topic\" uk-grid=\"\"></ul>\n",
       "</div>\n",
       "<div id=\"list-event-by-topic-nav\"></div>\n",
       "</div>\n",
       "</div>\n",
       "</div>\n",
       "</div>\n",
       "</div>\n",
       "</div>\n",
       "</div> </div>\n",
       "<div class=\"event-detail-metadata\">\n",
       "<input id=\"start-date\" type=\"hidden\" value=\"2023-03-28 08:30:00\"/>\n",
       "<input id=\"end-date\" type=\"hidden\" value=\"2023-03-29 12:00:00\"/>\n",
       "<input id=\"id-event\" type=\"hidden\" value=\"UgI4\"/>\n",
       "</div>\n",
       "</div>\n",
       "<div class=\"footer-main\">\n",
       "<div class=\"uk-container uk-flex uk-flex-column\">\n",
       "<div class=\"uk-margin-medium-top uk-margin-bottom\" uk-grid=\"\">\n",
       "<div class=\"ss-text-white uk-margin-medium-top uk-width-1-5@m uk-width-2-5\">\n",
       "<b>Tentang Loket</b>\n",
       "<ul>\n",
       "<li>\n",
       "<a class=\"uk-link-reset\" href=\"https://www.loket.com/login\">\n",
       "Masuk\n",
       "</a>\n",
       "</li>\n",
       "<li>\n",
       "<a class=\"uk-link-reset\" href=\"https://www.loket.com/pricing\">\n",
       "Biaya\n",
       "</a>\n",
       "</li>\n",
       "<li>\n",
       "<a class=\"uk-link-reset\" href=\"https://www.loket.com/event-creator-center\">\n",
       "Event Creator Center\n",
       "</a>\n",
       "</li>\n",
       "<li>\n",
       "<a class=\"uk-link-reset\" href=\"https://www.loket.com/distribution-program\">\n",
       "LOKET Distribution Program\n",
       "</a>\n",
       "</li>\n",
       "<li>\n",
       "<a class=\"uk-link-reset\" href=\"https://www.loket.com/event\">\n",
       "Lihat Event\n",
       "</a>\n",
       "</li>\n",
       "<li>\n",
       "<a class=\"uk-link-reset\" href=\"https://www.loket.com/panduan\">\n",
       "FAQ\n",
       "</a>\n",
       "</li>\n",
       "<li>\n",
       "<a class=\"uk-link-reset\" href=\"https://www.loket.com/terms\">\n",
       "Syarat dan Ketentuan\n",
       "</a>\n",
       "</li>\n",
       "<li>\n",
       "<a class=\"uk-link-reset\" href=\"https://www.loket.com/laporan-kesalahan-sistem\">\n",
       "Laporan Kesalahan Sistem\n",
       "</a>\n",
       "</li>\n",
       "</ul>\n",
       "</div>\n",
       "<div class=\"ss-text-white uk-margin-medium-top uk-width-expand@m uk-width-3-5\">\n",
       "<b>Rayakan Eventmu</b>\n",
       "<ul>\n",
       "<li>\n",
       "<a class=\"uk-link-reset\" href=\"https://www.loket.com/blog/cara-mudah-buat-event\">\n",
       "Cara Mempersiapkan Event\n",
       "</a>\n",
       "</li>\n",
       "<li>\n",
       "<a class=\"uk-link-reset\" href=\"https://www.loket.com/blog/cara-membuat-event\">\n",
       "Cara Membuat Event Agar Sukses\n",
       "</a>\n",
       "</li>\n",
       "<li>\n",
       "<a class=\"uk-link-reset\" href=\"https://www.loket.com/blog/lomba-17-agustus\">\n",
       "Cara Membuat Event Lomba\n",
       "</a>\n",
       "</li>\n",
       "<li>\n",
       "<a class=\"uk-link-reset\" href=\"https://www.loket.com/blog/strategi-sosial-media-event\">\n",
       "Cara Mempublikasikan Event\n",
       "</a>\n",
       "</li>\n",
       "<li>\n",
       "<a class=\"uk-link-reset\" href=\"https://www.loket.com/blog/solusi-konser-musik-kacau\">\n",
       "Cara Membuat Event Musik\n",
       "</a>\n",
       "</li>\n",
       "<li>\n",
       "<a class=\"uk-link-reset\" href=\"https://www.loket.com/blog/bikin-event-page-maksimal\">\n",
       "Cara Mengelola Event\n",
       "</a>\n",
       "</li>\n",
       "<li>\n",
       "<a class=\"uk-link-reset\" href=\"https://www.loket.com/blog/konsep-event-ala-hollywood\">\n",
       "Cara Membuat Konsep Acara yang Menarik\n",
       "</a>\n",
       "</li>\n",
       "<li>\n",
       "<a class=\"uk-link-reset\" href=\"https://www.loket.com/blog/konsep-coworking-space\">\n",
       "Cara Membuat Event di Co-Working Space\n",
       "</a>\n",
       "</li>\n",
       "</ul>\n",
       "</div>\n",
       "<div class=\"ss-text-white uk-margin-medium-top uk-width-1-5@m uk-width-2-5\">\n",
       "<b>Lokasi Event</b>\n",
       "<ul>\n",
       "<li>\n",
       "<a class=\"uk-link-reset\" href=\"https://www.loket.com/discover?p=6\">\n",
       "Jakarta\n",
       "</a>\n",
       "</li>\n",
       "<li>\n",
       "<a class=\"uk-link-reset\" href=\"https://www.loket.com/discover?d=78\">\n",
       "Bandung\n",
       "</a>\n",
       "</li>\n",
       "<li>\n",
       "<a class=\"uk-link-reset\" href=\"https://www.loket.com/discover?d=37\">\n",
       "Yogyakarta\n",
       "</a>\n",
       "</li>\n",
       "<li>\n",
       "<a class=\"uk-link-reset\" href=\"https://www.loket.com/discover?d=159\">\n",
       "Surabaya\n",
       "</a>\n",
       "</li>\n",
       "<li>\n",
       "<a class=\"uk-link-reset\" href=\"https://www.loket.com/discover?d=121\">\n",
       "Solo\n",
       "</a>\n",
       "</li>\n",
       "<li>\n",
       "<a class=\"uk-link-reset\" href=\"https://www.loket.com/discover?d=461\">\n",
       "Medan\n",
       "</a>\n",
       "</li>\n",
       "<li>\n",
       "<a class=\"uk-link-reset\" href=\"https://www.loket.com/discover?p=1\">\n",
       "Bali\n",
       "</a>\n",
       "</li>\n",
       "<li>\n",
       "<a class=\"uk-link-reset\" href=\"https://www.loket.com/discover\">\n",
       "Semua Kota\n",
       "</a>\n",
       "</li>\n",
       "</ul>\n",
       "</div>\n",
       "<div class=\"ss-text-white uk-margin-medium-top uk-width-1-5@m uk-width-2-5\">\n",
       "<b>Inspirasi Event</b>\n",
       "<ul>\n",
       "<li>\n",
       "<a class=\"uk-link-reset\" href=\"https://www.loket.com/discover?f=2&amp;page=1\">\n",
       "Festival\n",
       "</a>\n",
       "</li>\n",
       "<li>\n",
       "<a class=\"uk-link-reset\" href=\"https://www.loket.com/discover?f=3&amp;page=1\">\n",
       "Konser\n",
       "</a>\n",
       "</li>\n",
       "<li>\n",
       "<a class=\"uk-link-reset\" href=\"https://www.loket.com/discover?f=4&amp;page=1\">\n",
       "Olahraga\n",
       "</a>\n",
       "</li>\n",
       "<li>\n",
       "<a class=\"uk-link-reset\" href=\"https://www.loket.com/discover?f=7&amp;page=1\">\n",
       "Workshop &amp; Seminar\n",
       "</a>\n",
       "</li>\n",
       "<li>\n",
       "<a class=\"uk-link-reset\" href=\"https://www.loket.com/discover?f=9&amp;page=1\">\n",
       "Teater &amp; Drama\n",
       "</a>\n",
       "</li>\n",
       "<li>\n",
       "<a class=\"uk-link-reset\" href=\"https://www.loket.com/discover?f=10&amp;page=1\">\n",
       "Atraksi\n",
       "</a>\n",
       "</li>\n",
       "<li>\n",
       "<a class=\"uk-link-reset\" href=\"https://www.loket.com/discover?utm_source=Organic&amp;utm_medium=Footer&amp;utm_campaign=2021semuakategori\">\n",
       "Semua Kategori\n",
       "</a>\n",
       "</li>\n",
       "</ul>\n",
       "</div>\n",
       "</div>\n",
       "<div class=\"uk-flex-center uk-child-width-auto uk-margin-medium-bottom\" uk-grid=\"\">\n",
       "<div>\n",
       "<a class=\"uk-link-reset\" href=\"https://www.facebook.com/loketcom/\" rel=\"noreferrer\" target=\"_blank\">\n",
       "<img alt=\"facebook Loket\" src=\"https://assets.loket.com/web/legacy/img/social/logo-socmed-fb.svg\"/>\n",
       "</a>\n",
       "</div>\n",
       "<div>\n",
       "<a class=\"uk-link-reset\" href=\"https://www.instagram.com/loketcom/\" rel=\"noreferrer\" target=\"_blank\">\n",
       "<img alt=\"instagram Loket\" src=\"https://assets.loket.com/web/legacy/img/social/logo-socmed-ig.svg\"/>\n",
       "</a>\n",
       "</div>\n",
       "<div>\n",
       "<a class=\"uk-link-reset\" href=\"https://twitter.com/loketcom\" rel=\"noreferrer\" target=\"_blank\">\n",
       "<img alt=\"twitter Loket\" src=\"https://assets.loket.com/web/legacy/img/social/logo-socmed-twtr.svg\"/>\n",
       "</a>\n",
       "</div>\n",
       "<div>\n",
       "<a class=\"uk-link-reset\" href=\"https://www.linkedin.com/company/7066732/\" rel=\"noreferrer\" target=\"_blank\">\n",
       "<img alt=\"linkedin Loket\" src=\"https://assets.loket.com/web/legacy/img/social/logo-socmed-lnkdin.svg\"/>\n",
       "</a>\n",
       "</div>\n",
       "<div>\n",
       "<a class=\"uk-link-reset\" href=\"https://www.youtube.com/channel/UCt_cysqIHWH3yl7RhI5zVrw\" rel=\"noreferrer\" target=\"_blank\">\n",
       "<img alt=\"youtube Loket\" src=\"https://assets.loket.com/web/legacy/img/social/logo-socmed-yt.svg\"/>\n",
       "</a>\n",
       "</div>\n",
       "</div>\n",
       "</div>\n",
       "</div>\n",
       "<div class=\"footer-bottom\">\n",
       "<p class=\"uk-text-center ss-text-white uk-margin-remove\">\n",
       "<a class=\"uk-link-reset\" href=\"/tentang-kami\">Tentang Kami</a> • <a class=\"uk-link-reset\" href=\"/blog\">Blog</a> • <a class=\"uk-link-reset\" href=\"/karir\">Karir</a> • <a class=\"uk-link-reset\" href=\"/kebijakan-privasi\">Kebijakan Privasi</a> • <a class=\"uk-link-reset\" href=\"/id-id/cookies\">Kebijakan Cookie</a> • <a class=\"uk-link-reset\" href=\"/panduan\">Panduan</a> • <a class=\"uk-link-reset\" href=\"/hubungi-kami\">Hubungi Kami</a> • <a class=\"uk-link-reset optanon-show-settings\" href=\"javascript: void(0);\">Pengaturan Cookie</a> </p>\n",
       "</div> <div class=\"navbar-bottom\">\n",
       "<div class=\"navbar-bottom-link uk-hidden\" id=\"auth-navbar-bottom-tb\">\n",
       "<a href=\"/\">\n",
       "<img alt=\"Loket homepage\" src=\"/web/assets/img/ic-home.svg\" uk-svg=\"\">\n",
       "<span>Beranda</span>\n",
       "</img></a>\n",
       "<a href=\"/discover\">\n",
       "<img alt=\"Loket discover\" src=\"/web/assets/img/ic-compass.svg\" uk-svg=\"\">\n",
       "<span>Jelajah</span>\n",
       "</img></a>\n",
       "<a href=\"/member/tiket-saya\">\n",
       "<img alt=\"Loket tiket saya\" src=\"/web/assets/img/ic-ticket.svg\" uk-svg=\"\">\n",
       "<span>Tiket Saya</span>\n",
       "</img></a>\n",
       "</div>\n",
       "<div class=\"navbar-bottom-link uk-hidden\" id=\"auth-navbar-bottom-ec\">\n",
       "<a href=\"/member\">\n",
       "<img alt=\"Loket member\" src=\"/web/assets/img/ic-dashboard.svg\" uk-svg=\"\">\n",
       "<span>Beranda</span>\n",
       "</img></a>\n",
       "<a href=\"/buat-event\">\n",
       "<img alt=\"Loket buat event\" src=\"/web/assets/img/ic-schedule.svg\" uk-svg=\"\">\n",
       "<span>Buat Event</span>\n",
       "</img></a>\n",
       "<a href=\"/member/events\">\n",
       "<img alt=\"Loket event saya\" src=\"/web/assets/img/ic-event.svg\" uk-svg=\"\"/>\n",
       "<span>Event Saya</span>\n",
       "</a>\n",
       "</div>\n",
       "<div class=\"navbar-bottom-link uk-hidden\" id=\"auth-navbar-bottom-default\">\n",
       "<a href=\"/\">\n",
       "<img alt=\"Loket homepage\" src=\"/web/assets/img/ic-home.svg\" uk-svg=\"\"/>\n",
       "<span>Beranda</span>\n",
       "</a>\n",
       "<a href=\"/buat-event\">\n",
       "<img alt=\"Loket discover\" src=\"/web/assets/img/ic-schedule.svg\" uk-svg=\"\"/>\n",
       "<span>Buat Event</span>\n",
       "</a>\n",
       "<a href=\"/discover\">\n",
       "<img alt=\"Loket tiket saya\" src=\"/web/assets/img/ic-compass.svg\" uk-svg=\"\"/>\n",
       "<span>Jelajah</span>\n",
       "</a>\n",
       "</div>\n",
       "<div class=\"navbar-bottom-link\" id=\"auth-navbar-bottom-loader\">\n",
       "<div class=\"navbar-bottom-item-loader\">\n",
       "<span class=\"navbar-bottom-item-loader-icon\"></span>\n",
       "<span class=\"navbar-bottom-item-loader-label\"></span>\n",
       "</div>\n",
       "<div class=\"navbar-bottom-item-loader\">\n",
       "<span class=\"navbar-bottom-item-loader-icon\"></span>\n",
       "<span class=\"navbar-bottom-item-loader-label\"></span>\n",
       "</div>\n",
       "<div class=\"navbar-bottom-item-loader\">\n",
       "<span class=\"navbar-bottom-item-loader-icon\"></span>\n",
       "<span class=\"navbar-bottom-item-loader-label\"></span>\n",
       "</div>\n",
       "</div>\n",
       "</div> </div>\n",
       "<div class=\"uk-flex-top\" id=\"auth-modal\" uk-modal=\"esc-close: false;\">\n",
       "<div class=\"uk-modal-dialog uk-margin-auto-vertical\">\n",
       "<div class=\"uk-modal-body\">\n",
       "<div class=\"auth login uk-width-1-1\" id=\"login-container\">\n",
       "<div class=\"auth-container auth-login uk-container\">\n",
       "<div class=\"auth-title\">\n",
       "<div class=\"uk-width-1-1 uk-flex uk-flex-middle uk-position-relative\">\n",
       "<button class=\"uk-modal-close-default uk-position-relative uk-padding-remove uk-position-top-left uk-margin-small-right\" type=\"button\" uk-close=\"\"></button>\n",
       "<h3 class=\"uk-text-bold uk-margin-remove\">Masuk</h3>\n",
       "</div>\n",
       "<label>\n",
       "<span class=\"uk-text-primary uk-text-bold\" id=\"toggle-redirect-to-signup\">Daftar</span>\n",
       "</label>\n",
       "</div>\n",
       "<div class=\"auth-content\">\n",
       "<div class=\"auth-content-form uk-section uk-padding-remove\" id=\"default-form-container\">\n",
       "<div class=\"auth-content-form-signin-error uk-hidden\">\n",
       "<div class=\"uk-alert-danger uk-alert-border-radius\" uk-alert=\"\">\n",
       "<div class=\"uk-grid uk-grid-small uk-child-width-1-2\" uk-grid=\"\">\n",
       "<div class=\"uk-width-5-6\" id=\"signin-form-error\">\n",
       "</div>\n",
       "</div>\n",
       "</div>\n",
       "</div>\n",
       "<form id=\"login-form\">\n",
       "<div class=\"auth-tab uk-child-width-1-2 uk-grid uk-margin-remove\" uk-grid=\"\">\n",
       "<div class=\"auth-tab-item active uk-width-1-2 uk-first-column uk-margin-remove\" id=\"sign-in-toggle-phone\">\n",
       "<div class=\"uk-flex uk-flex-center uk-align-center\" style=\"white-space: nowrap;\">\n",
       "Nomor Ponsel\n",
       "</div>\n",
       "</div>\n",
       "<div class=\"auth-tab-item uk-width-1-2 uk-grid-margin uk-first-column uk-margin-remove\" id=\"sign-in-toggle-email\">\n",
       "<div class=\"uk-flex uk-flex-center uk-align-center\">\n",
       "Email\n",
       "</div>\n",
       "</div>\n",
       "</div>\n",
       "<div class=\"uk-margin\">\n",
       "<div class=\"uk-margin-bottom uk-hidden\" id=\"signin-email-container\">\n",
       "<div class=\"uk-margin-small-bottom\">\n",
       "<label>Email</label>\n",
       "</div>\n",
       "<div class=\"uk-inline uk-width-1-1 form-control\">\n",
       "<input class=\"uk-input\" data-signin-validate=\"email\" id=\"email-input\" type=\"text\"/>\n",
       "</div>\n",
       "</div>\n",
       "<div class=\"uk-margin-bottom\" id=\"signin-phone-container\">\n",
       "<div class=\"uk-margin-small-bottom\">\n",
       "<label>No. Ponsel</label>\n",
       "</div>\n",
       "<div class=\"uk-grid-small uk-grid\" uk-grid=\"\">\n",
       "<div class=\"uk-width-auto\">\n",
       "<select class=\"uk-select uk-input uk-padding-remove-vertical\" data-dial-code=\"\" id=\"signin-dial-code\"></select>\n",
       "</div>\n",
       "<div class=\"uk-width-expand form-control\">\n",
       "<input autofocus=\"\" class=\"uk-input input-number\" data-signin-validate=\"phone\" id=\"phone-input\" inputmode=\"decimal\"/>\n",
       "</div>\n",
       "</div>\n",
       "</div>\n",
       "</div>\n",
       "<div class=\"uk-margin\" id=\"signin-password-container\">\n",
       "<div class=\"uk-margin-small-bottom uk-flex uk-flex-between\">\n",
       "<label>Kata Sandi</label>\n",
       "<a href=\"/account/forgot-password\">\n",
       "<span class=\"uk-text-primary uk-text-light\">Lupa kata sandi?</span>\n",
       "</a>\n",
       "</div>\n",
       "<div class=\"uk-inline uk-width-1-1 form-control\">\n",
       "<input class=\"uk-input\" data-signin-validate=\"password\" id=\"password-input\" type=\"password\"/>\n",
       "<i class=\"icon icon-hide\" id=\"toggle-secret-password\"></i>\n",
       "</div>\n",
       "</div>\n",
       "<div class=\"uk-margin\">\n",
       "<label class=\"gray uk-grid-small uk-grid\" uk-grid=\"\">\n",
       "<div class=\"uk-width-auto uk-flex uk-flex-middle\">\n",
       "<input class=\"uk-checkbox uk-padding-remove uk-margin-remove\" id=\"remember-me-input\" type=\"checkbox\"/>\n",
       "</div>\n",
       "<div class=\"uk-width-expand\">\n",
       "Ingat saya\n",
       "</div>\n",
       "</label>\n",
       "</div>\n",
       "<div class=\"uk-margin uk-margin-remove-bottom\">\n",
       "<button class=\"uk-button uk-button-primary uk-button-large uk-width-1-1\" id=\"signin-submit\" type=\"submit\">Masuk</button>\n",
       "</div>\n",
       "</form>\n",
       "</div>\n",
       "<div class=\"auth-content-divider uk-section uk-padding-remove\" id=\"social-divider-container\">\n",
       "<h3><span>Atau dengan</span></h3>\n",
       "</div>\n",
       "<div class=\"auth-content-social\" id=\"social-container\">\n",
       "<div class=\"auth-link disabled\" id=\"signin-facebook\">\n",
       "<img src=\"/images/social/facebook-blue.svg\"/>\n",
       "<label class=\"uk-margin-small-left\">Facebook</label>\n",
       "</div>\n",
       "<div class=\"auth-link\" id=\"signin-google\">\n",
       "<img src=\"/images/social/google.svg\"/>\n",
       "<label class=\"uk-margin-small-left\">Google</label>\n",
       "</div>\n",
       "</div>\n",
       "<div class=\"uk-hidden\" id=\"tfa-form-container\">\n",
       "<div class=\"auth-tfa\">\n",
       "<div class=\"auth-tfa-overlay\"></div>\n",
       "<div class=\"auth-tfa-controller\">\n",
       "<div class=\"auth-tfa-header\">\n",
       "<div class=\"auth-tfa-header-title uk-width-1-1\">\n",
       "<label>\n",
       "Two Factor Authentication\n",
       "</label>\n",
       "</div>\n",
       "</div>\n",
       "<div class=\"auth-tfa-content\">\n",
       "<div class=\"uk-margin uk-margin-remove-bottom uk-text-center\">\n",
       "<div class=\"uk-flex uk-flex-center\">\n",
       "<div class=\"auth-tfa-code\">\n",
       "<div class=\"auth-tfa-code-digit-view\">\n",
       "<div class=\"auth-tfa-number-view active\"></div>\n",
       "<div class=\"auth-tfa-number-view\"></div>\n",
       "<div class=\"auth-tfa-number-view\"></div>\n",
       "<div class=\"auth-tfa-number-view\"></div>\n",
       "<div class=\"auth-tfa-number-view\"></div>\n",
       "<div class=\"auth-tfa-number-view\"></div>\n",
       "</div>\n",
       "<div class=\"auth-tfa-code-input-number\">\n",
       "<input data-otp=\"decimal\" inputmode=\"decimal\" maxlength=\"6\" spellcheck=\"true\">\n",
       "</input></div>\n",
       "<div class=\"auth-tfa-feedback uk-hidden\"></div>\n",
       "</div>\n",
       "</div>\n",
       "</div>\n",
       "</div>\n",
       "</div>\n",
       "</div>\n",
       "</div>\n",
       "</div>\n",
       "<div class=\"auth-loader\">\n",
       "<div class=\"spinner-button\">\n",
       "<div class=\"bounce1\"></div>\n",
       "<div class=\"bounce2\"></div>\n",
       "<div class=\"bounce3\"></div>\n",
       "</div>\n",
       "</div>\n",
       "</div>\n",
       "<div class=\"auth-bg\">\n",
       "<div class=\"auth-bg-logo uk-flex uk-flex-middle uk-flex-between\">\n",
       "<div class=\"auth-bg-logo-close\">\n",
       "<img class=\"uk-position-relative uk-padding-remove uk-position-top-left uk-margin-small-right uk-modal-close-default uk-preserve\" src=\"/web/assets/img/ic-back.svg\" uk-close=\"\" uk-svg=\"\"/>\n",
       "</div>\n",
       "<img alt=\"Loket Small Logo\" class=\"uk-preserve\" src=\"/web/assets/img/logo-loket-blue.svg\" uk-svg=\"\">\n",
       "</img></div>\n",
       "</div>\n",
       "</div>\n",
       "<div class=\"auth register uk-width-1-1 uk-hidden\" id=\"register-container\">\n",
       "<div class=\"auth-container uk-container\">\n",
       "<div class=\"auth-title\">\n",
       "<div class=\"uk-width-1-1 uk-flex uk-flex-middle uk-position-relative\">\n",
       "<button class=\"uk-modal-close-default uk-position-relative uk-padding-remove uk-position-top-left uk-margin-small-right\" type=\"button\" uk-close=\"\"></button>\n",
       "<h3 class=\"uk-text-bold uk-margin-remove\">Daftar</h3>\n",
       "</div>\n",
       "<label>\n",
       "<span class=\"uk-text-primary uk-text-bold\" id=\"toggle-redirect-to-signin\">Masuk</span>\n",
       "</label>\n",
       "</div>\n",
       "<div class=\"auth-content\">\n",
       "<div class=\"auth-content-form\">\n",
       "<div class=\"auth-content-form-signup-error uk-margin-top uk-margin-bottom uk-hidden\">\n",
       "<div class=\"uk-alert-danger uk-alert-border-radius uk-margin-remove\" uk-alert=\"\">\n",
       "<div class=\"uk-grid uk-grid-small uk-child-width-1-2\" uk-grid=\"\">\n",
       "<div class=\"uk-width-5-6\" id=\"signup-form-error\">\n",
       "</div>\n",
       "</div>\n",
       "</div>\n",
       "</div>\n",
       "<div class=\"auth-content-form-signup-info uk-margin-bottom uk-hidden\">\n",
       "<div class=\"uk-alert-warning uk-alert-border-radius uk-margin-remove\" uk-alert=\"\">\n",
       "<div class=\"uk-grid uk-grid-small uk-child-width-1-2\" uk-grid=\"\">\n",
       "<div class=\"uk-width-5-6\" id=\"signup-form-info\">\n",
       "</div>\n",
       "</div>\n",
       "</div>\n",
       "</div>\n",
       "<form class=\"uk-margin-remove\" id=\"register-form\">\n",
       "<div class=\"auth-tab uk-child-width-1-2 uk-grid uk-margin-remove\" uk-grid=\"\">\n",
       "<div class=\"auth-tab-item active uk-width-1-2 uk-first-column uk-margin-remove\" id=\"sign-up-toggle-phone\" style=\"cursor: not-allowed;\">\n",
       "<div class=\"uk-flex uk-flex-center uk-align-center\" style=\"white-space: nowrap;\">\n",
       "Nomor Ponsel\n",
       "</div>\n",
       "</div>\n",
       "<div class=\"auth-tab-item uk-width-1-2 uk-grid-margin uk-first-column uk-margin-remove\" id=\"sign-up-toggle-email\">\n",
       "<div class=\"uk-flex uk-flex-center uk-align-center\">\n",
       "Email\n",
       "</div>\n",
       "</div>\n",
       "</div>\n",
       "<div class=\"uk-margin\" id=\"signup-telephone-container\">\n",
       "<div class=\"uk-margin-small-bottom\">\n",
       "<label>No. Ponsel</label>\n",
       "</div>\n",
       "<div class=\"uk-grid-small uk-grid\" uk-grid=\"\">\n",
       "<div class=\"uk-width-auto\">\n",
       "<select class=\"uk-select uk-input uk-padding-remove-vertical\" data-dial-code=\"\" id=\"signup-dial-code\"></select>\n",
       "</div>\n",
       "<div class=\"uk-width-expand form-control\">\n",
       "<input class=\"uk-input input-number\" data-signup-validate=\"telephone\" inputmode=\"decimal\"/>\n",
       "</div>\n",
       "<div class=\"phone-number-info uk-width-1-1 uk-margin-small-top\">\n",
       "<img src=\"/web/assets/img/ic-exclamation.svg\"/>\n",
       "Kode OTP akan dikirim melalui WhatsApp\n",
       "</div>\n",
       "<div class=\"auth-tnc uk-width-1-1 uk-margin-small-top\">\n",
       "<p>\n",
       "Dengan mendaftar, saya menyetujui <a class=\"uk-text-muted\" href=\"/terms\" target=\"_blank\">syarat &amp; ketentuan</a>\n",
       "serta <a class=\"uk-text-muted\" href=\"/kebijakan-privasi\" target=\"_blank\">kebijakan privasi</a> LOKET\n",
       "</p>\n",
       "</div>\n",
       "</div>\n",
       "</div>\n",
       "<div class=\"uk-margin uk-hidden\" id=\"signup-email-container\">\n",
       "<div class=\"uk-margin-small-bottom\">\n",
       "<label>Email</label>\n",
       "</div>\n",
       "<div class=\"uk-inline uk-width-1-1 form-control\">\n",
       "<input class=\"uk-input\" data-signup-validate=\"email\" type=\"text\"/>\n",
       "</div>\n",
       "</div>\n",
       "<div class=\"uk-margin uk-margin-remove-bottom\" id=\"signup-submit-container\">\n",
       "<button class=\"uk-button uk-button-primary uk-button-large uk-width-1-1\" id=\"signup-submit\" type=\"submit\">Daftar</button>\n",
       "</div>\n",
       "</form>\n",
       "</div>\n",
       "<div class=\"auth-content-divider uk-section uk-padding-remove\" id=\"signup-content-divider\">\n",
       "<h3><span>Atau dengan</span></h3>\n",
       "</div>\n",
       "<div class=\"auth-content-social\" id=\"signup-content-social\">\n",
       "<div class=\"auth-link disabled\" id=\"signup-facebook\">\n",
       "<img src=\"/images/social/facebook-blue.svg\"/>\n",
       "<label class=\"uk-margin-small-left\">Facebook</label>\n",
       "</div>\n",
       "<div class=\"auth-link\" id=\"signup-google\">\n",
       "<img src=\"/images/social/google.svg\"/>\n",
       "<label class=\"uk-margin-small-left\">Google</label>\n",
       "</div>\n",
       "</div>\n",
       "</div>\n",
       "<div class=\"auth-loader\">\n",
       "<div class=\"spinner-button\">\n",
       "<div class=\"bounce1\"></div>\n",
       "<div class=\"bounce2\"></div>\n",
       "<div class=\"bounce3\"></div>\n",
       "</div>\n",
       "</div>\n",
       "</div>\n",
       "<div class=\"auth-bg\">\n",
       "<div class=\"auth-bg-logo uk-flex uk-flex-middle uk-flex-between\">\n",
       "<div class=\"auth-bg-logo-close\">\n",
       "<img class=\"uk-position-relative uk-padding-remove uk-position-top-left uk-margin-small-right uk-modal-close-default uk-preserve\" src=\"/web/assets/img/ic-back.svg\" uk-close=\"\" uk-svg=\"\"/>\n",
       "</div>\n",
       "<img alt=\"Loket Small Logo\" class=\"uk-preserve\" src=\"/web/assets/img/logo-loket-blue.svg\" uk-svg=\"\">\n",
       "</img></div>\n",
       "</div>\n",
       "</div>\n",
       "<div class=\"auth verification uk-width-1-1 uk-hidden\" id=\"verification-container\">\n",
       "<div class=\"auth-container uk-container\">\n",
       "<div class=\"auth-title\">\n",
       "<div class=\"uk-flex uk-flex-middle\">\n",
       "<button class=\"uk-modal-close-default uk-position-relative uk-padding-remove uk-position-top-left uk-margin-small-right\" type=\"button\" uk-close=\"\"></button>\n",
       "<h3 class=\"uk-text-bold uk-margin-remove\">Masukkan Kode OTP</h3>\n",
       "</div>\n",
       "</div>\n",
       "<div class=\"auth-content uk-width-2-4 uk-margin-auto\">\n",
       "<form class=\"auth-content-form\" id=\"verification-form\">\n",
       "<div class=\"auth-content-form-verification-error uk-margin-bottom uk-hidden\">\n",
       "<div class=\"uk-alert-danger uk-alert-border-radius uk-margin-remove\" uk-alert=\"\">\n",
       "<div class=\"uk-grid uk-grid-small uk-child-width-1-2\" uk-grid=\"\">\n",
       "<div class=\"uk-width-5-6\" id=\"verification-form-error\">\n",
       "</div>\n",
       "</div>\n",
       "</div>\n",
       "</div>\n",
       "<div class=\"uk-width-2-4 uk-width-1-1@m uk-margin-auto uk-text-center\">\n",
       "<label class=\"uk-width-1-1\">Mohon periksa <b id=\"verification-provider\">_</b> kamu. Kami telah mengirimkan kode ke <b id=\"verification-provider-value\">_</b></label>\n",
       "<div class=\"uk-flex uk-flex-center uk-margin-top\">\n",
       "<div class=\"otp\">\n",
       "<div class=\"otp-digit-view\">\n",
       "<div class=\"number-view active\" data-otp-digit=\"1\"></div>\n",
       "<div class=\"number-view\" data-otp-digit=\"2\"></div>\n",
       "<div class=\"number-view\" data-otp-digit=\"3\"></div>\n",
       "<div class=\"number-view\" data-otp-digit=\"4\"></div>\n",
       "<div class=\"number-view\" data-otp-digit=\"5\"></div>\n",
       "<div class=\"number-view\" data-otp-digit=\"6\"></div>\n",
       "</div>\n",
       "<div class=\"otp-input-number\">\n",
       "<input autofocus=\"\" data-otp=\"decimal\" id=\"otp-input\" inputmode=\"decimal\" maxlength=\"6\">\n",
       "</input></div>\n",
       "</div>\n",
       "</div>\n",
       "<div class=\"uk-width-1-1 uk-margin-small uk-flex uk-flex-middle uk-flex-center\">\n",
       "<label id=\"verification-resend\">Kirim ulang OTP <b id=\"verification-timer-container\">(0)</b></label>\n",
       "<div class=\"c-spinner uk-margin-small-left uk-hidden\" id=\"verification-spinner\">\n",
       "<div></div>\n",
       "<div></div>\n",
       "<div></div>\n",
       "<div></div>\n",
       "</div>\n",
       "</div>\n",
       "</div>\n",
       "<div class=\"uk-width-2-4 uk-width-2-3@m uk-margin-auto uk-margin uk-margin-remove-vertical\">\n",
       "<button class=\"uk-button uk-button-gray uk-button-large uk-width-1-1\" id=\"verification-submit\">Verifikasi akun</button>\n",
       "</div>\n",
       "</form>\n",
       "</div>\n",
       "<div class=\"auth-loader auth-loader-verification\">\n",
       "<div class=\"auth-loader-backdrop\">\n",
       "<div class=\"auth-loader-spinner spinner-button\">\n",
       "<div class=\"bounce1\"></div>\n",
       "<div class=\"bounce2\"></div>\n",
       "<div class=\"bounce3\"></div>\n",
       "</div>\n",
       "<div class=\"verification-success-icon uk-flex uk-flex-center uk-flex-middle uk-hidden\">\n",
       "<img height=\"15\" src=\"/web/assets/img/ic-check-mark.svg\"/>\n",
       "</div>\n",
       "<div class=\"auth-loader-label\">\n",
       "<label>Memverifikasi akunmu</label>\n",
       "</div>\n",
       "</div>\n",
       "</div>\n",
       "</div>\n",
       "<div class=\"auth-bg\">\n",
       "<div class=\"auth-bg-logo uk-flex uk-flex-middle uk-flex-between\">\n",
       "<div class=\"auth-bg-logo-close\">\n",
       "<img class=\"uk-position-relative uk-padding-remove uk-position-top-left uk-margin-small-right uk-modal-close-default uk-preserve\" src=\"/web/assets/img/ic-back.svg\" uk-close=\"\" uk-svg=\"\"/>\n",
       "</div>\n",
       "<img alt=\"Loket Small Logo\" class=\"uk-preserve\" src=\"/web/assets/img/logo-loket-blue.svg\" uk-svg=\"\">\n",
       "</img></div>\n",
       "</div>\n",
       "</div>\n",
       "<div class=\"auth personal-info uk-width-1-1 uk-hidden\" id=\"personal-info-container\">\n",
       "<div class=\"auth-container uk-container\">\n",
       "<div class=\"auth-title\">\n",
       "<div class=\"uk-flex uk-flex-middle\">\n",
       "<button class=\"uk-modal-close-default uk-position-relative uk-padding-remove uk-position-top-left uk-margin-small-right\" type=\"button\" uk-close=\"\"></button>\n",
       "<h3 class=\"uk-text-bold uk-margin-remove\">Lengkapi profilmu</h3>\n",
       "</div>\n",
       "</div>\n",
       "<div class=\"auth-content\">\n",
       "<div class=\"auth-content-form-personal-info-error uk-hidden\">\n",
       "<div class=\"uk-alert-danger uk-alert-border-radius uk-margin-remove\" uk-alert=\"\">\n",
       "<div class=\"uk-grid uk-grid-small uk-child-width-1-2\" uk-grid=\"\">\n",
       "<div class=\"uk-width-5-6\" id=\"personal-info-form-error\">\n",
       "</div>\n",
       "</div>\n",
       "</div>\n",
       "</div>\n",
       "<div class=\"auth-content-form-personal-info-info uk-hidden\">\n",
       "<div class=\"uk-alert-warning uk-alert-border-radius uk-margin-remove\" uk-alert=\"\">\n",
       "<div class=\"uk-grid uk-grid-small uk-child-width-1-2\" uk-grid=\"\">\n",
       "<div class=\"uk-width-5-6\" id=\"personal-info-form-info\">\n",
       "</div>\n",
       "</div>\n",
       "</div>\n",
       "</div>\n",
       "<div class=\"auth-content-form\">\n",
       "<form class=\"uk-margin-remove\" id=\"personal-info-form\">\n",
       "<div class=\"avatar\">\n",
       "<div class=\"avatar-preview\">\n",
       "<img class=\"avatar-preview-image\" id=\"personal-info-avatar-preview\" src=\"/web/assets/img/auth/icon-default-avatar.svg\"/>\n",
       "<img class=\"avatar-preview-icon\" id=\"personal-info-avatar-preview-icon\" src=\"/web/assets/img/auth/icon-upload-avatar.svg\"/>\n",
       "</div>\n",
       "<div class=\"avatar-loader uk-hidden\" id=\"personal-info-avatar-loader\">\n",
       "<div></div>\n",
       "<div></div>\n",
       "<div></div>\n",
       "<div></div>\n",
       "</div>\n",
       "<div class=\"avatar-input\">\n",
       "<input class=\"avatar-input-control\" id=\"personal-info-input-file\" type=\"file\">\n",
       "</input></div>\n",
       "</div>\n",
       "<div class=\"uk-margin\" id=\"personal-info-username-container\">\n",
       "<div class=\"uk-margin-small-bottom\">\n",
       "<label>Nama Lengkap</label>\n",
       "</div>\n",
       "<div class=\"uk-inline uk-width-1-1 form-control\">\n",
       "<input autofocus=\"\" class=\"uk-input\" data-personal-info-validate=\"username\" type=\"text\"/>\n",
       "</div>\n",
       "</div>\n",
       "<div class=\"uk-margin-bottom\" id=\"personal-info-password-container\">\n",
       "<div class=\"uk-margin-small-bottom\">\n",
       "<label>Kata Sandi</label>\n",
       "</div>\n",
       "<div class=\"uk-inline uk-width-1-1 uk-flex uk-flex-column form-control\">\n",
       "<input class=\"uk-input\" data-personal-info-validate=\"password\" type=\"password\"/>\n",
       "<i class=\"icon icon-hide\" id=\"personal-info-toggle-secret-password\"></i>\n",
       "<span class=\"uk-text-small uk-text-muted uk-margin-small-top\">Kata sandi harus terdiri dari 8 karakter atau lebih dan mengandung abjad, numerik, simbol &amp; satu huruf kapital.</span>\n",
       "</div>\n",
       "</div>\n",
       "<div class=\"uk-margin-bottom\" id=\"personal-info-confirm-password-container\">\n",
       "<div class=\"uk-margin-small-bottom\">\n",
       "<label>Ulangi Kata Sandi</label>\n",
       "</div>\n",
       "<div class=\"uk-inline uk-width-1-1 form-control\">\n",
       "<input class=\"uk-input\" data-personal-info-validate=\"confirm-password\" type=\"password\"/>\n",
       "<i class=\"icon icon-hide\" id=\"personal-info-toggle-secret-confirm-password\"></i>\n",
       "</div>\n",
       "</div>\n",
       "<div class=\"uk-margin uk-margin-remove-bottom\" id=\"personal-info-submit-container\">\n",
       "<button class=\"uk-button uk-button-primary uk-button-large uk-width-1-1\" id=\"personal-info-submit\" type=\"submit\">Simpan</button>\n",
       "</div>\n",
       "</form>\n",
       "</div>\n",
       "</div>\n",
       "<div class=\"auth-loader\">\n",
       "<div class=\"spinner-button\">\n",
       "<div class=\"bounce1\"></div>\n",
       "<div class=\"bounce2\"></div>\n",
       "<div class=\"bounce3\"></div>\n",
       "</div>\n",
       "</div>\n",
       "</div>\n",
       "<div class=\"auth-bg\">\n",
       "<div class=\"auth-bg-logo uk-flex uk-flex-middle uk-flex-between\">\n",
       "<div class=\"auth-bg-logo-close\">\n",
       "<img class=\"uk-position-relative uk-padding-remove uk-position-top-left uk-margin-small-right uk-modal-close-default uk-preserve\" src=\"/web/assets/img/ic-back.svg\" uk-close=\"\" uk-svg=\"\"/>\n",
       "</div>\n",
       "<img alt=\"Loket Small Logo\" class=\"uk-preserve\" src=\"/web/assets/img/logo-loket-blue.svg\" uk-svg=\"\">\n",
       "</img></div>\n",
       "</div>\n",
       "</div>\n",
       "</div>\n",
       "</div>\n",
       "</div>\n",
       "<div class=\"uk-flex-top\" id=\"legacy-user-modal\" uk-modal=\"\">\n",
       "<div class=\"uk-modal-dialog uk-margin-auto-vertical\">\n",
       "<div class=\"uk-modal-body\">\n",
       "<div class=\"legacy-user uk-width-1-1\" id=\"legacy-user-container\">\n",
       "<div class=\"uk-width-1-1\">\n",
       "<div class=\"legacy-user-title\">\n",
       "<div class=\"uk-flex uk-flex-middle uk-flex-column uk-width-1-1\">\n",
       "<div class=\"uk-width-1-1 uk-flex uk-flex-middle uk-flex-column\" id=\"user-info-header-container\">\n",
       "<h3 class=\"uk-margin-remove\">Informasi Penting!</h3>\n",
       "<label class=\"uk-margin-small-top\">Perubahan penting terkait akunmu</label>\n",
       "</div>\n",
       "<div class=\"uk-width-1-1 uk-hidden\" id=\"user-form-header-container\">\n",
       "<img id=\"user-form-cancel\" src=\"/web/assets/img/ic-back.svg\"/>\n",
       "<h3 class=\"uk-margin-remove\">Lengkapi Profilmu</h3>\n",
       "</div>\n",
       "</div>\n",
       "</div>\n",
       "<div class=\"legacy-user-info\" id=\"user-info-cotainer\">\n",
       "<ul class=\"legacy-user-list\">\n",
       "<li class=\"legacy-user-item\">\n",
       "<div class=\"legacy-user-item-icon\">\n",
       "<i class=\"icon icon-creator-blue\"></i>\n",
       "</div>\n",
       "<div class=\"legacy-user-item-desc\">\n",
       "<h3 class=\"uk-margin-remove\">1 akun 2 mode</h3>\n",
       "<label class=\"uk-margin-small-top\">Kamu bisa masuk sebagai akun Pembeli ataupun Event Creator</label>\n",
       "</div>\n",
       "</li>\n",
       "<li class=\"legacy-user-item\">\n",
       "<div class=\"legacy-user-item-icon\">\n",
       "<i class=\"icon icon-user-blue\"></i>\n",
       "</div>\n",
       "<div class=\"legacy-user-item-desc\">\n",
       "<h3 class=\"uk-margin-remove\">Mode awal kamu sebagai pembeli</h3>\n",
       "<label class=\"uk-margin-small-top\">Perubahan dari tampilan sebelumnya sebagai Event Creator</label>\n",
       "</div>\n",
       "</li>\n",
       "<li class=\"legacy-user-item\">\n",
       "<div class=\"legacy-user-item-icon\">\n",
       "<i class=\"icon icon-swap-blue\"></i>\n",
       "</div>\n",
       "<div class=\"legacy-user-item-desc\">\n",
       "<h3 class=\"uk-margin-remove\">Cara pindah mode akun</h3>\n",
       "<label class=\"uk-margin-small-top\">Kamu bisa klik di avatar kanan atas untuk ganti mode</label>\n",
       "</div>\n",
       "</li>\n",
       "<li class=\"legacy-user-item\">\n",
       "<div class=\"legacy-user-item-icon\">\n",
       "<i class=\"icon icon-secured-blue\"></i>\n",
       "</div>\n",
       "<div class=\"legacy-user-item-desc\">\n",
       "<h3 class=\"uk-margin-remove\">Verifikasi nomor ponselmu</h3>\n",
       "<label class=\"uk-margin-small-top\">Demi kemanan datamu, lakukan verifikasi nomor ponselmu</label>\n",
       "</div>\n",
       "</li>\n",
       "</ul>\n",
       "</div>\n",
       "<div class=\"legacy-user-form uk-hidden\" id=\"user-form-container\">\n",
       "<div class=\"auth-content-form-user-form-error uk-margin-bottom uk-hidden\">\n",
       "<div class=\"uk-alert-danger uk-alert-border-radius uk-margin-remove\" uk-alert=\"\">\n",
       "<div class=\"uk-grid uk-grid-small uk-child-width-1-2\" uk-grid=\"\">\n",
       "<div class=\"uk-width-5-6\" id=\"user-form-error\">\n",
       "</div>\n",
       "</div>\n",
       "</div>\n",
       "</div>\n",
       "<form class=\"uk-margin-remove\" id=\"user-form\">\n",
       "<div class=\"avatar\">\n",
       "<div class=\"avatar-preview\">\n",
       "<img class=\"avatar-preview-image\" id=\"user-form-avatar-preview\" src=\"/web/assets/img/auth/icon-default-avatar.svg\"/>\n",
       "<img class=\"avatar-preview-icon\" id=\"user-form-avatar-preview-icon\" src=\"/web/assets/img/auth/icon-upload-avatar.svg\"/>\n",
       "</div>\n",
       "<div class=\"avatar-loader uk-hidden\" id=\"user-form-avatar-loader\">\n",
       "<div></div>\n",
       "<div></div>\n",
       "<div></div>\n",
       "<div></div>\n",
       "</div>\n",
       "<div class=\"avatar-input\">\n",
       "<input class=\"avatar-input-control\" id=\"user-form-input-file\" type=\"file\">\n",
       "</input></div>\n",
       "</div>\n",
       "<div class=\"uk-margin\" id=\"user-form-username-container\">\n",
       "<div class=\"uk-margin-small-bottom uk-flex uk-flex-column\">\n",
       "<label>Nama Lengkap</label>\n",
       "<span style=\"color: #8E919B;\">Nama akan digunakan dalam mode pembeli.</span>\n",
       "</div>\n",
       "<div class=\"uk-inline uk-width-1-1 form-control\">\n",
       "<input autofocus=\"\" class=\"uk-input\" data-user-form-validate=\"username\" id=\"user-form-input-username\" type=\"text\"/>\n",
       "</div>\n",
       "</div>\n",
       "<div class=\"lagacy-user-submit uk-hidden\" id=\"user-form-button-container\">\n",
       "<button class=\"uk-width-1-1 uk-button uk-button-primary uk-flex uk-flex-middle uk-flex-center\" id=\"user-form-submit\" style=\"color: white!important;\" type=\"submit\">Simpan</button>\n",
       "</div>\n",
       "</form>\n",
       "</div>\n",
       "<div class=\"legacy-user-redirect\" id=\"user-info-button-container\">\n",
       "<button class=\"uk-width-1-1 uk-button uk-button-default uk-modal-close-default uk-flex uk-flex-middle uk-flex-center\">Tutup</button>\n",
       "<button class=\"uk-width-1-1 uk-button uk-button-primary uk-flex uk-flex-middle uk-flex-center\" id=\"user-info-to-form\" style=\"color: white!important;\">Lengkapi Datamu</button>\n",
       "</div>\n",
       "<div class=\"auth-loader\">\n",
       "<div class=\"spinner-button\">\n",
       "<div class=\"bounce1\"></div>\n",
       "<div class=\"bounce2\"></div>\n",
       "<div class=\"bounce3\"></div>\n",
       "</div>\n",
       "</div>\n",
       "</div>\n",
       "</div> </div>\n",
       "</div>\n",
       "</div>\n",
       "<div class=\"uk-flex-top\" id=\"onboarding-modal\" uk-modal=\"\">\n",
       "<div class=\"uk-modal-dialog uk-margin-auto-vertical\">\n",
       "<div class=\"uk-modal-body\">\n",
       "<div class=\"on-boarding uk-width-1-1 uk-hidden\" id=\"ec-onboarding-container\">\n",
       "<div class=\"uk-width-1-1\">\n",
       "<div class=\"on-boarding-header uk-flex uk-flex-middle uk-flex-between\">\n",
       "<div class=\"uk-flex uk-flex-middle\">\n",
       "<img alt=\"Loket Small Logo\" height=\"24\" src=\"/web/assets/img/logo-loket-blue.png\" width=\"90\"/>\n",
       "</div>\n",
       "<button class=\"uk-modal-close-default uk-position-relative uk-padding-remove uk-position-top-left\" type=\"button\" uk-close=\"\"></button>\n",
       "</div>\n",
       "<div class=\"uk-visible-toggle\" tabindex=\"-1\" uk-slider=\"finite: true\">\n",
       "<ul class=\"uk-slider-items uk-child-width-1-1\">\n",
       "<li class=\"uk-flex uk-flex-center uk-flex-middle uk-flex-column\">\n",
       "<img alt=\"Menjadi event creator\" src=\"/web/assets/img/onboarding/ec-transaction.svg\"/>\n",
       "<div class=\"uk-margin uk-flex uk-flex-column uk-flex-middle\">\n",
       "<h3 class=\"uk-margin-remove uk-text-center uk-text-bold\">Siap menjadi event creator</h3>\n",
       "<label class=\"uk-margin-small-top uk-text-center\">Kenyaman mengelola event tak semudah ini</label>\n",
       "</div>\n",
       "</li>\n",
       "<li class=\"uk-flex uk-flex-center uk-flex-middle uk-flex-column\">\n",
       "<img alt=\"Beragam pembayaran\" src=\"/web/assets/img/onboarding/ec-payment.svg\"/>\n",
       "<div class=\"uk-margin uk-flex uk-flex-column uk-flex-middle\">\n",
       "<h3 class=\"uk-margin-remove uk-text-center uk-text-bold\">Metode pembayaran beragam</h3>\n",
       "<label class=\"uk-margin-small-top uk-text-center\">Permudah transaksi dengan beragam metode pembayaran yang tersedia.</label>\n",
       "</div>\n",
       "</li>\n",
       "<li class=\"uk-flex uk-flex-center uk-flex-middle uk-flex-column\">\n",
       "<img alt=\"Distribusi tiket kemana saja\" src=\"/web/assets/img/onboarding/ec-ldp.svg\"/>\n",
       "<div class=\"uk-margin uk-flex uk-flex-column uk-flex-middle\">\n",
       "<h3 class=\"uk-margin-remove uk-text-center uk-text-bold\">Distribusi tiket kemana saja</h3>\n",
       "<label class=\"uk-margin-small-top uk-text-center\">Luasnya jangkauan LOKET dapat membantu penyebaran tiket eventmu.</label>\n",
       "</div>\n",
       "</li>\n",
       "<li class=\"uk-flex uk-flex-center uk-flex-middle uk-flex-column\">\n",
       "<img alt=\"Fitur check-in\" src=\"/web/assets/img/onboarding/ec-checkin.svg\"/>\n",
       "<div class=\"uk-margin uk-flex uk-flex-column uk-flex-middle\">\n",
       "<h3 class=\"uk-margin-remove uk-text-center uk-text-bold\">Fitur check-in</h3>\n",
       "<label class=\"uk-margin-small-top uk-text-center\">Proses check in yang mudah menjadikan event kamu lebih mulus.</label>\n",
       "</div>\n",
       "</li>\n",
       "<li class=\"uk-flex uk-flex-center uk-flex-middle uk-flex-column\">\n",
       "<img alt=\"Promo suka-suka\" src=\"/web/assets/img/onboarding/ec-checkin.svg\"/>\n",
       "<div class=\"uk-margin uk-flex uk-flex-column uk-flex-middle\">\n",
       "<h3 class=\"uk-margin-remove uk-text-center uk-text-bold\">Buat promo suka-suka</h3>\n",
       "<label class=\"uk-margin-small-top uk-text-center\">Bikin promo tanpa ribet bikin event kamu lebih banyak peminat.</label>\n",
       "</div>\n",
       "</li>\n",
       "</ul>\n",
       "<div class=\"on-boarding-navigation uk-margin-top\">\n",
       "<ul class=\"uk-slider-nav uk-dotnav uk-flex-center uk-margin\"></ul>\n",
       "</div>\n",
       "<div class=\"on-boarding-redirect uk-margin-top\">\n",
       "<button class=\"uk-width-1-1 uk-button uk-button-primary uk-modal-close\" id=\"start-ec\">Mulai jadi Event Creator</button>\n",
       "</div>\n",
       "</div>\n",
       "</div>\n",
       "</div> <div class=\"on-boarding uk-width-1-1 uk-hidden\" id=\"tb-onboarding-container\">\n",
       "<div class=\"uk-width-1-1\">\n",
       "<div class=\"on-boarding-header uk-flex uk-flex-middle uk-flex-between\">\n",
       "<div class=\"uk-flex uk-flex-middle\">\n",
       "<img alt=\"Loket Small Logo\" height=\"24\" src=\"/web/assets/img/logo-loket-blue.png\" width=\"90\">\n",
       "</img></div>\n",
       "<button class=\"uk-modal-close-default uk-position-relative uk-padding-remove uk-position-top-left\" type=\"button\" uk-close=\"\"></button>\n",
       "</div>\n",
       "<div class=\"uk-visible-toggle\" tabindex=\"-1\" uk-slider=\"finite: true\">\n",
       "<ul class=\"uk-slider-items uk-child-width-1-1\">\n",
       "<li class=\"uk-flex uk-flex-center uk-flex-middle uk-flex-column\">\n",
       "<img alt=\"Menjadi event creator\" src=\"/web/assets/img/onboarding/ec-transaction.svg\"/>\n",
       "<div class=\"uk-margin uk-flex uk-flex-column uk-flex-middle\">\n",
       "<h3 class=\"uk-margin-remove uk-text-center uk-text-bold\">Selamat datang di Loket!</h3>\n",
       "<label class=\"uk-margin-small-top uk-text-center\">Platform yang bikin hidup kamu lebih nyaman dalam menikmati event.</label>\n",
       "</div>\n",
       "</li>\n",
       "<li class=\"uk-flex uk-flex-center uk-flex-middle uk-flex-column\">\n",
       "<img alt=\"Beragam pembayaran\" src=\"/web/assets/img/onboarding/ec-payment.svg\"/>\n",
       "<div class=\"uk-margin uk-flex uk-flex-column uk-flex-middle\">\n",
       "<h3 class=\"uk-margin-remove uk-text-center uk-text-bold\">Semua ada di Loket</h3>\n",
       "<label class=\"uk-margin-small-top uk-text-center\">Dari workshop, acara sosial, sampai konser, cari event apa saja, ada semuanya~</label>\n",
       "</div>\n",
       "</li>\n",
       "<li class=\"uk-flex uk-flex-center uk-flex-middle uk-flex-column\">\n",
       "<img alt=\"Distribusi tiket kemana saja\" src=\"/web/assets/img/onboarding/ec-ldp.svg\"/>\n",
       "<div class=\"uk-margin uk-flex uk-flex-column uk-flex-middle\">\n",
       "<h3 class=\"uk-margin-remove uk-text-center uk-text-bold\">Banyak promo menanti</h3>\n",
       "<label class=\"uk-margin-small-top uk-text-center\">Beli tiket makin hemat dengan beragam promo yang tersedia.</label>\n",
       "</div>\n",
       "</li>\n",
       "<li class=\"uk-flex uk-flex-center uk-flex-middle uk-flex-column\">\n",
       "<img alt=\"Fitur check-in\" src=\"/web/assets/img/onboarding/ec-checkin.svg\"/>\n",
       "<div class=\"uk-margin uk-flex uk-flex-column uk-flex-middle\">\n",
       "<h3 class=\"uk-margin-remove uk-text-center uk-text-bold\">Fitur check-in</h3>\n",
       "<label class=\"uk-margin-small-top uk-text-center\">Proses check in yang mudah menjadikan event kamu lebih mulus.</label>\n",
       "</div>\n",
       "</li>\n",
       "<li class=\"uk-flex uk-flex-center uk-flex-middle uk-flex-column\">\n",
       "<img alt=\"Promo suka-suka\" src=\"/web/assets/img/onboarding/ec-checkin.svg\"/>\n",
       "<div class=\"uk-margin uk-flex uk-flex-column uk-flex-middle\">\n",
       "<h3 class=\"uk-margin-remove uk-text-center uk-text-bold\">Pembayaran yang mudah</h3>\n",
       "<label class=\"uk-margin-small-top uk-text-center\">Permudah transaksi dengan beragam metode pembayaran yang tersedia.</label>\n",
       "</div>\n",
       "</li>\n",
       "</ul>\n",
       "<div class=\"on-boarding-navigation uk-margin-top\">\n",
       "<ul class=\"uk-slider-nav uk-dotnav uk-flex-center uk-margin\"></ul>\n",
       "</div>\n",
       "<div class=\"on-boarding-redirect uk-margin-top\">\n",
       "<button class=\"uk-width-1-1 uk-button uk-button-primary uk-modal-close uk-modal-close\">Mulai jadi Pembeli</button>\n",
       "</div>\n",
       "</div>\n",
       "</div>\n",
       "</div> </div>\n",
       "</div>\n",
       "</div>\n",
       "<div class=\"uk-flex-top\" id=\"interests-preferences-modal\" uk-modal=\"\">\n",
       "<div class=\"int-pref uk-modal-dialog uk-margin-auto-vertical\">\n",
       "<div class=\"uk-modal-body\">\n",
       "<div class=\"int-pref-inner\">\n",
       "<div class=\"int-pref-title uk-flex uk-flex-middle uk-flex-between\">\n",
       "<div class=\"uk-flex uk-flex-middle\">\n",
       "<button class=\"uk-modal-close-default uk-position-relative uk-padding-remove uk-position-top-left uk-margin-small-right\" type=\"button\" uk-close=\"\"></button>\n",
       "<h3 class=\"uk-text-bold uk-margin-remove\">Minat dan Preferensi</h3>\n",
       "</div>\n",
       "</div>\n",
       "<div class=\"int-pref-content uk-width-1-1 uk-margin-auto\">\n",
       "<div class=\"section-left\">\n",
       "<div class=\"uk-width-1-1\">\n",
       "<h3 class=\"uk-text-bold\">Biarkan kami untuk lebih mengenalmu</h3>\n",
       "<p class=\"uk-text-default\">\n",
       "Isi tanggal lahir dan pilih label event yang ingin kamu lihat lebih sering daripada yang lain.\n",
       "</p>\n",
       "</div>\n",
       "</div>\n",
       "<div class=\"section-right\">\n",
       "<div class=\"uk-card uk-card-default uk-card-body uk-width-1-1\">\n",
       "<div class=\"uk-card-title\">\n",
       "<img src=\"/web/assets/img/ic-date.svg\">\n",
       "<label>Tanggal Lahir</label>\n",
       "</img></div>\n",
       "<div class=\"uk-card-content uk-margin\">\n",
       "<div class=\"uk-inline uk-width-1-1\">\n",
       "<input autocomplete=\"off\" class=\"uk-input\" data-toggle=\"datepicker\" id=\"int-pref-date\" placeholder=\"Masukkan tanggal lahirmu\" readonly=\"\" spellcheck=\"false\" type=\"text\"/>\n",
       "</div>\n",
       "</div>\n",
       "</div>\n",
       "<div class=\"uk-card uk-card-default uk-card-body uk-width-1-1\">\n",
       "<div class=\"uk-card-title uk-position-relative\">\n",
       "<img src=\"/web/assets/img/ic-clip.svg\">\n",
       "<label>\n",
       "Topik Event\n",
       "<span class=\"uk-text-small uk-text-light uk-text-muted\">Pilih semua topik</span>\n",
       "</label>\n",
       "<label class=\"switch primary uk-hidden\" id=\"int-pref-select-all-container\">\n",
       "<input id=\"int-pref-select-all\" type=\"checkbox\"/>\n",
       "<span class=\"slider round\"></span>\n",
       "</label>\n",
       "</img></div>\n",
       "<div class=\"uk-card-content uk-margin\">\n",
       "<div class=\"topic-list uk-inline uk-width-1-1\">\n",
       "<div class=\"topic-list-loader\">\n",
       "<div class=\"bounce bounce1\"></div>\n",
       "<div class=\"bounce bounce2\"></div>\n",
       "<div class=\"bounce bounce3\"></div>\n",
       "</div>\n",
       "</div>\n",
       "</div>\n",
       "</div>\n",
       "</div>\n",
       "<div class=\"section-bottom\">\n",
       "<div class=\"section-bottom-inner\">\n",
       "<div class=\"uk-width-1-1\">\n",
       "<button class=\"uk-button uk-button-default uk-width-1-1 uk-modal-close\">Lewati</button>\n",
       "</div>\n",
       "<div class=\"uk-width-1-1\">\n",
       "<button class=\"uk-button uk-width-1-1 uk-button-gray\" id=\"int-pref-submit\">Lanjut</button>\n",
       "</div>\n",
       "</div>\n",
       "</div>\n",
       "</div>\n",
       "<div class=\"int-pref-loader\" id=\"int-pref-loader\">\n",
       "<div class=\"int-pref-spinner spinner-button\">\n",
       "<div class=\"bounce bounce1\"></div>\n",
       "<div class=\"bounce bounce2\"></div>\n",
       "<div class=\"bounce bounce3\"></div>\n",
       "</div>\n",
       "<div class=\"int-pref-checked uk-flex uk-flex-center uk-flex-middle uk-hidden\">\n",
       "<img height=\"15\" src=\"/web/assets/img/ic-check-mark.svg\">\n",
       "</img></div>\n",
       "<div class=\"int-pref-reject uk-flex uk-flex-center uk-flex-middle uk-hidden\">\n",
       "<img src=\"/web/assets/img/ic-exclamation-danger.svg\">\n",
       "</img></div>\n",
       "<label id=\"int-pref-loader-label\">Menyimpan data</label>\n",
       "</div>\n",
       "</div>\n",
       "</div>\n",
       "</div>\n",
       "</div>\n",
       "<div class=\"uk-flex-top\" id=\"switch-role-modal\" uk-modal=\"\">\n",
       "<div class=\"uk-modal-dialog uk-margin-auto-vertical\">\n",
       "<div class=\"uk-modal-body uk-padding-remove\">\n",
       "<div class=\"switch-role-loader\">\n",
       "<div class=\"switch-role-spinner spinner-button\">\n",
       "<div class=\"bounce bounce1\"></div>\n",
       "<div class=\"bounce bounce2\"></div>\n",
       "<div class=\"bounce bounce3\"></div>\n",
       "</div>\n",
       "<div class=\"switch-role-error-icon uk-hidden\">\n",
       "<img src=\"/web/assets/img/ic-exclamation-circle-danger.svg\">\n",
       "</img></div>\n",
       "<label id=\"switch-role-label\">Sedang memproses</label>\n",
       "</div>\n",
       "</div>\n",
       "</div>\n",
       "</div>\n",
       "<div class=\"recaptcha-widget\" id=\"recaptcha-widget-modal\" uk-modal=\"esc-close: false; bg-close: false;\">\n",
       "<div class=\"uk-modal-dialog\">\n",
       "<button class=\"uk-padding-remove\" id=\"recaptcha-widget-close-button\" type=\"button\" uk-close=\"\"></button>\n",
       "<div class=\"uk-modal-body\">\n",
       "<div class=\"recaptcha-widget-validation\" id=\"recaptcha-widget-checkbox\"></div>\n",
       "<div class=\"recaptcha-widget-info\">\n",
       "<p>\n",
       "Sistem kami mendeteksi permintaan yang tidak umum dari jaringan perangkat anda.\n",
       "Silakan lakukan verifikasi ulang\n",
       "</p>\n",
       "</div>\n",
       "</div>\n",
       "</div>\n",
       "</div>\n",
       "<script>\n",
       "  const googleClientID = \"973535779187-4vdan03ko8lqcbv2qo34d13ugrgluqvp.apps.googleusercontent.com\";\n",
       "  const facebookClientID = \"621698457973989\";\n",
       "  const recaptchaSiteKey = \"6Lc-CE0gAAAAAEDWSLAZCVSJ7mzRKmZK5v1z5bfa\";\n",
       "  const recaptchaWidgetSiteKey = \"6Ld5I1EcAAAAAN9ZMjXIF8hCUZEyjFG_rx7aejVf\";\n",
       "</script>\n",
       "<script src=\"https://www.google.com/recaptcha/enterprise.js?render=6Lc-CE0gAAAAAEDWSLAZCVSJ7mzRKmZK5v1z5bfa\"></script>\n",
       "<script defer=\"\" src=\"https://apis.google.com/js/platform.js?onload=init\"></script>\n",
       "<script src=\"https://assets.loket.com/web/legacy/vendor/uikit/3.5.10/uikit.min.js\"></script>\n",
       "<script src=\"https://assets.loket.com/web/legacy/vendor/uikit/3.5.10/uikit-icons.min.js\"></script>\n",
       "<script src=\"https://assets.loket.com/web/legacy/vendor/jquery/jquery-3.5.1.min.js\"></script>\n",
       "<script src=\"https://www.loket.com/kasablanka/js/app.utils.min.js?v=20230327001\"></script>\n",
       "<script src=\"https://www.loket.com/kasablanka/js/analytics.min.js?v=20230327001\"></script>\n",
       "<script src=\"https://www.loket.com/kasablanka/js/auth.min.js?v=20230327001\"></script>\n",
       "<script src=\"https://www.loket.com/kasablanka/js/navbar.min.js?v=20230327001\"></script>\n",
       "<script src=\"https://assets.loket.com/web/legacy/vendor/momentjs/moment.min.js\"></script>\n",
       "<script src=\"https://www.loket.com/js/new-event-page.min.js?v=20230327001\"></script>\n",
       "<script src=\"https://www.loket.com/kasablanka/js/event.suggestions.min.js?v=20230327001\"></script>\n",
       "<script>\n",
       "    const SEARCH_ROUTE = `https://www.loket.com/search`;\n",
       "    let latestKeywords = DiscoveryActivity.getSearchKeywords();\n",
       "</script>\n",
       "<script>\n",
       "    var dataLayer = window.dataLayer || [];\n",
       "\n",
       "    const dataLayerPageViewObj = {\n",
       "        event: 'pdp_view',\n",
       "        event_category: 'Ecommerce',\n",
       "        event_action: 'Detail Page View',\n",
       "        event_label: 'ENHYP3N M4NIFESTO in DEPOK [contoh]',\n",
       "        platform: 'Loket SS',\n",
       "        user_id: '',\n",
       "        ecommerce: {\n",
       "            detail: {\n",
       "                products: []\n",
       "            }\n",
       "        }\n",
       "    };\n",
       "\n",
       "    const thisDataLayerPageViewObj = {\n",
       "        event: 'pdp_view',\n",
       "        event_category: 'Ecommerce',\n",
       "        event_action: 'Detail Page View',\n",
       "        event_label: 'ENHYP3N M4NIFESTO in DEPOK [contoh]',\n",
       "        platform: 'Loket SS',\n",
       "        user_id: '',\n",
       "        ecommerce: {\n",
       "            detail: {\n",
       "                products: []\n",
       "            }\n",
       "        }\n",
       "    };\n",
       "\n",
       "    const thisDataLayerMetaPageViewObj = Object.assign({}, thisDataLayerPageViewObj, { event: 'meta_view_content' })\n",
       "\n",
       "    dataLayerPageViewObj.ecommerce.detail.products.push({\n",
       "        name: `ENHYP3N M4NIFESTO in DEPOK [contoh]`,\n",
       "        id: `UgI4`,\n",
       "        brand: `Engene Depok`,\n",
       "        price: 0,\n",
       "        category: `Seminar, Talk Show`.replace(/&amp;/g, '&'),\n",
       "        // variant: ticketType.ticket_type\n",
       "        variant: `Loket SS | GEDUNG F POLITEKNIK NEGERI JAKARTA | 28 Mar - 29 Mar 2023 | 08:30 - 12:00`\n",
       "    });\n",
       "\n",
       "    thisDataLayerPageViewObj.ecommerce.detail.products.push({\n",
       "        name: `ENHYP3N M4NIFESTO in DEPOK [contoh]`,\n",
       "        id: `UgI4`,\n",
       "        brand: `Engene Depok`,\n",
       "        price: 0,\n",
       "        category: `Seminar, Talk Show`.replace(/&amp;/g, '&'),\n",
       "        // variant: ticketType.ticket_type\n",
       "        variant: `Loket SS | GEDUNG F POLITEKNIK NEGERI JAKARTA | 28 Mar - 29 Mar 2023 | 08:30 - 12:00`\n",
       "    });\n",
       "\n",
       "    const eventSchedules = [];\n",
       "    \n",
       "    dataLayer.push(thisDataLayerPageViewObj, thisDataLayerMetaPageViewObj);\n",
       "</script>\n",
       "<script>\n",
       "document.addEventListener('DOMContentLoaded', () => {\n",
       "    DiscoveryActivity.addViewedEventHistory(EVT_PASSPORT);\n",
       "});\n",
       "</script>\n",
       "<script type=\"text/javascript\">window.NREUM||(NREUM={});NREUM.info={\"beacon\":\"bam.nr-data.net\",\"licenseKey\":\"2c15469c42\",\"applicationID\":\"368451919\",\"transactionName\":\"YlRRYEUEXEAFAhYIX1secEFEEV1eSyASEWx9RUdEayZdXRATDQ1cUENAaGcQUF8NAiEOXkFDXFhbAEBAODEXA1xcUnZCUgtGcAsPFhNfWV1WRncARFYKFTIAV1A=\",\"queueTime\":0,\"applicationTime\":256,\"atts\":\"ThNSFg0eT04=\",\"errorBeacon\":\"bam.nr-data.net\",\"agent\":\"\"}</script></body>\n",
       "</html>"
      ]
     },
     "execution_count": 57,
     "metadata": {},
     "output_type": "execute_result"
    }
   ],
   "source": [
    "bsobj"
   ]
  },
  {
   "cell_type": "code",
   "execution_count": null,
   "id": "12d82930",
   "metadata": {},
   "outputs": [],
   "source": []
  }
 ],
 "metadata": {
  "kernelspec": {
   "display_name": "Python 3 (ipykernel)",
   "language": "python",
   "name": "python3"
  },
  "language_info": {
   "codemirror_mode": {
    "name": "ipython",
    "version": 3
   },
   "file_extension": ".py",
   "mimetype": "text/x-python",
   "name": "python",
   "nbconvert_exporter": "python",
   "pygments_lexer": "ipython3",
   "version": "3.10.9"
  }
 },
 "nbformat": 4,
 "nbformat_minor": 5
}
