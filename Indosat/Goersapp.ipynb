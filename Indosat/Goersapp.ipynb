{
 "cells": [
  {
   "cell_type": "code",
   "execution_count": 1,
   "id": "77182fa2",
   "metadata": {},
   "outputs": [],
   "source": [
    "import requests\n",
    "from bs4 import BeautifulSoup"
   ]
  },
  {
   "cell_type": "code",
   "execution_count": 2,
   "id": "e1857f42",
   "metadata": {},
   "outputs": [],
   "source": [
    "from datetime import datetime\n",
    "import pandas as pd\n",
    "\n",
    "from selenium import webdriver\n",
    "from selenium.webdriver.chrome.service import Service\n",
    "from selenium.webdriver.chrome.options import Options\n",
    "\n",
    "import os\n",
    "from time import sleep\n",
    "\n",
    "from selenium.webdriver.support.ui import Select\n",
    "from selenium.webdriver.common.by import By\n",
    "\n",
    "import requests\n",
    "from bs4 import BeautifulSoup"
   ]
  },
  {
   "cell_type": "code",
   "execution_count": 3,
   "id": "abefd3fe",
   "metadata": {},
   "outputs": [],
   "source": [
    "from selenium.common.exceptions import TimeoutException\n",
    "from selenium.webdriver.support.ui import WebDriverWait\n",
    "from selenium.webdriver.support import expected_conditions as EC"
   ]
  },
  {
   "cell_type": "code",
   "execution_count": 4,
   "id": "48004d1e",
   "metadata": {},
   "outputs": [],
   "source": [
    "# get the chromedriver path\n",
    "path = os.getcwd()+'/chromedriver'\n",
    "options = Options()\n",
    "#options.headless = True\n",
    "#options.add_argument(\"--disable-gpu\")\n",
    "#options.add_argument(\"--no-sandbox\")\n",
    "#options.add_argument(\"enable-automation\")\n",
    "#options.add_argument(\"--disable-infobars\")\n",
    "#options.add_argument(\"--disable-dev-shm-usage\")\n",
    "driver = webdriver.Chrome(options=options)"
   ]
  },
  {
   "cell_type": "code",
   "execution_count": 5,
   "id": "558c9ea0",
   "metadata": {},
   "outputs": [],
   "source": [
    "url = 'https://www.goersapp.com/experiences/events-in-near-me--events'"
   ]
  },
  {
   "cell_type": "code",
   "execution_count": 6,
   "id": "0940014c",
   "metadata": {},
   "outputs": [],
   "source": [
    "# Execute the webdriver\n",
    "driver.get(url)"
   ]
  },
  {
   "cell_type": "code",
   "execution_count": 7,
   "id": "4348fc2b",
   "metadata": {},
   "outputs": [],
   "source": [
    "soup = driver.page_source\n",
    "bsobj = BeautifulSoup(soup,'html.parser')"
   ]
  },
  {
   "cell_type": "code",
   "execution_count": 8,
   "id": "9648c98a",
   "metadata": {},
   "outputs": [],
   "source": [
    "Urls = []"
   ]
  },
  {
   "cell_type": "code",
   "execution_count": 9,
   "id": "24f77a6e",
   "metadata": {},
   "outputs": [],
   "source": [
    "for ti in bsobj.findAll('a',{'class':'sc-eCImPb fSEFev ___GOERS___link-anchor ___GOERS___anchor ___GOERS___infinite-list-layout-content__items__item'}):\n",
    "    each_url = ti['href']\n",
    "    what_url = 'https://www.goersapp.com' + each_url\n",
    "    Urls.append(what_url)"
   ]
  },
  {
   "cell_type": "code",
   "execution_count": null,
   "id": "eee7d2c7",
   "metadata": {},
   "outputs": [],
   "source": []
  },
  {
   "cell_type": "code",
   "execution_count": 11,
   "id": "68ed23d5",
   "metadata": {},
   "outputs": [],
   "source": [
    "driver.quit()"
   ]
  },
  {
   "cell_type": "code",
   "execution_count": 10,
   "id": "3bc12683",
   "metadata": {},
   "outputs": [
    {
     "data": {
      "text/plain": [
       "['https://www.goersapp.com/events/mixmag-indonesia-launching-day--mixmagidlaunchingday',\n",
       " 'https://www.goersapp.com/events/mybookit-cafe-and-playground--maybookitcafe',\n",
       " 'https://www.goersapp.com/events/11th-bekasi-wedding-exhibition--11thbwe',\n",
       " 'https://www.goersapp.com/events/world-of-wine--worldofwine',\n",
       " 'https://www.goersapp.com/events/a7s-nye-white-rockin-2024--whiterocknye24',\n",
       " 'https://www.goersapp.com/events/kai-100k-2023-fun-ride--kai100k',\n",
       " 'https://www.goersapp.com/events/pertamina-grand-prix-of-indonesia-2023-gama-wisata--motogpmandalika2023',\n",
       " 'https://www.goersapp.com/events/ambyar-nemen--ambyarnemen',\n",
       " 'https://www.goersapp.com/events/solosxkly-panduan-lengkap-sukses-live-selling-tiktok-bersama-ricky-ceootb--bnmklc',\n",
       " 'https://www.goersapp.com/events/interest-education-international-education-fair-2023--itededufair',\n",
       " 'https://www.goersapp.com/events/icaicta-2023--bnwfht',\n",
       " 'https://www.goersapp.com/events/the-eras-festival--theerasfestival',\n",
       " 'https://www.goersapp.com/events/chinaindonesia-execetive-tech-summit--ciets2023',\n",
       " 'https://www.goersapp.com/events/remember-november-vol-1-eksplorasi-generasi--remembernovemberfest',\n",
       " 'https://www.goersapp.com/events/pentastik-banjarbaru--pentastikbanjarbaru',\n",
       " 'https://www.goersapp.com/events/scream-or-dance-2023--screamordance2023',\n",
       " 'https://www.goersapp.com/events/sparctix-14--sparctix14th',\n",
       " 'https://www.goersapp.com/events/mahzani-fest--mahzanifest',\n",
       " 'https://www.goersapp.com/events/setara-2023--setara70',\n",
       " 'https://www.goersapp.com/events/indonesia-game-developer-exchange-2023-business-and-conference--igdx2023',\n",
       " 'https://www.goersapp.com/events/konser-musikaria-adira-festival-jabodetabek--adirafestjabodetabek',\n",
       " 'https://www.goersapp.com/events/konser-musikaria-adira-festival-yogyakarta--adirafestyogya',\n",
       " 'https://www.goersapp.com/events/momiji-gari-autumn-japan-festival-2023--momijigarifest2023',\n",
       " 'https://www.goersapp.com/events/the-amartha-hangtuah-ebl-feb-ui-2023--eblfebui23',\n",
       " 'https://www.goersapp.com/events/jibunka-10--jibunka10',\n",
       " 'https://www.goersapp.com/events/open-day-free-trial-korean-class--greenatrialkorea',\n",
       " 'https://www.goersapp.com/events/mantrino-live-show-vol-3-presents-grrrl-gang--mantrinoliveshow3',\n",
       " 'https://www.goersapp.com/events/fra15tic--fra15tic2023',\n",
       " 'https://www.goersapp.com/events/hitochuu-matsuri-8--hitochuumatsuri8',\n",
       " 'https://www.goersapp.com/events/twelvest-10--twelvest1',\n",
       " 'https://www.goersapp.com/events/28th-anniversary-konser-nostalgia-selamat-ulang-tahun-jamrud--jamrud28thanniversary',\n",
       " 'https://www.goersapp.com/events/holywin-restored--holywin2023',\n",
       " 'https://www.goersapp.com/events/9emuyu-standup-nite-4-cilegon--sica12',\n",
       " 'https://www.goersapp.com/events/unity-in-action-run--unityinactionrun',\n",
       " 'https://www.goersapp.com/events/startups-and-the-wave-of-innovation-rethinking-global-challenges--startupsandinnovation',\n",
       " 'https://www.goersapp.com/events/ccf-sesi-2-the-1st-carmelitarum-choral-festival-2023--ccf2023s2',\n",
       " 'https://www.goersapp.com/events/layar-bogor-3-program-milarian-dan-manggih-dan-sharing-session-produksi-film-ideal--layarbogor3',\n",
       " 'https://www.goersapp.com/events/baca-bareng-percy-jackson-and-the-olympians-6-the-chalice-of-the-gods--bacabarengpjo6',\n",
       " 'https://www.goersapp.com/events/emp-workshop-creating-catchy-hook-with-kenny-gabriel--workshopwithkennygabrl',\n",
       " 'https://www.goersapp.com/events/konser-pra-kompetisi-keuskupan-bandung--konsernyajabar2023']"
      ]
     },
     "execution_count": 10,
     "metadata": {},
     "output_type": "execute_result"
    }
   ],
   "source": [
    "Urls"
   ]
  },
  {
   "cell_type": "code",
   "execution_count": 33,
   "id": "96618aa8",
   "metadata": {},
   "outputs": [],
   "source": [
    "## Each Url Get Information"
   ]
  },
  {
   "cell_type": "code",
   "execution_count": 12,
   "id": "65b2602f",
   "metadata": {},
   "outputs": [],
   "source": [
    "def goers_detail(url):\n",
    "    driver = webdriver.Chrome(options=options)\n",
    "    sleep(2)\n",
    "    driver.get(url)\n",
    "    sleep(5)\n",
    "    soup = driver.page_source\n",
    "    bsobj = BeautifulSoup(soup,'html.parser')\n",
    "    \n",
    "    Event_name=bsobj.find('div',{'class':'sc-hGPBjI bhOjrT ___GOERS___title ___GOERS___title--bold ___GOERS___title--responsive sc-gyElHZ jcGVGk ___GOERS___experience-title-content__name'}).text\n",
    "    Location=bsobj.find('div',{'class':'sc-dJjYzT cYnUPO ___GOERS___text ___GOERS___text--bold ___GOERS___location-content__data__title'}).text\n",
    "    Address=bsobj.find('div',{'data-testid':'___location-content__data__address'}).text\n",
    "    try:\n",
    "        Venue=bsobj.find('div',{'data-testid':'___location-content__data__description'}).text\n",
    "    except:\n",
    "        Venue = None\n",
    "    Start_date=bsobj.find('div',{'class':'sc-dJjYzT cYnUPO ___GOERS___text ___GOERS___text--bold ___GOERS___schedules-content__data__date'}).text\n",
    "    try:\n",
    "        Price=bsobj.find('div',{'class':'sc-dJjYzT cYnUPO ___GOERS___text ___GOERS___text--bold ___GOERS___text-and-button-content__text'}).text\n",
    "    except:\n",
    "        Price = None\n",
    "    data = {\n",
    "        'Event Name': [Event_name],\n",
    "        'Start Date': [Start_date],\n",
    "        'Location': [Location],\n",
    "        'Address': [Address],\n",
    "        'Price': [Price],\n",
    "        'Venue': [Venue]\n",
    "    }\n",
    "    \n",
    "    df = pd.DataFrame(data)   \n",
    "    \n",
    "    driver.quit()\n",
    "    return df"
   ]
  },
  {
   "cell_type": "code",
   "execution_count": 13,
   "id": "fccb5ac8",
   "metadata": {},
   "outputs": [],
   "source": [
    "df_detail = pd.DataFrame()"
   ]
  },
  {
   "cell_type": "code",
   "execution_count": 15,
   "id": "15fb16fd",
   "metadata": {},
   "outputs": [
    {
     "data": {
      "text/plain": [
       "'https://www.goersapp.com/events/mengurai-trauma-melampaui-luka--mmfamcons'"
      ]
     },
     "execution_count": 15,
     "metadata": {},
     "output_type": "execute_result"
    }
   ],
   "source": [
    "Urls[29]"
   ]
  },
  {
   "cell_type": "code",
   "execution_count": null,
   "id": "887f8a98",
   "metadata": {},
   "outputs": [
    {
     "name": "stdout",
     "output_type": "stream",
     "text": [
      "https://www.goersapp.com/events/mixmag-indonesia-launching-day--mixmagidlaunchingday\n",
      "https://www.goersapp.com/events/mybookit-cafe-and-playground--maybookitcafe\n",
      "https://www.goersapp.com/events/11th-bekasi-wedding-exhibition--11thbwe\n",
      "https://www.goersapp.com/events/world-of-wine--worldofwine\n",
      "https://www.goersapp.com/events/a7s-nye-white-rockin-2024--whiterocknye24\n",
      "https://www.goersapp.com/events/kai-100k-2023-fun-ride--kai100k\n",
      "https://www.goersapp.com/events/pertamina-grand-prix-of-indonesia-2023-gama-wisata--motogpmandalika2023\n",
      "https://www.goersapp.com/events/ambyar-nemen--ambyarnemen\n",
      "https://www.goersapp.com/events/solosxkly-panduan-lengkap-sukses-live-selling-tiktok-bersama-ricky-ceootb--bnmklc\n",
      "https://www.goersapp.com/events/interest-education-international-education-fair-2023--itededufair\n",
      "https://www.goersapp.com/events/icaicta-2023--bnwfht\n",
      "https://www.goersapp.com/events/the-eras-festival--theerasfestival\n",
      "https://www.goersapp.com/events/chinaindonesia-execetive-tech-summit--ciets2023\n",
      "https://www.goersapp.com/events/remember-november-vol-1-eksplorasi-generasi--remembernovemberfest\n",
      "https://www.goersapp.com/events/pentastik-banjarbaru--pentastikbanjarbaru\n",
      "https://www.goersapp.com/events/scream-or-dance-2023--screamordance2023\n",
      "https://www.goersapp.com/events/sparctix-14--sparctix14th\n",
      "https://www.goersapp.com/events/mahzani-fest--mahzanifest\n",
      "https://www.goersapp.com/events/setara-2023--setara70\n",
      "https://www.goersapp.com/events/indonesia-game-developer-exchange-2023-business-and-conference--igdx2023\n",
      "https://www.goersapp.com/events/konser-musikaria-adira-festival-jabodetabek--adirafestjabodetabek\n",
      "https://www.goersapp.com/events/konser-musikaria-adira-festival-yogyakarta--adirafestyogya\n",
      "https://www.goersapp.com/events/momiji-gari-autumn-japan-festival-2023--momijigarifest2023\n",
      "https://www.goersapp.com/events/the-amartha-hangtuah-ebl-feb-ui-2023--eblfebui23\n",
      "https://www.goersapp.com/events/jibunka-10--jibunka10\n",
      "https://www.goersapp.com/events/open-day-free-trial-korean-class--greenatrialkorea\n",
      "https://www.goersapp.com/events/mantrino-live-show-vol-3-presents-grrrl-gang--mantrinoliveshow3\n",
      "https://www.goersapp.com/events/fra15tic--fra15tic2023\n",
      "https://www.goersapp.com/events/hitochuu-matsuri-8--hitochuumatsuri8\n",
      "https://www.goersapp.com/events/twelvest-10--twelvest1\n",
      "https://www.goersapp.com/events/28th-anniversary-konser-nostalgia-selamat-ulang-tahun-jamrud--jamrud28thanniversary\n",
      "https://www.goersapp.com/events/holywin-restored--holywin2023\n",
      "https://www.goersapp.com/events/9emuyu-standup-nite-4-cilegon--sica12\n",
      "https://www.goersapp.com/events/unity-in-action-run--unityinactionrun\n",
      "https://www.goersapp.com/events/startups-and-the-wave-of-innovation-rethinking-global-challenges--startupsandinnovation\n",
      "https://www.goersapp.com/events/ccf-sesi-2-the-1st-carmelitarum-choral-festival-2023--ccf2023s2\n",
      "https://www.goersapp.com/events/layar-bogor-3-program-milarian-dan-manggih-dan-sharing-session-produksi-film-ideal--layarbogor3\n"
     ]
    }
   ],
   "source": [
    "for i in range(len(Urls)):\n",
    "    url = Urls[i]\n",
    "    dfs = goers_detail(url)\n",
    "    df_detail = pd.concat([df_detail, dfs], ignore_index=True)\n",
    "    print(url)"
   ]
  },
  {
   "cell_type": "code",
   "execution_count": null,
   "id": "fd7c57d3",
   "metadata": {},
   "outputs": [],
   "source": [
    "df_detail.to_csv(\"Goers_27September2023.csv\")"
   ]
  },
  {
   "cell_type": "code",
   "execution_count": 19,
   "id": "5c860590",
   "metadata": {},
   "outputs": [
    {
     "name": "stdout",
     "output_type": "stream",
     "text": [
      "https://www.goersapp.com/events/jibunka-10--jibunka10\n",
      "https://www.goersapp.com/events/pentastik-banjarbaru--pentastikbanjarbaru\n",
      "https://www.goersapp.com/events/semesta-berpesta-malang--sbmalang\n",
      "https://www.goersapp.com/events/festival-literasi-jakarta-2023-pentas-literasi--pentasfestlitjak23\n",
      "https://www.goersapp.com/events/festival-literasi-jakarta-2023-seminar-dan-talkshow--seminartalkshowfestlitjkt23\n",
      "https://www.goersapp.com/events/tiktok-engage-konversi-sukses-dengan-panduan-lengkap-live-selling-bersama-ricky-omi-ceootb--bnmklc\n",
      "https://www.goersapp.com/events/pentas-teater-megatruh--megatruh\n",
      "https://www.goersapp.com/events/biang-kerok-fest-2023--biangkerokfest\n",
      "https://www.goersapp.com/events/harpropnas-fest-2023--harpropnas\n",
      "https://www.goersapp.com/events/padang-kulinerun-2023--padangkulinerun2023\n",
      "https://www.goersapp.com/events/mengurai-trauma-melampaui-luka--mmfamcons\n",
      "https://www.goersapp.com/events/nostalgia-bermusik--nostalgiabermusik\n",
      "https://www.goersapp.com/events/teknik-open-house-2023--teknikopenhouse2023\n",
      "https://www.goersapp.com/events/tutur-bentuk--tuturbentuk\n",
      "https://www.goersapp.com/events/bimtek-tenaga-perpustakaan--bimtekperpustakaan\n",
      "https://www.goersapp.com/events/semesta-berpesta-surabaya--sbsurabaya\n",
      "https://www.goersapp.com/events/unveiling-color-run-umn-festival-2023--unveilingcolorunumnfestival2023\n",
      "https://www.goersapp.com/events/harvest-moon-healingrejuvenation-festival--healingfest2023\n",
      "https://www.goersapp.com/events/cybersecurity-fundamental-training--apiarycybersecurity\n",
      "https://www.goersapp.com/events/parahyangan-musik-festival--parahyanganmusikfest\n",
      "https://www.goersapp.com/events/miapex2023-malaysia-international-auto-parts-exhibition--miapex2023\n"
     ]
    },
    {
     "ename": "IndexError",
     "evalue": "list index out of range",
     "output_type": "error",
     "traceback": [
      "\u001b[1;31m---------------------------------------------------------------------------\u001b[0m",
      "\u001b[1;31mIndexError\u001b[0m                                Traceback (most recent call last)",
      "Cell \u001b[1;32mIn[19], line 2\u001b[0m\n\u001b[0;32m      1\u001b[0m \u001b[38;5;28;01mfor\u001b[39;00m i \u001b[38;5;129;01min\u001b[39;00m \u001b[38;5;28mrange\u001b[39m(\u001b[38;5;28mlen\u001b[39m(Urls)):\n\u001b[1;32m----> 2\u001b[0m     url \u001b[38;5;241m=\u001b[39m \u001b[43mUrls\u001b[49m\u001b[43m[\u001b[49m\u001b[43mi\u001b[49m\u001b[38;5;241;43m+\u001b[39;49m\u001b[38;5;241;43m19\u001b[39;49m\u001b[43m]\u001b[49m\n\u001b[0;32m      3\u001b[0m     dfs \u001b[38;5;241m=\u001b[39m goers_detail(url)\n\u001b[0;32m      4\u001b[0m     df_detail \u001b[38;5;241m=\u001b[39m pd\u001b[38;5;241m.\u001b[39mconcat([df_detail, dfs], ignore_index\u001b[38;5;241m=\u001b[39m\u001b[38;5;28;01mTrue\u001b[39;00m)\n",
      "\u001b[1;31mIndexError\u001b[0m: list index out of range"
     ]
    }
   ],
   "source": [
    "for i in range(len(Urls)):\n",
    "    url = Urls[i+19]\n",
    "    dfs = goers_detail(url)\n",
    "    df_detail = pd.concat([df_detail, dfs], ignore_index=True)\n",
    "    print(url)"
   ]
  },
  {
   "cell_type": "code",
   "execution_count": 18,
   "id": "d7f16850",
   "metadata": {},
   "outputs": [
    {
     "data": {
      "text/html": [
       "<div>\n",
       "<style scoped>\n",
       "    .dataframe tbody tr th:only-of-type {\n",
       "        vertical-align: middle;\n",
       "    }\n",
       "\n",
       "    .dataframe tbody tr th {\n",
       "        vertical-align: top;\n",
       "    }\n",
       "\n",
       "    .dataframe thead th {\n",
       "        text-align: right;\n",
       "    }\n",
       "</style>\n",
       "<table border=\"1\" class=\"dataframe\">\n",
       "  <thead>\n",
       "    <tr style=\"text-align: right;\">\n",
       "      <th></th>\n",
       "      <th>Event Name</th>\n",
       "      <th>Start Date</th>\n",
       "      <th>Location</th>\n",
       "      <th>Address</th>\n",
       "      <th>Price</th>\n",
       "      <th>Venue</th>\n",
       "    </tr>\n",
       "  </thead>\n",
       "  <tbody>\n",
       "    <tr>\n",
       "      <th>0</th>\n",
       "      <td>Scream or Dance 2023</td>\n",
       "      <td>27 Oct '23 - 29 Oct '23</td>\n",
       "      <td>PHANTOM - PIK 2</td>\n",
       "      <td>Jl. M.H. Thamrin No.69, Salembaran, Kecamatan ...</td>\n",
       "      <td>From IDR 687,5K</td>\n",
       "      <td>None</td>\n",
       "    </tr>\n",
       "    <tr>\n",
       "      <th>1</th>\n",
       "      <td>SPARCTIX 14</td>\n",
       "      <td>14 Oct '23, 14.30-22.30 WIB</td>\n",
       "      <td>Convention Hall - SMESCO Indonesia</td>\n",
       "      <td>Gd. SMESCO, Lt. 4, Jl. Gatot Subroto Kav. 94, ...</td>\n",
       "      <td>From IDR 141,55K</td>\n",
       "      <td>None</td>\n",
       "    </tr>\n",
       "    <tr>\n",
       "      <th>2</th>\n",
       "      <td>TORANG PE FEST GORONTALO</td>\n",
       "      <td>23 Sep '23, 16.00-23.30 WITA</td>\n",
       "      <td>Stadion 23 Januari</td>\n",
       "      <td>https://maps.app.goo.gl/SoncLhLY7GvkzhYY7?g_st...</td>\n",
       "      <td>From IDR 41K</td>\n",
       "      <td>None</td>\n",
       "    </tr>\n",
       "    <tr>\n",
       "      <th>3</th>\n",
       "      <td>Semesta Berpesta - Solo</td>\n",
       "      <td>16 Sep '23 - 17 Sep '23</td>\n",
       "      <td>Alun Alun Selatan</td>\n",
       "      <td>alun alun kidul, Kecamatan Pasar Kliwon, Surak...</td>\n",
       "      <td>From IDR 50K</td>\n",
       "      <td>Alun-Alun Utara Keraton Surakarta</td>\n",
       "    </tr>\n",
       "    <tr>\n",
       "      <th>4</th>\n",
       "      <td>Mahzani Fest</td>\n",
       "      <td>14 Oct '23, 15.00-23.30 WITA</td>\n",
       "      <td>Universitas Negeri Manado</td>\n",
       "      <td>Jl. Kampus Unima, Tonsaru, Kecamatan Tondano S...</td>\n",
       "      <td>From IDR 58,33K</td>\n",
       "      <td>Lapangan Rektoran Universitas Negeri Manado</td>\n",
       "    </tr>\n",
       "    <tr>\n",
       "      <th>5</th>\n",
       "      <td>TIP AND SHOUT</td>\n",
       "      <td>27 Aug '23, 18.00 - 28 Aug '23, 00.00 WIB</td>\n",
       "      <td>Penny Lane Menteng</td>\n",
       "      <td>1, Jl. K.H. Wahid Hasyim No.108, RT.14/RW.4, G...</td>\n",
       "      <td>None</td>\n",
       "      <td>Lantai 1</td>\n",
       "    </tr>\n",
       "    <tr>\n",
       "      <th>6</th>\n",
       "      <td>Konser Musikaria Adira Festival 2023 - Surabaya</td>\n",
       "      <td>09 Sep '23, 18.30-23.00 WIB</td>\n",
       "      <td>Bumi Marinir Karang Pilang</td>\n",
       "      <td>MM7Q+69R, Jl. Ksatria, Karang Pilang, Kecamata...</td>\n",
       "      <td>From IDR 30K</td>\n",
       "      <td>Bumi Marinir Karang Pilang</td>\n",
       "    </tr>\n",
       "    <tr>\n",
       "      <th>7</th>\n",
       "      <td>Closing SETARA 2023</td>\n",
       "      <td>30 Sep '23, 10.30-23.30 WIB</td>\n",
       "      <td>GBK Basketball Hall</td>\n",
       "      <td>Jl. Pintu Satu Senayan, RT.1/RW.3, Gelora, Kec...</td>\n",
       "      <td>From IDR 199,5K</td>\n",
       "      <td>None</td>\n",
       "    </tr>\n",
       "    <tr>\n",
       "      <th>8</th>\n",
       "      <td>Penayangan Film Hikayat Para Keparat</td>\n",
       "      <td>09 Sep '23, 19.30-22.00 WIB</td>\n",
       "      <td>Taman Budaya Yogyakarta</td>\n",
       "      <td>Taman Budaya Yogyakarta, Gondomanan, Yogyakart...</td>\n",
       "      <td>From IDR 7K</td>\n",
       "      <td>None</td>\n",
       "    </tr>\n",
       "    <tr>\n",
       "      <th>9</th>\n",
       "      <td>Indonesia Game Developer Exchange 2023 - Busin...</td>\n",
       "      <td>11 Oct '23 - 13 Oct '23</td>\n",
       "      <td>The Stones Hotel</td>\n",
       "      <td>Jl. Pantai Kuta, Kuta, Badung Kabupaten, Bali,...</td>\n",
       "      <td>IDR 0K</td>\n",
       "      <td>None</td>\n",
       "    </tr>\n",
       "    <tr>\n",
       "      <th>10</th>\n",
       "      <td>Konser Musikaria Adira Festival - Jabodetabek</td>\n",
       "      <td>18 Nov '23, 18.30-23.00 WIB</td>\n",
       "      <td>Transera Waterpark</td>\n",
       "      <td>Harapan Indah Boulevard Kavling V, Kota Harapa...</td>\n",
       "      <td>From IDR 22K</td>\n",
       "      <td>Transera Waterpark Bekasi</td>\n",
       "    </tr>\n",
       "    <tr>\n",
       "      <th>11</th>\n",
       "      <td>Pentastik - Samarinda</td>\n",
       "      <td>02 Sep '23, 14.00-23.00 WITA</td>\n",
       "      <td>GOR Sempaja</td>\n",
       "      <td>G5W4+539, Sempaja Sel., Kecamatan Samarinda Ut...</td>\n",
       "      <td>From IDR 50K</td>\n",
       "      <td>Area Parkir GOR Kadrie Oening (GOR Sempaja)</td>\n",
       "    </tr>\n",
       "    <tr>\n",
       "      <th>12</th>\n",
       "      <td>Konser Musikaria Adira Festival - Yogyakarta</td>\n",
       "      <td>07 Oct '23, 18.30-23.00 WIB</td>\n",
       "      <td>Stadion Mandala Krida</td>\n",
       "      <td>Jl. Kenari, Semaki, Kecamatan Umbulharjo, Yogy...</td>\n",
       "      <td>From IDR 22K</td>\n",
       "      <td>None</td>\n",
       "    </tr>\n",
       "    <tr>\n",
       "      <th>13</th>\n",
       "      <td>Waku Waku Festival Vol.2</td>\n",
       "      <td>09 Sep '23 - 10 Sep '23</td>\n",
       "      <td>Lagoon Avenue Mall Sungkono</td>\n",
       "      <td>Blok RA No. Kav 9-10, Jl. KH Abdul Wahab Siami...</td>\n",
       "      <td>From IDR 67,78K</td>\n",
       "      <td>None</td>\n",
       "    </tr>\n",
       "    <tr>\n",
       "      <th>14</th>\n",
       "      <td>Indonesia Product Conference 2023</td>\n",
       "      <td>21 Sep '23, 09.00-17.00 WIB</td>\n",
       "      <td>The Tribrata</td>\n",
       "      <td>Jl. Darmawangsa III No.2, Darmawangsa, Jakarta...</td>\n",
       "      <td>From IDR 419K</td>\n",
       "      <td>None</td>\n",
       "    </tr>\n",
       "    <tr>\n",
       "      <th>15</th>\n",
       "      <td>ABSTRAK VIII 2023</td>\n",
       "      <td>16 Sep '23, 10.00-22.00 WIB</td>\n",
       "      <td>Lapangan PPI Pussenif</td>\n",
       "      <td>Jl. Cisadea No.4, Bandung Kota, Bandung Kota, ...</td>\n",
       "      <td>From IDR 120K</td>\n",
       "      <td>None</td>\n",
       "    </tr>\n",
       "    <tr>\n",
       "      <th>16</th>\n",
       "      <td>Momiji Gari Autumn Japan Festival 2023</td>\n",
       "      <td>28 Oct '23 - 29 Oct '23</td>\n",
       "      <td>Mall Cipinang Indah</td>\n",
       "      <td>Jl. Raya Kalimalang No.18, RW.3, Pd. Bambu, Ke...</td>\n",
       "      <td>From IDR 42K</td>\n",
       "      <td>None</td>\n",
       "    </tr>\n",
       "    <tr>\n",
       "      <th>17</th>\n",
       "      <td>Fun Run 2023</td>\n",
       "      <td>15 Aug '23, 00.00 - 31 Aug '23, 23.30 WITA</td>\n",
       "      <td>Telkomsel Grapari</td>\n",
       "      <td>Komplek Mall Lembuswana, Jl. S. Parman Blok A ...</td>\n",
       "      <td>From IDR 25K</td>\n",
       "      <td>lt.1</td>\n",
       "    </tr>\n",
       "    <tr>\n",
       "      <th>18</th>\n",
       "      <td>Mari Party Vol. 3</td>\n",
       "      <td>02 Sep '23, 19.00-23.00 WIB</td>\n",
       "      <td>Pisa Kafe Mahakam</td>\n",
       "      <td>Jl. Mahakam 1 No.11, Kebayoran Baru, Jakarta S...</td>\n",
       "      <td>IDR 95K</td>\n",
       "      <td>Lantai 2</td>\n",
       "    </tr>\n",
       "  </tbody>\n",
       "</table>\n",
       "</div>"
      ],
      "text/plain": [
       "                                           Event Name  \\\n",
       "0                                Scream or Dance 2023   \n",
       "1                                         SPARCTIX 14   \n",
       "2                            TORANG PE FEST GORONTALO   \n",
       "3                             Semesta Berpesta - Solo   \n",
       "4                                        Mahzani Fest   \n",
       "5                                       TIP AND SHOUT   \n",
       "6     Konser Musikaria Adira Festival 2023 - Surabaya   \n",
       "7                                 Closing SETARA 2023   \n",
       "8                Penayangan Film Hikayat Para Keparat   \n",
       "9   Indonesia Game Developer Exchange 2023 - Busin...   \n",
       "10      Konser Musikaria Adira Festival - Jabodetabek   \n",
       "11                              Pentastik - Samarinda   \n",
       "12       Konser Musikaria Adira Festival - Yogyakarta   \n",
       "13                           Waku Waku Festival Vol.2   \n",
       "14                  Indonesia Product Conference 2023   \n",
       "15                                  ABSTRAK VIII 2023   \n",
       "16             Momiji Gari Autumn Japan Festival 2023   \n",
       "17                                       Fun Run 2023   \n",
       "18                                  Mari Party Vol. 3   \n",
       "\n",
       "                                    Start Date  \\\n",
       "0                      27 Oct '23 - 29 Oct '23   \n",
       "1                  14 Oct '23, 14.30-22.30 WIB   \n",
       "2                 23 Sep '23, 16.00-23.30 WITA   \n",
       "3                      16 Sep '23 - 17 Sep '23   \n",
       "4                 14 Oct '23, 15.00-23.30 WITA   \n",
       "5    27 Aug '23, 18.00 - 28 Aug '23, 00.00 WIB   \n",
       "6                  09 Sep '23, 18.30-23.00 WIB   \n",
       "7                  30 Sep '23, 10.30-23.30 WIB   \n",
       "8                  09 Sep '23, 19.30-22.00 WIB   \n",
       "9                      11 Oct '23 - 13 Oct '23   \n",
       "10                 18 Nov '23, 18.30-23.00 WIB   \n",
       "11                02 Sep '23, 14.00-23.00 WITA   \n",
       "12                 07 Oct '23, 18.30-23.00 WIB   \n",
       "13                     09 Sep '23 - 10 Sep '23   \n",
       "14                 21 Sep '23, 09.00-17.00 WIB   \n",
       "15                 16 Sep '23, 10.00-22.00 WIB   \n",
       "16                     28 Oct '23 - 29 Oct '23   \n",
       "17  15 Aug '23, 00.00 - 31 Aug '23, 23.30 WITA   \n",
       "18                 02 Sep '23, 19.00-23.00 WIB   \n",
       "\n",
       "                              Location  \\\n",
       "0                      PHANTOM - PIK 2   \n",
       "1   Convention Hall - SMESCO Indonesia   \n",
       "2                   Stadion 23 Januari   \n",
       "3                    Alun Alun Selatan   \n",
       "4            Universitas Negeri Manado   \n",
       "5                   Penny Lane Menteng   \n",
       "6           Bumi Marinir Karang Pilang   \n",
       "7                  GBK Basketball Hall   \n",
       "8              Taman Budaya Yogyakarta   \n",
       "9                     The Stones Hotel   \n",
       "10                  Transera Waterpark   \n",
       "11                         GOR Sempaja   \n",
       "12               Stadion Mandala Krida   \n",
       "13         Lagoon Avenue Mall Sungkono   \n",
       "14                        The Tribrata   \n",
       "15               Lapangan PPI Pussenif   \n",
       "16                 Mall Cipinang Indah   \n",
       "17                   Telkomsel Grapari   \n",
       "18                   Pisa Kafe Mahakam   \n",
       "\n",
       "                                              Address             Price  \\\n",
       "0   Jl. M.H. Thamrin No.69, Salembaran, Kecamatan ...   From IDR 687,5K   \n",
       "1   Gd. SMESCO, Lt. 4, Jl. Gatot Subroto Kav. 94, ...  From IDR 141,55K   \n",
       "2   https://maps.app.goo.gl/SoncLhLY7GvkzhYY7?g_st...      From IDR 41K   \n",
       "3   alun alun kidul, Kecamatan Pasar Kliwon, Surak...      From IDR 50K   \n",
       "4   Jl. Kampus Unima, Tonsaru, Kecamatan Tondano S...   From IDR 58,33K   \n",
       "5   1, Jl. K.H. Wahid Hasyim No.108, RT.14/RW.4, G...              None   \n",
       "6   MM7Q+69R, Jl. Ksatria, Karang Pilang, Kecamata...      From IDR 30K   \n",
       "7   Jl. Pintu Satu Senayan, RT.1/RW.3, Gelora, Kec...   From IDR 199,5K   \n",
       "8   Taman Budaya Yogyakarta, Gondomanan, Yogyakart...       From IDR 7K   \n",
       "9   Jl. Pantai Kuta, Kuta, Badung Kabupaten, Bali,...            IDR 0K   \n",
       "10  Harapan Indah Boulevard Kavling V, Kota Harapa...      From IDR 22K   \n",
       "11  G5W4+539, Sempaja Sel., Kecamatan Samarinda Ut...      From IDR 50K   \n",
       "12  Jl. Kenari, Semaki, Kecamatan Umbulharjo, Yogy...      From IDR 22K   \n",
       "13  Blok RA No. Kav 9-10, Jl. KH Abdul Wahab Siami...   From IDR 67,78K   \n",
       "14  Jl. Darmawangsa III No.2, Darmawangsa, Jakarta...     From IDR 419K   \n",
       "15  Jl. Cisadea No.4, Bandung Kota, Bandung Kota, ...     From IDR 120K   \n",
       "16  Jl. Raya Kalimalang No.18, RW.3, Pd. Bambu, Ke...      From IDR 42K   \n",
       "17  Komplek Mall Lembuswana, Jl. S. Parman Blok A ...      From IDR 25K   \n",
       "18  Jl. Mahakam 1 No.11, Kebayoran Baru, Jakarta S...           IDR 95K   \n",
       "\n",
       "                                          Venue  \n",
       "0                                          None  \n",
       "1                                          None  \n",
       "2                                          None  \n",
       "3             Alun-Alun Utara Keraton Surakarta  \n",
       "4   Lapangan Rektoran Universitas Negeri Manado  \n",
       "5                                      Lantai 1  \n",
       "6                    Bumi Marinir Karang Pilang  \n",
       "7                                          None  \n",
       "8                                          None  \n",
       "9                                          None  \n",
       "10                    Transera Waterpark Bekasi  \n",
       "11  Area Parkir GOR Kadrie Oening (GOR Sempaja)  \n",
       "12                                         None  \n",
       "13                                         None  \n",
       "14                                         None  \n",
       "15                                         None  \n",
       "16                                         None  \n",
       "17                                         lt.1  \n",
       "18                                     Lantai 2  "
      ]
     },
     "execution_count": 18,
     "metadata": {},
     "output_type": "execute_result"
    }
   ],
   "source": [
    "df_detail"
   ]
  },
  {
   "cell_type": "code",
   "execution_count": 59,
   "id": "68e68878",
   "metadata": {},
   "outputs": [],
   "source": [
    "url1 = 'https://www.goersapp.com/events/sobat-festival-2023--sobatfest2'"
   ]
  },
  {
   "cell_type": "code",
   "execution_count": 60,
   "id": "be88bfcf",
   "metadata": {},
   "outputs": [],
   "source": [
    "driver.get(url1)\n",
    "sleep(5)"
   ]
  },
  {
   "cell_type": "code",
   "execution_count": 61,
   "id": "88740553",
   "metadata": {},
   "outputs": [],
   "source": [
    "soup = driver.page_source"
   ]
  },
  {
   "cell_type": "code",
   "execution_count": 62,
   "id": "692de577",
   "metadata": {},
   "outputs": [],
   "source": [
    "bsobj = BeautifulSoup(soup,'html.parser')"
   ]
  },
  {
   "cell_type": "code",
   "execution_count": 64,
   "id": "740001a6",
   "metadata": {},
   "outputs": [],
   "source": [
    "Event_name=bsobj.find('div',{'class':'sc-hGPBjI bhOjrT ___GOERS___title ___GOERS___title--bold ___GOERS___title--responsive sc-gyElHZ jcGVGk ___GOERS___experience-title-content__name'}).text"
   ]
  },
  {
   "cell_type": "code",
   "execution_count": 75,
   "id": "7d876014",
   "metadata": {},
   "outputs": [],
   "source": [
    "Location=bsobj.find('div',{'class':'sc-dJjYzT cYnUPO ___GOERS___text ___GOERS___text--bold ___GOERS___location-content__data__title'}).text"
   ]
  },
  {
   "cell_type": "code",
   "execution_count": 76,
   "id": "3b0a1bdd",
   "metadata": {},
   "outputs": [],
   "source": [
    "Address=bsobj.find('div',{'data-testid':'___location-content__data__address'}).text"
   ]
  },
  {
   "cell_type": "raw",
   "id": "14aa1a00",
   "metadata": {},
   "source": [
    "Address=bsobj.find('div',{'class':'___GOERS___location-content__data'}).text.replace('View on Map','')"
   ]
  },
  {
   "cell_type": "code",
   "execution_count": 77,
   "id": "d1156453",
   "metadata": {},
   "outputs": [],
   "source": [
    "Venue=bsobj.find('div',{'data-testid':'___location-content__data__description'}).text"
   ]
  },
  {
   "cell_type": "code",
   "execution_count": 79,
   "id": "6c74807b",
   "metadata": {},
   "outputs": [],
   "source": [
    "Start_date=bsobj.find('div',{'class':'sc-dJjYzT cYnUPO ___GOERS___text ___GOERS___text--bold ___GOERS___schedules-content__data__date'}).text"
   ]
  },
  {
   "cell_type": "code",
   "execution_count": 81,
   "id": "733ae724",
   "metadata": {},
   "outputs": [],
   "source": [
    "Price=bsobj.find('div',{'class':'sc-dJjYzT cYnUPO ___GOERS___text ___GOERS___text--bold ___GOERS___text-and-button-content__text'}).text"
   ]
  },
  {
   "cell_type": "code",
   "execution_count": null,
   "id": "c5fe5764",
   "metadata": {},
   "outputs": [],
   "source": []
  }
 ],
 "metadata": {
  "kernelspec": {
   "display_name": "Python 3 (ipykernel)",
   "language": "python",
   "name": "python3"
  },
  "language_info": {
   "codemirror_mode": {
    "name": "ipython",
    "version": 3
   },
   "file_extension": ".py",
   "mimetype": "text/x-python",
   "name": "python",
   "nbconvert_exporter": "python",
   "pygments_lexer": "ipython3",
   "version": "3.10.9"
  }
 },
 "nbformat": 4,
 "nbformat_minor": 5
}
