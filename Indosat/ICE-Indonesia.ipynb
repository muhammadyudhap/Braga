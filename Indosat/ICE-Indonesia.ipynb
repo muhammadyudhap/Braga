{
 "cells": [
  {
   "cell_type": "code",
   "execution_count": 1,
   "id": "9ce9e639",
   "metadata": {},
   "outputs": [],
   "source": [
    "from datetime import datetime\n",
    "import pandas as pd\n",
    "\n",
    "from selenium import webdriver\n",
    "from selenium.webdriver.chrome.service import Service\n",
    "from selenium.webdriver.chrome.options import Options\n",
    "\n",
    "import os\n",
    "from time import sleep\n",
    "\n",
    "from selenium.webdriver.support.ui import Select\n",
    "from selenium.webdriver.common.by import By\n",
    "\n",
    "import requests\n",
    "from bs4 import BeautifulSoup"
   ]
  },
  {
   "cell_type": "code",
   "execution_count": 2,
   "id": "a10dbd0e",
   "metadata": {},
   "outputs": [],
   "source": [
    "header = {\n",
    "    'user-agent':'Mozilla/5.0 (Windows NT 10.0; Win64; x64) AppleWebKit/537.36 (KHTML, delike Gecko) Chrome/111.0.0.0 Safari/537.36',\n",
    "    'referer':'https://ice-indonesia.com/'\n",
    "}"
   ]
  },
  {
   "cell_type": "code",
   "execution_count": 3,
   "id": "7970abd6",
   "metadata": {},
   "outputs": [],
   "source": [
    "url = 'https://ice-indonesia.com/en/event?page_events='"
   ]
  },
  {
   "cell_type": "code",
   "execution_count": 4,
   "id": "c0f8039c",
   "metadata": {},
   "outputs": [],
   "source": [
    "Urls = []"
   ]
  },
  {
   "cell_type": "code",
   "execution_count": 5,
   "id": "8020ab8d",
   "metadata": {},
   "outputs": [],
   "source": [
    "Event_name = []"
   ]
  },
  {
   "cell_type": "code",
   "execution_count": 6,
   "id": "fb3194e4",
   "metadata": {},
   "outputs": [],
   "source": [
    "Category_event = []"
   ]
  },
  {
   "cell_type": "code",
   "execution_count": 7,
   "id": "90bee471",
   "metadata": {},
   "outputs": [],
   "source": [
    "Event_status = []"
   ]
  },
  {
   "cell_type": "code",
   "execution_count": 8,
   "id": "6470087c",
   "metadata": {},
   "outputs": [],
   "source": [
    "Start_time = []"
   ]
  },
  {
   "cell_type": "code",
   "execution_count": 9,
   "id": "070e0232",
   "metadata": {},
   "outputs": [
    {
     "name": "stdout",
     "output_type": "stream",
     "text": [
      "https://ice-indonesia.com/en/event?page_events=1\n",
      "https://ice-indonesia.com/en/event?page_events=2\n"
     ]
    }
   ],
   "source": [
    "for i in range(1,3):\n",
    "    url_each = url + str(i)\n",
    "    test = requests.get(url = url_each, headers = header)\n",
    "    bsobj = BeautifulSoup(test.content,'html.parser')\n",
    "    \n",
    "    for ti in bsobj.findAll('div',{'class':'row event-schedule'}):\n",
    "        each_url = ti.a['href']\n",
    "        Urls.append(each_url)\n",
    "    \n",
    "    for ti in bsobj.findAll('div',{'class':'col-12 event-title'}):\n",
    "        Event_name.append(ti.text.strip())\n",
    "    \n",
    "    for ti in bsobj.findAll('div',{'class':'col-12 mb-1'}):\n",
    "        Category_event.append(ti.text.strip())\n",
    "        \n",
    "    for ti in bsobj.findAll('div',{'class':'event-type'}):\n",
    "        Event_status.append(ti.text.strip())\n",
    "    \n",
    "    for ti in bsobj.findAll('div',{'class':'col-12 mt-2 mt-md-0'}):\n",
    "        Start_time.append(ti.text.strip())\n",
    "    \n",
    "    sleep(1)\n",
    "    print(url_each)"
   ]
  },
  {
   "cell_type": "code",
   "execution_count": 10,
   "id": "d95dbb26",
   "metadata": {},
   "outputs": [],
   "source": [
    "la,lb,lc,ld = len(Event_name),len(Category_event),len(Event_status),len(Start_time)\n",
    "# now find the max\n",
    "max_len = max(la,lb,lc,ld)"
   ]
  },
  {
   "cell_type": "code",
   "execution_count": 11,
   "id": "dc016ba9",
   "metadata": {},
   "outputs": [],
   "source": [
    "if not max_len == la:\n",
    "  Event_name.extend(['']*(max_len-la))\n",
    "if not max_len == lb:\n",
    "  Category_event.extend(['']*(max_len-lb))\n",
    "if not max_len == lc:\n",
    "  Event_status.extend(['']*(max_len-lc))\n",
    "if not max_len == ld:\n",
    "  Start_time.extend(['']*(max_len-lc))"
   ]
  },
  {
   "cell_type": "code",
   "execution_count": 12,
   "id": "99463190",
   "metadata": {},
   "outputs": [
    {
     "data": {
      "text/plain": [
       "11"
      ]
     },
     "execution_count": 12,
     "metadata": {},
     "output_type": "execute_result"
    }
   ],
   "source": [
    "len(Urls)"
   ]
  },
  {
   "cell_type": "code",
   "execution_count": 13,
   "id": "253a8700",
   "metadata": {},
   "outputs": [
    {
     "data": {
      "text/plain": [
       "11"
      ]
     },
     "execution_count": 13,
     "metadata": {},
     "output_type": "execute_result"
    }
   ],
   "source": [
    "len(Start_time)"
   ]
  },
  {
   "cell_type": "code",
   "execution_count": 14,
   "id": "59670e03",
   "metadata": {},
   "outputs": [
    {
     "data": {
      "text/plain": [
       "11"
      ]
     },
     "execution_count": 14,
     "metadata": {},
     "output_type": "execute_result"
    }
   ],
   "source": [
    "len(Event_status)"
   ]
  },
  {
   "cell_type": "code",
   "execution_count": 15,
   "id": "76708f6e",
   "metadata": {},
   "outputs": [
    {
     "data": {
      "text/plain": [
       "11"
      ]
     },
     "execution_count": 15,
     "metadata": {},
     "output_type": "execute_result"
    }
   ],
   "source": [
    "len(Event_name)"
   ]
  },
  {
   "cell_type": "markdown",
   "id": "a17365f2",
   "metadata": {},
   "source": [
    "## Move on to Details"
   ]
  },
  {
   "cell_type": "code",
   "execution_count": 30,
   "id": "8ad91b78",
   "metadata": {},
   "outputs": [],
   "source": [
    "url1 = Urls[1]"
   ]
  },
  {
   "cell_type": "code",
   "execution_count": 16,
   "id": "d5cdc974",
   "metadata": {},
   "outputs": [],
   "source": [
    "Venue = []"
   ]
  },
  {
   "cell_type": "code",
   "execution_count": 17,
   "id": "5a579934",
   "metadata": {},
   "outputs": [],
   "source": [
    "Description = []"
   ]
  },
  {
   "cell_type": "code",
   "execution_count": 18,
   "id": "8442806a",
   "metadata": {},
   "outputs": [],
   "source": [
    "def ice_location(url):\n",
    "    test = requests.get(url = url, headers = header)\n",
    "    bsobj = BeautifulSoup(test.content,'html.parser')\n",
    "    location = bsobj.find_all('p',{'class':'mb-4 mb-md-3'})[2].text.strip()\n",
    "    desc = bsobj.find('section',{'class':'event-desc'}).text.strip().replace('Back\\n                    \\n','').replace('\\n','')\n",
    "    sleep(5)\n",
    "    return [location, desc]"
   ]
  },
  {
   "cell_type": "code",
   "execution_count": 19,
   "id": "aada88ab",
   "metadata": {},
   "outputs": [
    {
     "name": "stdout",
     "output_type": "stream",
     "text": [
      "https://ice-indonesia.com/en/event/indonesia-international-book-fair-iibf-2023\n",
      "https://ice-indonesia.com/en/event/homedec-2023\n",
      "https://ice-indonesia.com/en/event/floii-expo-2023\n",
      "https://ice-indonesia.com/en/event/kerlap-kerlip-festival-2023\n",
      "https://ice-indonesia.com/en/event/trade-expo-indonesia-2023\n",
      "https://ice-indonesia.com/en/event/indocomtech-2023\n",
      "https://ice-indonesia.com/en/event/indonesia-diecast-expo-2023\n",
      "https://ice-indonesia.com/en/event/ifbc-2023\n",
      "https://ice-indonesia.com/en/event/enlit-asia-2023\n",
      "https://ice-indonesia.com/en/event/lee-junho-1st-fanmeeting-tour\n",
      "https://ice-indonesia.com/en/event/senior-expo-2023\n"
     ]
    }
   ],
   "source": [
    "for i in range(len(Urls)):\n",
    "    url1 = Urls[i]\n",
    "    [loc, desc] = ice_location(url1)\n",
    "    Venue.append(loc)\n",
    "    Description.append(desc)\n",
    "    print(url1)"
   ]
  },
  {
   "cell_type": "code",
   "execution_count": 20,
   "id": "befb3462",
   "metadata": {},
   "outputs": [],
   "source": [
    "# for i in range(4,7):\n",
    "#     url1 = Urls[i]\n",
    "#     [loc, desc] = ice_location(url1)\n",
    "#     Venue.append(loc)\n",
    "#     Description.append(desc)\n",
    "#     print(url1)"
   ]
  },
  {
   "cell_type": "code",
   "execution_count": 21,
   "id": "ce1a3425",
   "metadata": {},
   "outputs": [
    {
     "data": {
      "text/plain": [
       "11"
      ]
     },
     "execution_count": 21,
     "metadata": {},
     "output_type": "execute_result"
    }
   ],
   "source": [
    "len(Venue)"
   ]
  },
  {
   "cell_type": "code",
   "execution_count": 22,
   "id": "b8d422d5",
   "metadata": {},
   "outputs": [
    {
     "data": {
      "text/plain": [
       "11"
      ]
     },
     "execution_count": 22,
     "metadata": {},
     "output_type": "execute_result"
    }
   ],
   "source": [
    "len(Description)"
   ]
  },
  {
   "cell_type": "code",
   "execution_count": 23,
   "id": "d5542d1f",
   "metadata": {},
   "outputs": [
    {
     "data": {
      "text/plain": [
       "10"
      ]
     },
     "execution_count": 23,
     "metadata": {},
     "output_type": "execute_result"
    }
   ],
   "source": [
    "len('Event_name')"
   ]
  },
  {
   "cell_type": "code",
   "execution_count": 24,
   "id": "fbe4aab1",
   "metadata": {},
   "outputs": [],
   "source": [
    "data = {\n",
    "    'Event Name': Event_name,\n",
    "    'Start Date': Start_time,\n",
    "    'Category Event': Category_event,\n",
    "    'Event Status': Event_status,\n",
    "    'Venue': Venue,\n",
    "    'Description': Description,\n",
    "    'URL': Urls,\n",
    "}"
   ]
  },
  {
   "cell_type": "code",
   "execution_count": 25,
   "id": "2b5e5ef6",
   "metadata": {},
   "outputs": [
    {
     "data": {
      "text/plain": [
       "{'Event Name': ['Indonesia International Book Fair (IIBF) 2023',\n",
       "  'HOMEDEC 2023',\n",
       "  'FLOII Expo 2023',\n",
       "  'Kerlap Kerlip Festival 2023',\n",
       "  'Trade Expo Indonesia 2023',\n",
       "  'Indocomtech 2023',\n",
       "  'Indonesia Diecast Expo 2023',\n",
       "  'IFBC 2023',\n",
       "  'Enlit Asia 2023',\n",
       "  'LEE JUNHO 1st FANMEETING TOUR',\n",
       "  'Senior Expo 2023'],\n",
       " 'Start Date': ['Sep 27-Oct 1, 2023',\n",
       "  'Sep 28-Oct 1, 2023',\n",
       "  'Sep 28-Oct 1, 2023',\n",
       "  'Oct 1, 2023',\n",
       "  'Oct 18-22, 2023',\n",
       "  'Oct 25-29, 2023',\n",
       "  'Oct 28-29, 2023',\n",
       "  'Nov 3-5, 2023',\n",
       "  'Nov 14-16, 2023',\n",
       "  'Nov 25, 2023',\n",
       "  'Nov 30-Dec 2, 2023'],\n",
       " 'Category Event': ['', '', '', '', '', '', '', '', '', '', ''],\n",
       " 'Event Status': ['This Month',\n",
       "  'Upcoming Events',\n",
       "  'Upcoming Events',\n",
       "  'Upcoming Events',\n",
       "  'Upcoming Events',\n",
       "  'Upcoming Events',\n",
       "  'Upcoming Events',\n",
       "  'Upcoming Events',\n",
       "  'Upcoming Events',\n",
       "  'Upcoming Events',\n",
       "  'Upcoming Events'],\n",
       " 'Venue': ['ICE Hall 1',\n",
       "  'Indonesia Convention Exhibition (ICE), BSD City',\n",
       "  'Hall 2, Indonesia Convention Exhibition (ICE) BSD City',\n",
       "  'ICE BSD',\n",
       "  'Indonesia Convention Exhibition (ICE), BSD City',\n",
       "  'ICE BSD Hall 7',\n",
       "  'ICE BSD Hall 8',\n",
       "  'Hall 3A, Indonesia Convention Exhibition (ICE) BSD City',\n",
       "  'ICE, BSD City',\n",
       "  'ICE BSD, Hall 5',\n",
       "  'Indonesia Convention Exhibition (ICE), BSD City'],\n",
       " 'Description': ['Announcement!The Indonesia International Book Fair (IIBF), the largest book fair in Indonesia, has moved venue this year!Who is excited about the new IIBF venue? Share your opinion in the comments column. Thank you.',\n",
       "  \"Let's make your dream home come true!Because HOMEDEC will be coming soon to be the right solution for Home Owners who are renovating or wanting to redecorate their home. Various product categories such as flooring, furniture, soft furnishings, doors, kitchen cabinets, home & kitchen appliances, bedding & mattresses, smart door locks and other products for home and renovation needs will be displayed at HOMEDEC.As a One Stop Home Solution platform, the HOMEDEC exhibition is also packed with various interesting programs and of course provides the experience of shopping for products from well-known brands with the best price offers!Immediately fill in the visitor registration form listed in the Instagram bio @homedec_idHOMEDEC28 September - 1 October 2023ICE BSD CityFor further information contact:021 8379 68330812 9429 2503info@homedec.co.id\",\n",
       "  'Prepare yourself to come to the biggest ornamental plant exhibition in Indonesia on an international scale!\\xa0FLOII Expo 2023 will be present on 28 September - 01 October 2023 at Hall 2 - ICE BSD City, Tangerang.Come on, buy tickets now via www.floii-expo.com!Check @floii_expo for more info!••Floriculture Indonesia International ExpoRoooted in Tradition, Blooming in Innovation#FLOIICulture #GrowTogether',\n",
       "  \"Come and Join me having fun Kerlap Kerlip on October 1st, 2023.\\xa0With great Line up such as NOAH, Whisnu Santika, The Changcuters, JKT48 and more line up coming up soon, don't miss this event and be aware of fake ticket sales!\\xa0Be aware and buy tickets only at @tiketapasajaMore information @kerlap.kerlipfest\",\n",
       "  'The 38th Trade Expo Indonesia is the largest B2B Platform in Indonesia that presents 7 product sectors. TEI Provides a platform for networking, collaboration, and exploring new opportunities for growth. TEI 2023 presents the finest Indonesia export products for the global market.TEI 2023 will continue the journey in recovering the national economy and the development of trade in the Indonesian sector with the theme Sustainable Trade For Global Economic Resilience.TEI 2023 will be held by hybrid basis.Offline Exhibition will be held on:Date : 18 October - 22 October 2023Place : ICE BSD JakartaFor Online Exhibition will be held from 18 October 2023 until 18 December 2023Mark the date and don’t miss the opportunity to join us!For further information, please visit our social media page (Instagram, Facebook, Twitter):\\xa0@tei.2023',\n",
       "  'Are you ready for Indocomtech 2023 ?Stay tuned for more information.',\n",
       "  'Visit the biggest miniature exhibition and get an interesting experience from the Indonesia Diecast Expo 2023.',\n",
       "  'INFO FRANCHISE & BUSINESS CONCEPT 2023 (IFBC 2023) is the latest national franchise, business, business opportunity, business, distributor & agency exhibition which is scheduled annually. IFBC is a national agenda of the Indonesian Franchise Association and PT Neo Expo Promosindo since 2005 and a series of several cities since 2007.Carrying the theme \"Beyond Entrepreneurship\" with the spirit of The Great Rebound, IFBC 2023 will be present in 4 major cities in Indonesia: Tangerang, Bandung, Palembang, Surabaya and Tangerang. This activity presents an opportunity for the community to become entrepreneurs by choosing a variety of business opportunity references (franchisees, business opportunities, investments, distributors, agencies or partnerships), linking promising opportunities, entrepreneurs and investors. It is targeted to be attended by 30,000 visitors throughout Indonesia, and supported by a digital ecosystem, IFBC 2023 can be a good and effective platform for expanding your business.The IFBC 2023 exhibition for JAKARTA and its surroundings this time is located at ICE BSD Kab. Tangerang Hall 3A on 3-5 November 2023. The exhibition opens at 10.00 - 20.00 WIB.Instagram: https://www.instagram.com/infofranchiseexpo/Website: https://infofranchiseexpo.com/Information: 0811-8898-981',\n",
       "  \"From source to generation, from grid to consumer, the boundaries of the sector are blurring. This evolution is being shaped by established players, external disruptors, innovative start-ups and the increasingly engaged end-user.\\u200bEnlit Asia is the unifying brand for POWERGEN Asia and Asian Utility Week, showcasing expert knowledge, innovative solutions and foresight from industry leaders, coherent with ASEAN's strategy to achieve a smooth transition towards a low-carbon energy future.\\u200bASEAN's largest power and energy annual conference and exhibition, Enlit Asia 2023 will take place in partnership with the Indonesian Electrical Power Society (MKI) in Jakarta at ICE, BSD City, on 14-16 November 2023.\\xa0Register your interest in attending the event here: https://bit.ly/3RzMPVW\\xa0For more information about the event: https://bit.ly/3RBErp5\",\n",
       "  \"[ANNOUNCEMENT] LEE JUNHO 1st FANMEETING TOUR <JUNHO THE MOMENT 2023> IN JAKARTA, Saturday, November 25th 2023 (6:30PM) at ICE BSD CITY (KAB TANGERANG) Hall 5.Lee Junho Indonesian fans, let's meet at\\xa0#LEEJUNHOinJKT2023\",\n",
       "  \"Catch the latest update on SENIOR EXPO 2023!Find latest products and technology from our Exhibitors by downloading the SENIOR EXPO 2023 Show Update here : https://www.expo-senior.com/Don't forget to save the date for the upcoming International Senior Health and Wellness Exhibition!30 November - 2 December 2023Indonesia Convention Exhibition - ICEFor more information Contact us on Whatsapp : +62816 185 4741\"],\n",
       " 'URL': ['https://ice-indonesia.com/en/event/indonesia-international-book-fair-iibf-2023',\n",
       "  'https://ice-indonesia.com/en/event/homedec-2023',\n",
       "  'https://ice-indonesia.com/en/event/floii-expo-2023',\n",
       "  'https://ice-indonesia.com/en/event/kerlap-kerlip-festival-2023',\n",
       "  'https://ice-indonesia.com/en/event/trade-expo-indonesia-2023',\n",
       "  'https://ice-indonesia.com/en/event/indocomtech-2023',\n",
       "  'https://ice-indonesia.com/en/event/indonesia-diecast-expo-2023',\n",
       "  'https://ice-indonesia.com/en/event/ifbc-2023',\n",
       "  'https://ice-indonesia.com/en/event/enlit-asia-2023',\n",
       "  'https://ice-indonesia.com/en/event/lee-junho-1st-fanmeeting-tour',\n",
       "  'https://ice-indonesia.com/en/event/senior-expo-2023']}"
      ]
     },
     "execution_count": 25,
     "metadata": {},
     "output_type": "execute_result"
    }
   ],
   "source": [
    "data"
   ]
  },
  {
   "cell_type": "code",
   "execution_count": 26,
   "id": "b3a78f03",
   "metadata": {},
   "outputs": [],
   "source": [
    "df = pd.DataFrame(data)"
   ]
  },
  {
   "cell_type": "code",
   "execution_count": 27,
   "id": "d62f786d",
   "metadata": {},
   "outputs": [],
   "source": [
    "df.to_csv(\"ICE-Indonesia_27September2023.csv\")"
   ]
  },
  {
   "cell_type": "code",
   "execution_count": 125,
   "id": "711a6127",
   "metadata": {},
   "outputs": [
    {
     "name": "stdout",
     "output_type": "stream",
     "text": [
      "216 216\n"
     ]
    }
   ],
   "source": [
    "print(len(Event_name), len(Start_time))"
   ]
  },
  {
   "cell_type": "code",
   "execution_count": 123,
   "id": "3bf2422a",
   "metadata": {},
   "outputs": [
    {
     "data": {
      "text/plain": [
       "range(5, 8)"
      ]
     },
     "execution_count": 123,
     "metadata": {},
     "output_type": "execute_result"
    }
   ],
   "source": [
    "range(5,8)"
   ]
  },
  {
   "cell_type": "code",
   "execution_count": 125,
   "id": "6578c5af",
   "metadata": {},
   "outputs": [
    {
     "name": "stdout",
     "output_type": "stream",
     "text": [
      "4\n",
      "5\n",
      "6\n"
     ]
    }
   ],
   "source": [
    "for i in range(4,7):\n",
    "    print(i)"
   ]
  },
  {
   "cell_type": "code",
   "execution_count": 25,
   "id": "86242826",
   "metadata": {},
   "outputs": [
    {
     "data": {
      "text/html": [
       "<div>\n",
       "<style scoped>\n",
       "    .dataframe tbody tr th:only-of-type {\n",
       "        vertical-align: middle;\n",
       "    }\n",
       "\n",
       "    .dataframe tbody tr th {\n",
       "        vertical-align: top;\n",
       "    }\n",
       "\n",
       "    .dataframe thead th {\n",
       "        text-align: right;\n",
       "    }\n",
       "</style>\n",
       "<table border=\"1\" class=\"dataframe\">\n",
       "  <thead>\n",
       "    <tr style=\"text-align: right;\">\n",
       "      <th></th>\n",
       "      <th>Event Name</th>\n",
       "      <th>Start Date</th>\n",
       "      <th>Category Event</th>\n",
       "      <th>Event Status</th>\n",
       "      <th>Venue</th>\n",
       "      <th>Description</th>\n",
       "      <th>URL</th>\n",
       "    </tr>\n",
       "  </thead>\n",
       "  <tbody>\n",
       "    <tr>\n",
       "      <th>0</th>\n",
       "      <td>LOCALFEST</td>\n",
       "      <td>Jul 28-30, 2023</td>\n",
       "      <td></td>\n",
       "      <td>This Month</td>\n",
       "      <td>ICE, BSD City</td>\n",
       "      <td>Get ready for LOCALFEST on 28-30 July 2023 at ...</td>\n",
       "      <td>https://ice-indonesia.com/en/event/localfest-</td>\n",
       "    </tr>\n",
       "    <tr>\n",
       "      <th>1</th>\n",
       "      <td>GAIKINDO Indonesia International Auto Show</td>\n",
       "      <td>Aug 10-20, 2023</td>\n",
       "      <td></td>\n",
       "      <td>Upcoming Events</td>\n",
       "      <td>ICE BSD Hall 1-10</td>\n",
       "      <td>Get ready for the 30th GAIKINDO Indonesia Inte...</td>\n",
       "      <td>https://ice-indonesia.com/en/event/gaikindo-in...</td>\n",
       "    </tr>\n",
       "    <tr>\n",
       "      <th>2</th>\n",
       "      <td>THE 21st IFRA BUSINESS EXPO 2023</td>\n",
       "      <td>Aug 25-27, 2023</td>\n",
       "      <td></td>\n",
       "      <td>Upcoming Events</td>\n",
       "      <td>ICE, BSD City</td>\n",
       "      <td>The ASEAN Summit 2023 is taking place at the J...</td>\n",
       "      <td>https://ice-indonesia.com/en/event/the-21st-if...</td>\n",
       "    </tr>\n",
       "    <tr>\n",
       "      <th>3</th>\n",
       "      <td>Indonesia SME Summit &amp; Expo 2023</td>\n",
       "      <td>Aug 29-31, 2023</td>\n",
       "      <td></td>\n",
       "      <td>Upcoming Events</td>\n",
       "      <td>ICE BSD Hall 2-3a</td>\n",
       "      <td>The One Destynation for merchants to connect w...</td>\n",
       "      <td>https://ice-indonesia.com/en/event/indonesia-s...</td>\n",
       "    </tr>\n",
       "    <tr>\n",
       "      <th>4</th>\n",
       "      <td>ILDEX 2023</td>\n",
       "      <td>Sep 20-22, 2023</td>\n",
       "      <td></td>\n",
       "      <td>Upcoming Events</td>\n",
       "      <td>ICE BSD</td>\n",
       "      <td>ILDEX INDONESIA 2023 Event Schedule.The 6th In...</td>\n",
       "      <td>https://ice-indonesia.com/en/event/ildex-2023</td>\n",
       "    </tr>\n",
       "    <tr>\n",
       "      <th>5</th>\n",
       "      <td>Jco Run 2023 iDea Run x Jco Indonesia</td>\n",
       "      <td>Sep 24, 2023</td>\n",
       "      <td></td>\n",
       "      <td>Upcoming Events</td>\n",
       "      <td>Outdoor Hall 10 ICE BSD</td>\n",
       "      <td>Calling all runners! Don't miss out on the cha...</td>\n",
       "      <td>https://ice-indonesia.com/en/event/jco-run-202...</td>\n",
       "    </tr>\n",
       "    <tr>\n",
       "      <th>6</th>\n",
       "      <td>Indonesia International Book Fair (IIBF) 2023</td>\n",
       "      <td>Sep 27-Oct 1, 2023</td>\n",
       "      <td></td>\n",
       "      <td>Upcoming Events</td>\n",
       "      <td>ICE Hall 1</td>\n",
       "      <td>Announcement!The Indonesia International Book ...</td>\n",
       "      <td>https://ice-indonesia.com/en/event/indonesia-i...</td>\n",
       "    </tr>\n",
       "    <tr>\n",
       "      <th>7</th>\n",
       "      <td>Pekan Raya Syariah 2023</td>\n",
       "      <td>Sep 29-Oct 1, 2023</td>\n",
       "      <td></td>\n",
       "      <td>Upcoming Events</td>\n",
       "      <td>ICE BSD Hall 2-3</td>\n",
       "      <td>Assalamu'alaikum Raya FriendsGod willing, the ...</td>\n",
       "      <td>https://ice-indonesia.com/en/event/pekan-raya-...</td>\n",
       "    </tr>\n",
       "    <tr>\n",
       "      <th>8</th>\n",
       "      <td>Indocomtech 2023</td>\n",
       "      <td>Oct 25-29, 2023</td>\n",
       "      <td></td>\n",
       "      <td>Upcoming Events</td>\n",
       "      <td>ICE BSD Hall 7</td>\n",
       "      <td>Are you ready for Indocomtech 2023 ?Stay tuned...</td>\n",
       "      <td>https://ice-indonesia.com/en/event/indocomtech...</td>\n",
       "    </tr>\n",
       "    <tr>\n",
       "      <th>9</th>\n",
       "      <td>Enlit Asia 2023</td>\n",
       "      <td>Nov 14-16, 2023</td>\n",
       "      <td></td>\n",
       "      <td>Upcoming Events</td>\n",
       "      <td>ICE, BSD City</td>\n",
       "      <td>From source to generation, from grid to consum...</td>\n",
       "      <td>https://ice-indonesia.com/en/event/enlit-asia-...</td>\n",
       "    </tr>\n",
       "  </tbody>\n",
       "</table>\n",
       "</div>"
      ],
      "text/plain": [
       "                                      Event Name          Start Date  \\\n",
       "0                                      LOCALFEST     Jul 28-30, 2023   \n",
       "1     GAIKINDO Indonesia International Auto Show     Aug 10-20, 2023   \n",
       "2               THE 21st IFRA BUSINESS EXPO 2023     Aug 25-27, 2023   \n",
       "3               Indonesia SME Summit & Expo 2023     Aug 29-31, 2023   \n",
       "4                                     ILDEX 2023     Sep 20-22, 2023   \n",
       "5          Jco Run 2023 iDea Run x Jco Indonesia        Sep 24, 2023   \n",
       "6  Indonesia International Book Fair (IIBF) 2023  Sep 27-Oct 1, 2023   \n",
       "7                        Pekan Raya Syariah 2023  Sep 29-Oct 1, 2023   \n",
       "8                               Indocomtech 2023     Oct 25-29, 2023   \n",
       "9                                Enlit Asia 2023     Nov 14-16, 2023   \n",
       "\n",
       "  Category Event     Event Status                    Venue  \\\n",
       "0                      This Month            ICE, BSD City   \n",
       "1                 Upcoming Events        ICE BSD Hall 1-10   \n",
       "2                 Upcoming Events            ICE, BSD City   \n",
       "3                 Upcoming Events        ICE BSD Hall 2-3a   \n",
       "4                 Upcoming Events                  ICE BSD   \n",
       "5                 Upcoming Events  Outdoor Hall 10 ICE BSD   \n",
       "6                 Upcoming Events               ICE Hall 1   \n",
       "7                 Upcoming Events         ICE BSD Hall 2-3   \n",
       "8                 Upcoming Events           ICE BSD Hall 7   \n",
       "9                 Upcoming Events            ICE, BSD City   \n",
       "\n",
       "                                         Description  \\\n",
       "0  Get ready for LOCALFEST on 28-30 July 2023 at ...   \n",
       "1  Get ready for the 30th GAIKINDO Indonesia Inte...   \n",
       "2  The ASEAN Summit 2023 is taking place at the J...   \n",
       "3  The One Destynation for merchants to connect w...   \n",
       "4  ILDEX INDONESIA 2023 Event Schedule.The 6th In...   \n",
       "5  Calling all runners! Don't miss out on the cha...   \n",
       "6  Announcement!The Indonesia International Book ...   \n",
       "7  Assalamu'alaikum Raya FriendsGod willing, the ...   \n",
       "8  Are you ready for Indocomtech 2023 ?Stay tuned...   \n",
       "9  From source to generation, from grid to consum...   \n",
       "\n",
       "                                                 URL  \n",
       "0      https://ice-indonesia.com/en/event/localfest-  \n",
       "1  https://ice-indonesia.com/en/event/gaikindo-in...  \n",
       "2  https://ice-indonesia.com/en/event/the-21st-if...  \n",
       "3  https://ice-indonesia.com/en/event/indonesia-s...  \n",
       "4      https://ice-indonesia.com/en/event/ildex-2023  \n",
       "5  https://ice-indonesia.com/en/event/jco-run-202...  \n",
       "6  https://ice-indonesia.com/en/event/indonesia-i...  \n",
       "7  https://ice-indonesia.com/en/event/pekan-raya-...  \n",
       "8  https://ice-indonesia.com/en/event/indocomtech...  \n",
       "9  https://ice-indonesia.com/en/event/enlit-asia-...  "
      ]
     },
     "execution_count": 25,
     "metadata": {},
     "output_type": "execute_result"
    }
   ],
   "source": [
    "df"
   ]
  },
  {
   "cell_type": "code",
   "execution_count": null,
   "id": "c62fc27a",
   "metadata": {},
   "outputs": [],
   "source": []
  }
 ],
 "metadata": {
  "kernelspec": {
   "display_name": "Python 3 (ipykernel)",
   "language": "python",
   "name": "python3"
  },
  "language_info": {
   "codemirror_mode": {
    "name": "ipython",
    "version": 3
   },
   "file_extension": ".py",
   "mimetype": "text/x-python",
   "name": "python",
   "nbconvert_exporter": "python",
   "pygments_lexer": "ipython3",
   "version": "3.10.9"
  }
 },
 "nbformat": 4,
 "nbformat_minor": 5
}
